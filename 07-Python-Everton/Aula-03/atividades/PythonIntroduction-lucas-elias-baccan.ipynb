{
  "cells": [
    {
      "cell_type": "markdown",
      "metadata": {
        "id": "7q25VYBYLR8n"
      },
      "source": [
        "# Introdução a Linguagem Python\n",
        "## Lucas Elias Baccan"
      ]
    },
    {
      "cell_type": "markdown",
      "metadata": {
        "id": "42HiMg2XLGk4"
      },
      "source": [
        "1. Seu primeiro programa python (1)\n",
        "2. Strings e métodos de string (1)\n",
        "3. Números e matemática (1)\n",
        "4. Funções e laços (1)\n",
        "5. Encontrando e corrigindo erros de código(3)\n",
        "6. Lógica condicional e fluxo de controle (2)\n",
        "7. Tuplas, listas e dicionários (2)\n",
        "8. Programação orientada a objetos (oop) (2)\n",
        "9. Módulos e pacotes (2)\n",
        "10. Entrada e saída de arquivo(3)\n",
        "11. Instalando pacotes com pip(3)\n",
        "12. Trabalhando com bancos de dados(3)\n",
        "13. Interagindo com a web(3)\n",
        "\n",
        "JARMUL, K.; LAWSON. **Python Web Scraping. Hands-on data scraping and crawling using PyQT, Selnium, HTML and Python.** Segunda Edição, Packt Publishing, Nova Iorque, 2020.\n",
        "\n",
        "VIAFORE, P. **Robust Python. Write Clean and Maintainable Code**. Kudzera, California, 2021.\n",
        "\n",
        "HEISLER, F.; AMOS, D.; BADER, D.; JABLONSKI, J. **Python Basics: A Practical Introduction to Python 3**. Real Python, Toronto, 2020.\n",
        "\n",
        "https://realpython.com/python-basics/resources/"
      ]
    },
    {
      "cell_type": "markdown",
      "metadata": {
        "id": "ixCZDsK9J2Sl"
      },
      "source": [
        "## Seu primeiro programa python"
      ]
    },
    {
      "cell_type": "code",
      "execution_count": 1,
      "metadata": {
        "id": "50rQIeqEH6UC"
      },
      "outputs": [
        {
          "name": "stdout",
          "output_type": "stream",
          "text": [
            "Welcome to Python!\n"
          ]
        }
      ],
      "source": [
        "print(\"Welcome to Python!\")"
      ]
    },
    {
      "cell_type": "markdown",
      "metadata": {
        "id": "MFs8WIAfw1xt"
      },
      "source": [
        "**> Quase tudo em python é uma função.**"
      ]
    },
    {
      "cell_type": "code",
      "execution_count": 2,
      "metadata": {
        "id": "db_7cSiaI9b4"
      },
      "outputs": [
        {
          "name": "stdout",
          "output_type": "stream",
          "text": [
            "Welcome\n",
            "to Python!\n"
          ]
        }
      ],
      "source": [
        "print(\"Welcome\")\n",
        "print(\"to Python!\")"
      ]
    },
    {
      "cell_type": "markdown",
      "metadata": {
        "id": "xioN0Os2xFKS"
      },
      "source": [
        "**> Você pode ter varias funções sendo chamadas em sequencia**"
      ]
    },
    {
      "cell_type": "code",
      "execution_count": 3,
      "metadata": {
        "id": "xcR3IgVBJE62"
      },
      "outputs": [
        {
          "name": "stdout",
          "output_type": "stream",
          "text": [
            "Welcome \n",
            " to Python!\n"
          ]
        }
      ],
      "source": [
        "print(\"Welcome \\n to Python!\")"
      ]
    },
    {
      "cell_type": "markdown",
      "metadata": {
        "id": "zbkiCdjhxWm5"
      },
      "source": [
        "**> Você pode utilizar o \"\\n\" para poder quebrar a linha**"
      ]
    },
    {
      "cell_type": "markdown",
      "metadata": {
        "id": "9oUlXe4BxTgh"
      },
      "source": []
    },
    {
      "cell_type": "code",
      "execution_count": 4,
      "metadata": {
        "id": "hly2h_klJuwH"
      },
      "outputs": [
        {
          "data": {
            "text/plain": [
              "2"
            ]
          },
          "execution_count": 4,
          "metadata": {},
          "output_type": "execute_result"
        }
      ],
      "source": [
        "1 + 1"
      ]
    },
    {
      "cell_type": "markdown",
      "metadata": {
        "id": "TLzUTPEnxsKn"
      },
      "source": [
        "**> O terminal sempre vai fazer o stdout da execução, mas quando rodarmos o script, temos que utilizar a função \"print()\"**"
      ]
    },
    {
      "cell_type": "code",
      "execution_count": 5,
      "metadata": {
        "id": "ErvKzpWdJ7x6"
      },
      "outputs": [
        {
          "name": "stdout",
          "output_type": "stream",
          "text": [
            "Hello, world\n"
          ]
        }
      ],
      "source": [
        "phrase = \"Hello, world\"\n",
        "print(phrase)"
      ]
    },
    {
      "cell_type": "markdown",
      "metadata": {
        "id": "oSm3MRmkyKce"
      },
      "source": [
        "**> Python é fracamente tipado, então não precisamos falar qual o tipo da variavel.**"
      ]
    },
    {
      "cell_type": "code",
      "execution_count": 6,
      "metadata": {
        "id": "776epQS4KKNR"
      },
      "outputs": [],
      "source": [
        "s = 3600"
      ]
    },
    {
      "cell_type": "code",
      "execution_count": 7,
      "metadata": {
        "id": "fFIN9HVLKLny"
      },
      "outputs": [],
      "source": [
        "seconds = 3600"
      ]
    },
    {
      "cell_type": "code",
      "execution_count": 8,
      "metadata": {
        "id": "kjpjC5tpKNLT"
      },
      "outputs": [],
      "source": [
        "seconds_per_hour = 3600"
      ]
    },
    {
      "cell_type": "markdown",
      "metadata": {
        "id": "vUBtYPnZyXCh"
      },
      "source": [
        "**> Não tem um padrão para escrever as variaveis, mas algo que a comunidade segue é utilizar o padrão \"snake_case\"**"
      ]
    },
    {
      "cell_type": "code",
      "execution_count": 9,
      "metadata": {
        "id": "jE7iQ22YKWwk"
      },
      "outputs": [
        {
          "name": "stdout",
          "output_type": "stream",
          "text": [
            "Hello, world\n"
          ]
        }
      ],
      "source": [
        "phrase = \"Hello, world\" # This comment is PEP 8 compliant.\n",
        "print(phrase)# This comment isn't."
      ]
    },
    {
      "cell_type": "markdown",
      "metadata": {
        "id": "k9UXKZwAylE7"
      },
      "source": [
        "**> Para fazermos comentarios, utilizamos o \"#\", e após ele, tudo sera um comentario.**"
      ]
    },
    {
      "cell_type": "markdown",
      "metadata": {
        "id": "MlU0hY-OKhMV"
      },
      "source": [
        "## Strings e métodos de string"
      ]
    },
    {
      "cell_type": "markdown",
      "metadata": {
        "id": "oiiY4mV9z7lI"
      },
      "source": [
        "**> Por que utilizar string??**\n",
        "**Temos que pensar quando vamos trabalhar com os tipos, pois cada tipo utiliza uma quantidade de recursos. Uma String é uma lista de caracteres**\n"
      ]
    },
    {
      "cell_type": "markdown",
      "metadata": {
        "id": "8EktZa87V0-L"
      },
      "source": [
        "### The String Data Type"
      ]
    },
    {
      "cell_type": "code",
      "execution_count": 10,
      "metadata": {
        "id": "vVhulUjKKcku"
      },
      "outputs": [
        {
          "name": "stdout",
          "output_type": "stream",
          "text": [
            "<class 'str'>\n",
            "<class 'str'>\n",
            "<class 'float'>\n"
          ]
        }
      ],
      "source": [
        "print(type(\"Hello, world\"))\n",
        "print(type(\"1.0\"))\n",
        "print(type(1.0))"
      ]
    },
    {
      "cell_type": "markdown",
      "metadata": {
        "id": "uVfWRzg-0xIS"
      },
      "source": [
        "**> Utilizar o \"type\" para poder saber o tipo de um valor, utilizado pra validar os itens em uma função**"
      ]
    },
    {
      "cell_type": "code",
      "execution_count": 11,
      "metadata": {
        "id": "XLdMepOxKfk8"
      },
      "outputs": [
        {
          "data": {
            "text/plain": [
              "str"
            ]
          },
          "execution_count": 11,
          "metadata": {},
          "output_type": "execute_result"
        }
      ],
      "source": [
        "phrase = \"Hello, world\"\n",
        "type(phrase)"
      ]
    },
    {
      "cell_type": "markdown",
      "metadata": {
        "id": "_Vi9e2GQ1Xrs"
      },
      "source": [
        "**> Podemos pegar qual é o tipo de uma variavel tambem**"
      ]
    },
    {
      "cell_type": "markdown",
      "metadata": {
        "id": "s5a7II0uV5K1"
      },
      "source": [
        "### String Literals"
      ]
    },
    {
      "cell_type": "code",
      "execution_count": 12,
      "metadata": {
        "id": "xISt72_aKlsH"
      },
      "outputs": [],
      "source": [
        "string1 = 'Hello, world'\n",
        "string2 = \"1234\""
      ]
    },
    {
      "cell_type": "markdown",
      "metadata": {
        "id": "B9CBipx21qlT"
      },
      "source": [
        "**> Python não tem diferença entra aspas duplas(\") e simples(') em strings**"
      ]
    },
    {
      "cell_type": "markdown",
      "metadata": {
        "id": "2yQq_m8uV9N3"
      },
      "source": [
        "### Determine the Length of a String"
      ]
    },
    {
      "cell_type": "code",
      "execution_count": 13,
      "metadata": {
        "id": "BxdftRfxKrx8"
      },
      "outputs": [
        {
          "data": {
            "text/plain": [
              "12"
            ]
          },
          "execution_count": 13,
          "metadata": {},
          "output_type": "execute_result"
        }
      ],
      "source": [
        "len(string1)"
      ]
    },
    {
      "cell_type": "markdown",
      "metadata": {
        "id": "MvRyzdYf1hws"
      },
      "source": [
        "**> Utilizamos a função \"len()\" para saber o tamanho de uma lista**"
      ]
    },
    {
      "cell_type": "code",
      "execution_count": 14,
      "metadata": {
        "id": "teCk2gNwKvov"
      },
      "outputs": [
        {
          "data": {
            "text/plain": [
              "4"
            ]
          },
          "execution_count": 14,
          "metadata": {},
          "output_type": "execute_result"
        }
      ],
      "source": [
        "len(string2)"
      ]
    },
    {
      "cell_type": "markdown",
      "metadata": {
        "id": "yrlejbHuWCDl"
      },
      "source": [
        "### Multiline Strings"
      ]
    },
    {
      "cell_type": "code",
      "execution_count": 15,
      "metadata": {
        "id": "EwyVk07YK2uk"
      },
      "outputs": [],
      "source": [
        "paragraph = \"This planet has - or rather had - a problem, which was \\\n",
        "this: most of the people living on it were unhappy for pretty much \\\n",
        "of the time. Many solutions were suggested for this problem, but \\\n",
        "most of these were largely concerned with the movements of small \\\n",
        "green pieces of paper, which is odd because on the whole it wasn't \\\n",
        "the small green pieces of paper that were unhappy.\""
      ]
    },
    {
      "cell_type": "code",
      "execution_count": 16,
      "metadata": {
        "id": "pHBWvZEDK9oM"
      },
      "outputs": [
        {
          "name": "stdout",
          "output_type": "stream",
          "text": [
            "This planet has - or rather had - a problem, which was this: most of the people living on it were unhappy for pretty much of the time. Many solutions were suggested for this problem, but most of these were largely concerned with the movements of small green pieces of paper, which is odd because on the whole it wasn't the small green pieces of paper that were unhappy.\n"
          ]
        }
      ],
      "source": [
        "print(paragraph)"
      ]
    },
    {
      "cell_type": "markdown",
      "metadata": {
        "id": "_Mr2NqjL12ze"
      },
      "source": [
        "**> Podemos utilizar barra invertida (\\) para fazer uma string de varias linhas, mas sua saida vai ser em uma linha continua**"
      ]
    },
    {
      "cell_type": "markdown",
      "metadata": {
        "id": "i-aMeoCYWJ-6"
      },
      "source": [
        "### Concatenation, Indexing, and Slicing"
      ]
    },
    {
      "cell_type": "code",
      "execution_count": 17,
      "metadata": {
        "id": "D-2t-Bl0LAbw"
      },
      "outputs": [
        {
          "data": {
            "text/plain": [
              "'abracadabra'"
            ]
          },
          "execution_count": 17,
          "metadata": {},
          "output_type": "execute_result"
        }
      ],
      "source": [
        "string1 = \"abra\"\n",
        "string2 = \"cadabra\"\n",
        "magic_string = string1 + string2\n",
        "magic_string"
      ]
    },
    {
      "cell_type": "markdown",
      "metadata": {
        "id": "MAILtpWj3ETE"
      },
      "source": [
        "**> Podemos simplemente fazer a \"soma\" de strings para concatenar**"
      ]
    },
    {
      "cell_type": "code",
      "execution_count": 18,
      "metadata": {
        "id": "GNCWdDD-3bdj"
      },
      "outputs": [
        {
          "name": "stdout",
          "output_type": "stream",
          "text": [
            "abracadabra\n"
          ]
        }
      ],
      "source": [
        "string1 = \"abra\"\n",
        "string2 = \"cadabra\"\n",
        "magic_string = string1 + string2\n",
        "print(magic_string)"
      ]
    },
    {
      "cell_type": "markdown",
      "metadata": {
        "id": "NqL5_i2X3f3V"
      },
      "source": [
        "**> A função print imprime o valor da variavel, ela pode trazer mais informações do que só a variavel**"
      ]
    },
    {
      "cell_type": "code",
      "execution_count": 19,
      "metadata": {
        "id": "gxQ5rPzbMLBY"
      },
      "outputs": [
        {
          "data": {
            "text/plain": [
              "'Arthur Dent'"
            ]
          },
          "execution_count": 19,
          "metadata": {},
          "output_type": "execute_result"
        }
      ],
      "source": [
        "first_name = \"Arthur\"\n",
        "last_name = \"Dent\"\n",
        "full_name = first_name + \" \" + last_name\n",
        "full_name"
      ]
    },
    {
      "cell_type": "markdown",
      "metadata": {
        "id": "eNmhk1kSWNlE"
      },
      "source": [
        "### String Indexing"
      ]
    },
    {
      "cell_type": "code",
      "execution_count": 20,
      "metadata": {
        "id": "qxzkXrOTMPcS"
      },
      "outputs": [
        {
          "data": {
            "text/plain": [
              "'p'"
            ]
          },
          "execution_count": 20,
          "metadata": {},
          "output_type": "execute_result"
        }
      ],
      "source": [
        "flavor = \"apple pie\"\n",
        "flavor[1]"
      ]
    },
    {
      "cell_type": "markdown",
      "metadata": {
        "id": "ULkfs_0w3_H7"
      },
      "source": [
        "**> Como string é uma lista, podemos percorer por cada posição**"
      ]
    },
    {
      "cell_type": "markdown",
      "metadata": {
        "id": "y37XNTBSMWWl"
      },
      "source": [
        "![image.png](data:image/png;base64,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)"
      ]
    },
    {
      "cell_type": "markdown",
      "metadata": {
        "id": "VLXPdNpu4hTH"
      },
      "source": [
        "**> Grande parte das linguagens começam com 0 as listas**"
      ]
    },
    {
      "cell_type": "code",
      "execution_count": 21,
      "metadata": {
        "id": "roo3Z_XxMXbL"
      },
      "outputs": [
        {
          "data": {
            "text/plain": [
              "'e'"
            ]
          },
          "execution_count": 21,
          "metadata": {},
          "output_type": "execute_result"
        }
      ],
      "source": [
        "flavor[-1]"
      ]
    },
    {
      "cell_type": "markdown",
      "metadata": {
        "id": "p-lkVRmy4H2n"
      },
      "source": [
        "**> Se utilizar valor negativo, vamos percorrer de forma inversa**"
      ]
    },
    {
      "cell_type": "code",
      "execution_count": 22,
      "metadata": {
        "id": "HEJi20k14OHj"
      },
      "outputs": [
        {
          "data": {
            "text/plain": [
              "'p'"
            ]
          },
          "execution_count": 22,
          "metadata": {},
          "output_type": "execute_result"
        }
      ],
      "source": [
        "flavor[-3]\n"
      ]
    },
    {
      "cell_type": "markdown",
      "metadata": {
        "id": "HYbbVpY04SGW"
      },
      "source": [
        "**> Se utilizar valor negativo, vamos percorrer de forma inversa**"
      ]
    },
    {
      "cell_type": "markdown",
      "metadata": {
        "id": "zw591myRWSRd"
      },
      "source": [
        "### String Slicing"
      ]
    },
    {
      "cell_type": "code",
      "execution_count": 23,
      "metadata": {
        "id": "p4qAWGw0MijZ"
      },
      "outputs": [
        {
          "data": {
            "text/plain": [
              "'app'"
            ]
          },
          "execution_count": 23,
          "metadata": {},
          "output_type": "execute_result"
        }
      ],
      "source": [
        "first_three_letters = flavor[0] + flavor[1] + flavor[2]\n",
        "first_three_letters"
      ]
    },
    {
      "cell_type": "code",
      "execution_count": 24,
      "metadata": {
        "id": "vh5FRfJiMmrQ"
      },
      "outputs": [
        {
          "data": {
            "text/plain": [
              "'app'"
            ]
          },
          "execution_count": 24,
          "metadata": {},
          "output_type": "execute_result"
        }
      ],
      "source": [
        "flavor = \"apple pie\"\n",
        "flavor[0:3]"
      ]
    },
    {
      "cell_type": "markdown",
      "metadata": {
        "id": "MxlJ1uNj4pTu"
      },
      "source": [
        "**> Podemos pegar partes da lista utilizando \":\", se for passado valores maiores que a string, ele não vai dar erro, vai pegar até onde der**"
      ]
    },
    {
      "cell_type": "code",
      "execution_count": 25,
      "metadata": {
        "id": "HE6hULQ5Mqc5"
      },
      "outputs": [
        {
          "data": {
            "text/plain": [
              "'apple'"
            ]
          },
          "execution_count": 25,
          "metadata": {},
          "output_type": "execute_result"
        }
      ],
      "source": [
        "flavor[:5]"
      ]
    },
    {
      "cell_type": "markdown",
      "metadata": {
        "id": "n207Mrfz5GiB"
      },
      "source": [
        "**> Se não for passado um valor inicial, ele asume que é zero. **"
      ]
    },
    {
      "cell_type": "code",
      "execution_count": 26,
      "metadata": {
        "id": "kelRdZreMtsE"
      },
      "outputs": [
        {
          "data": {
            "text/plain": [
              "' pie'"
            ]
          },
          "execution_count": 26,
          "metadata": {},
          "output_type": "execute_result"
        }
      ],
      "source": [
        "flavor[5:]"
      ]
    },
    {
      "cell_type": "markdown",
      "metadata": {
        "id": "U9_PL-84454l"
      },
      "source": [
        "**> ... o mesmo ocorre se não for passado valor final ,ele asume o final da frase**"
      ]
    },
    {
      "cell_type": "code",
      "execution_count": 27,
      "metadata": {
        "id": "1rrxv8-AMv67"
      },
      "outputs": [
        {
          "data": {
            "text/plain": [
              "'apple pie'"
            ]
          },
          "execution_count": 27,
          "metadata": {},
          "output_type": "execute_result"
        }
      ],
      "source": [
        "flavor[:]"
      ]
    },
    {
      "cell_type": "markdown",
      "metadata": {
        "id": "XPClz7Nx4985"
      },
      "source": [
        "**> ... e se não passar nada, ele pega toda a lista, que é o mesmo que não se informar \"[:]\"**"
      ]
    },
    {
      "cell_type": "markdown",
      "metadata": {
        "id": "fo-poa3MWaKq"
      },
      "source": [
        "### Converting String Case"
      ]
    },
    {
      "cell_type": "code",
      "execution_count": 28,
      "metadata": {
        "id": "Cr1g4yVdM7Ma"
      },
      "outputs": [
        {
          "data": {
            "text/plain": [
              "'jean-luc picard'"
            ]
          },
          "execution_count": 28,
          "metadata": {},
          "output_type": "execute_result"
        }
      ],
      "source": [
        "\"Jean-luc Picard\".lower()"
      ]
    },
    {
      "cell_type": "markdown",
      "metadata": {
        "id": "KMlrsF2Y6A75"
      },
      "source": [
        "**> Os tipos de dados já trazem algumas funções, como deixar os dados para minusculo**"
      ]
    },
    {
      "cell_type": "code",
      "execution_count": 29,
      "metadata": {
        "id": "i4wOr1rFM-ad"
      },
      "outputs": [
        {
          "data": {
            "text/plain": [
              "'jean-luc picard'"
            ]
          },
          "execution_count": 29,
          "metadata": {},
          "output_type": "execute_result"
        }
      ],
      "source": [
        "name = \"Jean-luc Picard\"\n",
        "name.lower()"
      ]
    },
    {
      "cell_type": "markdown",
      "metadata": {
        "id": "Be08S5HZ6IDS"
      },
      "source": [
        "**> ... e você pode chamar a função diretamente do tipo, sem ter que criar uma variavel**"
      ]
    },
    {
      "cell_type": "code",
      "execution_count": 30,
      "metadata": {
        "id": "diVttvO9NBkm"
      },
      "outputs": [
        {
          "data": {
            "text/plain": [
              "'CAN YOU HEAR ME YET?'"
            ]
          },
          "execution_count": 30,
          "metadata": {},
          "output_type": "execute_result"
        }
      ],
      "source": [
        "loud_voice = \"Can you hear me yet?\"\n",
        "loud_voice.upper()"
      ]
    },
    {
      "cell_type": "markdown",
      "metadata": {
        "id": "EweCxXfIWq0p"
      },
      "source": [
        "### Removing Whitespace From a String"
      ]
    },
    {
      "cell_type": "code",
      "execution_count": 31,
      "metadata": {
        "id": "ma0GZojMNQOs"
      },
      "outputs": [
        {
          "data": {
            "text/plain": [
              "'Jean-luc Picard'"
            ]
          },
          "execution_count": 31,
          "metadata": {},
          "output_type": "execute_result"
        }
      ],
      "source": [
        "name = \"Jean-luc Picard        \"\n",
        "name.rstrip()"
      ]
    },
    {
      "cell_type": "markdown",
      "metadata": {
        "id": "kSvWm8gd6eEz"
      },
      "source": [
        "**> Existe função para tirar os espaços no final da string**"
      ]
    },
    {
      "cell_type": "code",
      "execution_count": 32,
      "metadata": {
        "id": "GaTtdJaHNT-A"
      },
      "outputs": [
        {
          "data": {
            "text/plain": [
              "'Jean-luc Picard'"
            ]
          },
          "execution_count": 32,
          "metadata": {},
          "output_type": "execute_result"
        }
      ],
      "source": [
        "name = \"           Jean-luc Picard\"\n",
        "name.lstrip()"
      ]
    },
    {
      "cell_type": "markdown",
      "metadata": {
        "id": "vOOVbqI86i_2"
      },
      "source": [
        "**> ... para remover função antes da string**"
      ]
    },
    {
      "cell_type": "code",
      "execution_count": 33,
      "metadata": {
        "id": "Y8ghhDFnNXPT"
      },
      "outputs": [
        {
          "data": {
            "text/plain": [
              "'Jean-luc Picard'"
            ]
          },
          "execution_count": 33,
          "metadata": {},
          "output_type": "execute_result"
        }
      ],
      "source": [
        "name = \"       Jean-luc Picard          \"\n",
        "name.strip()"
      ]
    },
    {
      "cell_type": "markdown",
      "metadata": {
        "id": "O0cmwpZ16nk-"
      },
      "source": [
        "**> ... e função para remover antes e depois da string**"
      ]
    },
    {
      "cell_type": "markdown",
      "metadata": {
        "id": "E1ko8HRiXCYr"
      },
      "source": [
        "### Determine if a String Starts or Ends With a Particular String"
      ]
    },
    {
      "cell_type": "code",
      "execution_count": 34,
      "metadata": {
        "id": "hrKZpQnsNa6G"
      },
      "outputs": [
        {
          "data": {
            "text/plain": [
              "False"
            ]
          },
          "execution_count": 34,
          "metadata": {},
          "output_type": "execute_result"
        }
      ],
      "source": [
        "starship = \"Enterprise\"\n",
        "starship.startswith(\"en\")"
      ]
    },
    {
      "cell_type": "markdown",
      "metadata": {
        "id": "_8iFFxqn99hr"
      },
      "source": [
        "**> As funções são case sensitive, e existem varias para cada tipo de dado**"
      ]
    },
    {
      "cell_type": "code",
      "execution_count": 35,
      "metadata": {
        "id": "RSWeb9KGNiaH"
      },
      "outputs": [
        {
          "data": {
            "text/plain": [
              "True"
            ]
          },
          "execution_count": 35,
          "metadata": {},
          "output_type": "execute_result"
        }
      ],
      "source": [
        "starship.endswith(\"rise\")"
      ]
    },
    {
      "cell_type": "markdown",
      "metadata": {
        "id": "Yw7vg6iwXJsE"
      },
      "source": [
        "### Interact With User Input"
      ]
    },
    {
      "cell_type": "code",
      "execution_count": 36,
      "metadata": {
        "id": "1piX5P91Nr3i"
      },
      "outputs": [
        {
          "name": "stdout",
          "output_type": "stream",
          "text": [
            "You said: Olá\n"
          ]
        }
      ],
      "source": [
        "prompt = \"Hey, what's up? \"\n",
        "user_input = input(prompt)\n",
        "print(\"You said:\", user_input)"
      ]
    },
    {
      "cell_type": "markdown",
      "metadata": {
        "id": "1N2JxJCf-ui5"
      },
      "source": [
        "**> Podemos fazer campos para pedir para o usuario informar dados**"
      ]
    },
    {
      "cell_type": "code",
      "execution_count": 37,
      "metadata": {
        "id": "sqdqiUkgNxVM"
      },
      "outputs": [
        {
          "name": "stdout",
          "output_type": "stream",
          "text": [
            "Well, if you insist... ESTOU PENSANDO\n"
          ]
        }
      ],
      "source": [
        "response = input(\"What should I shout? \")\n",
        "shouted_response = response.upper()\n",
        "print(\"Well, if you insist...\", shouted_response)"
      ]
    },
    {
      "cell_type": "markdown",
      "metadata": {
        "id": "urfU1OUj-2LT"
      },
      "source": [
        "**> ... e podemos trabalhar com esse dado depois como quisermos**"
      ]
    },
    {
      "cell_type": "markdown",
      "metadata": {
        "id": "tnD_z1LcXNic"
      },
      "source": [
        "### Working With Strings and Numbers"
      ]
    },
    {
      "cell_type": "code",
      "execution_count": 38,
      "metadata": {
        "id": "hts3M7ctOVLS"
      },
      "outputs": [
        {
          "data": {
            "text/plain": [
              "'22'"
            ]
          },
          "execution_count": 38,
          "metadata": {},
          "output_type": "execute_result"
        }
      ],
      "source": [
        "num = \"2\"\n",
        "num + num"
      ]
    },
    {
      "cell_type": "markdown",
      "metadata": {
        "id": "lO7ngTNq_CKV"
      },
      "source": [
        "**> Somando strings**"
      ]
    },
    {
      "cell_type": "code",
      "execution_count": 39,
      "metadata": {
        "id": "rGjw4qafRWWT"
      },
      "outputs": [
        {
          "data": {
            "text/plain": [
              "'121212'"
            ]
          },
          "execution_count": 39,
          "metadata": {},
          "output_type": "execute_result"
        }
      ],
      "source": [
        "num = \"12\"\n",
        "num * 3"
      ]
    },
    {
      "cell_type": "markdown",
      "metadata": {
        "id": "nPlodyht_EZS"
      },
      "source": [
        "**> multiplicando a string**"
      ]
    },
    {
      "cell_type": "code",
      "execution_count": 40,
      "metadata": {
        "id": "upDrUc4sRbEY"
      },
      "outputs": [
        {
          "ename": "TypeError",
          "evalue": "can't multiply sequence by non-int of type 'str'",
          "output_type": "error",
          "traceback": [
            "\u001b[1;31m---------------------------------------------------------------------------\u001b[0m",
            "\u001b[1;31mTypeError\u001b[0m                                 Traceback (most recent call last)",
            "\u001b[1;32mc:\\Users\\LucasBaccan\\git\\lucas-elias-baccan\\07-Python-Everton\\Aula-02\\atividades\\PythonIntroduction-lucas-elias-baccan.ipynb Cell 91'\u001b[0m in \u001b[0;36m<cell line: 1>\u001b[1;34m()\u001b[0m\n\u001b[1;32m----> <a href='vscode-notebook-cell:/c%3A/Users/LucasBaccan/git/lucas-elias-baccan/07-Python-Everton/Aula-02/atividades/PythonIntroduction-lucas-elias-baccan.ipynb#ch0000090?line=0'>1</a>\u001b[0m \u001b[39m\"\u001b[39;49m\u001b[39m12\u001b[39;49m\u001b[39m\"\u001b[39;49m \u001b[39m*\u001b[39;49m \u001b[39m\"\u001b[39;49m\u001b[39m3\u001b[39;49m\u001b[39m\"\u001b[39;49m\n",
            "\u001b[1;31mTypeError\u001b[0m: can't multiply sequence by non-int of type 'str'"
          ]
        }
      ],
      "source": [
        "\"12\" * \"3\""
      ]
    },
    {
      "cell_type": "markdown",
      "metadata": {
        "id": "tAsg1L8R_Rrf"
      },
      "source": [
        "**> Mas a função de multiplicar é uma função matematica, e não de texto.**"
      ]
    },
    {
      "cell_type": "markdown",
      "metadata": {
        "id": "Xi-Gcr6rXZeg"
      },
      "source": [
        "### Converting Strings to Numbers"
      ]
    },
    {
      "cell_type": "code",
      "execution_count": 41,
      "metadata": {
        "id": "n6YLJBgaRhC2"
      },
      "outputs": [
        {
          "name": "stdout",
          "output_type": "stream",
          "text": [
            "1010\n"
          ]
        }
      ],
      "source": [
        "num = input(\"Enter a number to be doubled: \")\n",
        "doubled_num = num * 2\n",
        "print(doubled_num)"
      ]
    },
    {
      "cell_type": "markdown",
      "metadata": {
        "id": "VyK548fs_eyP"
      },
      "source": [
        "**> A entrada de uma campo vai ser sempre um retorno do tipo texto**"
      ]
    },
    {
      "cell_type": "code",
      "execution_count": 42,
      "metadata": {
        "id": "4lIqDu3BRoNq"
      },
      "outputs": [
        {
          "name": "stdout",
          "output_type": "stream",
          "text": [
            "40.0\n"
          ]
        }
      ],
      "source": [
        "num = input(\"Enter a number to be doubled: \")\n",
        "doubled_num = float(num) * 2\n",
        "print(doubled_num)"
      ]
    },
    {
      "cell_type": "markdown",
      "metadata": {
        "id": "trnNz5rC_kpN"
      },
      "source": [
        "**> ... mas podemos converter essa entrada para um tipo diferente.**\n"
      ]
    },
    {
      "cell_type": "markdown",
      "metadata": {
        "id": "__S15y_8Xdz5"
      },
      "source": [
        "### Converting Numbers to Strings"
      ]
    },
    {
      "cell_type": "code",
      "execution_count": 43,
      "metadata": {
        "id": "hCueEbQbRwwZ"
      },
      "outputs": [
        {
          "data": {
            "text/plain": [
              "'I am going to eat 10 pancakes.'"
            ]
          },
          "execution_count": 43,
          "metadata": {},
          "output_type": "execute_result"
        }
      ],
      "source": [
        "num_pancakes = 10\n",
        "\"I am going to eat \" + str(num_pancakes) + \" pancakes.\""
      ]
    },
    {
      "cell_type": "markdown",
      "metadata": {
        "id": "DS35C4AGBQgX"
      },
      "source": [
        "**> ...e converter para outros tipos**"
      ]
    },
    {
      "cell_type": "code",
      "execution_count": 44,
      "metadata": {
        "id": "5O9Uw2b2R0wD"
      },
      "outputs": [
        {
          "data": {
            "text/plain": [
              "'Only 5 pancakes left.'"
            ]
          },
          "execution_count": 44,
          "metadata": {},
          "output_type": "execute_result"
        }
      ],
      "source": [
        "total_pancakes = 10\n",
        "pancakes_eaten = 5\n",
        "\"Only \" + str(total_pancakes - pancakes_eaten) + \" pancakes left.\"\n",
        "'Only 5 pancakes left.'"
      ]
    },
    {
      "cell_type": "markdown",
      "metadata": {
        "id": "QYcPVxnRBc5N"
      },
      "source": [
        "**> ... e ate mesmo executar código dentro do cast**"
      ]
    },
    {
      "cell_type": "markdown",
      "metadata": {
        "id": "qeLRYPmLXhZL"
      },
      "source": [
        "### Streamline Your Print Statements"
      ]
    },
    {
      "cell_type": "code",
      "execution_count": 45,
      "metadata": {
        "id": "QThfNVxeR9aa"
      },
      "outputs": [
        {
          "data": {
            "text/plain": [
              "'3 times 4 is 12'"
            ]
          },
          "execution_count": 45,
          "metadata": {},
          "output_type": "execute_result"
        }
      ],
      "source": [
        "n = 3\n",
        "m = 4\n",
        "f\"{n} times {m} is {n*m}\""
      ]
    },
    {
      "cell_type": "markdown",
      "metadata": {
        "id": "1Tdr5DjNBjNc"
      },
      "source": [
        "**> Podemos fazer a concatenação de texto utilizando um \"f\" na frente do texto, e executar função de código ou ler variaveis dentro de chaves \"{}\"**"
      ]
    },
    {
      "cell_type": "code",
      "execution_count": 46,
      "metadata": {
        "id": "U6M_1S7pSDrz"
      },
      "outputs": [
        {
          "data": {
            "text/plain": [
              "'John has 1 heads and 2 arms'"
            ]
          },
          "execution_count": 46,
          "metadata": {},
          "output_type": "execute_result"
        }
      ],
      "source": [
        "name = \"John\"\n",
        "heads = \"1\"\n",
        "arms = \"2\"\n",
        "\"{} has {} heads and {} arms\".format(name, heads, arms)"
      ]
    },
    {
      "cell_type": "markdown",
      "metadata": {
        "id": "B4w5DGFKB472"
      },
      "source": [
        "**> ... ou podemos utilizar o \".format()\" e passar qual é a sequencia a ser seguida, mas se precisar, podemos passar dentro da chave o index da posição que queremos utilizar**"
      ]
    },
    {
      "cell_type": "markdown",
      "metadata": {
        "id": "-YPhrZ3kXs5Q"
      },
      "source": [
        "### Find a String in a String"
      ]
    },
    {
      "cell_type": "code",
      "execution_count": 47,
      "metadata": {
        "id": "XdLg1YZcSNO1"
      },
      "outputs": [
        {
          "data": {
            "text/plain": [
              "4"
            ]
          },
          "execution_count": 47,
          "metadata": {},
          "output_type": "execute_result"
        }
      ],
      "source": [
        "phrase = \"the surprise is in here somewhere\"\n",
        "phrase.find(\"surprise\")"
      ]
    },
    {
      "cell_type": "markdown",
      "metadata": {
        "id": "94UBguiPYF2o"
      },
      "source": [
        "**> A função find mostra o index em que se encontra o termo buscado, somente sua primeira ocorrencia**"
      ]
    },
    {
      "cell_type": "code",
      "execution_count": 48,
      "metadata": {
        "id": "FYd8OXIySlEB"
      },
      "outputs": [
        {
          "data": {
            "text/plain": [
              "\"I'm telling you lies; nothing but lies!\""
            ]
          },
          "execution_count": 48,
          "metadata": {},
          "output_type": "execute_result"
        }
      ],
      "source": [
        "my_story = \"I'm telling you the truth; nothing but the truth!\"\n",
        "my_story.replace(\"the truth\", \"lies\")"
      ]
    },
    {
      "cell_type": "markdown",
      "metadata": {
        "id": "Ehtwfid_YRUl"
      },
      "source": [
        "**> Faz a troca de termos, se for encontrado algum**"
      ]
    },
    {
      "cell_type": "code",
      "execution_count": 49,
      "metadata": {
        "id": "OMIokt3dSsTU"
      },
      "outputs": [
        {
          "data": {
            "text/plain": [
              "\"I'm telling you the truth; nothing but the truth!\""
            ]
          },
          "execution_count": 49,
          "metadata": {},
          "output_type": "execute_result"
        }
      ],
      "source": [
        "my_story"
      ]
    },
    {
      "cell_type": "code",
      "execution_count": 50,
      "metadata": {
        "id": "3eGi4ssJSv--"
      },
      "outputs": [
        {
          "data": {
            "text/plain": [
              "'all the things'"
            ]
          },
          "execution_count": 50,
          "metadata": {},
          "output_type": "execute_result"
        }
      ],
      "source": [
        "text = \"some of the stuff\"\n",
        "new_text = text.replace(\"some of\", \"all\")\n",
        "new_text = new_text.replace(\"stuff\", \"things\")\n",
        "new_text"
      ]
    },
    {
      "cell_type": "markdown",
      "metadata": {
        "id": "PBS9rjvPYuct"
      },
      "source": [
        "**> Voce pode atribuir o retorno da subistituição para uma função, e trabalhar com variaveis.**"
      ]
    },
    {
      "cell_type": "markdown",
      "metadata": {
        "id": "qtOheDp-TQWD"
      },
      "source": [
        "## Números e matemática"
      ]
    },
    {
      "cell_type": "markdown",
      "metadata": {
        "id": "F8MCFJCWTdX6"
      },
      "source": [
        "### Integers"
      ]
    },
    {
      "cell_type": "code",
      "execution_count": 51,
      "metadata": {
        "id": "rVPKRWq9Teha"
      },
      "outputs": [
        {
          "data": {
            "text/plain": [
              "int"
            ]
          },
          "execution_count": 51,
          "metadata": {},
          "output_type": "execute_result"
        }
      ],
      "source": [
        "type(1)"
      ]
    },
    {
      "cell_type": "markdown",
      "metadata": {
        "id": "eP3U2niOZM2j"
      },
      "source": [
        "**> Números que não tem ponto flutuante**\n"
      ]
    },
    {
      "cell_type": "code",
      "execution_count": 52,
      "metadata": {
        "id": "p1d0u70UTgB5"
      },
      "outputs": [
        {
          "data": {
            "text/plain": [
              "25"
            ]
          },
          "execution_count": 52,
          "metadata": {},
          "output_type": "execute_result"
        }
      ],
      "source": [
        "int(\"25\")"
      ]
    },
    {
      "cell_type": "code",
      "execution_count": 53,
      "metadata": {
        "id": "9yM86fUBTin8"
      },
      "outputs": [
        {
          "data": {
            "text/plain": [
              "1000000"
            ]
          },
          "execution_count": 53,
          "metadata": {},
          "output_type": "execute_result"
        }
      ],
      "source": [
        "1000000"
      ]
    },
    {
      "cell_type": "markdown",
      "metadata": {
        "id": "try1rPtIZhNO"
      },
      "source": [
        "**> Dependendo da execução, o retorno de dois inteiros pode ser um float, como na divisão, o retorno de 2 int divididos vai ser um float**\n"
      ]
    },
    {
      "cell_type": "markdown",
      "metadata": {
        "id": "PW8P9erJTlq9"
      },
      "source": [
        "### Floating-Point"
      ]
    },
    {
      "cell_type": "code",
      "execution_count": 54,
      "metadata": {
        "id": "A7ZfZjZQTmY8"
      },
      "outputs": [
        {
          "data": {
            "text/plain": [
              "float"
            ]
          },
          "execution_count": 54,
          "metadata": {},
          "output_type": "execute_result"
        }
      ],
      "source": [
        "type(1.0)"
      ]
    },
    {
      "cell_type": "markdown",
      "metadata": {
        "id": "K-MEO2KxZRA6"
      },
      "source": [
        "**> Números com ponto flutuante**\n"
      ]
    },
    {
      "cell_type": "code",
      "execution_count": 55,
      "metadata": {
        "id": "LzvRWGX-ToyW"
      },
      "outputs": [
        {
          "data": {
            "text/plain": [
              "1.25"
            ]
          },
          "execution_count": 55,
          "metadata": {},
          "output_type": "execute_result"
        }
      ],
      "source": [
        "float(\"1.25\")"
      ]
    },
    {
      "cell_type": "code",
      "execution_count": 56,
      "metadata": {
        "id": "BPwSoLNUTrHH"
      },
      "outputs": [
        {
          "data": {
            "text/plain": [
              "1000000.0"
            ]
          },
          "execution_count": 56,
          "metadata": {},
          "output_type": "execute_result"
        }
      ],
      "source": [
        "1000000.0"
      ]
    },
    {
      "cell_type": "code",
      "execution_count": 57,
      "metadata": {
        "id": "Y7RFVPEATu9I"
      },
      "outputs": [
        {
          "data": {
            "text/plain": [
              "2e+17"
            ]
          },
          "execution_count": 57,
          "metadata": {},
          "output_type": "execute_result"
        }
      ],
      "source": [
        "200000000000000000.0"
      ]
    },
    {
      "cell_type": "markdown",
      "metadata": {
        "id": "TlsOUsYVcACV"
      },
      "source": [
        "**> Anotação cientifica, uma forma de escrever numeros muito grandes ou muito pequenos**"
      ]
    },
    {
      "cell_type": "code",
      "execution_count": 58,
      "metadata": {
        "id": "vInW5AZRT1Kn"
      },
      "outputs": [
        {
          "data": {
            "text/plain": [
              "0.0001"
            ]
          },
          "execution_count": 58,
          "metadata": {},
          "output_type": "execute_result"
        }
      ],
      "source": [
        "1e-4"
      ]
    },
    {
      "cell_type": "markdown",
      "metadata": {
        "id": "K5Gu5e5BT5Tn"
      },
      "source": [
        "### Arithmetic Operators and Expressions"
      ]
    },
    {
      "cell_type": "code",
      "execution_count": 59,
      "metadata": {
        "id": "MmcS9hvcT8bf"
      },
      "outputs": [
        {
          "data": {
            "text/plain": [
              "3"
            ]
          },
          "execution_count": 59,
          "metadata": {},
          "output_type": "execute_result"
        }
      ],
      "source": [
        "1 + 2"
      ]
    },
    {
      "cell_type": "markdown",
      "metadata": {
        "id": "kJhV5OuOdUlE"
      },
      "source": [
        "**> Soma de inteiros**"
      ]
    },
    {
      "cell_type": "code",
      "execution_count": 60,
      "metadata": {
        "id": "0MVHArcnT-ip"
      },
      "outputs": [
        {
          "data": {
            "text/plain": [
              "3.0"
            ]
          },
          "execution_count": 60,
          "metadata": {},
          "output_type": "execute_result"
        }
      ],
      "source": [
        "1.0 + 2"
      ]
    },
    {
      "cell_type": "markdown",
      "metadata": {
        "id": "FcxBN6-AdYQN"
      },
      "source": [
        "**> Soma de inteiro e float**"
      ]
    },
    {
      "cell_type": "code",
      "execution_count": 61,
      "metadata": {
        "id": "sBWuikGYUBF7"
      },
      "outputs": [
        {
          "data": {
            "text/plain": [
              "0"
            ]
          },
          "execution_count": 61,
          "metadata": {},
          "output_type": "execute_result"
        }
      ],
      "source": [
        "1 - 1"
      ]
    },
    {
      "cell_type": "markdown",
      "metadata": {
        "id": "iMddg95jdbB6"
      },
      "source": [
        "**> Subtração de inteiros, retorno inteiro**"
      ]
    },
    {
      "cell_type": "code",
      "execution_count": 62,
      "metadata": {
        "id": "0j7W5oudUCUH"
      },
      "outputs": [
        {
          "data": {
            "text/plain": [
              "2.0"
            ]
          },
          "execution_count": 62,
          "metadata": {},
          "output_type": "execute_result"
        }
      ],
      "source": [
        "5.0 - 3"
      ]
    },
    {
      "cell_type": "markdown",
      "metadata": {
        "id": "1a5a90zVdct0"
      },
      "source": [
        "**> Subitração de flot e inteiro, retorno float**"
      ]
    },
    {
      "cell_type": "code",
      "execution_count": 63,
      "metadata": {
        "id": "zDujQakAUFwV"
      },
      "outputs": [
        {
          "data": {
            "text/plain": [
              "4"
            ]
          },
          "execution_count": 63,
          "metadata": {},
          "output_type": "execute_result"
        }
      ],
      "source": [
        "1 - (-3)"
      ]
    },
    {
      "cell_type": "markdown",
      "metadata": {
        "id": "XYvYOEjadhe5"
      },
      "source": [
        "**> Trabalhando com numeros negativos (precedente de operação)**"
      ]
    },
    {
      "cell_type": "code",
      "execution_count": 64,
      "metadata": {
        "id": "1iSEUrrCUIGW"
      },
      "outputs": [
        {
          "data": {
            "text/plain": [
              "9"
            ]
          },
          "execution_count": 64,
          "metadata": {},
          "output_type": "execute_result"
        }
      ],
      "source": [
        "3 * 3"
      ]
    },
    {
      "cell_type": "markdown",
      "metadata": {
        "id": "SCe2tjwbdwl3"
      },
      "source": [
        "**> Multiplicação de inteiros, retorno inteiro**"
      ]
    },
    {
      "cell_type": "code",
      "execution_count": 65,
      "metadata": {
        "id": "m4SpbWUNUJ-q"
      },
      "outputs": [
        {
          "data": {
            "text/plain": [
              "16.0"
            ]
          },
          "execution_count": 65,
          "metadata": {},
          "output_type": "execute_result"
        }
      ],
      "source": [
        "2 * 8.0"
      ]
    },
    {
      "cell_type": "markdown",
      "metadata": {
        "id": "oz67z_DJd3iL"
      },
      "source": [
        "**> Multiplicação de inteiro e float, retorna float**"
      ]
    },
    {
      "cell_type": "code",
      "execution_count": 66,
      "metadata": {
        "id": "2_stveKCULmC"
      },
      "outputs": [
        {
          "data": {
            "text/plain": [
              "3.0"
            ]
          },
          "execution_count": 66,
          "metadata": {},
          "output_type": "execute_result"
        }
      ],
      "source": [
        "9 / 3"
      ]
    },
    {
      "cell_type": "markdown",
      "metadata": {
        "id": "RUzIHXM6eCTT"
      },
      "source": [
        "**> Divisão sempre vai trabalhar com precisão, então retorna float**"
      ]
    },
    {
      "cell_type": "code",
      "execution_count": 67,
      "metadata": {
        "id": "jTngWAYEUPD5"
      },
      "outputs": [
        {
          "data": {
            "text/plain": [
              "3"
            ]
          },
          "execution_count": 67,
          "metadata": {},
          "output_type": "execute_result"
        }
      ],
      "source": [
        "int(9 / 3)"
      ]
    },
    {
      "cell_type": "markdown",
      "metadata": {
        "id": "ixIRxUrWeJwW"
      },
      "source": [
        "**> Um numero float, se for feito o cast para inteiro, vai perder informação, não é feito o arredondamento, ele só iguinora as casas decimais**"
      ]
    },
    {
      "cell_type": "code",
      "execution_count": 68,
      "metadata": {
        "id": "ycx31gSnUR0x"
      },
      "outputs": [
        {
          "data": {
            "text/plain": [
              "3"
            ]
          },
          "execution_count": 68,
          "metadata": {},
          "output_type": "execute_result"
        }
      ],
      "source": [
        "9 // 3"
      ]
    },
    {
      "cell_type": "markdown",
      "metadata": {
        "id": "J3WKplnoeWmh"
      },
      "source": [
        "**> Raiz quadrada**"
      ]
    },
    {
      "cell_type": "code",
      "execution_count": 69,
      "metadata": {
        "id": "oXGAKf82UXeL"
      },
      "outputs": [
        {
          "data": {
            "text/plain": [
              "4"
            ]
          },
          "execution_count": 69,
          "metadata": {},
          "output_type": "execute_result"
        }
      ],
      "source": [
        "2 ** 2"
      ]
    },
    {
      "cell_type": "markdown",
      "metadata": {
        "id": "Rp_Om9VOef_I"
      },
      "source": [
        "**> Exponenciação**"
      ]
    },
    {
      "cell_type": "code",
      "execution_count": 70,
      "metadata": {
        "id": "lyXA0F1SUabd"
      },
      "outputs": [
        {
          "data": {
            "text/plain": [
              "5.196152422706632"
            ]
          },
          "execution_count": 70,
          "metadata": {},
          "output_type": "execute_result"
        }
      ],
      "source": [
        "3 ** 1.5"
      ]
    },
    {
      "cell_type": "code",
      "execution_count": 71,
      "metadata": {
        "id": "edXkcwLiUcm-"
      },
      "outputs": [
        {
          "data": {
            "text/plain": [
              "3.0"
            ]
          },
          "execution_count": 71,
          "metadata": {},
          "output_type": "execute_result"
        }
      ],
      "source": [
        "9 ** 0.5"
      ]
    },
    {
      "cell_type": "markdown",
      "metadata": {
        "id": "OAr6TVgcfX96"
      },
      "source": [
        "**> Uma outra forma de fazer raiz quadrada**"
      ]
    },
    {
      "cell_type": "code",
      "execution_count": 72,
      "metadata": {
        "id": "bD78lZuJUfd_"
      },
      "outputs": [
        {
          "data": {
            "text/plain": [
              "2"
            ]
          },
          "execution_count": 72,
          "metadata": {},
          "output_type": "execute_result"
        }
      ],
      "source": [
        "5 % 3"
      ]
    },
    {
      "cell_type": "markdown",
      "metadata": {
        "id": "RG_gvjcNelIa"
      },
      "source": [
        "**> Resto da divisão**"
      ]
    },
    {
      "cell_type": "code",
      "execution_count": 73,
      "metadata": {
        "id": "DKp98hyuUkDq"
      },
      "outputs": [
        {
          "data": {
            "text/plain": [
              "10.0"
            ]
          },
          "execution_count": 73,
          "metadata": {},
          "output_type": "execute_result"
        }
      ],
      "source": [
        "4/2 + 2**3"
      ]
    },
    {
      "cell_type": "markdown",
      "metadata": {
        "id": "MHr6sw3rfmMw"
      },
      "source": [
        "**> Novamente, precedencia de operações**"
      ]
    },
    {
      "cell_type": "code",
      "execution_count": 74,
      "metadata": {
        "id": "AFmARSBIUk5l"
      },
      "outputs": [
        {
          "data": {
            "text/plain": [
              "-3"
            ]
          },
          "execution_count": 74,
          "metadata": {},
          "output_type": "execute_result"
        }
      ],
      "source": [
        "-1 + (-3*2 + 4)"
      ]
    },
    {
      "cell_type": "code",
      "execution_count": 75,
      "metadata": {
        "id": "-zAv2iNCUshi"
      },
      "outputs": [
        {
          "data": {
            "text/plain": [
              "2"
            ]
          },
          "execution_count": 75,
          "metadata": {},
          "output_type": "execute_result"
        }
      ],
      "source": [
        "round(2.3)"
      ]
    },
    {
      "cell_type": "markdown",
      "metadata": {
        "id": "VAvbvXKrgeXk"
      },
      "source": [
        "**> Arredondamento para o numero inteiro mais perto**"
      ]
    },
    {
      "cell_type": "code",
      "execution_count": 76,
      "metadata": {
        "id": "fiEgxTDUUu92"
      },
      "outputs": [
        {
          "data": {
            "text/plain": [
              "3"
            ]
          },
          "execution_count": 76,
          "metadata": {},
          "output_type": "execute_result"
        }
      ],
      "source": [
        "round(2.7)"
      ]
    },
    {
      "cell_type": "markdown",
      "metadata": {
        "id": "A7dgA77fgivU"
      },
      "source": [
        "**> Tudo que for 0.6 ou maior vai ser arredondado para cima**"
      ]
    },
    {
      "cell_type": "code",
      "execution_count": 77,
      "metadata": {
        "id": "DCpHS2-YUx5o"
      },
      "outputs": [
        {
          "data": {
            "text/plain": [
              "3.142"
            ]
          },
          "execution_count": 77,
          "metadata": {},
          "output_type": "execute_result"
        }
      ],
      "source": [
        "round(3.14159, 3)"
      ]
    },
    {
      "cell_type": "markdown",
      "metadata": {
        "id": "b9Y79RLZgnlv"
      },
      "source": [
        "**> Eu posso passar a precisão que eu quero que seja retornado o arredondamento**"
      ]
    },
    {
      "cell_type": "code",
      "execution_count": 78,
      "metadata": {
        "id": "-E91ahbRU7AC"
      },
      "outputs": [
        {
          "data": {
            "text/plain": [
              "3"
            ]
          },
          "execution_count": 78,
          "metadata": {},
          "output_type": "execute_result"
        }
      ],
      "source": [
        "abs(3)"
      ]
    },
    {
      "cell_type": "markdown",
      "metadata": {
        "id": "jS6M3BuLiGdt"
      },
      "source": [
        "**> Retorna o valor sem sinal**"
      ]
    },
    {
      "cell_type": "code",
      "execution_count": 79,
      "metadata": {
        "id": "278imie_U8qM"
      },
      "outputs": [
        {
          "data": {
            "text/plain": [
              "5.0"
            ]
          },
          "execution_count": 79,
          "metadata": {},
          "output_type": "execute_result"
        }
      ],
      "source": [
        "abs(-5.0)"
      ]
    },
    {
      "cell_type": "markdown",
      "metadata": {
        "id": "ntxrMOZ6iIn2"
      },
      "source": [
        "**> Valor sem sinal**"
      ]
    },
    {
      "cell_type": "code",
      "execution_count": 80,
      "metadata": {
        "id": "3_sLg8YoU-le"
      },
      "outputs": [
        {
          "data": {
            "text/plain": [
              "8"
            ]
          },
          "execution_count": 80,
          "metadata": {},
          "output_type": "execute_result"
        }
      ],
      "source": [
        "pow(2, 3)"
      ]
    },
    {
      "cell_type": "markdown",
      "metadata": {
        "id": "AXRyBr9xiLu9"
      },
      "source": [
        "**> Função de exponenciação, no código pode ser que seja mais legivel**"
      ]
    },
    {
      "cell_type": "code",
      "execution_count": 81,
      "metadata": {
        "id": "RL0F1NN4VAAd"
      },
      "outputs": [
        {
          "data": {
            "text/plain": [
              "0.25"
            ]
          },
          "execution_count": 81,
          "metadata": {},
          "output_type": "execute_result"
        }
      ],
      "source": [
        "pow(2, -2)"
      ]
    },
    {
      "cell_type": "markdown",
      "metadata": {
        "id": "TX0OiPiRVGZo"
      },
      "source": [
        "### Print Numbers in Style"
      ]
    },
    {
      "cell_type": "code",
      "execution_count": 82,
      "metadata": {
        "id": "1Qy4_bLCVHy5"
      },
      "outputs": [
        {
          "data": {
            "text/plain": [
              "'The value of n is 7.125'"
            ]
          },
          "execution_count": 82,
          "metadata": {},
          "output_type": "execute_result"
        }
      ],
      "source": [
        "n = 7.125\n",
        "f\"The value of n is {n}\""
      ]
    },
    {
      "cell_type": "code",
      "execution_count": 83,
      "metadata": {
        "id": "KIEu-hvwVL8z"
      },
      "outputs": [
        {
          "data": {
            "text/plain": [
              "'The value of n is 7.12500'"
            ]
          },
          "execution_count": 83,
          "metadata": {},
          "output_type": "execute_result"
        }
      ],
      "source": [
        "n = 7.125\n",
        "f\"The value of n is {n:.5f}\""
      ]
    },
    {
      "cell_type": "markdown",
      "metadata": {
        "id": "s705R2DjjkVR"
      },
      "source": [
        "**> Podemos utilizar \":.Nf\" para preencher um numero aonde N é o numero de casa**"
      ]
    },
    {
      "cell_type": "code",
      "execution_count": 84,
      "metadata": {
        "id": "yY2H1MgiVTOF"
      },
      "outputs": [
        {
          "data": {
            "text/plain": [
              "'After spending $256.35, I was left with $1,743.65'"
            ]
          },
          "execution_count": 84,
          "metadata": {},
          "output_type": "execute_result"
        }
      ],
      "source": [
        "balance = 2000.0\n",
        "spent = 256.35\n",
        "remaining = balance - spent\n",
        "f\"After spending ${spent:.2f}, I was left with ${remaining:,.2f}\""
      ]
    },
    {
      "cell_type": "code",
      "execution_count": 85,
      "metadata": {
        "id": "nWTYzIU_VTT1"
      },
      "outputs": [
        {
          "data": {
            "text/plain": [
              "\"Over 90.0% of Pythonistas say 'Real Python rocks!'\""
            ]
          },
          "execution_count": 85,
          "metadata": {},
          "output_type": "execute_result"
        }
      ],
      "source": [
        "ratio = 0.9\n",
        "f\"Over {ratio:.1%} of Pythonistas say 'Real Python rocks!'\""
      ]
    },
    {
      "cell_type": "markdown",
      "metadata": {
        "id": "rciQWAwykzYQ"
      },
      "source": [
        "**> E para formatar em percentual, basta colocar \":.1%\"**"
      ]
    },
    {
      "cell_type": "markdown",
      "metadata": {
        "id": "aFy9b9HoX4-r"
      },
      "source": [
        "## Funções e laços"
      ]
    },
    {
      "cell_type": "markdown",
      "metadata": {
        "id": "PP-ytngzYDwS"
      },
      "source": [
        "### Functions Are Values"
      ]
    },
    {
      "cell_type": "code",
      "execution_count": 86,
      "metadata": {
        "id": "Ls1ssffNYFiI"
      },
      "outputs": [
        {
          "data": {
            "text/plain": [
              "<function len(obj, /)>"
            ]
          },
          "execution_count": 86,
          "metadata": {},
          "output_type": "execute_result"
        }
      ],
      "source": [
        "len"
      ]
    },
    {
      "cell_type": "markdown",
      "metadata": {
        "id": "t__7ernrlvjK"
      },
      "source": [
        "**> Função para mostrar o tamanho de uma lista ou array**"
      ]
    },
    {
      "cell_type": "code",
      "execution_count": 87,
      "metadata": {
        "id": "cq4Q-QlVYH4J"
      },
      "outputs": [
        {
          "data": {
            "text/plain": [
              "builtin_function_or_method"
            ]
          },
          "execution_count": 87,
          "metadata": {},
          "output_type": "execute_result"
        }
      ],
      "source": [
        "type(len)"
      ]
    },
    {
      "cell_type": "markdown",
      "metadata": {
        "id": "jPihorWPl6-f"
      },
      "source": [
        "**> O tipo dela é uma função interna**"
      ]
    },
    {
      "cell_type": "code",
      "execution_count": 88,
      "metadata": {
        "id": "7-UgD2uIYKCi"
      },
      "outputs": [
        {
          "data": {
            "text/plain": [
              "\"I'm not the len you're looking for.\""
            ]
          },
          "execution_count": 88,
          "metadata": {},
          "output_type": "execute_result"
        }
      ],
      "source": [
        "len = \"I'm not the len you're looking for.\"\n",
        "len"
      ]
    },
    {
      "cell_type": "markdown",
      "metadata": {
        "id": "Cdcc9gyJl_VQ"
      },
      "source": [
        "**> No Python você pode sobrescrever funções padrões**"
      ]
    },
    {
      "cell_type": "code",
      "execution_count": 89,
      "metadata": {
        "id": "2g8NVJbMYMTK"
      },
      "outputs": [
        {
          "data": {
            "text/plain": [
              "str"
            ]
          },
          "execution_count": 89,
          "metadata": {},
          "output_type": "execute_result"
        }
      ],
      "source": [
        "type(len)"
      ]
    },
    {
      "cell_type": "code",
      "execution_count": 90,
      "metadata": {
        "id": "yDHgTWO9YO6D"
      },
      "outputs": [],
      "source": [
        "del len"
      ]
    },
    {
      "cell_type": "markdown",
      "metadata": {
        "id": "9jl_yftVmxb7"
      },
      "source": [
        "**> Mas pode utilizar \"del\" para poder retornar o valor original de funçoes builtin**"
      ]
    },
    {
      "cell_type": "code",
      "execution_count": 91,
      "metadata": {
        "id": "dwfJvKZgYWDn"
      },
      "outputs": [],
      "source": [
        "num_letters = len(\"four\")"
      ]
    },
    {
      "cell_type": "code",
      "execution_count": 92,
      "metadata": {
        "id": "pYJ0zHwBYYZg"
      },
      "outputs": [],
      "source": [
        "num_letters = 4"
      ]
    },
    {
      "cell_type": "code",
      "execution_count": 93,
      "metadata": {
        "id": "LMcv5HIVYbSy"
      },
      "outputs": [
        {
          "name": "stdout",
          "output_type": "stream",
          "text": [
            "What do I return?\n"
          ]
        }
      ],
      "source": [
        "return_value = print(\"What do I return?\")"
      ]
    },
    {
      "cell_type": "markdown",
      "metadata": {
        "id": "qvVeolNbnZGh"
      },
      "source": [
        "**> print é um metodo void, não retorna nada, então não é salvo nada na variavel**"
      ]
    },
    {
      "cell_type": "code",
      "execution_count": 94,
      "metadata": {
        "id": "7At9tLVoYdNy"
      },
      "outputs": [],
      "source": [
        "return_value"
      ]
    },
    {
      "cell_type": "markdown",
      "metadata": {
        "id": "rmZPAbrIYkIf"
      },
      "source": [
        "### The Anatomy of a Function"
      ]
    },
    {
      "cell_type": "code",
      "execution_count": 95,
      "metadata": {
        "id": "yLYUBEvoYjjM"
      },
      "outputs": [],
      "source": [
        "def multiply(x, y:int) -> int: # Function signature\n",
        "  # Function body\n",
        "  product = x * y\n",
        "  return product"
      ]
    },
    {
      "cell_type": "markdown",
      "metadata": {
        "id": "ib2AqwosnlYu"
      },
      "source": [
        "**> A identação no python é importante, utilize def para criar uma função, e : para definir quando vai ser criado o body. Além disso, posso tipar a entrada de dados e a saida**"
      ]
    },
    {
      "cell_type": "code",
      "execution_count": 96,
      "metadata": {
        "id": "cxmYScwbYu0B"
      },
      "outputs": [
        {
          "data": {
            "text/plain": [
              "8"
            ]
          },
          "execution_count": 96,
          "metadata": {},
          "output_type": "execute_result"
        }
      ],
      "source": [
        "multiply(2, 4)"
      ]
    },
    {
      "cell_type": "code",
      "execution_count": 97,
      "metadata": {
        "id": "q1gCtpGjYzmT"
      },
      "outputs": [],
      "source": [
        "def greet(name):\n",
        "  print(f\"Hello, {name}!\")"
      ]
    },
    {
      "cell_type": "code",
      "execution_count": 98,
      "metadata": {
        "id": "t2bAq4pBY1vU"
      },
      "outputs": [
        {
          "name": "stdout",
          "output_type": "stream",
          "text": [
            "Hello, Dave!\n"
          ]
        }
      ],
      "source": [
        "greet(\"Dave\")"
      ]
    },
    {
      "cell_type": "markdown",
      "metadata": {
        "id": "8DJ1RTjVyydf"
      },
      "source": [
        "**> Podemos fazer uma função chamar outra função**"
      ]
    },
    {
      "cell_type": "markdown",
      "metadata": {
        "id": "ajtG0zD2ZGzK"
      },
      "source": [
        "### The while Loop"
      ]
    },
    {
      "cell_type": "code",
      "execution_count": 99,
      "metadata": {
        "id": "mQ75bnP7ZKTO"
      },
      "outputs": [
        {
          "name": "stdout",
          "output_type": "stream",
          "text": [
            "1\n",
            "2\n",
            "3\n",
            "4\n"
          ]
        }
      ],
      "source": [
        "n = 1\n",
        "while n < 5:\n",
        "  print(n)\n",
        "  n = n + 1"
      ]
    },
    {
      "cell_type": "markdown",
      "metadata": {
        "id": "Ny8STyY10Cyu"
      },
      "source": [
        "**> Repetir até a condição ser atendida**"
      ]
    },
    {
      "cell_type": "code",
      "execution_count": 100,
      "metadata": {
        "id": "x2KV9GZLZV2Q"
      },
      "outputs": [],
      "source": [
        "num = float(input(\"Enter a positive number: \"))\n",
        "while num <= 0:\n",
        "  print(\"That's not a positive number!\")\n",
        "  num = float(input(\"Enter a positive number: \"))"
      ]
    },
    {
      "cell_type": "markdown",
      "metadata": {
        "id": "OkfCpSsSz5--"
      },
      "source": [
        "**> E podemos passar função como parametro**"
      ]
    },
    {
      "cell_type": "markdown",
      "metadata": {
        "id": "_bJOyNwpZbxR"
      },
      "source": [
        "### The for Loop"
      ]
    },
    {
      "cell_type": "code",
      "execution_count": 101,
      "metadata": {
        "id": "MFQQU5AVZcZp"
      },
      "outputs": [
        {
          "name": "stdout",
          "output_type": "stream",
          "text": [
            "P\n",
            "y\n",
            "t\n",
            "h\n",
            "o\n",
            "n\n"
          ]
        }
      ],
      "source": [
        "for letter in \"Python\":\n",
        "  print(letter)"
      ]
    },
    {
      "cell_type": "code",
      "execution_count": 102,
      "metadata": {
        "id": "DOi29vZcZg6H"
      },
      "outputs": [
        {
          "name": "stdout",
          "output_type": "stream",
          "text": [
            "P\n",
            "y\n",
            "t\n",
            "h\n",
            "o\n",
            "n\n"
          ]
        }
      ],
      "source": [
        "word = \"Python\"\n",
        "index = 0\n",
        "while index < len(word):\n",
        "  print(word[index])\n",
        "  index = index + 1"
      ]
    },
    {
      "cell_type": "markdown",
      "metadata": {
        "id": "X0X-RZgX1zdj"
      },
      "source": [
        "**> Essa é uma outra maneira de fazer a função de cima, mas ambas tem o mesmo retorno**"
      ]
    },
    {
      "cell_type": "code",
      "execution_count": 103,
      "metadata": {
        "id": "azNXESeIZlQx"
      },
      "outputs": [
        {
          "name": "stdout",
          "output_type": "stream",
          "text": [
            "Python\n",
            "Python\n",
            "Python\n"
          ]
        }
      ],
      "source": [
        "for n in range(3):\n",
        "  print(\"Python\")"
      ]
    },
    {
      "cell_type": "code",
      "execution_count": 104,
      "metadata": {
        "id": "tG99K1BDZoJ-"
      },
      "outputs": [
        {
          "name": "stdout",
          "output_type": "stream",
          "text": [
            "100\n",
            "121\n",
            "144\n",
            "169\n",
            "196\n",
            "225\n",
            "256\n",
            "289\n",
            "324\n",
            "361\n"
          ]
        }
      ],
      "source": [
        "for n in range(10, 20):\n",
        "  print(n * n)"
      ]
    },
    {
      "cell_type": "markdown",
      "metadata": {
        "id": "FIzEH7zo5FXj"
      },
      "source": [
        "**> A função range nos gera uma lista entre os elementos informados ou do tamanho informado**"
      ]
    },
    {
      "cell_type": "code",
      "execution_count": 105,
      "metadata": {
        "id": "kOILFN5eZrrz"
      },
      "outputs": [
        {
          "name": "stdout",
          "output_type": "stream",
          "text": [
            "2 people: $50.00 each\n",
            "3 people: $33.33 each\n",
            "4 people: $25.00 each\n",
            "5 people: $20.00 each\n"
          ]
        }
      ],
      "source": [
        "amount = float(input(\"Enter an amount: \"))\n",
        "for num_people in range(2, 6):\n",
        "  print(f\"{num_people} people: ${amount / num_people:,.2f} each\")"
      ]
    },
    {
      "cell_type": "markdown",
      "metadata": {
        "id": "KwWW14xu5EdD"
      },
      "source": [
        "**> E podemos juntar tudo que vemos para fazer calculos mais complexos**"
      ]
    },
    {
      "cell_type": "markdown",
      "metadata": {
        "id": "pNE5iXPeZxk2"
      },
      "source": [
        "### Nested Loops"
      ]
    },
    {
      "cell_type": "code",
      "execution_count": 106,
      "metadata": {
        "id": "y7PfN5O3Zydf"
      },
      "outputs": [
        {
          "name": "stdout",
          "output_type": "stream",
          "text": [
            "n = 1 and j = 4\n",
            "n = 1 and j = 5\n",
            "n = 1 and j = 6\n",
            "n = 2 and j = 4\n",
            "n = 2 and j = 5\n",
            "n = 2 and j = 6\n",
            "n = 3 and j = 4\n",
            "n = 3 and j = 5\n",
            "n = 3 and j = 6\n"
          ]
        }
      ],
      "source": [
        "for n in range(1, 4):\n",
        "  for j in range(4, 7):\n",
        "    print(f\"n = {n} and j = {j}\")"
      ]
    },
    {
      "cell_type": "markdown",
      "metadata": {
        "id": "bJRemJGV4-3B"
      },
      "source": [
        "**> Podemos colocar varios loops dentro de outros loops, mas isso não é uma boa pratica**"
      ]
    },
    {
      "cell_type": "markdown",
      "metadata": {
        "id": "HJShmaJwxmme"
      },
      "source": [
        "## Fibonacci"
      ]
    },
    {
      "cell_type": "code",
      "execution_count": 107,
      "metadata": {
        "id": "PVsA5pBWxiUx"
      },
      "outputs": [
        {
          "name": "stdout",
          "output_type": "stream",
          "text": [
            "Fibonacci sequence:\n",
            "0\n",
            "1\n",
            "1\n",
            "2\n",
            "3\n",
            "5\n",
            "8\n",
            "13\n",
            "21\n",
            "34\n"
          ]
        }
      ],
      "source": [
        "# Program to display the Fibonacci sequence up to n-th term\n",
        "\n",
        "nterms = int(input(\"How many terms? \"))\n",
        "#> Leitura de quantos itens vai ser executado\n",
        "\n",
        "# first two terms\n",
        "n1, n2 = 0, 1 #> Declarando os primeiros itens da lista, fazendo declaraçãos ao mesmo tempo\n",
        "count = 0 #> Contador\n",
        "\n",
        "# check if the number of terms is valid\n",
        "if nterms <= 0: #> Verificar se é um numero positivo ou zero\n",
        "   print(\"Please enter a positive integer\") #> Mensagem de retorno para o usuario que o numero é invalido\n",
        "# if there is only one term, return n1\n",
        "elif nterms == 1: #> Se for informado 1 na quantidade, retorna 0\n",
        "   print(\"Fibonacci sequence upto\",nterms,\":\")\n",
        "   print(n1)\n",
        "# generate fibonacci sequence\n",
        "else: #> Se for informado um numero maior que 1, gera a sequencia\n",
        "   print(\"Fibonacci sequence:\")\n",
        "   while count < nterms: #> enquanto a contagem for menor que a quantidade de itens informado\n",
        "       print(n1) #> Imprime o numero atual de n1\n",
        "       nth = n1 + n2 #> Faz a soma dos dois primeiros elementos para achar o valor do 3 elemento\n",
        "       # update values\n",
        "       n1 = n2 #> Numero 2 vira numero 1\n",
        "       n2 = nth #> Numero 3 calculado vira o numero 2\n",
        "       count += 1 #> incrementa a contagem e repete tudo até dar a condição do while"
      ]
    },
    {
      "cell_type": "code",
      "execution_count": 108,
      "metadata": {
        "id": "h3Bve2ROyHCZ"
      },
      "outputs": [
        {
          "name": "stdout",
          "output_type": "stream",
          "text": [
            "Fibonacci sequence:\n",
            "0\n",
            "1\n",
            "1\n",
            "2\n",
            "3\n",
            "5\n",
            "8\n",
            "13\n",
            "21\n",
            "34\n"
          ]
        }
      ],
      "source": [
        "# Python program to display the Fibonacci sequence\n",
        "\n",
        "def fibonacci(n): #> corpo da função\n",
        "   if n <= 1: #> Validar se informou um numero superior a 1, \n",
        "       return n #> caso contrario, retorna o valor informado em N\n",
        "   else:\n",
        "       return(fibonacci(n-1) + fibonacci(n-2)) #> chama de forma recursiva a função, com os numeros calculados da posição atual-2 + atual-1\n",
        "\n",
        "nterms = int(input(\"How many terms? \")) #> perguntar quantos numeros vai gerar\n",
        "\n",
        "# check if the number of terms is valid\n",
        "if nterms <= 0: #: Validar se foi informado um numero maior que 0\n",
        "   print(\"Plese enter a positive integer\") #> Mensagem de erro\n",
        "else: #> Valor maior que zero\n",
        "   print(\"Fibonacci sequence:\")\n",
        "   for i in range(nterms): #> Monta uma lista com a quantidade de itens informada, e passa por cada um\n",
        "       print(fibonacci(i)) #> pega o valor da em \"i\" e passa para a função de calculo"
      ]
    },
    {
      "cell_type": "markdown",
      "metadata": {
        "id": "cEdHiI4mDiYd"
      },
      "source": [
        "#### Entendimento sobre Fibonacci\n",
        "\n",
        "No meu entendimento, funções recursivas são complicadas de se entender no primeiro momento, só a experiencia vai fazer você lidar com elas bem, até la, vai ser uma confusão e você vai achar que é magica.\n",
        "\n",
        "Ambos os metodos cumprem o que prometem, e nos ultimos anos, passei mais tempo tentando tornar meu código mais legivel, pois passamos mais tempo lendo código do que escrevendo, e quanto mais facil ler, melhor vai ser pra programar.\n",
        "\n",
        "Eu prefiro a primeira implementação, pois ta tudo ali, ao \"seu alcance\"."
      ]
    },
    {
      "cell_type": "markdown",
      "metadata": {
        "id": "1n-3Joi3S7OA"
      },
      "source": [
        "## Conditional Logic and Control Flow"
      ]
    },
    {
      "cell_type": "markdown",
      "metadata": {
        "id": "pEp67u99TC8_"
      },
      "source": [
        "### Compare Values"
      ]
    },
    {
      "cell_type": "markdown",
      "metadata": {
        "id": "1rWbNZR9jKM9"
      },
      "source": [
        "**> Padrão de tabela verdade, nada demais**"
      ]
    },
    {
      "cell_type": "code",
      "execution_count": 109,
      "metadata": {
        "id": "gRydeaqfTOae"
      },
      "outputs": [
        {
          "data": {
            "text/plain": [
              "True"
            ]
          },
          "execution_count": 109,
          "metadata": {},
          "output_type": "execute_result"
        }
      ],
      "source": [
        "1 == 1"
      ]
    },
    {
      "cell_type": "code",
      "execution_count": 110,
      "metadata": {
        "id": "xYFdbqBhTSlF"
      },
      "outputs": [
        {
          "data": {
            "text/plain": [
              "False"
            ]
          },
          "execution_count": 110,
          "metadata": {},
          "output_type": "execute_result"
        }
      ],
      "source": [
        "3 > 5"
      ]
    },
    {
      "cell_type": "code",
      "execution_count": 111,
      "metadata": {
        "id": "aV5dxfi_TWQZ"
      },
      "outputs": [
        {
          "data": {
            "text/plain": [
              "True"
            ]
          },
          "execution_count": 111,
          "metadata": {},
          "output_type": "execute_result"
        }
      ],
      "source": [
        "\"a\" == \"a\""
      ]
    },
    {
      "cell_type": "code",
      "execution_count": 112,
      "metadata": {
        "id": "LT2xPbvATXwU"
      },
      "outputs": [
        {
          "data": {
            "text/plain": [
              "False"
            ]
          },
          "execution_count": 112,
          "metadata": {},
          "output_type": "execute_result"
        }
      ],
      "source": [
        "\"a\" == \"b\""
      ]
    },
    {
      "cell_type": "markdown",
      "metadata": {
        "id": "2NV_bHUPSbEe"
      },
      "source": [
        "if 5 > 5 ? True : False"
      ]
    },
    {
      "cell_type": "code",
      "execution_count": 115,
      "metadata": {
        "id": "wQMeVzYYTbF5"
      },
      "outputs": [
        {
          "data": {
            "text/plain": [
              "True"
            ]
          },
          "execution_count": 115,
          "metadata": {},
          "output_type": "execute_result"
        }
      ],
      "source": [
        "\"a\" < \"b\""
      ]
    },
    {
      "cell_type": "code",
      "execution_count": 116,
      "metadata": {
        "id": "GsoSNopVTcj6"
      },
      "outputs": [
        {
          "data": {
            "text/plain": [
              "False"
            ]
          },
          "execution_count": 116,
          "metadata": {},
          "output_type": "execute_result"
        }
      ],
      "source": [
        "\"a\" > \"b\""
      ]
    },
    {
      "cell_type": "markdown",
      "metadata": {},
      "source": [
        "**> Ele compara a posição da letra no alfabeto tambem**"
      ]
    },
    {
      "cell_type": "code",
      "execution_count": 117,
      "metadata": {
        "id": "i8eRGRAvTga3"
      },
      "outputs": [
        {
          "data": {
            "text/plain": [
              "True"
            ]
          },
          "execution_count": 117,
          "metadata": {},
          "output_type": "execute_result"
        }
      ],
      "source": [
        "\"apple\" < \"astronaut\""
      ]
    },
    {
      "cell_type": "markdown",
      "metadata": {
        "id": "Bk7zPT-qjdkd"
      },
      "source": [
        "**> Ele tambem compara o tamanho dos textos**"
      ]
    },
    {
      "cell_type": "code",
      "execution_count": 118,
      "metadata": {
        "colab": {
          "base_uri": "https://localhost:8080/"
        },
        "id": "yoFrhctxTiF-",
        "outputId": "7d43ca6f-cd2f-4a5d-f97c-8e6db401294f"
      },
      "outputs": [
        {
          "data": {
            "text/plain": [
              "False"
            ]
          },
          "execution_count": 118,
          "metadata": {},
          "output_type": "execute_result"
        }
      ],
      "source": [
        "\"beauty\" > \"truth\""
      ]
    },
    {
      "cell_type": "markdown",
      "metadata": {
        "id": "_Soh8afQTYtU"
      },
      "source": [
        "True AND True = True\n",
        "\n",
        "True AND False = False\n",
        "\n",
        "True OR True = True\n",
        "\n",
        "True OR False = True\n",
        "\n",
        "True XOR True = False\n",
        "\n",
        "True NOR True = False"
      ]
    },
    {
      "cell_type": "markdown",
      "metadata": {
        "id": "xaprMxuFkuv3"
      },
      "source": [
        "**> Exemplo da tabela verdade**"
      ]
    },
    {
      "cell_type": "code",
      "execution_count": 119,
      "metadata": {
        "id": "ildCXWZzTlmS"
      },
      "outputs": [
        {
          "data": {
            "text/plain": [
              "True"
            ]
          },
          "execution_count": 119,
          "metadata": {},
          "output_type": "execute_result"
        }
      ],
      "source": [
        "(1 < 2) and (3 < 4) # Both are True"
      ]
    },
    {
      "cell_type": "markdown",
      "metadata": {
        "id": "i84pumQBk0Uh"
      },
      "source": [
        "**> Voce pode comparar numeros diretamente, sem por em variaveis ou função**"
      ]
    },
    {
      "cell_type": "markdown",
      "metadata": {
        "id": "Jj_NQ9smk0Kt"
      },
      "source": []
    },
    {
      "cell_type": "code",
      "execution_count": 120,
      "metadata": {
        "id": "ctIXAotnTnWw"
      },
      "outputs": [
        {
          "data": {
            "text/plain": [
              "False"
            ]
          },
          "execution_count": 120,
          "metadata": {},
          "output_type": "execute_result"
        }
      ],
      "source": [
        "2 > 1 and 4 < 3 # Both are False"
      ]
    },
    {
      "cell_type": "markdown",
      "metadata": {
        "id": "UJKsBY7KlUx7"
      },
      "source": [
        "**> ...mais exemplos de comparação**"
      ]
    },
    {
      "cell_type": "code",
      "execution_count": 121,
      "metadata": {
        "id": "xZxYNITMTpR7"
      },
      "outputs": [
        {
          "data": {
            "text/plain": [
              "False"
            ]
          },
          "execution_count": 121,
          "metadata": {},
          "output_type": "execute_result"
        }
      ],
      "source": [
        "1 < 2 and 4 < 3 # Second statement is False"
      ]
    },
    {
      "cell_type": "markdown",
      "metadata": {
        "id": "hPiYnx5mlVj1"
      },
      "source": [
        "**> ...mais exemplos de comparação**"
      ]
    },
    {
      "cell_type": "code",
      "execution_count": 122,
      "metadata": {
        "id": "-CipDehdTrTd"
      },
      "outputs": [
        {
          "data": {
            "text/plain": [
              "False"
            ]
          },
          "execution_count": 122,
          "metadata": {},
          "output_type": "execute_result"
        }
      ],
      "source": [
        "2 < 1 and 3 < 4 # First statement is False"
      ]
    },
    {
      "cell_type": "markdown",
      "metadata": {
        "id": "0YGnWMQUlWQg"
      },
      "source": [
        "**> ...mais exemplos de comparação**"
      ]
    },
    {
      "cell_type": "code",
      "execution_count": 123,
      "metadata": {
        "id": "AG1TTmxkUVhT"
      },
      "outputs": [
        {
          "data": {
            "text/plain": [
              "int"
            ]
          },
          "execution_count": 123,
          "metadata": {},
          "output_type": "execute_result"
        }
      ],
      "source": [
        "type(2)"
      ]
    },
    {
      "cell_type": "code",
      "execution_count": 124,
      "metadata": {
        "id": "AkClnrarTt4F"
      },
      "outputs": [
        {
          "data": {
            "text/plain": [
              "True"
            ]
          },
          "execution_count": 124,
          "metadata": {},
          "output_type": "execute_result"
        }
      ],
      "source": [
        "True and True"
      ]
    },
    {
      "cell_type": "markdown",
      "metadata": {
        "id": "8xqk_ryrlXi4"
      },
      "source": [
        "**> ...mais exemplos de comparação**"
      ]
    },
    {
      "cell_type": "code",
      "execution_count": 125,
      "metadata": {
        "id": "PvYVT1-rUZfN"
      },
      "outputs": [
        {
          "data": {
            "text/plain": [
              "bool"
            ]
          },
          "execution_count": 125,
          "metadata": {},
          "output_type": "execute_result"
        }
      ],
      "source": [
        "type(True)"
      ]
    },
    {
      "cell_type": "markdown",
      "metadata": {
        "id": "TrrZiPNpk875"
      },
      "source": [
        "**> Tipo é um bool**"
      ]
    },
    {
      "cell_type": "markdown",
      "metadata": {
        "id": "xiBU-3UDUjIP"
      },
      "source": [
        "NA = not assigned -> NULL\n",
        "\n",
        "A (null) -> B (null) -> C (here) -> default\n",
        "\n",
        "select PK, FK, DE from Table"
      ]
    },
    {
      "cell_type": "code",
      "execution_count": 126,
      "metadata": {
        "id": "ZZI3KQdgTvoS"
      },
      "outputs": [
        {
          "data": {
            "text/plain": [
              "False"
            ]
          },
          "execution_count": 126,
          "metadata": {},
          "output_type": "execute_result"
        }
      ],
      "source": [
        "True and False"
      ]
    },
    {
      "cell_type": "markdown",
      "metadata": {
        "id": "U0uaurJ3lEWt"
      },
      "source": [
        "**> ...mais exemplos de comparação**"
      ]
    },
    {
      "cell_type": "code",
      "execution_count": 127,
      "metadata": {
        "id": "b4bBiTuuTxiK"
      },
      "outputs": [
        {
          "data": {
            "text/plain": [
              "False"
            ]
          },
          "execution_count": 127,
          "metadata": {},
          "output_type": "execute_result"
        }
      ],
      "source": [
        "False and True"
      ]
    },
    {
      "cell_type": "markdown",
      "metadata": {
        "id": "Abab0tyMlH5K"
      },
      "source": [
        "**> ...mais exemplos de comparação**"
      ]
    },
    {
      "cell_type": "code",
      "execution_count": 128,
      "metadata": {
        "id": "Cv02XkstTzET"
      },
      "outputs": [
        {
          "data": {
            "text/plain": [
              "False"
            ]
          },
          "execution_count": 128,
          "metadata": {},
          "output_type": "execute_result"
        }
      ],
      "source": [
        "False and False"
      ]
    },
    {
      "cell_type": "markdown",
      "metadata": {
        "id": "k11S7hgelIne"
      },
      "source": [
        "**> ...mais exemplos de comparação**"
      ]
    },
    {
      "cell_type": "code",
      "execution_count": 129,
      "metadata": {
        "id": "soQbsYeBT1RG"
      },
      "outputs": [
        {
          "data": {
            "text/plain": [
              "True"
            ]
          },
          "execution_count": 129,
          "metadata": {},
          "output_type": "execute_result"
        }
      ],
      "source": [
        "1 < 2 or 3 < 4 # Both are True"
      ]
    },
    {
      "cell_type": "markdown",
      "metadata": {
        "id": "6zVvfkvFlJGl"
      },
      "source": [
        "**> ...mais exemplos de comparação**"
      ]
    },
    {
      "cell_type": "code",
      "execution_count": 130,
      "metadata": {
        "id": "cU88dMYjU1-s"
      },
      "outputs": [
        {
          "data": {
            "text/plain": [
              "False"
            ]
          },
          "execution_count": 130,
          "metadata": {},
          "output_type": "execute_result"
        }
      ],
      "source": [
        "2 < 1 or 4 < 3 # Both are False"
      ]
    },
    {
      "cell_type": "markdown",
      "metadata": {
        "id": "1AQSWAnjlKKJ"
      },
      "source": [
        "**> ...mais exemplos de comparação**"
      ]
    },
    {
      "cell_type": "code",
      "execution_count": 131,
      "metadata": {
        "id": "K7SmcExXU3xB"
      },
      "outputs": [
        {
          "data": {
            "text/plain": [
              "True"
            ]
          },
          "execution_count": 131,
          "metadata": {},
          "output_type": "execute_result"
        }
      ],
      "source": [
        "1 < 2 or 4 < 3 # Second statement is False"
      ]
    },
    {
      "cell_type": "markdown",
      "metadata": {
        "id": "bIhMsjAvlK0u"
      },
      "source": [
        "**> ...mais exemplos de comparação**"
      ]
    },
    {
      "cell_type": "code",
      "execution_count": 132,
      "metadata": {
        "id": "UdCQ56bDU5en"
      },
      "outputs": [
        {
          "data": {
            "text/plain": [
              "True"
            ]
          },
          "execution_count": 132,
          "metadata": {},
          "output_type": "execute_result"
        }
      ],
      "source": [
        "2 < 1 or 3 < 4 # First statement is False"
      ]
    },
    {
      "cell_type": "markdown",
      "metadata": {
        "id": "PqC8Dm4slMbM"
      },
      "source": [
        "**> ...mais exemplos de comparação**"
      ]
    },
    {
      "cell_type": "code",
      "execution_count": 133,
      "metadata": {
        "id": "w7erUNZkVCZ7"
      },
      "outputs": [
        {
          "data": {
            "text/plain": [
              "True"
            ]
          },
          "execution_count": 133,
          "metadata": {},
          "output_type": "execute_result"
        }
      ],
      "source": [
        "True or True"
      ]
    },
    {
      "cell_type": "markdown",
      "metadata": {
        "id": "jhRXOdVPlLtK"
      },
      "source": [
        "**> ...mais exemplos de comparação**"
      ]
    },
    {
      "cell_type": "code",
      "execution_count": 134,
      "metadata": {
        "id": "DV67R2xtVEO9"
      },
      "outputs": [
        {
          "data": {
            "text/plain": [
              "True"
            ]
          },
          "execution_count": 134,
          "metadata": {},
          "output_type": "execute_result"
        }
      ],
      "source": [
        "True or False"
      ]
    },
    {
      "cell_type": "markdown",
      "metadata": {
        "id": "0RuFJsjwlNSQ"
      },
      "source": [
        "**> ...mais exemplos de comparação**"
      ]
    },
    {
      "cell_type": "code",
      "execution_count": 135,
      "metadata": {
        "id": "p1BJ7Z0pVF9A"
      },
      "outputs": [
        {
          "data": {
            "text/plain": [
              "True"
            ]
          },
          "execution_count": 135,
          "metadata": {},
          "output_type": "execute_result"
        }
      ],
      "source": [
        "False or True"
      ]
    },
    {
      "cell_type": "markdown",
      "metadata": {
        "id": "Xkzy_g06lOEG"
      },
      "source": [
        "**> ...mais exemplos de comparação**"
      ]
    },
    {
      "cell_type": "code",
      "execution_count": 136,
      "metadata": {
        "id": "8F8bXJ5QVHIs"
      },
      "outputs": [
        {
          "data": {
            "text/plain": [
              "False"
            ]
          },
          "execution_count": 136,
          "metadata": {},
          "output_type": "execute_result"
        }
      ],
      "source": [
        "False or False"
      ]
    },
    {
      "cell_type": "markdown",
      "metadata": {
        "id": "WOwl8g4plOve"
      },
      "source": [
        "**> ...mais exemplos de comparação**"
      ]
    },
    {
      "cell_type": "code",
      "execution_count": 137,
      "metadata": {
        "id": "sOXFwc5KVLYb"
      },
      "outputs": [
        {
          "data": {
            "text/plain": [
              "False"
            ]
          },
          "execution_count": 137,
          "metadata": {},
          "output_type": "execute_result"
        }
      ],
      "source": [
        "not True"
      ]
    },
    {
      "cell_type": "markdown",
      "metadata": {
        "id": "M9_MM9STlPMU"
      },
      "source": [
        "**> ...mais exemplos de comparação**"
      ]
    },
    {
      "cell_type": "code",
      "execution_count": 138,
      "metadata": {
        "id": "sZsBobgxVNUX"
      },
      "outputs": [
        {
          "data": {
            "text/plain": [
              "True"
            ]
          },
          "execution_count": 138,
          "metadata": {},
          "output_type": "execute_result"
        }
      ],
      "source": [
        "not False"
      ]
    },
    {
      "cell_type": "markdown",
      "metadata": {
        "id": "5CLF1v94lP3Y"
      },
      "source": [
        "**> ...mais exemplos de comparação**"
      ]
    },
    {
      "cell_type": "code",
      "execution_count": 139,
      "metadata": {
        "id": "wEJTC9sUVOmX"
      },
      "outputs": [
        {
          "data": {
            "text/plain": [
              "True"
            ]
          },
          "execution_count": 139,
          "metadata": {},
          "output_type": "execute_result"
        }
      ],
      "source": [
        "not True == False"
      ]
    },
    {
      "cell_type": "markdown",
      "metadata": {
        "id": "reZfHuG9lQj1"
      },
      "source": [
        "**> ...mais exemplos de comparação**"
      ]
    },
    {
      "cell_type": "code",
      "execution_count": 141,
      "metadata": {
        "id": "bIHrSQxeVQtu"
      },
      "outputs": [
        {
          "data": {
            "text/plain": [
              "True"
            ]
          },
          "execution_count": 141,
          "metadata": {},
          "output_type": "execute_result"
        }
      ],
      "source": [
        "False == (not True)"
      ]
    },
    {
      "cell_type": "markdown",
      "metadata": {
        "id": "yrnB9j4nlRyU"
      },
      "source": [
        "**> ...mais exemplos de comparação**"
      ]
    },
    {
      "cell_type": "markdown",
      "metadata": {
        "id": "YMGTcBziVZdp"
      },
      "source": [
        "![image.png](data:image/png;base64,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)"
      ]
    },
    {
      "cell_type": "code",
      "execution_count": 142,
      "metadata": {
        "id": "UYpLN6d0VaTd"
      },
      "outputs": [
        {
          "data": {
            "text/plain": [
              "True"
            ]
          },
          "execution_count": 142,
          "metadata": {},
          "output_type": "execute_result"
        }
      ],
      "source": [
        "False == (not True)"
      ]
    },
    {
      "cell_type": "markdown",
      "metadata": {
        "id": "oysEQf36ldRr"
      },
      "source": [
        "**> ...mais exemplos de comparação**"
      ]
    },
    {
      "cell_type": "code",
      "execution_count": 143,
      "metadata": {
        "id": "lMtuFwwAVfaH"
      },
      "outputs": [
        {
          "data": {
            "text/plain": [
              "True"
            ]
          },
          "execution_count": 143,
          "metadata": {},
          "output_type": "execute_result"
        }
      ],
      "source": [
        "True and not (1 != 1)"
      ]
    },
    {
      "cell_type": "markdown",
      "metadata": {
        "id": "wJZ8bgTeld_r"
      },
      "source": [
        "**> ...mais exemplos de comparação**"
      ]
    },
    {
      "cell_type": "code",
      "execution_count": 144,
      "metadata": {
        "id": "JCPb8LVCVhmw"
      },
      "outputs": [
        {
          "data": {
            "text/plain": [
              "True"
            ]
          },
          "execution_count": 144,
          "metadata": {},
          "output_type": "execute_result"
        }
      ],
      "source": [
        "True and not (False)"
      ]
    },
    {
      "cell_type": "markdown",
      "metadata": {
        "id": "3_DX-YWmlecb"
      },
      "source": [
        "**> ...mais exemplos de comparação**"
      ]
    },
    {
      "cell_type": "code",
      "execution_count": 145,
      "metadata": {
        "id": "P2ZKOTHOVi9X"
      },
      "outputs": [
        {
          "data": {
            "text/plain": [
              "True"
            ]
          },
          "execution_count": 145,
          "metadata": {},
          "output_type": "execute_result"
        }
      ],
      "source": [
        "True and True"
      ]
    },
    {
      "cell_type": "markdown",
      "metadata": {
        "id": "M8j7EgX4le49"
      },
      "source": [
        "**> ...mais exemplos de comparação**"
      ]
    },
    {
      "cell_type": "code",
      "execution_count": 146,
      "metadata": {
        "id": "3MGYKPP-Vl-8"
      },
      "outputs": [
        {
          "data": {
            "text/plain": [
              "True"
            ]
          },
          "execution_count": 146,
          "metadata": {},
          "output_type": "execute_result"
        }
      ],
      "source": [
        "(\"A\" != \"A\") or not (2 >= 3)"
      ]
    },
    {
      "cell_type": "markdown",
      "metadata": {
        "id": "9sELDMGQlf0m"
      },
      "source": [
        "**> ...mais exemplos de comparação**"
      ]
    },
    {
      "cell_type": "code",
      "execution_count": 147,
      "metadata": {
        "id": "-rLWGf6VVpGu"
      },
      "outputs": [
        {
          "data": {
            "text/plain": [
              "True"
            ]
          },
          "execution_count": 147,
          "metadata": {},
          "output_type": "execute_result"
        }
      ],
      "source": [
        "(False) or not (False)"
      ]
    },
    {
      "cell_type": "markdown",
      "metadata": {
        "id": "5EQYZ7SnlgRP"
      },
      "source": [
        "**> ...mais exemplos de comparação**"
      ]
    },
    {
      "cell_type": "code",
      "execution_count": 148,
      "metadata": {
        "id": "MgZytk5-VqWV"
      },
      "outputs": [
        {
          "data": {
            "text/plain": [
              "True"
            ]
          },
          "execution_count": 148,
          "metadata": {},
          "output_type": "execute_result"
        }
      ],
      "source": [
        "False or (not False)"
      ]
    },
    {
      "cell_type": "markdown",
      "metadata": {
        "id": "DUQb7EwglgrS"
      },
      "source": [
        "**> ...mais exemplos de comparação**"
      ]
    },
    {
      "cell_type": "code",
      "execution_count": 149,
      "metadata": {
        "id": "vBSDo7BjVr-i"
      },
      "outputs": [
        {
          "data": {
            "text/plain": [
              "True"
            ]
          },
          "execution_count": 149,
          "metadata": {},
          "output_type": "execute_result"
        }
      ],
      "source": [
        "False or True"
      ]
    },
    {
      "cell_type": "markdown",
      "metadata": {
        "id": "wB1yTBLqlhV0"
      },
      "source": [
        "**> ...mais exemplos de comparação**"
      ]
    },
    {
      "cell_type": "code",
      "execution_count": 150,
      "metadata": {
        "id": "DyI6iSUGVtWv"
      },
      "outputs": [
        {
          "data": {
            "text/plain": [
              "False"
            ]
          },
          "execution_count": 150,
          "metadata": {},
          "output_type": "execute_result"
        }
      ],
      "source": [
        "True and False == True and False"
      ]
    },
    {
      "cell_type": "markdown",
      "metadata": {
        "id": "LAg1rx5Olhz1"
      },
      "source": [
        "**> ...mais exemplos de comparação**"
      ]
    },
    {
      "cell_type": "code",
      "execution_count": 151,
      "metadata": {
        "id": "C3T7lNTEVu1N"
      },
      "outputs": [
        {
          "data": {
            "text/plain": [
              "True"
            ]
          },
          "execution_count": 151,
          "metadata": {},
          "output_type": "execute_result"
        }
      ],
      "source": [
        "(True and False) == (True and False)"
      ]
    },
    {
      "cell_type": "markdown",
      "metadata": {
        "id": "kFuKxpcMlilu"
      },
      "source": [
        "**> ...mais exemplos de comparação**"
      ]
    },
    {
      "cell_type": "markdown",
      "metadata": {
        "id": "rtn2U9EkV0YQ"
      },
      "source": [
        "## Control the Flow of Your Program"
      ]
    },
    {
      "cell_type": "code",
      "execution_count": 152,
      "metadata": {
        "id": "0-E9XhpZV1et"
      },
      "outputs": [
        {
          "name": "stdout",
          "output_type": "stream",
          "text": [
            "2 and 2 is 4\n"
          ]
        }
      ],
      "source": [
        "if 2 + 2 == 4:\n",
        "  print(\"2 and 2 is 4\")"
      ]
    },
    {
      "cell_type": "markdown",
      "metadata": {
        "id": "HG56taDDlk6E"
      },
      "source": [
        "**> Exemplo de IF**"
      ]
    },
    {
      "cell_type": "code",
      "execution_count": 153,
      "metadata": {
        "id": "YHg8qou-V6RQ"
      },
      "outputs": [],
      "source": [
        "if 2 + 2 == 5:\n",
        "  print(\"Is this the mirror universe?\")"
      ]
    },
    {
      "cell_type": "markdown",
      "metadata": {
        "id": "5AljzLnblpLv"
      },
      "source": [
        "**> Exemplo de if**"
      ]
    },
    {
      "cell_type": "code",
      "execution_count": 154,
      "metadata": {
        "id": "pu7dgY-KV-qw"
      },
      "outputs": [
        {
          "name": "stdout",
          "output_type": "stream",
          "text": [
            "You passed the class!\n",
            "Thank you for attending.\n"
          ]
        }
      ],
      "source": [
        "grade = 95\n",
        "if grade >= 70:\n",
        "  print(\"You passed the class!\")\n",
        "print(\"Thank you for attending.\")"
      ]
    },
    {
      "cell_type": "markdown",
      "metadata": {
        "id": "JB58683Wlt43"
      },
      "source": [
        "**> if usando variaveis**"
      ]
    },
    {
      "cell_type": "code",
      "execution_count": 155,
      "metadata": {
        "id": "gTSF_pGvWAPf"
      },
      "outputs": [
        {
          "name": "stdout",
          "output_type": "stream",
          "text": [
            "You did not pass the class :(\n",
            "Thank you for attending.\n"
          ]
        }
      ],
      "source": [
        "grade = 40\n",
        "if grade >= 70:\n",
        "  print(\"You passed the class!\")\n",
        "if grade < 70:\n",
        "  print(\"You did not pass the class :(\")\n",
        "  print(\"Thank you for attending.\")"
      ]
    },
    {
      "cell_type": "markdown",
      "metadata": {
        "id": "TSCWNKpQlwJZ"
      },
      "source": [
        "**> Existe forma mais eficiente de escrever isso**"
      ]
    },
    {
      "cell_type": "code",
      "execution_count": 156,
      "metadata": {
        "id": "QUH-iClOWPZp"
      },
      "outputs": [
        {
          "name": "stdout",
          "output_type": "stream",
          "text": [
            "You did not pass the class :(\n",
            "Thank you for attending.\n"
          ]
        }
      ],
      "source": [
        "grade = 40\n",
        "if grade >= 70:\n",
        "  print(\"You passed the class!\")\n",
        "else:\n",
        "  print(\"You did not pass the class :(\")\n",
        "  print(\"Thank you for attending.\")"
      ]
    },
    {
      "cell_type": "code",
      "execution_count": 157,
      "metadata": {
        "id": "qrGyIp9aWaxc"
      },
      "outputs": [
        {
          "name": "stdout",
          "output_type": "stream",
          "text": [
            "You passed the class with a B.\n"
          ]
        }
      ],
      "source": [
        "grade = 85 # 1\n",
        "if grade >= 90: # 2\n",
        "  print(\"You passed the class with a A.\")\n",
        "elif grade >= 80: # 3\n",
        "  print(\"You passed the class with a B.\")\n",
        "elif grade >= 70: # 4\n",
        "  print(\"You passed the class with a C.\")\n",
        "else: # 5\n",
        "  print(\"You did not pass the class :(\")\n",
        "  print(\"Thanks for attending.\") # 6"
      ]
    },
    {
      "cell_type": "markdown",
      "metadata": {
        "id": "J19JADA9l0YQ"
      },
      "source": [
        "**> Podemos encadear ifs e elses**"
      ]
    },
    {
      "cell_type": "code",
      "execution_count": 158,
      "metadata": {
        "id": "HsTKvXIMWdTl"
      },
      "outputs": [
        {
          "name": "stdout",
          "output_type": "stream",
          "text": [
            "Player 1 wins.\n"
          ]
        }
      ],
      "source": [
        "sport = input(\"Enter a sport: \")\n",
        "p1_score = int(input(\"Enter player 1 score: \"))\n",
        "p2_score = int(input(\"Enter player 2 score: \"))\n",
        "# 1\n",
        "if sport.lower() == \"basketball\":\n",
        "  if p1_score == p2_score:\n",
        "    print(\"The game is a draw.\")\n",
        "  elif p1_score > p2_score:\n",
        "    print(\"Player 1 wins.\")\n",
        "  else:\n",
        "    print(\"Player 2 wins.\")\n",
        "  # 2\n",
        "elif sport.lower() == \"golf\":\n",
        "  if p1_score == p2_score:\n",
        "    print(\"The game is a draw.\")\n",
        "  elif p1_score < p2_score:\n",
        "    print(\"Player 1 wins.\")\n",
        "  else:\n",
        "    print(\"Player 2 wins.\")\n",
        "  # 3\n",
        "else:\n",
        "  print(\"Unknown sport\")"
      ]
    },
    {
      "cell_type": "markdown",
      "metadata": {
        "id": "OLVBAtCEmIUi"
      },
      "source": [
        "**> Aqui temos um código que não faz nada de relevante, e ta aqui só pro professor explicar que da para usar melhor o controle de fluxo**"
      ]
    },
    {
      "cell_type": "code",
      "execution_count": 159,
      "metadata": {
        "id": "SRsNd098XE9q"
      },
      "outputs": [
        {
          "name": "stdout",
          "output_type": "stream",
          "text": [
            "Player 1 wins.\n"
          ]
        }
      ],
      "source": [
        "if p1_score == p2_score:\n",
        "  print(\"The game is a draw.\")\n",
        "\n",
        "elif sport.lower() == \"basketball\":\n",
        "  if p1_score > p2_score:\n",
        "    print(\"Player 1 wins.\")\n",
        "  else:\n",
        "    print(\"Player 2 wins.\")\n",
        "\n",
        "elif sport.lower() == \"golf\":\n",
        "  if p1_score < p2_score:\n",
        "    print(\"Player 1 wins.\")\n",
        "  else:\n",
        "    print(\"Player 2 wins.\")\n",
        "\n",
        "else:\n",
        "  print(\"Unknown sport.\")"
      ]
    },
    {
      "cell_type": "markdown",
      "metadata": {
        "id": "7bYqi1H-n9-c"
      },
      "source": [
        "**> Foi tão bom a explicação aqui, que nem conseguimos melhorar o exemplo que tava, pois não faz sentido pro mundo rela, mas fica a importancia de usarmos menos passos e fazer código legivel**"
      ]
    },
    {
      "cell_type": "markdown",
      "metadata": {
        "id": "9mzUuk-BYr37"
      },
      "source": [
        "### Break Out of the Pattern"
      ]
    },
    {
      "cell_type": "code",
      "execution_count": 160,
      "metadata": {
        "id": "I6Q6pwiFYs85"
      },
      "outputs": [
        {
          "name": "stdout",
          "output_type": "stream",
          "text": [
            "2450\n"
          ]
        }
      ],
      "source": [
        "sum_of_evens = 0\n",
        "for n in range(1, 100):\n",
        "  if n % 2 == 0:\n",
        "    sum_of_evens = sum_of_evens + n\n",
        "print(sum_of_evens)"
      ]
    },
    {
      "cell_type": "markdown",
      "metadata": {
        "id": "3skuf3hGpaTQ"
      },
      "source": []
    },
    {
      "cell_type": "code",
      "execution_count": 161,
      "metadata": {
        "id": "POG_tor6Y2b8"
      },
      "outputs": [
        {
          "name": "stdout",
          "output_type": "stream",
          "text": [
            "0\n",
            "1\n",
            "Finished with n = 2\n"
          ]
        }
      ],
      "source": [
        "for n in range(0, 4):\n",
        "  if n == 2:\n",
        "    break\n",
        "  print(n)\n",
        "print(f\"Finished with n = {n}\")"
      ]
    },
    {
      "cell_type": "markdown",
      "metadata": {
        "id": "tX95PWDDpcS6"
      },
      "source": [
        "**> Podemos usar o break para quebrar a execução do código**"
      ]
    },
    {
      "cell_type": "code",
      "execution_count": 162,
      "metadata": {
        "id": "L6kNk7bFY71J"
      },
      "outputs": [
        {
          "name": "stdout",
          "output_type": "stream",
          "text": [
            "0\n",
            "1\n",
            "3\n",
            "Finished with i = 3\n"
          ]
        }
      ],
      "source": [
        "for i in range(0, 4):\n",
        "  if i == 2:\n",
        "    continue\n",
        "  print(i)\n",
        "print(f\"Finished with i = {i}\")"
      ]
    },
    {
      "cell_type": "markdown",
      "metadata": {
        "id": "4Srl150ypi-b"
      },
      "source": [
        "**> Usamos o continue para pular para o proximo item**"
      ]
    },
    {
      "cell_type": "code",
      "execution_count": 163,
      "metadata": {
        "id": "gSm9X45FY_u-"
      },
      "outputs": [
        {
          "name": "stdout",
          "output_type": "stream",
          "text": [
            "There was no 'X' in the phrase\n",
            "There was no 'X' in the phrase\n",
            "There was no 'X' in the phrase\n",
            "There was no 'X' in the phrase\n",
            "There was no 'X' in the phrase\n",
            "There was no 'X' in the phrase\n",
            "There was no 'X' in the phrase\n",
            "There was no 'X' in the phrase\n",
            "There was no 'X' in the phrase\n",
            "There was no 'X' in the phrase\n",
            "There was no 'X' in the phrase\n",
            "There was no 'X' in the phrase\n",
            "There was no 'X' in the phrase\n",
            "There was no 'X' in the phrase\n",
            "There was no 'X' in the phrase\n",
            "There was no 'X' in the phrase\n",
            "There was no 'X' in the phrase\n"
          ]
        }
      ],
      "source": [
        "phrase = \"it marks the spot\"\n",
        "for character in phrase:\n",
        "  if character == \"X\":\n",
        "    break\n",
        "  else:\n",
        "    print(\"There was no 'X' in the phrase\")"
      ]
    },
    {
      "cell_type": "markdown",
      "metadata": {
        "id": "3DR9cVtjpqg1"
      },
      "source": [
        "**> mais exemplo do breack**"
      ]
    },
    {
      "cell_type": "code",
      "execution_count": 164,
      "metadata": {
        "id": "8nS-EbZzZDxF"
      },
      "outputs": [
        {
          "name": "stdout",
          "output_type": "stream",
          "text": [
            "Password is incorrect.\n",
            "Password is incorrect.\n",
            "Password is incorrect.\n",
            "Suspicious activity. The authorities have been alerted.\n"
          ]
        }
      ],
      "source": [
        "for n in range(3):\n",
        "  password = input(\"Password: \")\n",
        "  if password == \"I<3Bieber\":\n",
        "    break\n",
        "  print(\"Password is incorrect.\")\n",
        "else:\n",
        "  print(\"Suspicious activity. The authorities have been alerted.\")"
      ]
    },
    {
      "cell_type": "markdown",
      "metadata": {
        "id": "TcHWPED1ptTx"
      },
      "source": [
        "**> Mais exemplo do breack, depois de 3 tentativas, ele sai**"
      ]
    },
    {
      "cell_type": "markdown",
      "metadata": {
        "id": "B9h-EKXMZp_3"
      },
      "source": [
        "## Recover From Errors"
      ]
    },
    {
      "cell_type": "code",
      "execution_count": 165,
      "metadata": {
        "id": "B9lU5GWdZrC3"
      },
      "outputs": [
        {
          "ename": "ValueError",
          "evalue": "invalid literal for int() with base 10: 'not a number'",
          "output_type": "error",
          "traceback": [
            "\u001b[1;31m---------------------------------------------------------------------------\u001b[0m",
            "\u001b[1;31mValueError\u001b[0m                                Traceback (most recent call last)",
            "\u001b[1;32mc:\\Users\\LucasBaccan\\git\\lucas-elias-baccan\\07-Python-Everton\\Aula-02\\atividades\\PythonIntroduction-lucas-elias-baccan.ipynb Cell 336'\u001b[0m in \u001b[0;36m<cell line: 1>\u001b[1;34m()\u001b[0m\n\u001b[1;32m----> <a href='vscode-notebook-cell:/c%3A/Users/LucasBaccan/git/lucas-elias-baccan/07-Python-Everton/Aula-02/atividades/PythonIntroduction-lucas-elias-baccan.ipynb#ch0000335?line=0'>1</a>\u001b[0m \u001b[39mint\u001b[39;49m(\u001b[39m\"\u001b[39;49m\u001b[39mnot a number\u001b[39;49m\u001b[39m\"\u001b[39;49m)\n",
            "\u001b[1;31mValueError\u001b[0m: invalid literal for int() with base 10: 'not a number'"
          ]
        }
      ],
      "source": [
        "int(\"not a number\") #ValueError"
      ]
    },
    {
      "cell_type": "markdown",
      "metadata": {
        "id": "iBUpUYRcyjvo"
      },
      "source": [
        "**> O valor é errado**"
      ]
    },
    {
      "cell_type": "code",
      "execution_count": 166,
      "metadata": {
        "id": "onrjjBTZZ0MJ"
      },
      "outputs": [
        {
          "ename": "TypeError",
          "evalue": "can only concatenate str (not \"int\") to str",
          "output_type": "error",
          "traceback": [
            "\u001b[1;31m---------------------------------------------------------------------------\u001b[0m",
            "\u001b[1;31mTypeError\u001b[0m                                 Traceback (most recent call last)",
            "\u001b[1;32mc:\\Users\\LucasBaccan\\git\\lucas-elias-baccan\\07-Python-Everton\\Aula-02\\atividades\\PythonIntroduction-lucas-elias-baccan.ipynb Cell 338'\u001b[0m in \u001b[0;36m<cell line: 1>\u001b[1;34m()\u001b[0m\n\u001b[1;32m----> <a href='vscode-notebook-cell:/c%3A/Users/LucasBaccan/git/lucas-elias-baccan/07-Python-Everton/Aula-02/atividades/PythonIntroduction-lucas-elias-baccan.ipynb#ch0000337?line=0'>1</a>\u001b[0m \u001b[39m\"\u001b[39;49m\u001b[39m1\u001b[39;49m\u001b[39m\"\u001b[39;49m \u001b[39m+\u001b[39;49m \u001b[39m2\u001b[39;49m\n",
            "\u001b[1;31mTypeError\u001b[0m: can only concatenate str (not \"int\") to str"
          ]
        }
      ],
      "source": [
        "\"1\" + 2 #TypeError"
      ]
    },
    {
      "cell_type": "markdown",
      "metadata": {
        "id": "nvOY8z4cyr41"
      },
      "source": [
        "**> O tipo do valor é errado**"
      ]
    },
    {
      "cell_type": "code",
      "execution_count": 167,
      "metadata": {
        "id": "ZpqWKFN5Z4Qm"
      },
      "outputs": [
        {
          "ename": "NameError",
          "evalue": "name 'does_not_exist' is not defined",
          "output_type": "error",
          "traceback": [
            "\u001b[1;31m---------------------------------------------------------------------------\u001b[0m",
            "\u001b[1;31mNameError\u001b[0m                                 Traceback (most recent call last)",
            "\u001b[1;32mc:\\Users\\LucasBaccan\\git\\lucas-elias-baccan\\07-Python-Everton\\Aula-02\\atividades\\PythonIntroduction-lucas-elias-baccan.ipynb Cell 340'\u001b[0m in \u001b[0;36m<cell line: 1>\u001b[1;34m()\u001b[0m\n\u001b[1;32m----> <a href='vscode-notebook-cell:/c%3A/Users/LucasBaccan/git/lucas-elias-baccan/07-Python-Everton/Aula-02/atividades/PythonIntroduction-lucas-elias-baccan.ipynb#ch0000339?line=0'>1</a>\u001b[0m \u001b[39mprint\u001b[39m(does_not_exist)\n",
            "\u001b[1;31mNameError\u001b[0m: name 'does_not_exist' is not defined"
          ]
        }
      ],
      "source": [
        "print(does_not_exist) #NameError"
      ]
    },
    {
      "cell_type": "markdown",
      "metadata": {
        "id": "FUfQpeD-ywk3"
      },
      "source": [
        "**> Valor não existe**"
      ]
    },
    {
      "cell_type": "code",
      "execution_count": 168,
      "metadata": {
        "id": "HoGa0cgVZ7cO"
      },
      "outputs": [
        {
          "ename": "ZeroDivisionError",
          "evalue": "division by zero",
          "output_type": "error",
          "traceback": [
            "\u001b[1;31m---------------------------------------------------------------------------\u001b[0m",
            "\u001b[1;31mZeroDivisionError\u001b[0m                         Traceback (most recent call last)",
            "\u001b[1;32mc:\\Users\\LucasBaccan\\git\\lucas-elias-baccan\\07-Python-Everton\\Aula-02\\atividades\\PythonIntroduction-lucas-elias-baccan.ipynb Cell 342'\u001b[0m in \u001b[0;36m<cell line: 1>\u001b[1;34m()\u001b[0m\n\u001b[1;32m----> <a href='vscode-notebook-cell:/c%3A/Users/LucasBaccan/git/lucas-elias-baccan/07-Python-Everton/Aula-02/atividades/PythonIntroduction-lucas-elias-baccan.ipynb#ch0000341?line=0'>1</a>\u001b[0m \u001b[39m1\u001b[39;49m \u001b[39m/\u001b[39;49m \u001b[39m0\u001b[39;49m\n",
            "\u001b[1;31mZeroDivisionError\u001b[0m: division by zero"
          ]
        }
      ],
      "source": [
        "1 / 0 #ZeroDivisionError"
      ]
    },
    {
      "cell_type": "markdown",
      "metadata": {
        "id": "8rW9i20Yyy5F"
      },
      "source": [
        "**> Divisão por zero**"
      ]
    },
    {
      "cell_type": "code",
      "execution_count": 169,
      "metadata": {
        "id": "z_Uus_xOZ_ZP"
      },
      "outputs": [
        {
          "ename": "OverflowError",
          "evalue": "(34, 'Result too large')",
          "output_type": "error",
          "traceback": [
            "\u001b[1;31m---------------------------------------------------------------------------\u001b[0m",
            "\u001b[1;31mOverflowError\u001b[0m                             Traceback (most recent call last)",
            "\u001b[1;32mc:\\Users\\LucasBaccan\\git\\lucas-elias-baccan\\07-Python-Everton\\Aula-02\\atividades\\PythonIntroduction-lucas-elias-baccan.ipynb Cell 344'\u001b[0m in \u001b[0;36m<cell line: 1>\u001b[1;34m()\u001b[0m\n\u001b[1;32m----> <a href='vscode-notebook-cell:/c%3A/Users/LucasBaccan/git/lucas-elias-baccan/07-Python-Everton/Aula-02/atividades/PythonIntroduction-lucas-elias-baccan.ipynb#ch0000343?line=0'>1</a>\u001b[0m \u001b[39mpow\u001b[39;49m(\u001b[39m2.0\u001b[39;49m, \u001b[39m1_000_000\u001b[39;49m)\n",
            "\u001b[1;31mOverflowError\u001b[0m: (34, 'Result too large')"
          ]
        }
      ],
      "source": [
        "pow(2.0, 1_000_000) #OverflowError"
      ]
    },
    {
      "cell_type": "markdown",
      "metadata": {
        "id": "q-8UmrQ4y1nl"
      },
      "source": [
        "**> Erro de limite de recurso**"
      ]
    },
    {
      "cell_type": "markdown",
      "metadata": {
        "id": "CetNyihnaEGK"
      },
      "source": [
        "### The try and except Keywords"
      ]
    },
    {
      "cell_type": "code",
      "execution_count": 170,
      "metadata": {
        "id": "csKoWD8_aYyu"
      },
      "outputs": [],
      "source": [
        "try:\n",
        "  number = int(input(\"Enter an integer: \"))\n",
        "except ValueError:\n",
        "  print(\"That was not an integer\")"
      ]
    },
    {
      "cell_type": "markdown",
      "metadata": {
        "id": "wtQySowJy4-_"
      },
      "source": [
        "**> Utilizar um try para tratar o erro**"
      ]
    },
    {
      "cell_type": "code",
      "execution_count": 171,
      "metadata": {
        "id": "9lHWu8wDaxKT"
      },
      "outputs": [],
      "source": [
        "def divide(num1, num2):\n",
        "  try:\n",
        "    print(num1 / num2)\n",
        "  except (TypeError, ZeroDivisionError):\n",
        "    print(\"encountered a problem\")"
      ]
    },
    {
      "cell_type": "markdown",
      "metadata": {
        "id": "DzRWSZtYzEh6"
      },
      "source": [
        "**> Utilizar um try para tratar o erro, mas não da pra saber quais dos erros foi**"
      ]
    },
    {
      "cell_type": "code",
      "execution_count": 172,
      "metadata": {
        "id": "-MhlPWpHaz1N"
      },
      "outputs": [],
      "source": [
        "def divide(num1, num2):\n",
        "  try:\n",
        "    print(num1 / num2)\n",
        "  except TypeError:\n",
        "    print(\"Both arguments must be numbers\")\n",
        "  except ZeroDivisionError:\n",
        "    print(\"num2 must not be 0\")"
      ]
    },
    {
      "cell_type": "markdown",
      "metadata": {
        "id": "QMeKo_DyzFSY"
      },
      "source": [
        "**> Utilizar um try para tratar o erro, e o catch para fluxos diferentes**"
      ]
    },
    {
      "cell_type": "code",
      "execution_count": 173,
      "metadata": {
        "id": "2Yu6LYe1bCLT"
      },
      "outputs": [
        {
          "name": "stdout",
          "output_type": "stream",
          "text": [
            "A\n"
          ]
        }
      ],
      "source": [
        "try:\n",
        "  # Do lots of hazardous things that might break\n",
        "  print('A')\n",
        "except:\n",
        "  print(\"Something bad happened!\")"
      ]
    },
    {
      "cell_type": "markdown",
      "metadata": {
        "id": "poTRjfLJzJGD"
      },
      "source": [
        "**> Utilizar um try para tratar o erro, ou trata de forma generia o erro**"
      ]
    },
    {
      "cell_type": "markdown",
      "metadata": {
        "id": "ofBJ4fBscEUt"
      },
      "source": [
        "## Tuples, Lists, and Dictionaries"
      ]
    },
    {
      "cell_type": "markdown",
      "metadata": {
        "id": "UYDYwCGO4kk2"
      },
      "source": [
        "**> Algoritimo + estrutura = software**"
      ]
    },
    {
      "cell_type": "markdown",
      "metadata": {
        "id": "AwwiP0jqcRCg"
      },
      "source": [
        "### What is a Tuple?"
      ]
    },
    {
      "cell_type": "code",
      "execution_count": 174,
      "metadata": {
        "id": "XNzmqzBocKs_"
      },
      "outputs": [],
      "source": [
        "my_first_tuple = (1, 2, 3)"
      ]
    },
    {
      "cell_type": "markdown",
      "metadata": {
        "id": "pnpNQ7Wp5rAv"
      },
      "source": [
        "**> Uma forma de declarar a tupla**"
      ]
    },
    {
      "cell_type": "code",
      "execution_count": 175,
      "metadata": {
        "colab": {
          "base_uri": "https://localhost:8080/"
        },
        "id": "tV8A8jDCccDS",
        "outputId": "2aaaee49-e0e0-4739-efac-b148dda617c3"
      },
      "outputs": [
        {
          "data": {
            "text/plain": [
              "tuple"
            ]
          },
          "execution_count": 175,
          "metadata": {},
          "output_type": "execute_result"
        }
      ],
      "source": [
        "type(my_first_tuple)"
      ]
    },
    {
      "cell_type": "code",
      "execution_count": 176,
      "metadata": {
        "id": "ROqYNRmFcdri"
      },
      "outputs": [],
      "source": [
        "empty_tuple = ()"
      ]
    },
    {
      "cell_type": "markdown",
      "metadata": {
        "id": "TJI7ZwbC571C"
      },
      "source": [
        "**> Podemos declarar uma tupla vazia**"
      ]
    },
    {
      "cell_type": "code",
      "execution_count": 177,
      "metadata": {
        "id": "Uh4AqR6kcfyX"
      },
      "outputs": [],
      "source": [
        "x = (1)"
      ]
    },
    {
      "cell_type": "markdown",
      "metadata": {
        "id": "AYUt-vmP5-jd"
      },
      "source": [
        "**> ... mas não podemos declarar uma tupla de uma posição, ele interpreta como precedente de operador**"
      ]
    },
    {
      "cell_type": "code",
      "execution_count": 178,
      "metadata": {
        "id": "32J7N6qLcgtL"
      },
      "outputs": [
        {
          "data": {
            "text/plain": [
              "int"
            ]
          },
          "execution_count": 178,
          "metadata": {},
          "output_type": "execute_result"
        }
      ],
      "source": [
        "type(x)"
      ]
    },
    {
      "cell_type": "code",
      "execution_count": 179,
      "metadata": {
        "id": "r1rekAPpcqkg"
      },
      "outputs": [],
      "source": [
        "x = (1,)"
      ]
    },
    {
      "cell_type": "markdown",
      "metadata": {
        "id": "KesMR0b96I4y"
      },
      "source": [
        "**> ... mas podemos adicionar vazio para a tupla**"
      ]
    },
    {
      "cell_type": "code",
      "execution_count": 180,
      "metadata": {
        "colab": {
          "base_uri": "https://localhost:8080/"
        },
        "id": "w-IbdTM1crvB",
        "outputId": "f74f0de4-03ac-4f6c-cee2-27712c32bc71"
      },
      "outputs": [
        {
          "data": {
            "text/plain": [
              "tuple"
            ]
          },
          "execution_count": 180,
          "metadata": {},
          "output_type": "execute_result"
        }
      ],
      "source": [
        "type(x)"
      ]
    },
    {
      "cell_type": "code",
      "execution_count": 181,
      "metadata": {
        "colab": {
          "base_uri": "https://localhost:8080/"
        },
        "id": "7_tIhd30cte7",
        "outputId": "bd6800e2-2f19-41e2-8228-3d4404aef90d"
      },
      "outputs": [
        {
          "data": {
            "text/plain": [
              "('P', 'y', 't', 'h', 'o', 'n')"
            ]
          },
          "execution_count": 181,
          "metadata": {},
          "output_type": "execute_result"
        }
      ],
      "source": [
        "tuple(\"Python\")"
      ]
    },
    {
      "cell_type": "markdown",
      "metadata": {
        "id": "N0MSH1876Nvg"
      },
      "source": [
        "**> ... e textos ele separa cara listra numa tupla**"
      ]
    },
    {
      "cell_type": "markdown",
      "metadata": {
        "id": "iJfywULhc1NK"
      },
      "source": [
        "### Similarities Between Tuples and Strings"
      ]
    },
    {
      "cell_type": "code",
      "execution_count": 182,
      "metadata": {
        "id": "TjlqzS5qcvgh"
      },
      "outputs": [],
      "source": [
        "numbers = (1, 2, 3)"
      ]
    },
    {
      "cell_type": "code",
      "execution_count": 183,
      "metadata": {
        "id": "9DaKmpOMc5fF"
      },
      "outputs": [
        {
          "data": {
            "text/plain": [
              "3"
            ]
          },
          "execution_count": 183,
          "metadata": {},
          "output_type": "execute_result"
        }
      ],
      "source": [
        "len(numbers)"
      ]
    },
    {
      "cell_type": "markdown",
      "metadata": {
        "id": "87Ueffwu6igk"
      },
      "source": [
        "**> Podemos pegar o tamanho de uma tupla**"
      ]
    },
    {
      "cell_type": "code",
      "execution_count": 184,
      "metadata": {
        "id": "roQVbCdtc7eW"
      },
      "outputs": [
        {
          "data": {
            "text/plain": [
              "'a'"
            ]
          },
          "execution_count": 184,
          "metadata": {},
          "output_type": "execute_result"
        }
      ],
      "source": [
        "name = \"David\"\n",
        "name[1]"
      ]
    },
    {
      "cell_type": "markdown",
      "metadata": {
        "id": "7gCanA3Q6lKC"
      },
      "source": [
        "**> Pegar uma posição**"
      ]
    },
    {
      "cell_type": "code",
      "execution_count": 185,
      "metadata": {
        "id": "hf_ofPFBc--A"
      },
      "outputs": [],
      "source": [
        "values = (1, 3, 5, 7, 9)"
      ]
    },
    {
      "cell_type": "code",
      "execution_count": 186,
      "metadata": {
        "id": "BbztDKS8dA83"
      },
      "outputs": [
        {
          "data": {
            "text/plain": [
              "5"
            ]
          },
          "execution_count": 186,
          "metadata": {},
          "output_type": "execute_result"
        }
      ],
      "source": [
        "values[2]"
      ]
    },
    {
      "cell_type": "code",
      "execution_count": 187,
      "metadata": {
        "colab": {
          "base_uri": "https://localhost:8080/",
          "height": 35
        },
        "id": "tG0PzIy3dC37",
        "outputId": "638f9d0d-7db1-4bad-b28b-01d0bfec87b9"
      },
      "outputs": [
        {
          "data": {
            "text/plain": [
              "'vi'"
            ]
          },
          "execution_count": 187,
          "metadata": {},
          "output_type": "execute_result"
        }
      ],
      "source": [
        "name = \"David\"\n",
        "name[2:4]"
      ]
    },
    {
      "cell_type": "markdown",
      "metadata": {
        "id": "kedgBz_w6q4s"
      },
      "source": [
        "**> pegar um range**"
      ]
    },
    {
      "cell_type": "code",
      "execution_count": 188,
      "metadata": {
        "id": "CtG0EYo5dF5a"
      },
      "outputs": [
        {
          "data": {
            "text/plain": [
              "(5, 7)"
            ]
          },
          "execution_count": 188,
          "metadata": {},
          "output_type": "execute_result"
        }
      ],
      "source": [
        "values = (1, 3, 5, 7, 9)\n",
        "values[2:4]"
      ]
    },
    {
      "cell_type": "code",
      "execution_count": 189,
      "metadata": {
        "id": "u0RJ2zDwdKqK"
      },
      "outputs": [
        {
          "name": "stdout",
          "output_type": "stream",
          "text": [
            "A\n",
            "E\n",
            "I\n",
            "O\n",
            "U\n"
          ]
        }
      ],
      "source": [
        "vowels = (\"a\", \"e\", \"i\", \"o\", \"u\")\n",
        "for vowel in vowels:\n",
        "  print(vowel.upper())"
      ]
    },
    {
      "cell_type": "markdown",
      "metadata": {
        "id": "zmALfoVP6t88"
      },
      "source": [
        "**> Interagir com cada elemento da tupla**"
      ]
    },
    {
      "cell_type": "code",
      "execution_count": 190,
      "metadata": {
        "id": "ulIbtxqjdOju"
      },
      "outputs": [
        {
          "data": {
            "text/plain": [
              "tuple"
            ]
          },
          "execution_count": 190,
          "metadata": {},
          "output_type": "execute_result"
        }
      ],
      "source": [
        "coordinates = 4.21, 9.29\n",
        "type(coordinates)"
      ]
    },
    {
      "cell_type": "markdown",
      "metadata": {
        "id": "XSrvufe46xiW"
      },
      "source": [
        "**> Uma outra forma de declarar uma tupla**"
      ]
    },
    {
      "cell_type": "code",
      "execution_count": 191,
      "metadata": {
        "id": "9F5Mo-24dTfg"
      },
      "outputs": [],
      "source": [
        "x, y = coordinates"
      ]
    },
    {
      "cell_type": "code",
      "execution_count": 192,
      "metadata": {
        "id": "7HLRXCGKdUp3"
      },
      "outputs": [
        {
          "data": {
            "text/plain": [
              "4.21"
            ]
          },
          "execution_count": 192,
          "metadata": {},
          "output_type": "execute_result"
        }
      ],
      "source": [
        "x"
      ]
    },
    {
      "cell_type": "code",
      "execution_count": 193,
      "metadata": {
        "id": "grmN_GXsdVb4"
      },
      "outputs": [
        {
          "data": {
            "text/plain": [
              "9.29"
            ]
          },
          "execution_count": 193,
          "metadata": {},
          "output_type": "execute_result"
        }
      ],
      "source": [
        "y"
      ]
    },
    {
      "cell_type": "code",
      "execution_count": 194,
      "metadata": {
        "id": "tG8ockY_dZdC"
      },
      "outputs": [],
      "source": [
        "name, age, occupation = \"David\", 34, \"programmer\""
      ]
    },
    {
      "cell_type": "markdown",
      "metadata": {
        "id": "GyFVhEf_8n0y"
      },
      "source": [
        "**> Isso aqui não é uma tupla**"
      ]
    },
    {
      "cell_type": "code",
      "execution_count": 195,
      "metadata": {
        "colab": {
          "base_uri": "https://localhost:8080/"
        },
        "id": "vokFT1BZdaji",
        "outputId": "77a64a2c-7e1c-4480-fc93-941b9384cb6f"
      },
      "outputs": [
        {
          "data": {
            "text/plain": [
              "'David'"
            ]
          },
          "execution_count": 195,
          "metadata": {},
          "output_type": "execute_result"
        }
      ],
      "source": [
        "name"
      ]
    },
    {
      "cell_type": "code",
      "execution_count": 196,
      "metadata": {
        "id": "n1kGVOKhdbpF"
      },
      "outputs": [
        {
          "data": {
            "text/plain": [
              "34"
            ]
          },
          "execution_count": 196,
          "metadata": {},
          "output_type": "execute_result"
        }
      ],
      "source": [
        "age"
      ]
    },
    {
      "cell_type": "code",
      "execution_count": 197,
      "metadata": {
        "id": "tBkoW8Hqdcv0"
      },
      "outputs": [
        {
          "data": {
            "text/plain": [
              "'programmer'"
            ]
          },
          "execution_count": 197,
          "metadata": {},
          "output_type": "execute_result"
        }
      ],
      "source": [
        "occupation"
      ]
    },
    {
      "cell_type": "code",
      "execution_count": 198,
      "metadata": {
        "id": "imEV8cladg9u"
      },
      "outputs": [],
      "source": [
        "vowels = (\"a\", \"e\", \"i\", \"o\", \"u\")"
      ]
    },
    {
      "cell_type": "code",
      "execution_count": 199,
      "metadata": {
        "id": "ci3ZiZ7Qdijf"
      },
      "outputs": [
        {
          "data": {
            "text/plain": [
              "True"
            ]
          },
          "execution_count": 199,
          "metadata": {},
          "output_type": "execute_result"
        }
      ],
      "source": [
        "\"o\" in vowels"
      ]
    },
    {
      "cell_type": "markdown",
      "metadata": {
        "id": "Ru4f7bhN-Kd_"
      },
      "source": [
        "**> Verifica se um elemento está dentro da tupla**"
      ]
    },
    {
      "cell_type": "code",
      "execution_count": 200,
      "metadata": {
        "id": "4FVr4P9Zdj94"
      },
      "outputs": [
        {
          "data": {
            "text/plain": [
              "False"
            ]
          },
          "execution_count": 200,
          "metadata": {},
          "output_type": "execute_result"
        }
      ],
      "source": [
        "\"x\" in vowels"
      ]
    },
    {
      "cell_type": "markdown",
      "metadata": {
        "id": "Kf5Qsg8m-PXT"
      },
      "source": [
        "**> ...item não está na tupla**"
      ]
    },
    {
      "cell_type": "code",
      "execution_count": 201,
      "metadata": {
        "id": "nx6vsQ2OdnDp"
      },
      "outputs": [],
      "source": [
        "def adder_subtractor(num1, num2):\n",
        "  return (num1 + num2, num1 - num2)"
      ]
    },
    {
      "cell_type": "code",
      "execution_count": 202,
      "metadata": {
        "colab": {
          "base_uri": "https://localhost:8080/"
        },
        "id": "l6f5Ajgcdql7",
        "outputId": "5039b26e-c9d3-4384-d4ea-f1b3da474ec7"
      },
      "outputs": [
        {
          "data": {
            "text/plain": [
              "(5, 1)"
            ]
          },
          "execution_count": 202,
          "metadata": {},
          "output_type": "execute_result"
        }
      ],
      "source": [
        "adder_subtractor(3, 2)"
      ]
    },
    {
      "cell_type": "markdown",
      "metadata": {
        "id": "I7aPA1BJ-ZsD"
      },
      "source": [
        "**> Podemos ter uma função que retorne dois valores, pois o retorno é uma tupla**"
      ]
    },
    {
      "cell_type": "markdown",
      "metadata": {
        "id": "9ww2A1fQdwPz"
      },
      "source": [
        "### Lists Are Mutable Sequences"
      ]
    },
    {
      "cell_type": "markdown",
      "metadata": {
        "id": "rmASPMbT-6Md"
      },
      "source": [
        "**> tuple = vector = lista de coisas**\n",
        "**> lists = arrays = lista de vetores**"
      ]
    },
    {
      "cell_type": "code",
      "execution_count": 203,
      "metadata": {
        "id": "TVaYJnUddxV4"
      },
      "outputs": [
        {
          "data": {
            "text/plain": [
              "list"
            ]
          },
          "execution_count": 203,
          "metadata": {},
          "output_type": "execute_result"
        }
      ],
      "source": [
        "colors = [\"red\", \"yellow\", \"green\", \"blue\"]\n",
        "type(colors)"
      ]
    },
    {
      "cell_type": "markdown",
      "metadata": {
        "id": "MfSMiby7AuXu"
      },
      "source": [
        "**> Isso aqui é uma lista**"
      ]
    },
    {
      "cell_type": "code",
      "execution_count": 204,
      "metadata": {
        "id": "gAXT1uHVilBb"
      },
      "outputs": [
        {
          "data": {
            "text/plain": [
              "[1, 2, 3]"
            ]
          },
          "execution_count": 204,
          "metadata": {},
          "output_type": "execute_result"
        }
      ],
      "source": [
        "list((1, 2, 3))"
      ]
    },
    {
      "cell_type": "markdown",
      "metadata": {
        "id": "DB_53T_QA1hd"
      },
      "source": [
        "**> Isso aqui não existe, é errado**"
      ]
    },
    {
      "cell_type": "code",
      "execution_count": 205,
      "metadata": {
        "id": "oM7ga-Reim1q"
      },
      "outputs": [
        {
          "data": {
            "text/plain": [
              "['P', 'y', 't', 'h', 'o', 'n']"
            ]
          },
          "execution_count": 205,
          "metadata": {},
          "output_type": "execute_result"
        }
      ],
      "source": [
        "list(\"Python\")"
      ]
    },
    {
      "cell_type": "markdown",
      "metadata": {
        "id": "AhafRYn6A5Sq"
      },
      "source": [
        "**> Cada elemento da nossa string vai ser um item da lista**"
      ]
    },
    {
      "cell_type": "code",
      "execution_count": 206,
      "metadata": {
        "id": "oxkEXcpNipjF"
      },
      "outputs": [],
      "source": [
        "groceries = \"eggs, milk, cheese\""
      ]
    },
    {
      "cell_type": "markdown",
      "metadata": {
        "id": "hB3wWVqgA_CZ"
      },
      "source": [
        "**> Uma outra forma de definir uma lista**"
      ]
    },
    {
      "cell_type": "code",
      "execution_count": 207,
      "metadata": {
        "id": "9DlT_deoirO8"
      },
      "outputs": [],
      "source": [
        "grocery_list = groceries.split(\", \")"
      ]
    },
    {
      "cell_type": "code",
      "execution_count": 208,
      "metadata": {
        "id": "ZmCAwcD7itgd"
      },
      "outputs": [
        {
          "data": {
            "text/plain": [
              "['eggs', 'milk', 'cheese']"
            ]
          },
          "execution_count": 208,
          "metadata": {},
          "output_type": "execute_result"
        }
      ],
      "source": [
        "grocery_list"
      ]
    },
    {
      "cell_type": "code",
      "execution_count": 209,
      "metadata": {
        "id": "jT1ThOaEiyR0"
      },
      "outputs": [
        {
          "data": {
            "text/plain": [
              "['a', 'b', 'c']"
            ]
          },
          "execution_count": 209,
          "metadata": {},
          "output_type": "execute_result"
        }
      ],
      "source": [
        "# Split string on semi-colons\n",
        "\"a;b;c\".split(\";\")"
      ]
    },
    {
      "cell_type": "markdown",
      "metadata": {
        "id": "3JE0CeCfBEzc"
      },
      "source": [
        "**> Alguns metodos retornam listas**"
      ]
    },
    {
      "cell_type": "code",
      "execution_count": 210,
      "metadata": {
        "id": "v0Vj6W9Ti2Eq"
      },
      "outputs": [
        {
          "data": {
            "text/plain": [
              "['The', 'quick', 'brown', 'fox']"
            ]
          },
          "execution_count": 210,
          "metadata": {},
          "output_type": "execute_result"
        }
      ],
      "source": [
        "\"The quick brown fox\".split(\" \")"
      ]
    },
    {
      "cell_type": "code",
      "execution_count": 211,
      "metadata": {
        "id": "NcQlboZNi-Od"
      },
      "outputs": [
        {
          "data": {
            "text/plain": [
              "2"
            ]
          },
          "execution_count": 211,
          "metadata": {},
          "output_type": "execute_result"
        }
      ],
      "source": [
        "numbers = [1, 2, 3, 4]\n",
        "numbers[1]"
      ]
    },
    {
      "cell_type": "code",
      "execution_count": 212,
      "metadata": {
        "id": "_Lu5gBv6jCRN"
      },
      "outputs": [
        {
          "data": {
            "text/plain": [
              "[2, 3]"
            ]
          },
          "execution_count": 212,
          "metadata": {},
          "output_type": "execute_result"
        }
      ],
      "source": [
        "numbers[1:3]"
      ]
    },
    {
      "cell_type": "code",
      "execution_count": 213,
      "metadata": {
        "id": "x6lElpnWjFnY"
      },
      "outputs": [
        {
          "name": "stdout",
          "output_type": "stream",
          "text": [
            "2\n",
            "4\n"
          ]
        }
      ],
      "source": [
        "for number in numbers:\n",
        "  if number % 2 == 0:\n",
        "    print(number)"
      ]
    },
    {
      "cell_type": "markdown",
      "metadata": {
        "id": "UPkGi2I9BJEq"
      },
      "source": [
        "**> Podemos interagir com os elementos da lista**"
      ]
    },
    {
      "cell_type": "code",
      "execution_count": 214,
      "metadata": {
        "id": "xCp6NRoljK1x"
      },
      "outputs": [
        {
          "data": {
            "text/plain": [
              "['burgundy', 'yellow', 'green', 'blue']"
            ]
          },
          "execution_count": 214,
          "metadata": {},
          "output_type": "execute_result"
        }
      ],
      "source": [
        "colors = [\"red\", \"yellow\", \"green\", \"blue\"]\n",
        "colors[0] = \"burgundy\"\n",
        "colors"
      ]
    },
    {
      "cell_type": "markdown",
      "metadata": {
        "id": "8kZEcdQSBMuS"
      },
      "source": [
        "**> Podemos trocar os itens da lista**"
      ]
    },
    {
      "cell_type": "code",
      "execution_count": 215,
      "metadata": {
        "id": "nHtBr-bYjRt9"
      },
      "outputs": [
        {
          "data": {
            "text/plain": [
              "['burgundy', 'orange', 'magenta', 'blue']"
            ]
          },
          "execution_count": 215,
          "metadata": {},
          "output_type": "execute_result"
        }
      ],
      "source": [
        "colors[1:3] = [\"orange\", \"magenta\"]\n",
        "colors"
      ]
    },
    {
      "cell_type": "markdown",
      "metadata": {
        "id": "qffKv7_FBQEN"
      },
      "source": [
        "**> Manipular os elementos da lista**"
      ]
    },
    {
      "cell_type": "code",
      "execution_count": 216,
      "metadata": {
        "id": "bHkr9BnJjXPW"
      },
      "outputs": [
        {
          "data": {
            "text/plain": [
              "['red', 'orange', 'magenta', 'aqua', 'blue']"
            ]
          },
          "execution_count": 216,
          "metadata": {},
          "output_type": "execute_result"
        }
      ],
      "source": [
        "colors = [\"red\", \"yellow\", \"green\", \"blue\"]\n",
        "colors[1:3] = [\"orange\", \"magenta\", \"aqua\"]\n",
        "colors"
      ]
    },
    {
      "cell_type": "markdown",
      "metadata": {
        "id": "r-v802TLBSdT"
      },
      "source": [
        "**> Trocar itens da lista**"
      ]
    },
    {
      "cell_type": "code",
      "execution_count": 217,
      "metadata": {
        "id": "Gfzas1uXjd50"
      },
      "outputs": [
        {
          "data": {
            "text/plain": [
              "['red', 'orange', 'yellow', 'green', 'blue']"
            ]
          },
          "execution_count": 217,
          "metadata": {},
          "output_type": "execute_result"
        }
      ],
      "source": [
        "colors = [\"red\", \"yellow\", \"green\", \"blue\"]\n",
        "colors.insert(1, \"orange\")\n",
        "colors"
      ]
    },
    {
      "cell_type": "markdown",
      "metadata": {
        "id": "tr0PEFBEBUeB"
      },
      "source": [
        "**> Inserir em uma posição espesifica**"
      ]
    },
    {
      "cell_type": "code",
      "execution_count": 218,
      "metadata": {
        "id": "xCYOnvDRjlff"
      },
      "outputs": [
        {
          "data": {
            "text/plain": [
              "['red', 'orange', 'yellow', 'green', 'blue', 'violet']"
            ]
          },
          "execution_count": 218,
          "metadata": {},
          "output_type": "execute_result"
        }
      ],
      "source": [
        "colors.insert(10, \"violet\")\n",
        "colors"
      ]
    },
    {
      "cell_type": "markdown",
      "metadata": {
        "id": "bk4hWmU2BwDR"
      },
      "source": [
        "**> SE você mandar inserir, mas não tem a posição, vai inserir no final**"
      ]
    },
    {
      "cell_type": "code",
      "execution_count": 219,
      "metadata": {
        "id": "mUKVSNvwj8BY"
      },
      "outputs": [
        {
          "data": {
            "text/plain": [
              "['red', 'orange', 'yellow', 'green', 'blue', 'indigo', 'violet']"
            ]
          },
          "execution_count": 219,
          "metadata": {},
          "output_type": "execute_result"
        }
      ],
      "source": [
        "colors.insert(-1, \"indigo\")\n",
        "colors"
      ]
    },
    {
      "cell_type": "markdown",
      "metadata": {
        "id": "gHQ12_bGB3EL"
      },
      "source": [
        "**> Inserir de trás pra frente**"
      ]
    },
    {
      "cell_type": "code",
      "execution_count": 220,
      "metadata": {
        "id": "1YVCV6DckB_p"
      },
      "outputs": [
        {
          "data": {
            "text/plain": [
              "'green'"
            ]
          },
          "execution_count": 220,
          "metadata": {},
          "output_type": "execute_result"
        }
      ],
      "source": [
        "color = colors.pop(3)\n",
        "color"
      ]
    },
    {
      "cell_type": "markdown",
      "metadata": {
        "id": "cGGxWGOpB8er"
      },
      "source": [
        "**> Remover um item da lista**"
      ]
    },
    {
      "cell_type": "code",
      "execution_count": 221,
      "metadata": {
        "id": "Geh06nF9kSnO"
      },
      "outputs": [
        {
          "data": {
            "text/plain": [
              "['red', 'orange', 'yellow', 'blue', 'indigo', 'violet', 'indigo']"
            ]
          },
          "execution_count": 221,
          "metadata": {},
          "output_type": "execute_result"
        }
      ],
      "source": [
        "colors.append(\"indigo\")\n",
        "colors"
      ]
    },
    {
      "cell_type": "markdown",
      "metadata": {
        "id": "1gCENMNvC8WW"
      },
      "source": [
        "**> Adiciona no final da lista**"
      ]
    },
    {
      "cell_type": "code",
      "execution_count": 222,
      "metadata": {
        "id": "C43mcqPCkWUV"
      },
      "outputs": [],
      "source": [
        "colors.insert(len(colors), \"indigo\")"
      ]
    },
    {
      "cell_type": "markdown",
      "metadata": {
        "id": "f_AT9Q72DLOJ"
      },
      "source": [
        "**> Da pra usar o insert para falar a posição**"
      ]
    },
    {
      "cell_type": "code",
      "execution_count": 223,
      "metadata": {
        "id": "k_b2-SSykYUS"
      },
      "outputs": [
        {
          "data": {
            "text/plain": [
              "['red',\n",
              " 'orange',\n",
              " 'yellow',\n",
              " 'blue',\n",
              " 'indigo',\n",
              " 'violet',\n",
              " 'indigo',\n",
              " 'indigo',\n",
              " 'violet',\n",
              " 'ultraviolet']"
            ]
          },
          "execution_count": 223,
          "metadata": {},
          "output_type": "execute_result"
        }
      ],
      "source": [
        "colors.extend([\"violet\", \"ultraviolet\"])\n",
        "colors"
      ]
    },
    {
      "cell_type": "code",
      "execution_count": 224,
      "metadata": {
        "id": "PgMB3mSjkmcx"
      },
      "outputs": [],
      "source": [
        "colors.extend((\"violet\", \"ultraviolet\"))"
      ]
    },
    {
      "cell_type": "markdown",
      "metadata": {
        "id": "7mpRTnXsDcIl"
      },
      "source": [
        "**> Podemos juntar listas com o extend**"
      ]
    },
    {
      "cell_type": "code",
      "execution_count": 225,
      "metadata": {
        "id": "tXZIOrIGkpzG"
      },
      "outputs": [
        {
          "data": {
            "text/plain": [
              "15"
            ]
          },
          "execution_count": 225,
          "metadata": {},
          "output_type": "execute_result"
        }
      ],
      "source": [
        "nums = [1, 2, 3, 4, 5]\n",
        "total = 0\n",
        "for number in nums:\n",
        "  total = total + number\n",
        "total"
      ]
    },
    {
      "cell_type": "markdown",
      "metadata": {
        "id": "RazB_jm-DsuB"
      },
      "source": [
        "**> Forma de interagir com lista**"
      ]
    },
    {
      "cell_type": "code",
      "execution_count": 226,
      "metadata": {
        "id": "XJS6osVok2CL"
      },
      "outputs": [
        {
          "data": {
            "text/plain": [
              "15"
            ]
          },
          "execution_count": 226,
          "metadata": {},
          "output_type": "execute_result"
        }
      ],
      "source": [
        "sum([1, 2, 3, 4, 5])"
      ]
    },
    {
      "cell_type": "markdown",
      "metadata": {
        "id": "AErMJmKqDvKB"
      },
      "source": [
        "**> Passar lista par algumas funções**"
      ]
    },
    {
      "cell_type": "code",
      "execution_count": 227,
      "metadata": {
        "id": "OIiO1lnIk7XN"
      },
      "outputs": [
        {
          "data": {
            "text/plain": [
              "1"
            ]
          },
          "execution_count": 227,
          "metadata": {},
          "output_type": "execute_result"
        }
      ],
      "source": [
        "min([1, 2, 3, 4, 5 ])"
      ]
    },
    {
      "cell_type": "code",
      "execution_count": 228,
      "metadata": {
        "id": "kkM4ibd0k8yJ"
      },
      "outputs": [
        {
          "data": {
            "text/plain": [
              "5"
            ]
          },
          "execution_count": 228,
          "metadata": {},
          "output_type": "execute_result"
        }
      ],
      "source": [
        "max([1, 2, 3, 4, 5])"
      ]
    },
    {
      "cell_type": "code",
      "execution_count": 229,
      "metadata": {
        "id": "eCTtt2Kfk_l5"
      },
      "outputs": [
        {
          "data": {
            "text/plain": [
              "[1, 4, 9, 16, 25]"
            ]
          },
          "execution_count": 229,
          "metadata": {},
          "output_type": "execute_result"
        }
      ],
      "source": [
        "numbers = (1, 2, 3, 4, 5)\n",
        "squares = [num**2 for num in numbers]\n",
        "squares"
      ]
    },
    {
      "cell_type": "markdown",
      "metadata": {
        "id": "dBJlLrolD1Ff"
      },
      "source": [
        "**> Aqui usa uma tupla de extra, executa varias coisas e retorna uma lista**"
      ]
    },
    {
      "cell_type": "code",
      "execution_count": 230,
      "metadata": {
        "id": "Vz3-8kq4lIP3"
      },
      "outputs": [
        {
          "data": {
            "text/plain": [
              "[1, 4, 9, 16, 25]"
            ]
          },
          "execution_count": 230,
          "metadata": {},
          "output_type": "execute_result"
        }
      ],
      "source": [
        "squares = []\n",
        "for num in numbers:\n",
        "  squares.append(num**2)\n",
        "squares"
      ]
    },
    {
      "cell_type": "code",
      "execution_count": 231,
      "metadata": {
        "id": "CsfRSAu4lVLC"
      },
      "outputs": [
        {
          "data": {
            "text/plain": [
              "[1.5, 2.3, 5.25]"
            ]
          },
          "execution_count": 231,
          "metadata": {},
          "output_type": "execute_result"
        }
      ],
      "source": [
        "str_numbers = [\"1.5\", \"2.3\", \"5.25\"]\n",
        "float_numbers = [float(value) for value in str_numbers]\n",
        "float_numbers"
      ]
    },
    {
      "cell_type": "code",
      "execution_count": 232,
      "metadata": {
        "id": "7bjAD561lqYG"
      },
      "outputs": [],
      "source": [
        "two_by_two = [[1, 2], [3, 4]]"
      ]
    },
    {
      "cell_type": "markdown",
      "metadata": {
        "id": "PTIkHS28EG5V"
      },
      "source": [
        "**> Uma lista de listas**"
      ]
    },
    {
      "cell_type": "code",
      "execution_count": 233,
      "metadata": {
        "id": "Hw1e14zSlteN"
      },
      "outputs": [
        {
          "data": {
            "text/plain": [
              "2"
            ]
          },
          "execution_count": 233,
          "metadata": {},
          "output_type": "execute_result"
        }
      ],
      "source": [
        "len(two_by_two)"
      ]
    },
    {
      "cell_type": "code",
      "execution_count": 234,
      "metadata": {
        "id": "RAdB_pVZlwmn"
      },
      "outputs": [
        {
          "data": {
            "text/plain": [
              "[1, 2]"
            ]
          },
          "execution_count": 234,
          "metadata": {},
          "output_type": "execute_result"
        }
      ],
      "source": [
        "two_by_two[0]"
      ]
    },
    {
      "cell_type": "code",
      "execution_count": 235,
      "metadata": {
        "id": "QSXfCugDlya1"
      },
      "outputs": [
        {
          "data": {
            "text/plain": [
              "[3, 4]"
            ]
          },
          "execution_count": 235,
          "metadata": {},
          "output_type": "execute_result"
        }
      ],
      "source": [
        "two_by_two[1]"
      ]
    },
    {
      "cell_type": "code",
      "execution_count": 236,
      "metadata": {
        "id": "2rgfDwNEmZZS"
      },
      "outputs": [],
      "source": [
        "animals = [\"lion\", \"tiger\", \"frumious Bandersnatch\"]"
      ]
    },
    {
      "cell_type": "code",
      "execution_count": 237,
      "metadata": {
        "id": "X2i-v3D9mbWl"
      },
      "outputs": [],
      "source": [
        "large_cats = animals"
      ]
    },
    {
      "cell_type": "markdown",
      "metadata": {
        "id": "HOL24XOGE577"
      },
      "source": [
        "**> Isso aqui recebe a referencia da lista, não os valores da lista**"
      ]
    },
    {
      "cell_type": "code",
      "execution_count": 238,
      "metadata": {
        "id": "HMoAukAHmdIm"
      },
      "outputs": [],
      "source": [
        "large_cats.append(\"Tigger\")"
      ]
    },
    {
      "cell_type": "code",
      "execution_count": 239,
      "metadata": {
        "colab": {
          "base_uri": "https://localhost:8080/"
        },
        "id": "HCoj69Odmerr",
        "outputId": "4d70a110-6811-414e-be6e-de9ae5de5559"
      },
      "outputs": [
        {
          "data": {
            "text/plain": [
              "['lion', 'tiger', 'frumious Bandersnatch', 'Tigger']"
            ]
          },
          "execution_count": 239,
          "metadata": {},
          "output_type": "execute_result"
        }
      ],
      "source": [
        "animals"
      ]
    },
    {
      "cell_type": "code",
      "execution_count": 240,
      "metadata": {
        "id": "qPFLfYCmmjvn"
      },
      "outputs": [
        {
          "data": {
            "text/plain": [
              "['lion', 'tiger', 'frumious Bandersnatch', 'leopard']"
            ]
          },
          "execution_count": 240,
          "metadata": {},
          "output_type": "execute_result"
        }
      ],
      "source": [
        "animals = [\"lion\", \"tiger\", \"frumious Bandersnatch\"]\n",
        "large_cats = animals[:]\n",
        "large_cats.append(\"leopard\")\n",
        "large_cats"
      ]
    },
    {
      "cell_type": "code",
      "execution_count": 241,
      "metadata": {
        "id": "IVsVwNh-mrkX"
      },
      "outputs": [
        {
          "data": {
            "text/plain": [
              "['lion', 'tiger', 'frumious Bandersnatch']"
            ]
          },
          "execution_count": 241,
          "metadata": {},
          "output_type": "execute_result"
        }
      ],
      "source": [
        "animals"
      ]
    },
    {
      "cell_type": "code",
      "execution_count": 242,
      "metadata": {
        "id": "dsPxiSZ7mvHg"
      },
      "outputs": [],
      "source": [
        "matrix1 = [[1, 2], [3, 4]]"
      ]
    },
    {
      "cell_type": "code",
      "execution_count": 243,
      "metadata": {
        "id": "Srnq1FAmmw2D"
      },
      "outputs": [],
      "source": [
        "matrix2 = matrix1[:]"
      ]
    },
    {
      "cell_type": "markdown",
      "metadata": {
        "id": "As4MjSEjFkTU"
      },
      "source": [
        "**> Isso aqui copia os valores da lista**"
      ]
    },
    {
      "cell_type": "code",
      "execution_count": 244,
      "metadata": {
        "id": "DGuQz01rmy0Z"
      },
      "outputs": [],
      "source": [
        "matrix2[0] = [5, 6]"
      ]
    },
    {
      "cell_type": "code",
      "execution_count": 245,
      "metadata": {
        "colab": {
          "base_uri": "https://localhost:8080/"
        },
        "id": "IdStwCC7m0HO",
        "outputId": "222f1081-8993-4552-ea00-447e8d7bf7c3"
      },
      "outputs": [
        {
          "data": {
            "text/plain": [
              "[[5, 6], [3, 4]]"
            ]
          },
          "execution_count": 245,
          "metadata": {},
          "output_type": "execute_result"
        }
      ],
      "source": [
        "matrix2"
      ]
    },
    {
      "cell_type": "code",
      "execution_count": 246,
      "metadata": {
        "id": "T9fNq2vXm2nb"
      },
      "outputs": [],
      "source": [
        "matrix2[1][0] = 1"
      ]
    },
    {
      "cell_type": "code",
      "execution_count": 247,
      "metadata": {
        "id": "XfJxoba6m50U"
      },
      "outputs": [],
      "source": [
        "colors = [\"red\", \"yellow\", \"green\", \"blue\"]"
      ]
    },
    {
      "cell_type": "code",
      "execution_count": 248,
      "metadata": {
        "id": "U2HE4DQ3m57O"
      },
      "outputs": [],
      "source": [
        "colors.sort()"
      ]
    },
    {
      "cell_type": "code",
      "execution_count": 249,
      "metadata": {
        "id": "80iMNLmMm8uM"
      },
      "outputs": [
        {
          "data": {
            "text/plain": [
              "['blue', 'green', 'red', 'yellow']"
            ]
          },
          "execution_count": 249,
          "metadata": {},
          "output_type": "execute_result"
        }
      ],
      "source": [
        "colors"
      ]
    },
    {
      "cell_type": "code",
      "execution_count": 250,
      "metadata": {
        "id": "ctwJuvcDm_Wa"
      },
      "outputs": [
        {
          "data": {
            "text/plain": [
              "[1, 3, 5, 10]"
            ]
          },
          "execution_count": 250,
          "metadata": {},
          "output_type": "execute_result"
        }
      ],
      "source": [
        "numbers = [1, 10, 5, 3]\n",
        "numbers.sort()\n",
        "numbers"
      ]
    },
    {
      "cell_type": "markdown",
      "metadata": {
        "id": "a5BbZTb3FzkZ"
      },
      "source": [
        "**> Ordena os itens**"
      ]
    },
    {
      "cell_type": "code",
      "execution_count": 251,
      "metadata": {
        "id": "8jz-mB-LnDfr"
      },
      "outputs": [
        {
          "data": {
            "text/plain": [
              "['red', 'blue', 'green', 'yellow']"
            ]
          },
          "execution_count": 251,
          "metadata": {},
          "output_type": "execute_result"
        }
      ],
      "source": [
        "colors = [\"red\", \"yellow\", \"green\", \"blue\"]\n",
        "colors.sort(key=len)\n",
        "colors"
      ]
    },
    {
      "cell_type": "markdown",
      "metadata": {
        "id": "jHAKmVGfF3QR"
      },
      "source": [
        "**> Ordena pelo tamanho**"
      ]
    },
    {
      "cell_type": "code",
      "execution_count": 252,
      "metadata": {
        "id": "_dkTRjKpnlWZ"
      },
      "outputs": [],
      "source": [
        "def get_second_element(item):\n",
        "  return item[1]"
      ]
    },
    {
      "cell_type": "code",
      "execution_count": 253,
      "metadata": {
        "id": "EQsNdiWtnn-q"
      },
      "outputs": [],
      "source": [
        "items = [(4, 1), (1, 2), (-9, 0)]"
      ]
    },
    {
      "cell_type": "code",
      "execution_count": 254,
      "metadata": {
        "id": "R28kinPPnqBy"
      },
      "outputs": [],
      "source": [
        "items.sort(key=get_second_element)"
      ]
    },
    {
      "cell_type": "markdown",
      "metadata": {
        "id": "tPLPPZg0GBKQ"
      },
      "source": [
        "**> Podemos passar funções customizadas para ordenar**"
      ]
    },
    {
      "cell_type": "code",
      "execution_count": 255,
      "metadata": {
        "id": "LJHzc1mWnrI6"
      },
      "outputs": [
        {
          "data": {
            "text/plain": [
              "[(-9, 0), (4, 1), (1, 2)]"
            ]
          },
          "execution_count": 255,
          "metadata": {},
          "output_type": "execute_result"
        }
      ],
      "source": [
        "items"
      ]
    },
    {
      "cell_type": "markdown",
      "metadata": {
        "id": "S8jvAADUoN22"
      },
      "source": [
        "### What is a Dictionary"
      ]
    },
    {
      "cell_type": "markdown",
      "metadata": {
        "id": "87dqtRU_gcJi"
      },
      "source": [
        "tupla()\n",
        "\n",
        "lista[]\n",
        "\n",
        "dict{}"
      ]
    },
    {
      "cell_type": "code",
      "execution_count": 256,
      "metadata": {
        "id": "jE-NztheoREr"
      },
      "outputs": [],
      "source": [
        "capitals = {\n",
        "\"California\": \"Sacramento\",\n",
        "\"New York\": \"Albany\",\n",
        "\"Texas\": \"Austin\",\n",
        "}"
      ]
    },
    {
      "cell_type": "code",
      "execution_count": 257,
      "metadata": {
        "colab": {
          "base_uri": "https://localhost:8080/"
        },
        "id": "-pBucyTKoXD-",
        "outputId": "1f5db60a-4f8b-495c-ec1c-c1cfae8db103"
      },
      "outputs": [
        {
          "data": {
            "text/plain": [
              "tuple"
            ]
          },
          "execution_count": 257,
          "metadata": {},
          "output_type": "execute_result"
        }
      ],
      "source": [
        "key_value_pairs = (\n",
        "(\"California\", \"Sacramento\"),\n",
        "(\"New York\", \"Albany\"),\n",
        "(\"Texas\", \"Austin\"),\n",
        ")\n",
        "capitals = dict(key_value_pairs)\n",
        "type(key_value_pairs)\n"
      ]
    },
    {
      "cell_type": "markdown",
      "metadata": {
        "id": "qYkDqtoVh2Ax"
      },
      "source": [
        "**> O campo key_value_pairs é uma tupla, que esta sendo colocada em um dicionario**"
      ]
    },
    {
      "cell_type": "code",
      "execution_count": 258,
      "metadata": {
        "colab": {
          "base_uri": "https://localhost:8080/"
        },
        "id": "G9agxEcPobKP",
        "outputId": "82329abb-291d-4c79-bd29-67c7b1591056"
      },
      "outputs": [
        {
          "data": {
            "text/plain": [
              "{'California': 'Sacramento', 'New York': 'Albany', 'Texas': 'Austin'}"
            ]
          },
          "execution_count": 258,
          "metadata": {},
          "output_type": "execute_result"
        }
      ],
      "source": [
        "capitals"
      ]
    },
    {
      "cell_type": "markdown",
      "metadata": {
        "id": "8VmfC9CniCom"
      },
      "source": [
        "**> Quando se coloca no dicionario, ele pega os itens com chave e valor**"
      ]
    },
    {
      "cell_type": "code",
      "execution_count": 259,
      "metadata": {
        "id": "1WcktnRmohGa"
      },
      "outputs": [
        {
          "data": {
            "text/plain": [
              "{}"
            ]
          },
          "execution_count": 259,
          "metadata": {},
          "output_type": "execute_result"
        }
      ],
      "source": [
        "{}"
      ]
    },
    {
      "cell_type": "code",
      "execution_count": 260,
      "metadata": {
        "id": "YNiKtWJnoi3p"
      },
      "outputs": [
        {
          "data": {
            "text/plain": [
              "{}"
            ]
          },
          "execution_count": 260,
          "metadata": {},
          "output_type": "execute_result"
        }
      ],
      "source": [
        "dict()"
      ]
    },
    {
      "cell_type": "code",
      "execution_count": 261,
      "metadata": {
        "id": "t5U1SdRmolKh"
      },
      "outputs": [
        {
          "data": {
            "text/plain": [
              "'Austin'"
            ]
          },
          "execution_count": 261,
          "metadata": {},
          "output_type": "execute_result"
        }
      ],
      "source": [
        "capitals[\"Texas\"]"
      ]
    },
    {
      "cell_type": "code",
      "execution_count": 262,
      "metadata": {
        "id": "ArePIUPnonFE"
      },
      "outputs": [],
      "source": [
        "capitals_list = [\"Sacramento\", \"Albany\", \"Austin\"]"
      ]
    },
    {
      "cell_type": "code",
      "execution_count": 263,
      "metadata": {
        "id": "2rKI0l2wop21"
      },
      "outputs": [
        {
          "data": {
            "text/plain": [
              "'Sacramento'"
            ]
          },
          "execution_count": 263,
          "metadata": {},
          "output_type": "execute_result"
        }
      ],
      "source": [
        "capitals_list[0] # Capital of California"
      ]
    },
    {
      "cell_type": "code",
      "execution_count": 264,
      "metadata": {
        "id": "cyMHG5hXosn3"
      },
      "outputs": [],
      "source": [
        "capitals[\"Colorado\"] = \"Denver\""
      ]
    },
    {
      "cell_type": "markdown",
      "metadata": {
        "id": "cAVlthlcicfc"
      },
      "source": [
        "**> Quando colocamos um cara que não existe, ele coloca em ordem alfabetica**"
      ]
    },
    {
      "cell_type": "code",
      "execution_count": 265,
      "metadata": {
        "id": "hcO-6EQeot4S"
      },
      "outputs": [
        {
          "data": {
            "text/plain": [
              "{'California': 'Sacramento',\n",
              " 'New York': 'Albany',\n",
              " 'Texas': 'Austin',\n",
              " 'Colorado': 'Denver'}"
            ]
          },
          "execution_count": 265,
          "metadata": {},
          "output_type": "execute_result"
        }
      ],
      "source": [
        "capitals"
      ]
    },
    {
      "cell_type": "code",
      "execution_count": 266,
      "metadata": {
        "id": "li1zOUHLoxm2"
      },
      "outputs": [],
      "source": [
        "capitals[\"Texas\"] = \"Houston\""
      ]
    },
    {
      "cell_type": "markdown",
      "metadata": {
        "id": "hPFJmi2xiibx"
      },
      "source": [
        "**> Se a chave já tiver, ele atualiza, caso contrario, ele insere**"
      ]
    },
    {
      "cell_type": "code",
      "execution_count": 267,
      "metadata": {
        "id": "WcUTFd7IozAo"
      },
      "outputs": [
        {
          "data": {
            "text/plain": [
              "{'California': 'Sacramento',\n",
              " 'New York': 'Albany',\n",
              " 'Texas': 'Houston',\n",
              " 'Colorado': 'Denver'}"
            ]
          },
          "execution_count": 267,
          "metadata": {},
          "output_type": "execute_result"
        }
      ],
      "source": [
        "capitals"
      ]
    },
    {
      "cell_type": "code",
      "execution_count": 268,
      "metadata": {
        "id": "PcpSu44No1-3"
      },
      "outputs": [],
      "source": [
        "del capitals[\"Texas\"]"
      ]
    },
    {
      "cell_type": "code",
      "execution_count": 269,
      "metadata": {
        "id": "HdBmmM5Wo5V-"
      },
      "outputs": [
        {
          "ename": "KeyError",
          "evalue": "'Arizona'",
          "output_type": "error",
          "traceback": [
            "\u001b[1;31m---------------------------------------------------------------------------\u001b[0m",
            "\u001b[1;31mKeyError\u001b[0m                                  Traceback (most recent call last)",
            "\u001b[1;32mc:\\Users\\LucasBaccan\\git\\lucas-elias-baccan\\07-Python-Everton\\Aula-02\\atividades\\PythonIntroduction-lucas-elias-baccan.ipynb Cell 501'\u001b[0m in \u001b[0;36m<cell line: 1>\u001b[1;34m()\u001b[0m\n\u001b[1;32m----> <a href='vscode-notebook-cell:/c%3A/Users/LucasBaccan/git/lucas-elias-baccan/07-Python-Everton/Aula-02/atividades/PythonIntroduction-lucas-elias-baccan.ipynb#ch0000500?line=0'>1</a>\u001b[0m capitals[\u001b[39m\"\u001b[39;49m\u001b[39mArizona\u001b[39;49m\u001b[39m\"\u001b[39;49m]\n",
            "\u001b[1;31mKeyError\u001b[0m: 'Arizona'"
          ]
        }
      ],
      "source": [
        "capitals[\"Arizona\"]"
      ]
    },
    {
      "cell_type": "code",
      "execution_count": 270,
      "metadata": {
        "id": "3mdLStpyo-BY"
      },
      "outputs": [],
      "source": [
        "if \"Arizona\" in capitals:\n",
        "  # Only print if the \"Arizona\" key exists\n",
        "  print(f\"The capital of Arizona is {capitals['Arizona']}.\")"
      ]
    },
    {
      "cell_type": "markdown",
      "metadata": {
        "id": "VsLCSYfYkx8i"
      },
      "source": [
        "**> Podemos percorrer um dicionario**"
      ]
    },
    {
      "cell_type": "code",
      "execution_count": 271,
      "metadata": {
        "id": "MEvEYkIupBi-"
      },
      "outputs": [
        {
          "data": {
            "text/plain": [
              "False"
            ]
          },
          "execution_count": 271,
          "metadata": {},
          "output_type": "execute_result"
        }
      ],
      "source": [
        "\"Sacramento\" in capitals"
      ]
    },
    {
      "cell_type": "code",
      "execution_count": 272,
      "metadata": {
        "id": "1bxdg_NtpEKA"
      },
      "outputs": [
        {
          "name": "stdout",
          "output_type": "stream",
          "text": [
            "California\n",
            "New York\n",
            "Colorado\n"
          ]
        }
      ],
      "source": [
        "for key in capitals:\n",
        "  print(key)"
      ]
    },
    {
      "cell_type": "markdown",
      "metadata": {
        "id": "e_U569Tjk4AG"
      },
      "source": [
        "**> podemos percorrer entre as chaves**"
      ]
    },
    {
      "cell_type": "code",
      "execution_count": 273,
      "metadata": {
        "id": "Z5WmPDR1pHp0"
      },
      "outputs": [
        {
          "name": "stdout",
          "output_type": "stream",
          "text": [
            "The capital of California is Sacramento\n",
            "The capital of New York is Albany\n",
            "The capital of Colorado is Denver\n"
          ]
        }
      ],
      "source": [
        "for state in capitals:\n",
        "  print(f\"The capital of {state} is {capitals[state]}\")"
      ]
    },
    {
      "cell_type": "markdown",
      "metadata": {
        "id": "zuP7j0Jpk9J7"
      },
      "source": [
        "**> Outra forma de navegar pelas chaves**"
      ]
    },
    {
      "cell_type": "code",
      "execution_count": 274,
      "metadata": {
        "colab": {
          "base_uri": "https://localhost:8080/"
        },
        "id": "o9sfLGdJpKgh",
        "outputId": "35fc9e6a-2d24-437f-c861-0608dafdd78b"
      },
      "outputs": [
        {
          "data": {
            "text/plain": [
              "dict_items([('California', 'Sacramento'), ('New York', 'Albany'), ('Colorado', 'Denver')])"
            ]
          },
          "execution_count": 274,
          "metadata": {},
          "output_type": "execute_result"
        }
      ],
      "source": [
        "capitals.items()"
      ]
    },
    {
      "cell_type": "markdown",
      "metadata": {
        "id": "UQXTJwpIlB_O"
      },
      "source": [
        "**> lista o que tem no nosso dicionario**"
      ]
    },
    {
      "cell_type": "code",
      "execution_count": 275,
      "metadata": {
        "id": "zIcfUs3OpN_W"
      },
      "outputs": [
        {
          "name": "stdout",
          "output_type": "stream",
          "text": [
            "The capital of California is Sacramento\n",
            "The capital of New York is Albany\n",
            "The capital of Colorado is Denver\n"
          ]
        }
      ],
      "source": [
        "for state, capital in capitals.items():\n",
        "  print(f\"The capital of {state} is {capital}\")"
      ]
    },
    {
      "cell_type": "code",
      "execution_count": 276,
      "metadata": {
        "id": "pwWHPE4zpbmp"
      },
      "outputs": [],
      "source": [
        "states = {\n",
        "  \" California\": {\n",
        "    \"capital\": \"Sacramento\",\n",
        "    \"flower\": \"California Poppy\"\n",
        "  },\n",
        "\"New York\": {\n",
        "  \"capital\": \"Albany\",\n",
        "  \"flower\": \"Rose\"\n",
        "  },\n",
        "  \"Texas\": {\n",
        "  \"capital\": \"Austin\",\n",
        "  \"flower\": \"Bluebonnet\"\n",
        "  },\n",
        "}"
      ]
    },
    {
      "cell_type": "markdown",
      "metadata": {
        "id": "ak6bphnvsnBm"
      },
      "source": [
        "**> Esse dicionario contem varios outros dicionarios dentro**"
      ]
    },
    {
      "cell_type": "code",
      "execution_count": 277,
      "metadata": {
        "id": "Y0jMmdpDpsoP"
      },
      "outputs": [
        {
          "data": {
            "text/plain": [
              "{'capital': 'Austin', 'flower': 'Bluebonnet'}"
            ]
          },
          "execution_count": 277,
          "metadata": {},
          "output_type": "execute_result"
        }
      ],
      "source": [
        "states[\"Texas\"]"
      ]
    },
    {
      "cell_type": "code",
      "execution_count": 278,
      "metadata": {
        "id": "7YnlzLi_pvYw"
      },
      "outputs": [
        {
          "data": {
            "text/plain": [
              "'Bluebonnet'"
            ]
          },
          "execution_count": 278,
          "metadata": {},
          "output_type": "execute_result"
        }
      ],
      "source": [
        "states[\"Texas\"][\"flower\"]"
      ]
    },
    {
      "cell_type": "code",
      "execution_count": 279,
      "metadata": {
        "id": "ty9QgAYApyXc"
      },
      "outputs": [],
      "source": [
        "capitals_dict = {\n",
        "'Alabama': 'Montgomery',\n",
        "'Alaska': 'Juneau',\n",
        "'Arizona': 'Phoenix',\n",
        "'Arkansas': 'Little Rock',\n",
        "'California': 'Sacramento',\n",
        "'Colorado': 'Denver',\n",
        "'Connecticut': 'Hartford',\n",
        "'Delaware': 'Dover',\n",
        "'Florida': 'Tallahassee',\n",
        "'Georgia': 'Atlanta',\n",
        "}"
      ]
    },
    {
      "cell_type": "code",
      "execution_count": 280,
      "metadata": {
        "id": "R0WPtMzbp_W9"
      },
      "outputs": [],
      "source": [
        "kirk = [\"James Kirk\", 34, \"Captain\", 2265]\n",
        "spock = [\"Spock\", 35, \"Science Officer\", 2254]\n",
        "mccoy = [\"Leonard McCoy\", \"Chief Medical Officer\", 2266]"
      ]
    },
    {
      "cell_type": "markdown",
      "metadata": {
        "id": "5EqxsBDkp9wd"
      },
      "source": [
        "## Object-Oriented Programming (OOP)"
      ]
    },
    {
      "cell_type": "code",
      "execution_count": 281,
      "metadata": {
        "id": "pvI62A6SqFge"
      },
      "outputs": [],
      "source": [
        "class Dog:\n",
        "  pass"
      ]
    },
    {
      "cell_type": "markdown",
      "metadata": {
        "id": "FJ3ztZaxu3pr"
      },
      "source": [
        "**> Podemos trabalhar com objetos**"
      ]
    },
    {
      "cell_type": "code",
      "execution_count": 282,
      "metadata": {
        "id": "UtZRTvfaqIij"
      },
      "outputs": [],
      "source": [
        "class Dog:\n",
        "  def __init__(self, name, age):\n",
        "    self.name = name\n",
        "    self.age = age"
      ]
    },
    {
      "cell_type": "markdown",
      "metadata": {
        "id": "DgJhqTsju-Jx"
      },
      "source": [
        "**> função init server para criar um objeto**"
      ]
    },
    {
      "cell_type": "code",
      "execution_count": 283,
      "metadata": {
        "id": "cksHcn_UqNF0"
      },
      "outputs": [],
      "source": [
        "class Dog:\n",
        "  # Class Attribute\n",
        "  species = \"Canis familiaris\"\n",
        "  def __init__(self, name, age):\n",
        "    self.name = name\n",
        "    self.age = age"
      ]
    },
    {
      "cell_type": "markdown",
      "metadata": {
        "id": "IqxjALPyvVe3"
      },
      "source": [
        "**> Aqui temos um valor padrão, e 2 que vão vir por construtor**"
      ]
    },
    {
      "cell_type": "code",
      "execution_count": 284,
      "metadata": {
        "id": "6r38hZPKqPDI"
      },
      "outputs": [],
      "source": [
        "buddy = Dog(\"Buddy\", 9)"
      ]
    },
    {
      "cell_type": "markdown",
      "metadata": {
        "id": "wm8TDPD243c8"
      },
      "source": [
        "**> Criando um objeto**"
      ]
    },
    {
      "cell_type": "code",
      "execution_count": 285,
      "metadata": {
        "id": "d1boTaQkqYHs"
      },
      "outputs": [],
      "source": [
        "miles = Dog(\"Miles\", 4)"
      ]
    },
    {
      "cell_type": "markdown",
      "metadata": {
        "id": "YnBrIx6I48fr"
      },
      "source": [
        "**> Criando outro objeto**"
      ]
    },
    {
      "cell_type": "code",
      "execution_count": 286,
      "metadata": {
        "colab": {
          "base_uri": "https://localhost:8080/",
          "height": 35
        },
        "id": "73BPL9hDqaiR",
        "outputId": "29684ec2-7221-401d-eee9-97c74e14b628"
      },
      "outputs": [
        {
          "data": {
            "text/plain": [
              "'Buddy'"
            ]
          },
          "execution_count": 286,
          "metadata": {},
          "output_type": "execute_result"
        }
      ],
      "source": [
        "buddy.name"
      ]
    },
    {
      "cell_type": "markdown",
      "metadata": {
        "id": "0L-GmsWK4-c9"
      },
      "source": [
        "**> Chamando os valores do objeto**"
      ]
    },
    {
      "cell_type": "code",
      "execution_count": 287,
      "metadata": {
        "colab": {
          "base_uri": "https://localhost:8080/"
        },
        "id": "NlReOuB7qc7W",
        "outputId": "1f2c58a8-745f-4e78-a7f6-770dca2e848f"
      },
      "outputs": [
        {
          "data": {
            "text/plain": [
              "9"
            ]
          },
          "execution_count": 287,
          "metadata": {},
          "output_type": "execute_result"
        }
      ],
      "source": [
        "buddy.age"
      ]
    },
    {
      "cell_type": "markdown",
      "metadata": {
        "id": "CgxDfafI5DK2"
      },
      "source": [
        "**> Chamando valores do objeto**"
      ]
    },
    {
      "cell_type": "code",
      "execution_count": 288,
      "metadata": {
        "colab": {
          "base_uri": "https://localhost:8080/",
          "height": 35
        },
        "id": "T03wGL5WqfjH",
        "outputId": "79e1e7b4-2609-4fb3-98e6-b1c8f8a31138"
      },
      "outputs": [
        {
          "data": {
            "text/plain": [
              "'Canis familiaris'"
            ]
          },
          "execution_count": 288,
          "metadata": {},
          "output_type": "execute_result"
        }
      ],
      "source": [
        "buddy.species"
      ]
    },
    {
      "cell_type": "code",
      "execution_count": 289,
      "metadata": {
        "colab": {
          "base_uri": "https://localhost:8080/"
        },
        "id": "wfIfdGNWqiA_",
        "outputId": "f29fff27-e1a8-4022-d320-a74d6d367369"
      },
      "outputs": [
        {
          "data": {
            "text/plain": [
              "True"
            ]
          },
          "execution_count": 289,
          "metadata": {},
          "output_type": "execute_result"
        }
      ],
      "source": [
        "buddy.species == miles.species"
      ]
    },
    {
      "cell_type": "code",
      "execution_count": 290,
      "metadata": {
        "id": "Zjc93M5fqlUH"
      },
      "outputs": [],
      "source": [
        "buddy.age = 10"
      ]
    },
    {
      "cell_type": "code",
      "execution_count": 291,
      "metadata": {
        "colab": {
          "base_uri": "https://localhost:8080/"
        },
        "id": "Umnll5l0qmwU",
        "outputId": "39427af9-9c7c-4ad2-ff15-b1be71be2226"
      },
      "outputs": [
        {
          "data": {
            "text/plain": [
              "10"
            ]
          },
          "execution_count": 291,
          "metadata": {},
          "output_type": "execute_result"
        }
      ],
      "source": [
        "buddy.age"
      ]
    },
    {
      "cell_type": "code",
      "execution_count": 292,
      "metadata": {
        "id": "NjCM2pPCqpKR"
      },
      "outputs": [],
      "source": [
        "miles.species = \"Felis silvestris\""
      ]
    },
    {
      "cell_type": "code",
      "execution_count": 293,
      "metadata": {
        "colab": {
          "base_uri": "https://localhost:8080/",
          "height": 35
        },
        "id": "MpQpyK17qrpe",
        "outputId": "ed359c01-18ca-4adc-edb7-a4f8a0fbfed1"
      },
      "outputs": [
        {
          "data": {
            "text/plain": [
              "'Felis silvestris'"
            ]
          },
          "execution_count": 293,
          "metadata": {},
          "output_type": "execute_result"
        }
      ],
      "source": [
        "miles.species"
      ]
    },
    {
      "cell_type": "code",
      "execution_count": 294,
      "metadata": {
        "id": "kbboytugqvBU"
      },
      "outputs": [],
      "source": [
        "class Dog:\n",
        "  species = \"Canis familiaris\"\n",
        "  def __init__(self, name, age):\n",
        "    self.name = name\n",
        "    self.age = age\n",
        "\n",
        "  # Instance method\n",
        "  def description(self):\n",
        "    return f\"{self.name} is {self.age} years old\"\n",
        "\n",
        "  # Another instance method\n",
        "  def speak(self, sound):\n",
        "    return f\"{self.name} says {sound}\"\n",
        "\n",
        "  # Leave other parts of Dog class as-is\n",
        "  # Replace .description() with __str__()\n",
        "  def __str__(self):\n",
        "    return f\"{self.name} is {self.age} years old\""
      ]
    },
    {
      "cell_type": "markdown",
      "metadata": {
        "id": "6Bwh_XGgxA2M"
      },
      "source": [
        "**> Aqui temos metodos que realizam funções da nossa classe**"
      ]
    },
    {
      "cell_type": "code",
      "execution_count": 295,
      "metadata": {
        "id": "PN07ZVpQq3N8"
      },
      "outputs": [],
      "source": [
        "miles = Dog(\"Miles\", 4)"
      ]
    },
    {
      "cell_type": "code",
      "execution_count": 296,
      "metadata": {
        "id": "-UNP4esVq4sx"
      },
      "outputs": [
        {
          "data": {
            "text/plain": [
              "'Miles is 4 years old'"
            ]
          },
          "execution_count": 296,
          "metadata": {},
          "output_type": "execute_result"
        }
      ],
      "source": [
        "miles.description()"
      ]
    },
    {
      "cell_type": "code",
      "execution_count": 297,
      "metadata": {
        "id": "mToSPmY_q6kM"
      },
      "outputs": [
        {
          "data": {
            "text/plain": [
              "'Miles says Woof Woof'"
            ]
          },
          "execution_count": 297,
          "metadata": {},
          "output_type": "execute_result"
        }
      ],
      "source": [
        "miles.speak(\"Woof Woof\")"
      ]
    },
    {
      "cell_type": "code",
      "execution_count": 298,
      "metadata": {
        "id": "azb7ILz9q-Rd"
      },
      "outputs": [
        {
          "data": {
            "text/plain": [
              "'Miles says Bow Wow'"
            ]
          },
          "execution_count": 298,
          "metadata": {},
          "output_type": "execute_result"
        }
      ],
      "source": [
        "miles.speak(\"Bow Wow\")"
      ]
    },
    {
      "cell_type": "code",
      "execution_count": 299,
      "metadata": {
        "id": "g01Bp6ZFrI7x"
      },
      "outputs": [
        {
          "name": "stdout",
          "output_type": "stream",
          "text": [
            "Miles is 4 years old\n"
          ]
        }
      ],
      "source": [
        "print(miles)"
      ]
    },
    {
      "cell_type": "code",
      "execution_count": 300,
      "metadata": {
        "id": "8sDcnoU8rKbJ"
      },
      "outputs": [],
      "source": [
        "miles = Dog(\"Miles\", 4)"
      ]
    },
    {
      "cell_type": "code",
      "execution_count": 301,
      "metadata": {
        "id": "DHeljH3zrVGT"
      },
      "outputs": [
        {
          "name": "stdout",
          "output_type": "stream",
          "text": [
            "Miles is 4 years old\n"
          ]
        }
      ],
      "source": [
        "print(miles)"
      ]
    },
    {
      "cell_type": "code",
      "execution_count": 302,
      "metadata": {
        "id": "KOiCBqJkxNW0"
      },
      "outputs": [],
      "source": [
        "class Dog:\n",
        "  species = \"Canis familiaris\"\n",
        "  def __init__(self, name, age):\n",
        "    self.name = name\n",
        "    self.age = age\n",
        "  \n",
        "  def __str__(self):\n",
        "    return f\"{self.name} is {self.age} years old\"\n",
        "  \n",
        "  def speak(self, sound):\n",
        "    return f\"{self.name} says {sound}\""
      ]
    },
    {
      "cell_type": "code",
      "execution_count": 303,
      "metadata": {
        "id": "twY0gynrxSSy"
      },
      "outputs": [],
      "source": [
        "class JackRussellTerrier(Dog):\n",
        "  pass\n",
        "class Dachshund(Dog):\n",
        "  pass\n",
        "class Bulldog(Dog):\n",
        "  pass"
      ]
    },
    {
      "cell_type": "markdown",
      "metadata": {
        "id": "SlXZKwdZ5Kls"
      },
      "source": [
        "**> Podemos trabalhar com hieranquia, polimorfismo**"
      ]
    },
    {
      "cell_type": "code",
      "execution_count": 304,
      "metadata": {
        "id": "Ce-d22t-xWep"
      },
      "outputs": [],
      "source": [
        "miles = JackRussellTerrier(\"Miles\", 4)\n",
        "buddy = Dachshund(\"Buddy\", 9)\n",
        "jack = Bulldog(\"Jack\", 3)\n",
        "jim = Bulldog(\"Jim\", 5)"
      ]
    },
    {
      "cell_type": "code",
      "execution_count": 305,
      "metadata": {
        "id": "NbrcTDvWxbtG"
      },
      "outputs": [
        {
          "data": {
            "text/plain": [
              "'Canis familiaris'"
            ]
          },
          "execution_count": 305,
          "metadata": {},
          "output_type": "execute_result"
        }
      ],
      "source": [
        "miles.species"
      ]
    },
    {
      "cell_type": "code",
      "execution_count": 306,
      "metadata": {
        "id": "NYVxeRh2xefS"
      },
      "outputs": [
        {
          "data": {
            "text/plain": [
              "'Buddy'"
            ]
          },
          "execution_count": 306,
          "metadata": {},
          "output_type": "execute_result"
        }
      ],
      "source": [
        "buddy.name"
      ]
    },
    {
      "cell_type": "code",
      "execution_count": 307,
      "metadata": {
        "id": "Oa_7m3fxxgD9"
      },
      "outputs": [
        {
          "name": "stdout",
          "output_type": "stream",
          "text": [
            "Jack is 3 years old\n"
          ]
        }
      ],
      "source": [
        "print(jack)"
      ]
    },
    {
      "cell_type": "code",
      "execution_count": 308,
      "metadata": {
        "id": "60kryBFkxh-y"
      },
      "outputs": [
        {
          "data": {
            "text/plain": [
              "'Jim says Woof'"
            ]
          },
          "execution_count": 308,
          "metadata": {},
          "output_type": "execute_result"
        }
      ],
      "source": [
        "jim.speak(\"Woof\")"
      ]
    },
    {
      "cell_type": "code",
      "execution_count": 309,
      "metadata": {
        "id": "K10ZNwXQxlOR"
      },
      "outputs": [
        {
          "data": {
            "text/plain": [
              "True"
            ]
          },
          "execution_count": 309,
          "metadata": {},
          "output_type": "execute_result"
        }
      ],
      "source": [
        "isinstance(miles, Dog)"
      ]
    },
    {
      "cell_type": "code",
      "execution_count": 310,
      "metadata": {
        "id": "jK9Ofen9xov_"
      },
      "outputs": [],
      "source": [
        "class JackRussellTerrier(Dog):\n",
        "  def speak(self, sound=\"Arf\"):\n",
        "    return f\"{self.name} says {sound}\""
      ]
    },
    {
      "cell_type": "markdown",
      "metadata": {
        "id": "mbmEaxFt5Q3c"
      },
      "source": [
        "**> AS classes tem metodos proprios, que sobrescrevem a implementação original**"
      ]
    },
    {
      "cell_type": "code",
      "execution_count": 311,
      "metadata": {
        "id": "mheu6dJIxrsT"
      },
      "outputs": [],
      "source": [
        "miles = JackRussellTerrier(\"Miles\", 4)"
      ]
    },
    {
      "cell_type": "code",
      "execution_count": 312,
      "metadata": {
        "id": "iZ5EzOlBxtko"
      },
      "outputs": [
        {
          "data": {
            "text/plain": [
              "'Miles says Arf'"
            ]
          },
          "execution_count": 312,
          "metadata": {},
          "output_type": "execute_result"
        }
      ],
      "source": [
        "miles.speak()"
      ]
    },
    {
      "cell_type": "code",
      "execution_count": 313,
      "metadata": {
        "id": "qmYQwDMvxwom"
      },
      "outputs": [
        {
          "data": {
            "text/plain": [
              "'Miles says Grrr'"
            ]
          },
          "execution_count": 313,
          "metadata": {},
          "output_type": "execute_result"
        }
      ],
      "source": [
        "miles.speak(\"Grrr\")"
      ]
    },
    {
      "cell_type": "code",
      "execution_count": 314,
      "metadata": {
        "id": "babiv5nnx4ti"
      },
      "outputs": [],
      "source": [
        "class JackRussellTerrier(Dog):\n",
        "  def speak(self, sound=\"Arf\"):\n",
        "    return super().speak(sound)"
      ]
    },
    {
      "cell_type": "code",
      "execution_count": 315,
      "metadata": {
        "id": "YcBrj4fsx71l"
      },
      "outputs": [],
      "source": [
        "miles = JackRussellTerrier(\"Miles\", 4)"
      ]
    },
    {
      "cell_type": "code",
      "execution_count": 316,
      "metadata": {
        "id": "yeaJnZ-Vx9Tb"
      },
      "outputs": [
        {
          "data": {
            "text/plain": [
              "'Miles says Arf'"
            ]
          },
          "execution_count": 316,
          "metadata": {},
          "output_type": "execute_result"
        }
      ],
      "source": [
        "miles.speak()"
      ]
    },
    {
      "cell_type": "markdown",
      "metadata": {
        "id": "BDUv7G8-yju-"
      },
      "source": [
        "## Modules and Packages"
      ]
    },
    {
      "cell_type": "code",
      "execution_count": 317,
      "metadata": {
        "id": "PZ3RkqRjykd2"
      },
      "outputs": [],
      "source": [
        "# adder.py\n",
        "def add(x, y):\n",
        "  return x + y"
      ]
    },
    {
      "cell_type": "code",
      "execution_count": 318,
      "metadata": {
        "id": "gENGX3HHysJA"
      },
      "outputs": [
        {
          "name": "stdout",
          "output_type": "stream",
          "text": [
            "4\n"
          ]
        }
      ],
      "source": [
        "# main.py\n",
        "value = add(2, 2)\n",
        "print(value)"
      ]
    },
    {
      "cell_type": "code",
      "execution_count": 319,
      "metadata": {
        "id": "K-0D2lhuy2wt"
      },
      "outputs": [
        {
          "ename": "ModuleNotFoundError",
          "evalue": "No module named 'adder'",
          "output_type": "error",
          "traceback": [
            "\u001b[1;31m---------------------------------------------------------------------------\u001b[0m",
            "\u001b[1;31mModuleNotFoundError\u001b[0m                       Traceback (most recent call last)",
            "\u001b[1;32mc:\\Users\\LucasBaccan\\git\\lucas-elias-baccan\\07-Python-Everton\\Aula-02\\atividades\\PythonIntroduction-lucas-elias-baccan.ipynb Cell 568'\u001b[0m in \u001b[0;36m<cell line: 2>\u001b[1;34m()\u001b[0m\n\u001b[0;32m      <a href='vscode-notebook-cell:/c%3A/Users/LucasBaccan/git/lucas-elias-baccan/07-Python-Everton/Aula-02/atividades/PythonIntroduction-lucas-elias-baccan.ipynb#ch0000567?line=0'>1</a>\u001b[0m \u001b[39m# main.py\u001b[39;00m\n\u001b[1;32m----> <a href='vscode-notebook-cell:/c%3A/Users/LucasBaccan/git/lucas-elias-baccan/07-Python-Everton/Aula-02/atividades/PythonIntroduction-lucas-elias-baccan.ipynb#ch0000567?line=1'>2</a>\u001b[0m \u001b[39mimport\u001b[39;00m \u001b[39madder\u001b[39;00m\n\u001b[0;32m      <a href='vscode-notebook-cell:/c%3A/Users/LucasBaccan/git/lucas-elias-baccan/07-Python-Everton/Aula-02/atividades/PythonIntroduction-lucas-elias-baccan.ipynb#ch0000567?line=2'>3</a>\u001b[0m \u001b[39mimport\u001b[39;00m \u001b[39madder\u001b[39;00m \u001b[39mas\u001b[39;00m \u001b[39ma\u001b[39;00m \u001b[39m# <-- Change this line\u001b[39;00m\n\u001b[0;32m      <a href='vscode-notebook-cell:/c%3A/Users/LucasBaccan/git/lucas-elias-baccan/07-Python-Everton/Aula-02/atividades/PythonIntroduction-lucas-elias-baccan.ipynb#ch0000567?line=3'>4</a>\u001b[0m \u001b[39mfrom\u001b[39;00m \u001b[39madder\u001b[39;00m \u001b[39mimport\u001b[39;00m add \u001b[39m# <-- Change this line\u001b[39;00m\n",
            "\u001b[1;31mModuleNotFoundError\u001b[0m: No module named 'adder'"
          ]
        }
      ],
      "source": [
        "# main.py\n",
        "import adder\n",
        "import adder as a # <-- Change this line\n",
        "from adder import add # <-- Change this line\n",
        "\n",
        "value = adder.add(2, 2)\n",
        "double_value = adder.double(value) # <-- Add this line\n",
        "print(double_value) # <-- Change this line"
      ]
    },
    {
      "cell_type": "markdown",
      "metadata": {
        "id": "ETpDLNFQzlvC"
      },
      "source": [
        "![image.png](data:image/png;base64,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)"
      ]
    },
    {
      "cell_type": "code",
      "execution_count": null,
      "metadata": {
        "id": "aH2_B2jG0GKh"
      },
      "outputs": [],
      "source": [
        "# main.py\n",
        "import mypackage.module1 # <-- Change this line\n",
        "# Leave the below code unchanged\n",
        "mypackage.module1.greet(\"Pythonista\")"
      ]
    },
    {
      "cell_type": "markdown",
      "metadata": {
        "id": "UavDQ_T-0FmW"
      },
      "source": [
        "![image.png](data:image/png;base64,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)"
      ]
    },
    {
      "cell_type": "markdown",
      "metadata": {
        "id": "DS95vWxhccTD"
      },
      "source": [
        "## Desafio\n",
        "\n",
        "Nesta tarefa, você criará um modelo simplificado de uma fazenda. Como você trabalhar com esta tarefa, tenha em mente que há uma série de respostas corretas. O foco desta tarefa é menos sobre a sintaxe da classe Python e mais sobre design de software em geral, que é altamente subjetivo. Esta tarefa é intencionalmente deixada em aberto para incentivá-lo a pense em como você organizaria seu código em classes. \n",
        "\n",
        "Antes de escrever qualquer código, pegue uma caneta e papel e esboce um modelo de sua fazenda, identificando classes, atributos e métodos. Pense na herança. Como você pode evitar a duplicação de código? Aproveite o tempo para trabalhar com quantas iterações você sentir que são necessários. Os requisitos reais estão abertos à interpretação, mas tente aderir a estas orientações:\n",
        "\n",
        "1. Você deve ter pelo menos quatro classes: a classe pai Animal e então, pelo menos, três classes de animais filhos que herdam de Animal.\n",
        "2. Cada classe deve ter alguns atributos e pelo menos um método que modela algum comportamento apropriado para um animal específico ou todos os animais — como caminhar, correr, comer, dormir e assim por diante.\n",
        "3. Mantenha-o simples. Utilize a herança. Certifique-se de produzir detalhes sobre os animais e seus comportamentos.\n"
      ]
    },
    {
      "cell_type": "code",
      "execution_count": null,
      "metadata": {
        "colab": {
          "base_uri": "https://localhost:8080/"
        },
        "id": "PiktTT3G8Exf",
        "outputId": "5c69fa42-72cc-4a1f-ee3b-1f5809bdc4a0"
      },
      "outputs": [
        {
          "name": "stdout",
          "output_type": "stream",
          "text": [
            "\n",
            "Pato Feio é um pato, Pato Feio é um animal\n",
            "Cachorro Bidu é um cachorro, Cachorro Bidu é um animal\n",
            "Pessoa João é uma pessoa\n",
            "\n",
            "Pato Feio fala Quack quack\n",
            "Cachorro Bidu fala Au au\n",
            "Pessoa João fala Olá\n",
            "\n",
            "Pato Feio moveu-se voando\n",
            "Cachorro Bidu moveu-se andando com as 4 patas e balançando o rabo\n",
            "Pessoa João moveu-se andando com os pés\n",
            "\n",
            "Pato Feio botou um ovo\n",
            "Cachorro Bidu está brincando\n",
            "Cachorro Bidu moveu-se correndo\n",
            "Pessoa João está passeando com Pato Feio\n",
            "Pessoa João está passeando com Cachorro Bidu\n",
            "\n",
            "Pato Feio está morto, morto não fala\n",
            "Cachorro Bidu está morto, morto não fala\n",
            "Pessoa João está morto, morto não fala\n",
            "\n",
            "Pato Feio está morto, morto não move\n",
            "Cachorro Bidu está morto, morto não move\n",
            "Pessoa João está morto, morto não move\n",
            "\n",
            "Pato Feio está morto, morto não botou ovo\n",
            "Cachorro Bidu está morto, morto não brinca\n",
            "Cachorro Bidu está morto, morto não move\n",
            "Todos estão mortos\n",
            "Todos estão mortos\n",
            "\n",
            "Essa é minha fazenda\n"
          ]
        }
      ],
      "source": [
        "# Meu código\n",
        "# Temos seres vivos que estão vivos ou não, falam e movem\n",
        "# Pato bota ovo\n",
        "# Cachorro brinca e corre\n",
        "# Pessoas passeia com animais\n",
        "\n",
        "\n",
        "class SerVivo():\n",
        "    vivo: bool = True\n",
        "\n",
        "    def __init__(self, nome: str):\n",
        "        self.nome = nome\n",
        "\n",
        "    def esta_vivo(self):\n",
        "        return self.vivo\n",
        "\n",
        "    def morre(self):\n",
        "        self.vivo = False\n",
        "\n",
        "    def falar(self, texto):\n",
        "        if self.esta_vivo():\n",
        "            print(f\"{self.nome} fala {texto}\")\n",
        "        else:\n",
        "            print(f\"{self.nome} está morto, morto não fala\")\n",
        "\n",
        "    def mover(self, texto):\n",
        "        if self.esta_vivo():\n",
        "            print(f\"{self.nome} moveu-se {texto}\")\n",
        "        else:\n",
        "            print(f\"{self.nome} está morto, morto não move\")\n",
        "\n",
        "\n",
        "class Animal(SerVivo):\n",
        "\n",
        "    def __init__(self, nome: str):\n",
        "        super().__init__(nome)\n",
        "\n",
        "    def __str__(self):\n",
        "        return(f\"{self.nome} é um animal\")\n",
        "\n",
        "\n",
        "class Pato(Animal):\n",
        "    def __init__(self, nome):\n",
        "        super().__init__(nome)\n",
        "\n",
        "    def __str__(self):\n",
        "        return(f\"{self.nome} é um pato, {super().__str__()}\")\n",
        "\n",
        "    def falar(self, texto=\"Quack quack\"):\n",
        "        super().falar(texto)\n",
        "\n",
        "    def mover(self, texto=\"voando\"):\n",
        "        super().mover(texto)\n",
        "\n",
        "    def botar_ovo(self):\n",
        "        if self.esta_vivo():\n",
        "            print(f\"{self.nome} botou um ovo\")\n",
        "        else:\n",
        "            print(f\"{self.nome} está morto, morto não botou ovo\")\n",
        "\n",
        "      \n",
        "\n",
        "\n",
        "class Cachorro(Animal):\n",
        "    def __init__(self, nome):\n",
        "        super().__init__(nome)\n",
        "\n",
        "    def __str__(self):\n",
        "        return(f\"{self.nome} é um cachorro, {super().__str__()}\")\n",
        "\n",
        "    def falar(self, texto=\"Au au\"):\n",
        "        super().falar(texto)\n",
        "\n",
        "    def mover(self, texto=\"andando com as 4 patas e balançando o rabo\"):\n",
        "        super().mover(texto)\n",
        "\n",
        "    def correr(self, texto=\"correndo\"):\n",
        "        super().mover(texto)\n",
        "\n",
        "    def brincar(self):\n",
        "      if self.esta_vivo():\n",
        "        print(f\"{self.nome} está brincando\")\n",
        "      else:\n",
        "        print(f\"{self.nome} está morto, morto não brinca\")\n",
        "\n",
        "class Pessoa(SerVivo):\n",
        "    def __init__(self, nome):\n",
        "        self.nome = nome\n",
        "\n",
        "    def __str__(self):\n",
        "        return(f\"{self.nome} é uma pessoa\")\n",
        "\n",
        "    def falar(self, texto=\"Olá\"):\n",
        "        super().falar(texto)\n",
        "\n",
        "    def mover(self, texto=\"andando com os pés\"):\n",
        "        super().mover(texto)\n",
        "\n",
        "    def passear(self, animal: Animal):\n",
        "        if self.esta_vivo() and animal.esta_vivo():\n",
        "            print(f\"{self.nome} está passeando com {animal.nome}\")\n",
        "        elif self.esta_vivo() and not animal.esta_vivo():\n",
        "            print(f\"{self.nome} está triste pois {animal.nome} está morto\")\n",
        "        elif not self.esta_vivo() and animal.esta_vivo():\n",
        "            print(f\"{self.nome} está morto, não pode passear com {animal.nome}\")\n",
        "        else:\n",
        "            print(f\"Todos estão mortos\")\n",
        "\n",
        "\n",
        "# Testar\n",
        "pato = Pato(\"Pato Feio\")\n",
        "cachorro = Cachorro(\"Cachorro Bidu\")\n",
        "pessoa = Pessoa(\"Pessoa João\")\n",
        "print(\"\")\n",
        "print(pato)\n",
        "print(cachorro)\n",
        "print(pessoa)\n",
        "print(\"\")\n",
        "# Falar\n",
        "pato.falar()\n",
        "cachorro.falar()\n",
        "pessoa.falar()\n",
        "print(\"\")\n",
        "# Mover\n",
        "pato.mover()\n",
        "cachorro.mover()\n",
        "pessoa.mover()\n",
        "print(\"\")\n",
        "pato.botar_ovo()\n",
        "cachorro.brincar()\n",
        "cachorro.correr()\n",
        "pessoa.passear(pato)\n",
        "pessoa.passear(cachorro)\n",
        "# Matar\n",
        "pato.morre()\n",
        "cachorro.morre()\n",
        "pessoa.morre()\n",
        "print(\"\")\n",
        "# Falar (morto)\n",
        "pato.falar()\n",
        "cachorro.falar()\n",
        "pessoa.falar()\n",
        "print(\"\")\n",
        "# Mover (morto)\n",
        "pato.mover()\n",
        "cachorro.mover()\n",
        "pessoa.mover()\n",
        "print(\"\")\n",
        "pato.botar_ovo()\n",
        "cachorro.brincar()\n",
        "cachorro.correr()\n",
        "pessoa.passear(pato)\n",
        "pessoa.passear(cachorro)\n",
        "# Essa é minha fazenda\n",
        "print(\"\")\n",
        "print(\"Essa é minha fazenda\")\n"
      ]
    },
    {
      "cell_type": "markdown",
      "metadata": {
        "id": "PbLuYYc73MZB"
      },
      "source": [
        "## Encontrando e corrigindo erros de código"
      ]
    },
    {
      "cell_type": "code",
      "execution_count": null,
      "metadata": {
        "id": "ufpXysxV58u7"
      },
      "outputs": [],
      "source": [
        "def func1(a, b):\n",
        "    return a / b\n",
        "\n",
        "def func2(x):\n",
        "    a = x\n",
        "    b = x - 1\n",
        "    return func1(a, b)"
      ]
    },
    {
      "cell_type": "code",
      "execution_count": null,
      "metadata": {
        "colab": {
          "base_uri": "https://localhost:8080/",
          "height": 311
        },
        "id": "Dl6WXcJM5_gi",
        "outputId": "3b859677-6e69-4a84-ac43-ea075ee04c11"
      },
      "outputs": [
        {
          "ename": "ZeroDivisionError",
          "evalue": "ignored",
          "output_type": "error",
          "traceback": [
            "\u001b[0;31m---------------------------------------------------------------------------\u001b[0m",
            "\u001b[0;31mZeroDivisionError\u001b[0m                         Traceback (most recent call last)",
            "\u001b[0;32m<ipython-input-2-7cb498ea7ed1>\u001b[0m in \u001b[0;36m<module>\u001b[0;34m()\u001b[0m\n\u001b[0;32m----> 1\u001b[0;31m \u001b[0mfunc2\u001b[0m\u001b[0;34m(\u001b[0m\u001b[0;36m1\u001b[0m\u001b[0;34m)\u001b[0m\u001b[0;34m\u001b[0m\u001b[0;34m\u001b[0m\u001b[0m\n\u001b[0m",
            "\u001b[0;32m<ipython-input-1-586ccabd0db3>\u001b[0m in \u001b[0;36mfunc2\u001b[0;34m(x)\u001b[0m\n\u001b[1;32m      5\u001b[0m     \u001b[0ma\u001b[0m \u001b[0;34m=\u001b[0m \u001b[0mx\u001b[0m\u001b[0;34m\u001b[0m\u001b[0;34m\u001b[0m\u001b[0m\n\u001b[1;32m      6\u001b[0m     \u001b[0mb\u001b[0m \u001b[0;34m=\u001b[0m \u001b[0mx\u001b[0m \u001b[0;34m-\u001b[0m \u001b[0;36m1\u001b[0m\u001b[0;34m\u001b[0m\u001b[0;34m\u001b[0m\u001b[0m\n\u001b[0;32m----> 7\u001b[0;31m     \u001b[0;32mreturn\u001b[0m \u001b[0mfunc1\u001b[0m\u001b[0;34m(\u001b[0m\u001b[0ma\u001b[0m\u001b[0;34m,\u001b[0m \u001b[0mb\u001b[0m\u001b[0;34m)\u001b[0m\u001b[0;34m\u001b[0m\u001b[0;34m\u001b[0m\u001b[0m\n\u001b[0m",
            "\u001b[0;32m<ipython-input-1-586ccabd0db3>\u001b[0m in \u001b[0;36mfunc1\u001b[0;34m(a, b)\u001b[0m\n\u001b[1;32m      1\u001b[0m \u001b[0;32mdef\u001b[0m \u001b[0mfunc1\u001b[0m\u001b[0;34m(\u001b[0m\u001b[0ma\u001b[0m\u001b[0;34m,\u001b[0m \u001b[0mb\u001b[0m\u001b[0;34m)\u001b[0m\u001b[0;34m:\u001b[0m\u001b[0;34m\u001b[0m\u001b[0;34m\u001b[0m\u001b[0m\n\u001b[0;32m----> 2\u001b[0;31m     \u001b[0;32mreturn\u001b[0m \u001b[0ma\u001b[0m \u001b[0;34m/\u001b[0m \u001b[0mb\u001b[0m\u001b[0;34m\u001b[0m\u001b[0;34m\u001b[0m\u001b[0m\n\u001b[0m\u001b[1;32m      3\u001b[0m \u001b[0;34m\u001b[0m\u001b[0m\n\u001b[1;32m      4\u001b[0m \u001b[0;32mdef\u001b[0m \u001b[0mfunc2\u001b[0m\u001b[0;34m(\u001b[0m\u001b[0mx\u001b[0m\u001b[0;34m)\u001b[0m\u001b[0;34m:\u001b[0m\u001b[0;34m\u001b[0m\u001b[0;34m\u001b[0m\u001b[0m\n\u001b[1;32m      5\u001b[0m     \u001b[0ma\u001b[0m \u001b[0;34m=\u001b[0m \u001b[0mx\u001b[0m\u001b[0;34m\u001b[0m\u001b[0;34m\u001b[0m\u001b[0m\n",
            "\u001b[0;31mZeroDivisionError\u001b[0m: division by zero"
          ]
        }
      ],
      "source": [
        "func2(1)"
      ]
    },
    {
      "cell_type": "code",
      "execution_count": null,
      "metadata": {
        "colab": {
          "base_uri": "https://localhost:8080/"
        },
        "id": "mFsaCiQf6Cu3",
        "outputId": "908cd8e8-0cc6-4ab5-ddeb-97ca63d45b1f"
      },
      "outputs": [
        {
          "name": "stdout",
          "output_type": "stream",
          "text": [
            "Exception reporting mode: Plain\n"
          ]
        }
      ],
      "source": [
        "%xmode Plain"
      ]
    },
    {
      "cell_type": "code",
      "execution_count": null,
      "metadata": {
        "colab": {
          "base_uri": "https://localhost:8080/",
          "height": 241
        },
        "id": "dZT8qqHO6H-I",
        "outputId": "403f26a2-b598-425d-9247-c4e0c38a3dea"
      },
      "outputs": [
        {
          "ename": "ZeroDivisionError",
          "evalue": "ignored",
          "output_type": "error",
          "traceback": [
            "Traceback \u001b[0;36m(most recent call last)\u001b[0m:\n",
            "  File \u001b[1;32m\"<ipython-input-4-7cb498ea7ed1>\"\u001b[0m, line \u001b[1;32m1\u001b[0m, in \u001b[1;35m<module>\u001b[0m\n    func2(1)\n",
            "  File \u001b[1;32m\"<ipython-input-1-586ccabd0db3>\"\u001b[0m, line \u001b[1;32m7\u001b[0m, in \u001b[1;35mfunc2\u001b[0m\n    return func1(a, b)\n",
            "\u001b[0;36m  File \u001b[0;32m\"<ipython-input-1-586ccabd0db3>\"\u001b[0;36m, line \u001b[0;32m2\u001b[0;36m, in \u001b[0;35mfunc1\u001b[0;36m\u001b[0m\n\u001b[0;31m    return a / b\u001b[0m\n",
            "\u001b[0;31mZeroDivisionError\u001b[0m\u001b[0;31m:\u001b[0m division by zero\n"
          ]
        }
      ],
      "source": [
        "func2(1)"
      ]
    },
    {
      "cell_type": "code",
      "execution_count": null,
      "metadata": {
        "colab": {
          "base_uri": "https://localhost:8080/"
        },
        "id": "FRLvFww66MAU",
        "outputId": "ced17259-3673-4a33-d1e6-a8d91342c4c9"
      },
      "outputs": [
        {
          "name": "stdout",
          "output_type": "stream",
          "text": [
            "Exception reporting mode: Verbose\n"
          ]
        }
      ],
      "source": [
        "%xmode Verbose"
      ]
    },
    {
      "cell_type": "code",
      "execution_count": null,
      "metadata": {
        "colab": {
          "base_uri": "https://localhost:8080/",
          "height": 363
        },
        "id": "F2RM7E2U6Nqo",
        "outputId": "6b93d648-f552-4536-f6ab-d61326251d39"
      },
      "outputs": [
        {
          "ename": "ZeroDivisionError",
          "evalue": "ignored",
          "output_type": "error",
          "traceback": [
            "\u001b[0;31m---------------------------------------------------------------------------\u001b[0m",
            "\u001b[0;31mZeroDivisionError\u001b[0m                         Traceback (most recent call last)",
            "\u001b[0;32m<ipython-input-6-7cb498ea7ed1>\u001b[0m in \u001b[0;36m<module>\u001b[0;34m()\u001b[0m\n\u001b[0;32m----> 1\u001b[0;31m \u001b[0mfunc2\u001b[0m\u001b[0;34m(\u001b[0m\u001b[0;36m1\u001b[0m\u001b[0;34m)\u001b[0m\u001b[0;34m\u001b[0m\u001b[0;34m\u001b[0m\u001b[0m\n\u001b[0m        \u001b[0;36mglobal\u001b[0m \u001b[0;36mfunc2\u001b[0m \u001b[0;34m= <function func2 at 0x7feb31b418c0>\u001b[0m\n",
            "\u001b[0;32m<ipython-input-1-586ccabd0db3>\u001b[0m in \u001b[0;36mfunc2\u001b[0;34m(x=1)\u001b[0m\n\u001b[1;32m      5\u001b[0m     \u001b[0ma\u001b[0m \u001b[0;34m=\u001b[0m \u001b[0mx\u001b[0m\u001b[0;34m\u001b[0m\u001b[0;34m\u001b[0m\u001b[0m\n\u001b[1;32m      6\u001b[0m     \u001b[0mb\u001b[0m \u001b[0;34m=\u001b[0m \u001b[0mx\u001b[0m \u001b[0;34m-\u001b[0m \u001b[0;36m1\u001b[0m\u001b[0;34m\u001b[0m\u001b[0;34m\u001b[0m\u001b[0m\n\u001b[0;32m----> 7\u001b[0;31m     \u001b[0;32mreturn\u001b[0m \u001b[0mfunc1\u001b[0m\u001b[0;34m(\u001b[0m\u001b[0ma\u001b[0m\u001b[0;34m,\u001b[0m \u001b[0mb\u001b[0m\u001b[0;34m)\u001b[0m\u001b[0;34m\u001b[0m\u001b[0;34m\u001b[0m\u001b[0m\n\u001b[0m        \u001b[0;36mglobal\u001b[0m \u001b[0;36mfunc1\u001b[0m \u001b[0;34m= <function func1 at 0x7feb31b41830>\u001b[0m\u001b[0;34m\n        \u001b[0m\u001b[0;36ma\u001b[0m \u001b[0;34m= 1\u001b[0m\u001b[0;34m\n        \u001b[0m\u001b[0;36mb\u001b[0m \u001b[0;34m= 0\u001b[0m\n",
            "\u001b[0;32m<ipython-input-1-586ccabd0db3>\u001b[0m in \u001b[0;36mfunc1\u001b[0;34m(a=1, b=0)\u001b[0m\n\u001b[1;32m      1\u001b[0m \u001b[0;32mdef\u001b[0m \u001b[0mfunc1\u001b[0m\u001b[0;34m(\u001b[0m\u001b[0ma\u001b[0m\u001b[0;34m,\u001b[0m \u001b[0mb\u001b[0m\u001b[0;34m)\u001b[0m\u001b[0;34m:\u001b[0m\u001b[0;34m\u001b[0m\u001b[0;34m\u001b[0m\u001b[0m\n\u001b[0;32m----> 2\u001b[0;31m     \u001b[0;32mreturn\u001b[0m \u001b[0ma\u001b[0m \u001b[0;34m/\u001b[0m \u001b[0mb\u001b[0m\u001b[0;34m\u001b[0m\u001b[0;34m\u001b[0m\u001b[0m\n\u001b[0m        \u001b[0;36ma\u001b[0m \u001b[0;34m= 1\u001b[0m\u001b[0;34m\n        \u001b[0m\u001b[0;36mb\u001b[0m \u001b[0;34m= 0\u001b[0m\n\u001b[1;32m      3\u001b[0m \u001b[0;34m\u001b[0m\u001b[0m\n\u001b[1;32m      4\u001b[0m \u001b[0;32mdef\u001b[0m \u001b[0mfunc2\u001b[0m\u001b[0;34m(\u001b[0m\u001b[0mx\u001b[0m\u001b[0;34m)\u001b[0m\u001b[0;34m:\u001b[0m\u001b[0;34m\u001b[0m\u001b[0;34m\u001b[0m\u001b[0m\n\u001b[1;32m      5\u001b[0m     \u001b[0ma\u001b[0m \u001b[0;34m=\u001b[0m \u001b[0mx\u001b[0m\u001b[0;34m\u001b[0m\u001b[0;34m\u001b[0m\u001b[0m\n",
            "\u001b[0;31mZeroDivisionError\u001b[0m: division by zero"
          ]
        }
      ],
      "source": [
        "func2(1)"
      ]
    },
    {
      "cell_type": "code",
      "execution_count": null,
      "metadata": {
        "colab": {
          "base_uri": "https://localhost:8080/"
        },
        "id": "mHRT82Qz6mz-",
        "outputId": "baae0340-4b7a-48d8-fb2a-c1f50df704b5"
      },
      "outputs": [
        {
          "name": "stdout",
          "output_type": "stream",
          "text": [
            "> \u001b[0;32m<ipython-input-1-586ccabd0db3>\u001b[0m(2)\u001b[0;36mfunc1\u001b[0;34m()\u001b[0m\n",
            "\u001b[0;32m      1 \u001b[0;31m\u001b[0;32mdef\u001b[0m \u001b[0mfunc1\u001b[0m\u001b[0;34m(\u001b[0m\u001b[0ma\u001b[0m\u001b[0;34m,\u001b[0m \u001b[0mb\u001b[0m\u001b[0;34m)\u001b[0m\u001b[0;34m:\u001b[0m\u001b[0;34m\u001b[0m\u001b[0;34m\u001b[0m\u001b[0m\n",
            "\u001b[0m\u001b[0;32m----> 2 \u001b[0;31m    \u001b[0;32mreturn\u001b[0m \u001b[0ma\u001b[0m \u001b[0;34m/\u001b[0m \u001b[0mb\u001b[0m\u001b[0;34m\u001b[0m\u001b[0;34m\u001b[0m\u001b[0m\n",
            "\u001b[0m\u001b[0;32m      3 \u001b[0;31m\u001b[0;34m\u001b[0m\u001b[0m\n",
            "\u001b[0m\u001b[0;32m      4 \u001b[0;31m\u001b[0;32mdef\u001b[0m \u001b[0mfunc2\u001b[0m\u001b[0;34m(\u001b[0m\u001b[0mx\u001b[0m\u001b[0;34m)\u001b[0m\u001b[0;34m:\u001b[0m\u001b[0;34m\u001b[0m\u001b[0;34m\u001b[0m\u001b[0m\n",
            "\u001b[0m\u001b[0;32m      5 \u001b[0;31m    \u001b[0ma\u001b[0m \u001b[0;34m=\u001b[0m \u001b[0mx\u001b[0m\u001b[0;34m\u001b[0m\u001b[0;34m\u001b[0m\u001b[0m\n",
            "\u001b[0m\n",
            "ipdb> n\n"
          ]
        }
      ],
      "source": [
        "%debug"
      ]
    },
    {
      "cell_type": "markdown",
      "metadata": {
        "id": "LqW8E6SX7odK"
      },
      "source": [
        "![image.png](data:image/png;base64,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)"
      ]
    },
    {
      "cell_type": "markdown",
      "metadata": {
        "id": "ZMB4btsP3etV"
      },
      "source": [
        "## Instalando pacotes com pip"
      ]
    },
    {
      "cell_type": "code",
      "execution_count": null,
      "metadata": {
        "colab": {
          "base_uri": "https://localhost:8080/"
        },
        "id": "EZsVM9F_RDrX",
        "outputId": "c5615f8f-1be1-4639-f7c2-1683960be583"
      },
      "outputs": [
        {
          "name": "stdout",
          "output_type": "stream",
          "text": [
            "Looking in indexes: https://pypi.org/simple, https://us-python.pkg.dev/colab-wheels/public/simple/\n",
            "Requirement already satisfied: requests in /usr/local/lib/python3.7/dist-packages (2.23.0)\n",
            "Requirement already satisfied: certifi>=2017.4.17 in /usr/local/lib/python3.7/dist-packages (from requests) (2022.5.18.1)\n",
            "Requirement already satisfied: idna<3,>=2.5 in /usr/local/lib/python3.7/dist-packages (from requests) (2.10)\n",
            "Requirement already satisfied: chardet<4,>=3.0.2 in /usr/local/lib/python3.7/dist-packages (from requests) (3.0.4)\n",
            "Requirement already satisfied: urllib3!=1.25.0,!=1.25.1,<1.26,>=1.21.1 in /usr/local/lib/python3.7/dist-packages (from requests) (1.24.3)\n"
          ]
        }
      ],
      "source": [
        "!pip install requests"
      ]
    },
    {
      "cell_type": "markdown",
      "metadata": {
        "id": "MFTywlRpbcXg"
      },
      "source": [
        "```\n",
        "# syntax=docker/dockerfile:1\n",
        "FROM ubuntu:21.10\n",
        "\n",
        "RUN apt -y update &&\\\n",
        "    apt -y install python3 python3-pip\n",
        "\n",
        "RUN python3 -m pip install --upgrade pip\n",
        " \n",
        "ADD ./python_requirements.txt /\n",
        "RUN python3 -m pip install -r python_requirements.txt\n",
        "\n",
        "ADD ./model.py /\n",
        "ADD ./api.py /\n",
        "ADD ./model.pkl /\n",
        "\n",
        "CMD [ \"python3\", \"-u\", \"./api.py\" ]\n",
        "```"
      ]
    },
    {
      "cell_type": "markdown",
      "metadata": {
        "id": "Fi6qUP33blWI"
      },
      "source": [
        "pandas\n",
        "numpy\n",
        "flask"
      ]
    },
    {
      "cell_type": "markdown",
      "metadata": {
        "id": "X8dxZq4GRB1H"
      },
      "source": [
        "## Interagindo com a Web"
      ]
    },
    {
      "cell_type": "code",
      "execution_count": null,
      "metadata": {
        "id": "IWp8JALDRgMN"
      },
      "outputs": [],
      "source": [
        "from bs4 import BeautifulSoup\n",
        "import requests"
      ]
    },
    {
      "cell_type": "code",
      "execution_count": null,
      "metadata": {
        "colab": {
          "base_uri": "https://localhost:8080/"
        },
        "id": "DnocJBr2W6mY",
        "outputId": "a1e49172-ddbe-4308-eb66-bcb8c55d376f"
      },
      "outputs": [
        {
          "name": "stdout",
          "output_type": "stream",
          "text": [
            "Cotação do Dolar: 5,00\n"
          ]
        }
      ],
      "source": [
        "markup = '''<html><body><div id=\"container\">Cotação do Dolar: 5,00</div></body></html>'''\n",
        "soup = BeautifulSoup(markup, 'html.parser')\n",
        "\n",
        "#finding the div with the id\n",
        "div_bs4 = soup.find('div', id = \"container\")\n",
        "\n",
        "print(div_bs4.string)"
      ]
    },
    {
      "cell_type": "markdown",
      "metadata": {
        "id": "P-dcgC3oe1gG"
      },
      "source": [
        "![image.png](data:image/png;base64,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)"
      ]
    },
    {
      "cell_type": "code",
      "execution_count": null,
      "metadata": {
        "colab": {
          "base_uri": "https://localhost:8080/"
        },
        "id": "cax6Oq43YhX0",
        "outputId": "80f85cd0-daef-4972-c2a1-745c3b18528f"
      },
      "outputs": [
        {
          "name": "stdout",
          "output_type": "stream",
          "text": [
            " Div with id second\n",
            "\n",
            "      Nested div\n",
            "    \n"
          ]
        }
      ],
      "source": [
        "markup =markup = \"\"\"\n",
        "\n",
        "<!DOCTYPE>\n",
        "<html>\n",
        "<head><title>Example</title></head>\n",
        "\t<body id=\"mybody\">\n",
        "    <p id=\"myp\">\n",
        "      Nested div\n",
        "    </p>\n",
        "    <div id=\"first\"> Div with ID first\n",
        "      <div id=\"second\"> Div with id second</div>\n",
        "    </div>\n",
        "\t</body>\n",
        "</html>\n",
        "\"\"\"\n",
        "\n",
        "# parsering string to HTML\n",
        "soup = BeautifulSoup(markup, 'html.parser')\n",
        "\n",
        "#finding the div with the id\n",
        "div_bs4 = soup.find('div', id = \"second\")\n",
        "p_bs4 = soup.find('p', id = \"myp\")\n",
        "body_bs4 = soup.find('p', id = \"myp\")\n",
        "\n",
        "print(div_bs4.string)\n",
        "print(p_bs4.string)"
      ]
    },
    {
      "cell_type": "code",
      "execution_count": null,
      "metadata": {
        "colab": {
          "base_uri": "https://localhost:8080/"
        },
        "id": "Tonp5wyQUGcp",
        "outputId": "fc25e147-0df0-4c1d-eaf6-fafe0fb97877"
      },
      "outputs": [
        {
          "name": "stdout",
          "output_type": "stream",
          "text": [
            "b'HTTP/1.0 200 OK\\r\\nDate: Fri, 27 May 2022 23:16:04 GMT\\r\\nExpires: -1\\r\\nCache-Control: private, max-age=0\\r\\nContent-Type: text/html; charset=ISO-8859-1\\r\\nP3P: CP=\"This is not a P3P policy! See g.co/p3phelp for more info.\"\\r\\nServer: gws\\r\\nX-XSS-Protection: 0\\r\\nX-Frame-Options: SAMEORIGIN\\r\\nSet-Cookie: 1P_JAR=2022-05-27-23; expires=Sun, 26-Jun-2022 23:16:04 GMT; path=/; domain=.google.com; Secure\\r\\nSet-Cookie: AEC=AakniGOylRdMvoPCQoBn_PTLI8g7mzgQPkx_VPv5bESpDvdrHY3jKr-aDg; expires=Wed, 23-Nov-2022 23:16:04 GMT; path=/; domain=.google.com; Secure; HttpOnly; SameSite=lax\\r\\nSet-Cookie: NID=511=CNPhzlnADHs4tErPyqQd8XhfIs9GCdpx8xhMidXcVIzv4tlRUjy9vHgxm_H8nIki65dwjdDskg8OxPhIne9VSXl0eLI4ZaEmb5ylMi-klSx-WYcrRkupbV2q0JrvTRv7XCBVNou01BJ8o78vlW1HD6vO7Rzu14ZgSGygyTjdh_o; expires=Sat, 26-Nov-2022 23:16:04 GMT; path=/; domain=.google.com; HttpOnly\\r\\nAccept-Ranges: none\\r\\nVary: Accept-Encoding\\r\\n\\r\\n<!doctype html><html itemscope=\"\" itemtype=\"http://schema.org/WebPage\" lang=\"en\"><head><meta content=\"Search the world\\'s information, including w'b'ebpages, images, videos and more. Google has many special features to help you find exactly what you\\'re looking for.\" name=\"description\"><meta content=\"noodp\" name=\"robots\"><meta content=\"text/html; charset=UTF-8\" http-equiv=\"Content-Type\"><meta content=\"/images/branding/googleg/1x/googleg_standard_color_128dp.png\" itemprop=\"image\"><title>Google</title><script nonce=\"rRQq_7j2NazlPZv_nfINbg\">(function(){window.google={kEI:\\'tFuRYtLaKprLkvQP27-HMA\\',kEXPI:\\'0,1302536,56873,6059,206,4804,926,1390,383,246,5,1354,4013,1123753,1197707,380784,16114,17444,11240,17572,4859,1361,284,9006,3030,2815,14764,4020,978,13227,3848,10622,7432,14681,628,5081,1593,1279,2742,149,1103,840,1983,4314,109,3405,606,2023,1777,520,14670,3227,2845,7,4774,825,11851,16320,1851,15324,432,3,1590,1,5444,149,11323,991,1661,4,1528,2304,7039,20309,1714,3050,2658,7357,13658,2980,1457,15351,1435,652,5166,2539,4094,17,4035,3,3541,1,14711,27446,2,14019,2373,342,3248,1683,6470,11623,5679,1020,2381,2719,18260,1,8,7754,4567,6256,23421,1252,4588,1,8,1238,14'b'968,4332,2204,2083,1803,1394,445,2,2,1,10789,13837,1569,1,436,8047,108,1788,4607,187,100,468,231,2,3,3037,11638,10558,1230,173,7943,933,968,1920,770,4933,1837,138,1494,607,23,6865,2941,2,2583,3100,209,1917,4139,5670,260,3085,1964,564,47,218,23,2544,1527,2958,211,300,101,780,234,1174,1414,305,144,1484,12,1027,1268,2259,282,268,283,338,70,2,47,659,403,718,315,1418,5413704,74,144,13,5995368,2804424,3311,141,795,19736,1,284,14,48,23650702,299783,2862026,1180116,1964,2935,159,1358,7393,4828,2555,850,716,2,1888,920\\',kBL:\\'sVJv\\'};google.sn=\\'webhp\\';google.kHL=\\'en\\';})();(function(){\\nvar f=this||self;var h,k=[];function l(a){for(var b;a&&(!a.getAttribute||!(b=a.getAttribute(\"eid\")));)a=a.parentNode;return b||h}function m(a){for(var b=null;a&&(!a.getAttribute||!(b=a.getAttribute(\"leid\")));)a=a.parentNode;return b}\\nfunction n(a,b,c,d,g){var e=\"\";c||-1!==b.search(\"&ei=\")||(e=\"&ei=\"+l(d),-1===b.search(\"&lei=\")&&(d=m(d))&&(e+=\"&lei=\"+d));d=\"\";!c&&f._cshid&&-1===b.search(\"&cshid=\")&&\"slh\"!==a&&(d=\"&cshid=\"+f._cshid);c=c||\"/\"+'b'(g||\"gen_204\")+\"?atyp=i&ct=\"+a+\"&cad=\"+b+e+\"&zx=\"+Date.now()+d;/^http:/i.test(c)&&\"https:\"===window.location.protocol&&(google.ml&&google.ml(Error(\"a\"),!1,{src:c,glmm:1}),c=\"\");return c};h=google.kEI;google.getEI=l;google.getLEI=m;google.ml=function(){return null};google.log=function(a,b,c,d,g){if(c=n(a,b,c,d,g)){a=new Image;var e=k.length;k[e]=a;a.onerror=a.onload=a.onabort=function(){delete k[e]};a.src=c}};google.logUrl=n;}).call(this);(function(){\\ngoogle.y={};google.sy=[];google.x=function(a,b){if(a)var c=a.id;else{do c=Math.random();while(google.y[c])}google.y[c]=[a,b];return!1};google.sx=function(a){google.sy.push(a)};google.lm=[];google.plm=function(a){google.lm.push.apply(google.lm,a)};google.lq=[];google.load=function(a,b,c){google.lq.push([[a],b,c])};google.loadAll=function(a,b){google.lq.push([a,b])};google.bx=!1;google.lx=function(){};}).call(this);google.f={};(function(){\\ndocument.documentElement.addEventListener(\"submit\",function(b){var a;if(a=b.target){var c=a.getAttribute(\"data-submitfalse\");a='b'\"1\"===c||\"q\"===c&&!a.elements.q.value?!0:!1}else a=!1;a&&(b.preventDefault(),b.stopPropagation())},!0);document.documentElement.addEventListener(\"click\",function(b){var a;a:{for(a=b.target;a&&a!==document.documentElement;a=a.parentElement)if(\"A\"===a.tagName){a=\"1\"===a.getAttribute(\"data-nohref\");break a}a=!1}a&&b.preventDefault()},!0);}).call(this);</script><style>#gb{font:13px/27px Arial,sans-serif;height:30px}#gbz,#gbg{position:absolute;white-space:nowrap;top:0;height:30px;z-index:1000}#gbz{left:0;padding-left:4px}#gbg{right:0;padding-right:5px}#gbs{background:transparent;position:absolute;top:-999px;visibility:hidden;z-index:998;right:0}.gbto #gbs{background:#fff}#gbx3,#gbx4{background-color:#2d2d2d;background-image:none;_background-image:none;background-position:0 -138px;background-repeat:repeat-x;border-bottom:1px solid #000;font-size:24px;height:29px;_height:30px;opacity:1;filter:alpha(opacity=100);position:absolute;top:0;width:100%;z-index:990}#gbx3{left:0}#gbx4{right:0}#gbb{position:relative}#gbbw{lef'b't:0;position:absolute;top:30px;width:100%}.gbtcb{position:absolute;visibility:hidden}#gbz .gbtcb{right:0}#gbg .gbtcb{left:0}.gbxx{display:none !important}.gbxo{opacity:0 !important;filter:alpha(opacity=0) !important}.gbm{position:absolute;z-index:999;top:-999px;visibility:hidden;text-align:left;border:1px solid #bebebe;background:#fff;-moz-box-shadow:-1px 1px 1px rgba(0,0,0,.2);-webkit-box-shadow:0 2px 4px rgba(0,0,0,.2);box-shadow:0 2px 4px rgba(0,0,0,.2)}.gbrtl .gbm{-moz-box-shadow:1px 1px 1px rgba(0,0,0,.2)}.gbto .gbm,.gbto #gbs{top:29px;visibility:visible}#gbz .gbm{left:0}#gbg .gbm{right:0}.gbxms{background-color:#ccc;display:block;position:absolute;z-index:1;top:-1px;left:-2px;right:-2px;bottom:-2px;opacity:.4;-moz-border-radius:3px;filter:progid:DXImageTransform.Microsoft.Blur(pixelradius=5);*opacity:1;*top:-2px;*left:-5px;*right:5px;*bottom:4px;-ms-filter:\"progid:DXImageTransform.Microsoft.Blur(pixelradius=5)\";opacity:1\\\\0/;top:-4px\\\\0/;left:-6px\\\\0/;right:5px\\\\0/;bottom:4px\\\\0/}.gbma{position:relative;top:'b'-1px;border-style:solid dashed dashed;border-color:transparent;border-top-color:#c0c0c0;display:-moz-inline-box;display:inline-block;font-size:0;height:0;line-height:0;width:0;border-width:3px 3px 0;padding-top:1px;left:4px}#gbztms1,#gbi4m1,#gbi4s,#gbi4t{zoom:1}.gbtc,.gbmc,.gbmcc{display:block;list-style:none;margin:0;padding:0}.gbmc{background:#fff;padding:10px 0;position:relative;z-index:2;zoom:1}.gbt{position:relative;display:-moz-inline-box;display:inline-block;line-height:27px;padding:0;vertical-align:top}.gbt{*display:inline}.gbto{box-shadow:0 2px 4px rgba(0,0,0,.2);-moz-box-shadow:0 2px 4px rgba(0,0,0,.2);-webkit-box-shadow:0 2px 4px rgba(0,0,0,.2)}.gbzt,.gbgt{cursor:pointer;display:block;text-decoration:none !important}span#gbg6,span#gbg4{cursor:default}.gbts{border-left:1px solid transparent;border-right:1px solid transparent;display:block;*display:inline-block;padding:0 5px;position:relative;z-index:1000}.gbts{*display:inline}.gbzt .gbts{display:inline;zoom:1}.gbto .gbts{background:#fff;border-color'b':#bebebe;color:#36c;padding-bottom:1px;padding-top:2px}.gbz0l .gbts{color:#fff;font-weight:bold}.gbtsa{padding-right:9px}#gbz .gbzt,#gbz .gbgt,#gbg .gbgt{color:#ccc!important}.gbtb2{display:block;border-top:2px solid transparent}.gbto .gbzt .gbtb2,.gbto .gbgt .gbtb2{border-top-width:0}.gbtb .gbts{background:url(https://ssl.gstatic.com/gb/images/b_8d5afc09.png);_background:url(https://ssl.gstatic.com/gb/images/b8_3615d64d.png);background-position:-27px -22px;border:0;font-size:0;padding:29px 0 0;*padding:27px 0 0;width:1px}.gbzt:hover,.gbzt:focus,.gbgt-hvr,.gbgt:focus{background-color:#4c4c4c;background-image:none;_background-image:none;background-position:0 -102px;background-repeat:repeat-x;outline:none;text-decoration:none !important}.gbpdjs .gbto .gbm{min-width:99%}.gbz0l .gbtb2{border-top-color:#dd4b39!important}#gbi4s,#gbi4s1{font-weight:bold}#gbg6.gbgt-hvr,#gbg6.gbgt:focus{background-color:transparent;background-image:none}.gbg4a{font-size:0;line-height:0}.gbg4a .gbts{padding:27px 5px 0;*padding:25px 5px'b' 0}.gbto .gbg4a .gbts{padding:29px 5px 1px;*padding:27px 5px 1px}#gbi4i,#gbi4id{left:5px;border:0;height:24px;position:absolute;top:1px;width:24px}.gbto #gbi4i,.gbto #gbi4id{top:3px}.gbi4p{display:block;width:24px}#gbi4id{background-position:-44px -101px}#gbmpid{background-position:0 0}#gbmpi,#gbmpid{border:none;display:inline-block;height:48px;width:48px}#gbmpiw{display:inline-block;line-height:9px;padding-left:20px;margin-top:10px;position:relative}#gbmpi,#gbmpid,#gbmpiw{*display:inline}#gbg5{font-size:0}#gbgs5{padding:5px !important}.gbto #gbgs5{padding:7px 5px 6px !important}#gbi5{background:url(https://ssl.gstatic.com/gb/images/b_8d5afc09.png);_background:url(https://ssl.gstatic.com/gb/images/b8_3615d64d.png);background-position:0 0;display:block;font-size:0;height:17px;width:16px}.gbto #gbi5{background-position:-6px -22px}.gbn .gbmt,.gbn .gbmt:visited,.gbnd .gbmt,.gbnd .gbmt:visited{color:#dd8e27 !important}.gbf .gbmt,.gbf .gbmt:visited{color:#900 !important}.gbmt,.gbml1,.gbmlb,.gbmt:visited,.gbml1:visi'b'ted,.gbmlb:visited{color:#36c !important;text-decoration:none !important}.gbmt,.gbmt:visited{display:block}.gbml1,.gbmlb,.gbml1:visited,.gbmlb:visited{display:inline-block;margin:0 10px}.gbml1,.gbmlb,.gbml1:visited,.gbmlb:visited{*display:inline}.gbml1,.gbml1:visited{padding:0 10px}.gbml1-hvr,.gbml1:focus{outline:none;text-decoration:underline !important}#gbpm .gbml1{display:inline;margin:0;padding:0;white-space:nowrap}.gbmlb,.gbmlb:visited{line-height:27px}.gbmlb-hvr,.gbmlb:focus{outline:none;text-decoration:underline !important}.gbmlbw{color:#ccc;margin:0 10px}.gbmt{padding:0 20px}.gbmt:hover,.gbmt:focus{background:#eee;cursor:pointer;outline:0 solid black;text-decoration:none !important}.gbm0l,.gbm0l:visited{color:#000 !important;font-weight:bold}.gbmh{border-top:1px solid #bebebe;font-size:0;margin:10px 0}#gbd4 .gbmc{background:#f5f5f5;padding-top:0}#gbd4 .gbsbic::-webkit-scrollbar-track:vertical{background-color:#f5f5f5;margin-top:2px}#gbmpdv{background:#fff;border-bottom:1px solid #bebebe;-moz-box-shado'b\"w:0 2px 4px rgba(0,0,0,.12);-o-box-shadow:0 2px 4px rgba(0,0,0,.12);-webkit-box-shadow:0 2px 4px rgba(0,0,0,.12);box-shadow:0 2px 4px rgba(0,0,0,.12);position:relative;z-index:1}#gbd4 .gbmh{margin:0}.gbmtc{padding:0;margin:0;line-height:27px}.GBMCC:last-child:after,#GBMPAL:last-child:after{content:'\\\\0A\\\\0A';white-space:pre;position:absolute}#gbmps{*zoom:1}#gbd4 .gbpc,#gbmpas .gbmt{line-height:17px}#gbd4 .gbpgs .gbmtc{line-height:27px}#gbd4 .gbmtc{border-bottom:1px solid #bebebe}#gbd4 .gbpc{display:inline-block;margin:16px 0 10px;padding-right:50px;vertical-align:top}#gbd4 .gbpc{*display:inline}.gbpc .gbps,.gbpc .gbps2{display:block;margin:0 20px}#gbmplp.gbps{margin:0 10px}.gbpc .gbps{color:#000;font-weight:bold}.gbpc .gbpd{margin-bottom:5px}.gbpd .gbmt,.gbpd .gbps{color:#666 !important}.gbpd .gbmt{opacity:.4;filter:alpha(opacity=40)}.gbps2{color:#666;display:block}.gbp0{display:none}.gbp0 .gbps2{font-weight:bold}#gbd4 .gbmcc{margin-top:5px}.gbpmc{background:#fef9db}.gbpmc .gbpmtc{padding:10px 20px}#gbpm{border\"b':0;*border-collapse:collapse;border-spacing:0;margin:0;white-space:normal}#gbpm .gbpmtc{border-top:none;color:#000 !important;font:11px Arial,sans-serif}#gbpms{*white-space:nowrap}.gbpms2{font-weight:bold;white-space:nowrap}#gbmpal{*border-collapse:collapse;border-spacing:0;border:0;margin:0;white-space:nowrap;width:100%}.gbmpala,.gbmpalb{font:13px Arial,sans-serif;line-height:27px;padding:10px 20px 0;white-space:nowrap}.gbmpala{padding-left:0;text-align:left}.gbmpalb{padding-right:0;text-align:right}#gbmpasb .gbps{color:#000}#gbmpal .gbqfbb{margin:0 20px}.gbp0 .gbps{*display:inline}a.gbiba{margin:8px 20px 10px}.gbmpiaw{display:inline-block;padding-right:10px;margin-bottom:6px;margin-top:10px}.gbxv{visibility:hidden}.gbmpiaa{display:block;margin-top:10px}.gbmpia{border:none;display:block;height:48px;width:48px}.gbmpnw{display:inline-block;height:auto;margin:10px 0;vertical-align:top}\\n.gbqfb,.gbqfba,.gbqfbb{-moz-border-radius:2px;-webkit-border-radius:2px;border-radius:2px;cursor:default !important;display:inl'b'ine-block;font-weight:bold;height:29px;line-height:29px;min-width:54px;*min-width:70px;padding:0 8px;text-align:center;text-decoration:none !important;-moz-user-select:none;-webkit-user-select:none}.gbqfb:focus,.gbqfba:focus,.gbqfbb:focus{border:1px solid #4d90fe;-moz-box-shadow:inset 0 0 0 1px rgba(255, 255, 255, 0.5);-webkit-box-shadow:inset 0 0 0 1px rgba(255, 255, 255, 0.5);box-shadow:inset 0 0 0 1px rgba(255, 255, 255, 0.5);outline:none}.gbqfb-hvr:focus,.gbqfba-hvr:focus,.gbqfbb-hvr:focus{-webkit-box-shadow:inset 0 0 0 1px #fff,0 1px 1px rgba(0,0,0,.1);-moz-box-shadow:inset 0 0 0 1px #fff,0 1px 1px rgba(0,0,0,.1);box-shadow:inset 0 0 0 1px #fff,0 1px 1px rgba(0,0,0,.1)}.gbqfb-no-focus:focus{border:1px solid #3079ed;-moz-box-shadow:none;-webkit-box-shadow:none;box-shadow:none}.gbqfb-hvr,.gbqfba-hvr,.gbqfbb-hvr{-webkit-box-shadow:0 1px 1px rgba(0,0,0,.1);-moz-box-shadow:0 1px 1px rgba(0,0,0,.1);box-shadow:0 1px 1px rgba(0,0,0,.1)}.gbqfb::-moz-focus-inner,.gbqfba::-moz-focus-inner,.gbqfbb::'b\"-moz-focus-inner{border:0}.gbqfba,.gbqfbb{border:1px solid #dcdcdc;border-color:rgba(0,0,0,.1);color:#444 !important;font-size:11px}.gbqfb{background-color:#4d90fe;background-image:-webkit-gradient(linear,left top,left bottom,from(#4d90fe),to(#4787ed));background-image:-webkit-linear-gradient(top,#4d90fe,#4787ed);background-image:-moz-linear-gradient(top,#4d90fe,#4787ed);background-image:-ms-linear-gradient(top,#4d90fe,#4787ed);background-image:-o-linear-gradient(top,#4d90fe,#4787ed);background-image:linear-gradient(top,#4d90fe,#4787ed);filter:progid:DXImageTransform.Microsoft.gradient(startColorStr='#4d90fe',EndColorStr='#4787ed');border:1px solid #3079ed;color:#fff!important;margin:0 0}.gbqfb-hvr{border-color:#2f5bb7}.gbqfb-hvr:focus{border-color:#2f5bb7}.gbqfb-hvr,.gbqfb-hvr:focus{background-color:#357ae8;background-image:-webkit-gradient(linear,left top,left bottom,from(#4d90fe),to(#357ae8));background-image:-webkit-linear-gradient(top,#4d90fe,#357ae8);background-image:-moz-linear-gradient(top,#4d90fe,#35\"b\"7ae8);background-image:-ms-linear-gradient(top,#4d90fe,#357ae8);background-image:-o-linear-gradient(top,#4d90fe,#357ae8);background-image:linear-gradient(top,#4d90fe,#357ae8)}.gbqfb:active{background-color:inherit;-webkit-box-shadow:inset 0 1px 2px rgba(0, 0, 0, 0.3);-moz-box-shadow:inset 0 1px 2px rgba(0, 0, 0, 0.3);box-shadow:inset 0 1px 2px rgba(0, 0, 0, 0.3)}.gbqfba{background-color:#f5f5f5;background-image:-webkit-gradient(linear,left top,left bottom,from(#f5f5f5),to(#f1f1f1));background-image:-webkit-linear-gradient(top,#f5f5f5,#f1f1f1);background-image:-moz-linear-gradient(top,#f5f5f5,#f1f1f1);background-image:-ms-linear-gradient(top,#f5f5f5,#f1f1f1);background-image:-o-linear-gradient(top,#f5f5f5,#f1f1f1);background-image:linear-gradient(top,#f5f5f5,#f1f1f1);filter:progid:DXImageTransform.Microsoft.gradient(startColorStr='#f5f5f5',EndColorStr='#f1f1f1')}.gbqfba-hvr,.gbqfba-hvr:active{background-color:#f8f8f8;background-image:-webkit-gradient(linear,left top,left bottom,from(#f8f8f8),to(#f1f1f1));backg\"b\"round-image:-webkit-linear-gradient(top,#f8f8f8,#f1f1f1);background-image:-moz-linear-gradient(top,#f8f8f8,#f1f1f1);background-image:-ms-linear-gradient(top,#f8f8f8,#f1f1f1);background-image:-o-linear-gradient(top,#f8f8f8,#f1f1f1);background-image:linear-gradient(top,#f8f8f8,#f1f1f1);filter:progid:DXImageTransform.Microsoft.gradient(startColorStr='#f8f8f8',EndColorStr='#f1f1f1')}.gbqfbb{background-color:#fff;background-image:-webkit-gradient(linear,left top,left bottom,from(#fff),to(#fbfbfb));background-image:-webkit-linear-gradient(top,#fff,#fbfbfb);background-image:-moz-linear-gradient(top,#fff,#fbfbfb);background-image:-ms-linear-gradient(top,#fff,#fbfbfb);background-image:-o-linear-gradient(top,#fff,#fbfbfb);background-image:linear-gradient(top,#fff,#fbfbfb);filter:progid:DXImageTransform.Microsoft.gradient(startColorStr='#ffffff',EndColorStr='#fbfbfb')}.gbqfbb-hvr,.gbqfbb-hvr:active{background-color:#fff;background-image:-webkit-gradient(linear,left top,left bottom,from(#fff),to(#f8f8f8));background-imag\"b\"e:-webkit-linear-gradient(top,#fff,#f8f8f8);background-image:-moz-linear-gradient(top,#fff,#f8f8f8);background-image:-ms-linear-gradient(top,#fff,#f8f8f8);background-image:-o-linear-gradient(top,#fff,#f8f8f8);background-image:linear-gradient(top,#fff,#f8f8f8);filter:progid:DXImageTransform.Microsoft.gradient(startColorStr='#ffffff',EndColorStr='#f8f8f8')}.gbqfba-hvr,.gbqfba-hvr:active,.gbqfbb-hvr,.gbqfbb-hvr:active{border-color:#c6c6c6;-webkit-box-shadow:0 1px 1px rgba(0,0,0,.1);-moz-box-shadow:0 1px 1px rgba(0,0,0,.1);box-shadow:0 1px 1px rgba(0,0,0,.1);color:#222 !important}.gbqfba:active,.gbqfbb:active{-webkit-box-shadow:inset 0 1px 2px rgba(0,0,0,.1);-moz-box-shadow:inset 0 1px 2px rgba(0,0,0,.1);box-shadow:inset 0 1px 2px rgba(0,0,0,.1)}\\n.gbprcd{padding:0;width:258px;white-space:normal}.gbprcb{display:inline-block;height:27px;padding:0 15px;text-decoration:none}#gbprc .gbprcbc{background-color:;background-image:none;border-color:;color:!important}#gbprc .gbprcbc:hover{color:!important}#gbprc .gbprcbc:act\"b'ive,#gbprc .gbprcbc:focus{color:!important}.gbprct{color:#666;line-height:17px;margin:0;margin-bottom:20px}.gbprci{color:#333;font-size:16px;line-height:20px;margin:0;margin-bottom:16px}#gbprc .gbmc{padding:26px;padding-bottom:22px;border:1px solid #bebebe}#gbprc .gbm{border:0}#gbprc .gbprcx,#gbprc .gbprcx.gbgt-hvr,#gbprc .gbprcx:focus,#gbprc .gbprcx:active{right:12px;background:url(//ssl.gstatic.com/s2/oz/images/stars/x.png);display:block;height:9px;opacity:.8;filter:alpha(opacity=80);position:absolute;top:12px;width:9px}#gbprc .gbprcx.gbgt-hvr,#gbprc .gbprcx:focus,#gbprc .gbprcx:active{opacity:1;filter:alpha(opacity=100)}.gbgs .gbmab,.gbgs .gbmab{left:10px;margin:40px 0 0}.gbgs .gbmac,.gbgs .gbmac{left:10px;margin:41px 0 0}.gbemi .gbgs .gbmab,.gbem .gbgs .gbmab{left:10px;margin:40px 0 0}.gbemi .gbgs .gbmac,.gbem .gbgs .gbmac{left:10px;margin:41px 0 0}.gbesi .gbgs .gbmab,.gbes .gbgs .gbmab{left:10px;margin:40px 0 0}.gbesi .gbgs .gbmac,.gbes .gbgs .gbmac{left:10px;margin:41px 0 0}#gbprca .gbmab{z-index:999}#g'b'bprca .gbmac{border-bottom-color:#fff;z-index:999}#gbprcs{position:absolute;background:transparent;top:-999px;z-index:-1;visibility:hidden;margin-top:1px;margin-left:1px}\\n#gb #gbprc{right:-28px;top:15px;z-index:997}#gbprca{left:-63px;position:relative;top:-22px}.gbmab,.gbmac{left:5px;border-style:dashed dashed solid;border-color:transparent;border-bottom-color:#bebebe;border-width:0 10px 10px;display:-moz-inline-box;display:inline-block;font-size:0;height:0;line-height:0;position:absolute;top:0;width:0;z-index:1000}.gbmab,.gbmac{visibility:hidden}.gbmac{border-bottom-color:#fff}.gbto .gbmab,.gbto .gbmac{visibility:visible}#gbqfqw,#gbqfb{vertical-align:top}#gbqfbw{right:0;margin:0 15px;position:absolute;top:0}.gbqfb{background-color:#4d90fe;background-image:-webkit-gradient(linear,left top,left bottom,from(#4d90fe),to(#4787ed));background-image:-webkit-linear-gradient(top,#4d90fe,#4787ed);background-image:-moz-linear-gradient(top,#4d90fe,#4787ed);background-image:-ms-linear-gradient(top,#4d90fe,#4787ed);backgr'b\"ound-image:-o-linear-gradient(top,#4d90fe,#4787ed);background-image:linear-gradient(top,#4d90fe,#4787ed);filter:progid:DXImageTransform.Microsoft.gradient(startColorStr='#4d90fe',EndColorStr='#4787ed');border:1px solid #3079ed;-moz-border-radius:2px;-webkit-border-radius:2px;border-radius:2px;-moz-user-select:none;-webkit-user-select:none;color:#fff;cursor:default;font-size:11px;font-weight:bold;height:29px;min-width:54px;*min-width:70px;text-align:center;padding:0 8px}.gbqfb-hvr{border:1px solid #2f5bb7;background-color:#357ae8;background-image:-webkit-gradient(linear,left top,left bottom,from(#4d90fe),to(#357ae8));background-image:-webkit-linear-gradient(top,#4d90fe,#357ae8);background-image:-moz-linear-gradient(top,#4d90fe,#357ae8);background-image:-ms-linear-gradient(top,#4d90fe,#357ae8);background-image:-o-linear-gradient(top,#4d90fe,#357ae8);background-image:linear-gradient(top,#4d90fe,#357ae8);-webkit-box-shadow:0 1px 1px rgba(0,0,0,.1);-moz-box-shadow:0 1px 1px rgba(0,0,0,.1);box-shadow:0 1px 1px rgba\"b'(0,0,0,.1)}.gbqfb:focus{-moz-box-shadow:inset 0 0 0 1px #fff;-webkit-box-shadow:inset 0 0 0 1px #fff;box-shadow:inset 0 0 0 1px #fff;outline:none}.gbqfb::-moz-focus-inner{border:0}.gbqfb-hvr:focus{-moz-box-shadow:inset 0 0 0 1px #fff,0 1px 1px rgba(0,0,0,.1);-webkit-box-shadow:inset 0 0 0 1px #fff,0 1px 1px rgba(0,0,0,.1);box-shadow:inset 0 0 0 1px #fff,0 1px 1px rgba(0,0,0,.1)}.gbqfb:active{-moz-box-shadow:inset 0 1px 2px rgba(0,0,0,.3);-webkit-box-shadow:inset 0 1px 2px rgba(0,0,0,.3);box-shadow:inset 0 1px 2px rgba(0,0,0,.3)}\\n#gbmpas{max-height:220px}#gbmm{max-height:530px}.gbsb{-webkit-box-sizing:border-box;display:block;position:relative;*zoom:1}.gbsbic{overflow:auto}.gbsbis .gbsbt,.gbsbis .gbsbb{-webkit-mask-box-image:-webkit-gradient(linear,left top,right top,color-stop(0,rgba(0,0,0,.1)),color-stop(.5,rgba(0,0,0,.8)),color-stop(1,rgba(0,0,0,.1)));left:0;margin-right:0;opacity:0;position:absolute;width:100%}.gbsb .gbsbt:after,.gbsb .gbsbb:after{content:\"\";display:block;height:0;left:0;position:absolute;'b'width:100%}.gbsbis .gbsbt{background:-webkit-gradient(linear,left top,left bottom,from(rgba(0,0,0,.2)),to(rgba(0,0,0,0)));background-image:-webkit-linear-gradient(top,rgba(0,0,0,.2),rgba(0,0,0,0));background-image:-moz-linear-gradient(top,rgba(0,0,0,.2),rgba(0,0,0,0));background-image:-ms-linear-gradient(top,rgba(0,0,0,.2),rgba(0,0,0,0));background-image:-o-linear-gradient(top,rgba(0,0,0,.2),rgba(0,0,0,0));background-image:linear-gradient(top,rgba(0,0,0,.2),rgba(0,0,0,0));height:6px;top:0}.gbsb .gbsbt:after{border-top:1px solid #ebebeb;border-color:rgba(0,0,0,.3);top:0}.gbsb .gbsbb{-webkit-mask-box-image:-webkit-gradient(linear,left top,right top,color-stop(0,rgba(0,0,0,.1)),color-stop(.5,rgba(0,0,0,.8)),color-stop(1,rgba(0,0,0,.1)));background:-webkit-gradient(linear,left bottom,left top,from(rgba(0,0,0,.2)),to(rgba(0,0,0,0)));background-image:-webkit-linear-gradient(bottom,rgba(0,0,0,.2),rgba(0,0,0,0));background-image:-moz-linear-gradient(bottom,rgba(0,0,0,.2),rgba(0,0,0,0));background-image:-ms-linear-gra'b'dient(bottom,rgba(0,0,0,.2),rgba(0,0,0,0));background-image:-o-linear-gradient(bottom,rgba(0,0,0,.2),rgba(0,0,0,0));background-image:linear-gradient(bottom,rgba(0,0,0,.2),rgba(0,0,0,0));bottom:0;height:4px}.gbsb .gbsbb:after{border-bottom:1px solid #ebebeb;border-color:rgba(0,0,0,.3);bottom:0}\\n</style><style>body,td,a,p,.h{font-family:arial,sans-serif}body{margin:0;overflow-y:scroll}#gog{padding:3px 8px 0}td{line-height:.8em}.gac_m td{line-height:17px}form{margin-bottom:20px}.h{color:#1558d6}em{font-weight:bold;font-style:normal}.lst{height:25px;width:496px}.gsfi,.lst{font:18px arial,sans-serif}.gsfs{font:17px arial,sans-serif}.ds{display:inline-box;display:inline-block;margin:3px 0 4px;margin-left:4px}input{font-family:inherit}body{background:#fff;color:#000}a{color:#4b11a8;text-decoration:none}a:hover,a:active{text-decoration:underline}.fl a{color:#1558d6}a:visited{color:#4b11a8}.sblc{padding-top:5px}.sblc a{display:block;margin:2px 0;margin-left:13px;font-size:11px}.lsbb{background:#f8f9fa;border:solid 1px'b';border-color:#dadce0 #70757a #70757a #dadce0;height:30px}.lsbb{display:block}#WqQANb a{display:inline-block;margin:0 12px}.lsb{background:url(/images/nav_logo229.png) 0 -261px repeat-x;border:none;color:#000;cursor:pointer;height:30px;margin:0;outline:0;font:15px arial,sans-serif;vertical-align:top}.lsb:active{background:#dadce0}.lst:focus{outline:none}</style><script nonce=\"rRQq_7j2NazlPZv_nfINbg\">(function(){window.google.erd={jsr:1,bv:1590,de:true};\\nvar f=this||self;var g,h=null!=(g=f.mei)?g:1,m,n=null!=(m=f.sdo)?m:!0,p=0,q,r=google.erd,u=r.jsr;google.ml=function(a,b,d,k,c){c=void 0===c?2:c;b&&(q=a&&a.message);if(google.dl)return google.dl(a,c,d),null;if(0>u){window.console&&console.error(a,d);if(-2===u)throw a;b=!1}else b=!a||!a.message||\"Error loading script\"===a.message||p>=h&&!k?!1:!0;if(!b)return null;p++;d=d||{};var e=c;c=encodeURIComponent;b=\"/gen_204?atyp=i&ei=\"+c(google.kEI);google.kEXPI&&(b+=\"&jexpid=\"+c(google.kEXPI));b+=\"&srcpg=\"+c(google.sn)+\"&jsr=\"+c(r.jsr)+\"&bver=\"+c(r.bv)+(\"&jsel=\"+e);e=a.'b'lineNumber;void 0!==e&&(b+=\"&line=\"+\\ne);var l=a.fileName;l&&(b+=\"&script=\"+c(l),e&&l===window.location.href&&(e=document.documentElement.outerHTML.split(\"\\\\n\")[e],b+=\"&cad=\"+c(e?e.substring(0,300):\"No script found.\")));for(var t in d)b+=\"&\",b+=c(t),b+=\"=\",b+=c(d[t]);b=b+\"&emsg=\"+c(a.name+\": \"+a.message);b=b+\"&jsst=\"+c(a.stack||\"N/A\");12288<=b.length&&(b=b.substr(0,12288));a=b;k||google.log(0,\"\",a);return a};window.onerror=function(a,b,d,k,c){q!==a&&(a=c instanceof Error?c:Error(a),void 0===d||\"lineNumber\"in a||(a.lineNumber=d),void 0===b||\"fileName\"in a||(a.fileName=b),google.ml(a,!1,void 0,!1,\"SyntaxError\"===a.name||\"SyntaxError\"===a.message.substring(0,11)?2:0));q=null;n&&p>=h&&(window.onerror=null)};})();(function(){try{/*\\n\\n Copyright The Closure Library Authors.\\n SPDX-License-Identifier: Apache-2.0\\n*/\\nvar e=this||self;var aa=function(a,b,c,d){d=d||{};d._sn=[\"cfg\",b,c].join(\".\");window.gbar.logger.ml(a,d)};var g=window.gbar=window.gbar||{},h=window.gbar.i=window.gbar.i||{},ba;function _tvn(a,b){a=parseInt(a'b',10);return isNaN(a)?b:a}function _tvf(a,b){a=parseFloat(a);return isNaN(a)?b:a}function _tvv(a){return!!a}function p(a,b,c){(c||g)[a]=b}g.bv={n:_tvn(\"2\",0),r:\"\",f:\".66.\",e:\"\",m:_tvn(\"1\",1)};\\nfunction ca(a,b,c){var d=\"on\"+b;if(a.addEventListener)a.addEventListener(b,c,!1);else if(a.attachEvent)a.attachEvent(d,c);else{var f=a[d];a[d]=function(){var k=f.apply(this,arguments),m=c.apply(this,arguments);return void 0==k?m:void 0==m?k:m&&k}}}var da=function(a){return function(){return g.bv.m==a}},ea=da(1),fa=da(2);p(\"sb\",ea);p(\"kn\",fa);h.a=_tvv;h.b=_tvf;h.c=_tvn;h.i=aa;var r=window.gbar.i.i;var t=function(){},ha=function(){},ka=function(a){var b=new Image,c=ia;b.onerror=b.onload=b.onabort=function(){try{delete ja[c]}catch(d){}};ja[c]=b;b.src=a;ia=c+1},ja=[],ia=0;p(\"logger\",{il:ha,ml:t,log:ka});var u=window.gbar.logger;var v={},la={},w=[],ma=h.b(\"0.1\",.1),na=h.a(\"1\",!0),oa=function(a,b){w.push([a,b])},pa=function(a,b){v[a]=b},qa=function(a){return a in v},x={},A=function(a,b){x[a]||(x[a]=[]);x[a].push(b)},B=function'b'(a){A(\"m\",a)},ra=function(a,b){var c=document.createElement(\"script\");c.src=a;c.async=na;Math.random()<ma&&(c.onerror=function(){c.onerror=null;t(Error(\"Bundle load failed: name=\"+(b||\"UNK\")+\" url=\"+a))});(document.getElementById(\"xjsc\")||document.getElementsByTagName(\"body\")[0]||\\ndocument.getElementsByTagName(\"head\")[0]).appendChild(c)},D=function(a){for(var b=0,c;(c=w[b])&&c[0]!=a;++b);!c||c[1].l||c[1].s||(c[1].s=!0,sa(2,a),c[1].url&&ra(c[1].url,a),c[1].libs&&C&&C(c[1].libs))},ta=function(a){A(\"gc\",a)},ua=null,va=function(a){ua=a},sa=function(a,b,c){if(ua){a={t:a,b:b};if(c)for(var d in c)a[d]=c[d];try{ua(a)}catch(f){}}};p(\"mdc\",v);p(\"mdi\",la);p(\"bnc\",w);p(\"qGC\",ta);p(\"qm\",B);p(\"qd\",x);p(\"lb\",D);p(\"mcf\",pa);p(\"bcf\",oa);p(\"aq\",A);p(\"mdd\",\"\");\\np(\"has\",qa);p(\"trh\",va);p(\"tev\",sa);if(h.a(\"m;/_/scs/abc-static/_/js/k=gapi.gapi.en.BYmJjssVfqI.O/d=1/rs=AHpOoo80_DzWbqWOZXEixUAk9-Z2HYlC7A/m=__features__\")){var F=function(a,b){return wa?a||b:b},xa=h.a(\"1\"),ya=h.a(\"\"),za=h.a(\"\"),wa=h.a(\"\"),Aa=window.gapi=F(window.gapi,{'b'}),Ba=function(a,b){var c=function(){g.dgl(a,b)};xa?B(c):(A(\"gl\",c),D(\"gl\"))},Ca={},Da=function(a){a=a.split(\":\");for(var b;(b=a.pop())&&Ca[b];);return!b},C=function(a){function b(){for(var c=a.split(\":\"),d=0,f;f=c[d];++d)Ca[f]=1;for(c=0;d=w[c];++c)d=d[1],(f=d.libs)&&!d.l&&d.i&&\\nDa(f)&&d.i()}g.dgl(a,b)},G=window.___jsl=F(window.___jsl,{});G.h=F(G.h,\"m;/_/scs/abc-static/_/js/k=gapi.gapi.en.BYmJjssVfqI.O/d=1/rs=AHpOoo80_DzWbqWOZXEixUAk9-Z2HYlC7A/m=__features__\");G.ms=F(G.ms,\"https://apis.google.com\");G.m=F(G.m,\"\");G.l=F(G.l,[]);G.dpo=F(G.dpo,\"\");xa||w.push([\"gl\",{url:\"//ssl.gstatic.com/gb/js/abc/glm_e7bb39a7e1a24581ff4f8d199678b1b9.js\"}]);var Ea={pu:ya,sh:\"\",si:za,hl:\"en\"};v.gl=Ea;wa?Aa.load||p(\"load\",Ba,Aa):p(\"load\",Ba,Aa);p(\"dgl\",Ba);p(\"agl\",Da);h.o=xa};var Fa=h.b(\"0.1\",.001),Ga=0;\\nfunction _mlToken(a,b){try{if(1>Ga){Ga++;var c=a;b=b||{};var d=encodeURIComponent,f=[\"//www.google.com/gen_204?atyp=i&zx=\",(new Date).getTime(),\"&jexpid=\",d(\"28834\"),\"&srcpg=\",d(\"prop=1\"),\"&jsr=\",Math.round(1/Fa),\"&ogev=\",d(\"tFuRYv'b'yGLezCkvQP-JSE-AQ\"),\"&ogf=\",g.bv.f,\"&ogrp=\",d(\"\"),\"&ogv=\",d(\"450331791.0\"),\"&oggv=\"+d(\"es_plusone_gc_20220502.0_p0\"),\"&ogd=\",d(\"com\"),\"&ogc=\",d(\"USA\"),\"&ogl=\",d(\"en\")];b._sn&&(b._sn=\\n\"og.\"+b._sn);for(var k in b)f.push(\"&\"),f.push(d(k)),f.push(\"=\"),f.push(d(b[k]));f.push(\"&emsg=\");f.push(d(c.name+\":\"+c.message));var m=f.join(\"\");Ha(m)&&(m=m.substr(0,2E3));var n=m;var l=window.gbar.logger._aem(a,n);ka(l)}}catch(q){}}var Ha=function(a){return 2E3<=a.length},Ia=function(a,b){return b};function Ja(a){t=a;p(\"_itl\",Ha,u);p(\"_aem\",Ia,u);p(\"ml\",t,u);a={};v.er=a}h.a(\"\")?Ja(function(a){throw a;}):h.a(\"1\")&&Math.random()<Fa&&Ja(_mlToken);var _E=\"left\",Ka=h.a(\"\"),La=h.a(\"\"),J=function(a,b){var c=a.className;H(a,b)||(a.className+=(\"\"!=c?\" \":\"\")+b)},K=function(a,b){var c=a.className;b=new RegExp(\"\\\\\\\\s?\\\\\\\\b\"+b+\"\\\\\\\\b\");c&&c.match(b)&&(a.className=c.replace(b,\"\"))},H=function(a,b){b=new RegExp(\"\\\\\\\\b\"+b+\"\\\\\\\\b\");a=a.className;return!(!a||!a.match(b))},Ma=function(a,b){H(a,b)?K(a,b):J(a,b)},Na=function(a,b){a[b]=function(c){var d=argu'b'ments;g.qm(function(){a[b].apply(this,d)})}},Oa=function(a){a=\\n[La?\"\":\"https://www.gstatic.com\",\"/og/_/js/d=1/k=\",\"og.og2.en_US.Wz9QMKUuSoA.O\",\"/rt=j/m=\",a,\"/rs=\",\"AA2YrTtKA0RtbIOWgK3L2VwDYlAFuCG4IA\"];Ka&&a.push(\"?host=www.gstatic.com&bust=og.og2.en_US.Tdb7FSrmtwk.DU\");a=a.join(\"\");ra(a)};p(\"ca\",J);p(\"cr\",K);p(\"cc\",H);h.k=J;h.l=K;h.m=H;h.n=Ma;h.p=Oa;h.q=Na;var Pa=[\"gb_71\",\"gb_155\"],Qa;function Ra(a){Qa=a}function Sa(a){var b=Qa&&!a.href.match(/.*\\\\/accounts\\\\/ClearSID[?]/)&&encodeURIComponent(Qa());b&&(a.href=a.href.replace(/([?&]continue=)[^&]*/,\"$1\"+b))}function Ta(a){window.gApplication&&(a.href=window.gApplication.getTabUrl(a.href))}function Ua(a){try{var b=(document.forms[0].q||\"\").value;b&&(a.href=a.href.replace(/([?&])q=[^&]*|$/,function(c,d){return(d||\"&\")+\"q=\"+encodeURIComponent(b)}))}catch(c){r(c,\"sb\",\"pq\")}}\\nvar Va=function(){for(var a=[],b=0,c;c=Pa[b];++b)(c=document.getElementById(c))&&a.push(c);return a},Wa=function(){var a=Va();return 0<a.length?a[0]:null},Xa=function(){return document.getElement'b'ById(\"gb_70\")},L={},M={},Ya={},N={},O=void 0,cb=function(a,b){try{var c=document.getElementById(\"gb\");J(c,\"gbpdjs\");P();Za(document.getElementById(\"gb\"))&&J(c,\"gbrtl\");if(b&&b.getAttribute){var d=b.getAttribute(\"aria-owns\");if(d.length){var f=document.getElementById(d);if(f){var k=b.parentNode;if(O==d)O=void 0,\\nK(k,\"gbto\");else{if(O){var m=document.getElementById(O);if(m&&m.getAttribute){var n=m.getAttribute(\"aria-owner\");if(n.length){var l=document.getElementById(n);l&&l.parentNode&&K(l.parentNode,\"gbto\")}}}$a(f)&&ab(f);O=d;J(k,\"gbto\")}}}}B(function(){g.tg(a,b,!0)});bb(a)}catch(q){r(q,\"sb\",\"tg\")}},db=function(a){B(function(){g.close(a)})},eb=function(a){B(function(){g.rdd(a)})},Za=function(a){var b,c=document.defaultView;c&&c.getComputedStyle?(a=c.getComputedStyle(a,\"\"))&&(b=a.direction):b=a.currentStyle?\\na.currentStyle.direction:a.style.direction;return\"rtl\"==b},gb=function(a,b,c){if(a)try{var d=document.getElementById(\"gbd5\");if(d){var f=d.firstChild,k=f.firstChild,m=document.createElement(\"li\");m.classNam'b'e=b+\" gbmtc\";m.id=c;a.className=\"gbmt\";m.appendChild(a);if(k.hasChildNodes()){c=[[\"gbkc\"],[\"gbf\",\"gbe\",\"gbn\"],[\"gbkp\"],[\"gbnd\"]];d=0;var n=k.childNodes.length;f=!1;for(var l=-1,q=0,E;E=c[q];q++){for(var U=0,I;I=E[U];U++){for(;d<n&&H(k.childNodes[d],I);)d++;if(I==b){k.insertBefore(m,k.childNodes[d]||\\nnull);f=!0;break}}if(f){if(d+1<k.childNodes.length){var V=k.childNodes[d+1];H(V.firstChild,\"gbmh\")||fb(V,E)||(l=d+1)}else if(0<=d-1){var W=k.childNodes[d-1];H(W.firstChild,\"gbmh\")||fb(W,E)||(l=d)}break}0<d&&d+1<n&&d++}if(0<=l){var y=document.createElement(\"li\"),z=document.createElement(\"div\");y.className=\"gbmtc\";z.className=\"gbmt gbmh\";y.appendChild(z);k.insertBefore(y,k.childNodes[l])}g.addHover&&g.addHover(a)}else k.appendChild(m)}}catch(Eb){r(Eb,\"sb\",\"al\")}},fb=function(a,b){for(var c=b.length,\\nd=0;d<c;d++)if(H(a,b[d]))return!0;return!1},hb=function(a,b,c){gb(a,b,c)},ib=function(a,b){gb(a,\"gbe\",b)},jb=function(){B(function(){g.pcm&&g.pcm()})},kb=function(){B(function(){g.pca&&g.pca()})},lb=function(a,b,c,d,f,k,'b'm,n,l,q){B(function(){g.paa&&g.paa(a,b,c,d,f,k,m,n,l,q)})},mb=function(a,b){L[a]||(L[a]=[]);L[a].push(b)},nb=function(a,b){M[a]||(M[a]=[]);M[a].push(b)},ob=function(a,b){Ya[a]=b},pb=function(a,b){N[a]||(N[a]=[]);N[a].push(b)},bb=function(a){a.preventDefault&&a.preventDefault();a.returnValue=\\n!1;a.cancelBubble=!0},qb=null,ab=function(a,b){P();if(a){rb(a,\"Opening&hellip;\");Q(a,!0);b=\"undefined\"!=typeof b?b:1E4;var c=function(){sb(a)};qb=window.setTimeout(c,b)}},tb=function(a){P();a&&(Q(a,!1),rb(a,\"\"))},sb=function(a){try{P();var b=a||document.getElementById(O);b&&(rb(b,\"This service is currently unavailable.%1$sPlease try again later.\",\"%1$s\"),Q(b,!0))}catch(c){r(c,\"sb\",\"sdhe\")}},rb=function(a,b,c){if(a&&b){var d=$a(a);if(d){if(c){d.textContent=\"\";b=b.split(c);c=0;for(var f;f=b[c];c++){var k=document.createElement(\"div\");\\nk.innerHTML=f;d.appendChild(k)}}else d.innerHTML=b;Q(a,!0)}}},Q='b'function(a,b){(b=void 0!==b?b:!0)?J(a,\"gbmsgo\"):K(a,\"gbmsgo\")},$a=function(a){for(var b=0,c;c=a.childNodes[b];b++)if(H(c,\"gbmsg\"))return c},P=function(){qb&&window.clearTimeout(qb)},ub=function(a){var b=\"inner\"+a;a=\"offset\"+a;return window[b]?window[b]:document.documentElement&&document.documentElement[a]?document.documentElement[a]:0},vb=function(){return!1},wb=function(){return!!O};p(\"so\",Wa);p(\"sos\",Va);p(\"si\",Xa);p(\"tg\",cb);\\np(\"close\",db);p(\"rdd\",eb);p(\"addLink\",hb);p(\"addExtraLink\",ib);p(\"pcm\",jb);p(\"pca\",kb);p(\"paa\",lb);p(\"ddld\",ab);p(\"ddrd\",tb);p(\"dderr\",sb);p(\"rtl\",Za);p(\"op\",wb);p(\"bh\",L);p(\"abh\",mb);p(\"dh\",M);p(\"adh\",nb);p(\"ch\",N);p(\"ach\",pb);p(\"eh\",Ya);p(\"aeh\",ob);ba=h.a(\"\")?Ta:Ua;p(\"qs\",ba);p(\"setContinueCb\",Ra);p(\"pc\",Sa);p(\"bsy\",vb);h.d=bb;h.j=ub;var xb={};v.base=xb;w.push([\"m\",{url:\"//ssl.gstatic.com/gb/js/sem_2bfa63c46f622de4095b0f1b523920cb.js\"}]);g.sg={c:\"1\"};p(\"wg\",{rg:{}});var yb={tiw:h.c(\"15000\",0),tie:h.c(\"30000\",0)};v.wg=yb;var zb={thi:h.c(\"10000\",0),thp:h.c(\"180000\",0),tho:h.c(\"5000\",0'b'),tet:h.b(\"0.5\",0)};v.wm=zb;if(h.a(\"1\")){var Ab=h.a(\"\");w.push([\"gc\",{auto:Ab,url:\"//ssl.gstatic.com/gb/js/abc/gci_91f30755d6a6b787dcc2a4062e6e9824.js\",libs:\"googleapis.client:gapi.iframes\"}]);var Bb={version:\"gci_91f30755d6a6b787dcc2a4062e6e9824.js\",index:\"\",lang:\"en\"};v.gc=Bb;var Cb=function(a){window.googleapis&&window.iframes?a&&a():(a&&ta(a),D(\"gc\"))};p(\"lGC\",Cb);h.a(\"1\")&&p(\"lPWF\",Cb)};window.__PVT=\"\";if(h.a(\"1\")&&h.a(\"1\")){var Db=function(a){Cb(function(){A(\"pw\",a);D(\"pw\")})};p(\"lPW\",Db);w.push([\"pw\",{url:\"//ssl.gstatic.com/gb/js/abc/pwm_45f73e4df07a0e388b0fa1f3d30e7280.js\"}]);var Fb=[],Gb=function(a){Fb[0]=a},Hb=function(a,b){b=b||{};b._sn=\"pw\";t(a,b)},Ib={signed:Fb,elog:Hb,base:\"https://plusone.google.com/u/0\",loadTime:(new Date).getTime()};v.pw=Ib;var Jb=function(a,b){var c=b.split(\".\");b=function(){var m=arguments;a(function(){for(var n=g,l=0,q=c.length-1;l<q;++l)n=n[c[l]];n[c[l]].apply(n,m)})};for(var d=g,f=0,k=c.length-1;f<\\nk;++f)d=d[c[f]]=d[c[f]]||{};return d[c[f]]=b};Jb(Db,\"pw.clk\");Jb(Db,\"pw.h'b'vr\");p(\"su\",Gb,g.pw)};var Kb=[1,2,3,4,5,6,9,10,11,13,14,28,29,30,34,35,37,38,39,40,41,42,43,48,49,500];var Lb=h.b(\"0.001\",1E-4),Mb=h.b(\"1\",1),Nb=!1,Ob=!1;if(h.a(\"1\")){var Pb=Math.random();Pb<Lb&&(Nb=!0);Pb<Mb&&(Ob=!0)}var R=null;\\nfunction Qb(a,b){var c=Lb,d=Nb;var f=a;if(!R){R={};for(var k=0;k<Kb.length;k++){var m=Kb[k];R[m]=!0}}if(f=!!R[f])c=Mb,d=Ob;if(d){d=encodeURIComponent;if(g.rp){var n=g.rp();n=\"-1\"!=n?n:\"\"}else n=\"\";f=(new Date).getTime();k=d(\"28834\");m=d(\"tFuRYvyGLezCkvQP-JSE-AQ\");var l=g.bv.f,q=d(\"1\");n=d(n);c=Math.round(1/c);var E=d(\"450331791.0\"),U=\"&oggv=\"+d(\"es_plusone_gc_20220502.0_p0\"),I=d(\"com\"),V=d(\"en\"),W=\\nd(\"USA\");var y=0;h.a(\"\")&&(y|=1);h.a(\"\")&&(y|=2);h.a(\"\")&&(y|=4);a=[\"//www.google.com/gen_204?atyp=i&zx=\",f,\"&oge=\",a,\"&ogex=\",k,\"&ogev=\",m,\"&ogf=\",l,\"&ogp=\",q,\"&ogrp=\",n,\"&ogsr=\",c,\"&ogv=\",E,U,\"&ogd=\",I,\"&ogl=\",V,\"&ogc=\",W,\"&ogus=\",y];if(b){\"ogw\"in b&&(a.push(\"&ogw=\"+b.ogw),delete b.ogw);f=[];for(z in b)0!=f.length&&f.push(\",\"),f.push(Rb(z)),f.push(\".\"),f.push(Rb(b[z]));var z=f.join(\"\");\"'b'\"!=z&&(a.push(\"&ogad=\"),a.push(d(z)))}ka(a.join(\"\"))}}\\nfunction Rb(a){\"number\"==typeof a&&(a+=\"\");return\"string\"==typeof a?a.replace(\".\",\"%2E\").replace(\",\",\"%2C\"):a}ha=Qb;p(\"il\",ha,u);var Sb={};v.il=Sb;var Tb=function(a,b,c,d,f,k,m,n,l,q){B(function(){g.paa(a,b,c,d,f,k,m,n,l,q)})},Ub=function(){B(function(){g.prm()})},Vb=function(a){B(function(){g.spn(a)})},Wb=function(a){B(function(){g.sps(a)})},Xb=function(a){B(function(){g.spp(a)})},Yb={\"27\":\"https://lh3.googleusercontent.com/ogw/default-user=s24\",\"27\":\"https://lh3.googleusercontent.com/ogw/default-user=s24\",\"27\":\"https://lh3.googleusercontent.com/ogw/default-user=s24\"},Zb=function(a){return(a=Yb[a])||\"https://lh3.googleusercontent.com/ogw/default-user=s24\"},\\n$b=function(){B(function(){g.spd()})};p(\"spn\",Vb);p(\"spp\",Xb);p(\"sps\",Wb);p(\"spd\",$b);p(\"paa\",Tb);p(\"prm\",Ub);mb(\"gbd4\",Ub);\\nif(h.a(\"\")){var ac={d:h.a(\"\"),e:\"\",sanw:h.a(\"\"),p:\"https://lh3.googleusercontent.com/ogw/default-user=s96\",cp:\"1\",xp:h.a(\"1\"),mg:\"%1$s (delegated)\",md:\"%1$s (default)\",mh:\"220\",'b's:\"1\",pp:Zb,ppl:h.a(\"\"),ppa:h.a(\"\"),\\nppm:\"Google+ page\"};v.prf=ac};var S,bc,T,cc,X=0,dc=function(a,b,c){if(a.indexOf)return a.indexOf(b,c);if(Array.indexOf)return Array.indexOf(a,b,c);for(c=null==c?0:0>c?Math.max(0,a.length+c):c;c<a.length;c++)if(c in a&&a[c]===b)return c;return-1},Y=function(a,b){return-1==dc(a,X)?(r(Error(X+\"_\"+b),\"up\",\"caa\"),!1):!0},fc=function(a,b){Y([1,2],\"r\")&&(S[a]=S[a]||[],S[a].push(b),2==X&&window.setTimeout(function(){b(ec(a))},0))},gc=function(a,b,c){if(Y([1],\"nap\")&&c){for(var d=0;d<c.length;d++)bc[c[d]]=!0;g.up.spl(a,b,\"nap\",c)}},hc=\\nfunction(a,b,c){if(Y([1],\"aop\")&&c){if(T)for(var d in T)T[d]=T[d]&&-1!=dc(c,d);else for(T={},d=0;d<c.length;d++)T[c[d]]=!0;g.up.spl(a,b,\"aop\",c)}},ic=function(){try{if(X=2,!cc){cc=!0;for(var a in S)for(var b=S[a],c=0;c<b.length;c++)try{b[c](ec(a))}catch(d){r(d,\"up\",\"tp\")}}}catch(d){r(d,\"up\",\"mtp\")}},ec=function(a){if(Y([2],\"ssp\")){var b=!bc[a];T&&(b=b&&!!T[a]);return b}};cc=!1;S={};bc={};T=null;X=1;\\nvar jc=function(a){var b=!1;try{b=a.cookie&&a.cooki'b'e.match(\"PREF\")}catch(c){}return!b},kc=function(){try{return!!e.localStorage&&\"object\"==typeof e.localStorage}catch(a){return!1}},lc=function(a){return a&&a.style&&a.style.behavior&&\"undefined\"!=typeof a.load},mc=function(a,b,c,d){try{jc(document)||(d||(b=\"og-up-\"+b),kc()?e.localStorage.setItem(b,c):lc(a)&&(a.setAttribute(b,c),a.save(a.id)))}catch(f){f.code!=DOMException.QUOTA_EXCEEDED_ERR&&r(f,\"up\",\"spd\")}},nc=function(a,b,c){try{if(jc(document))return\"\";\\nc||(b=\"og-up-\"+b);if(kc())return e.localStorage.getItem(b);if(lc(a))return a.load(a.id),a.getAttribute(b)}catch(d){d.code!=DOMException.QUOTA_EXCEEDED_ERR&&r(d,\"up\",\"gpd\")}return\"\"},oc=function(a,b,c){a.addEventListener?a.addEventListener(b,c,!1):a.attachEvent&&a.attachEvent(\"on\"+b,c)},pc=function(a){for(var b=0,c;c=a[b];b++){var d=g.up;c=c in d&&d[c];if(!c)return!1}return!0},qc=function(a,b){try{if(jc(a))return-1;var c=a.cookie.match(/OGPC=([^;]*)/);if(c&&c[1]){var d=c[1].match(new RegExp(\"\\\\\\\\b\"+\\nb+\"-([0-9]+):\"));if(d&&d[1])return parseInt(d[1],10)}}catch(f'b'){f.code!=DOMException.QUOTA_EXCEEDED_ERR&&r(f,\"up\",\"gcc\")}return-1};p(\"up\",{r:fc,nap:gc,aop:hc,tp:ic,ssp:ec,spd:mc,gpd:nc,aeh:oc,aal:pc,gcc:qc});var Z=function(a,b){a[b]=function(c){var d=arguments;g.qm(function(){a[b].apply(this,d)})}};Z(g.up,\"sl\");Z(g.up,\"si\");Z(g.up,\"spl\");Z(g.up,\"dpc\");Z(g.up,\"iic\");g.mcf(\"up\",{sp:h.b(\"0.01\",1),tld:\"com\",prid:\"1\"});function rc(){function a(){for(var l;(l=k[m++])&&\"m\"!=l[0]&&!l[1].auto;);l&&(sa(2,l[0]),l[1].url&&ra(l[1].url,l[0]),l[1].libs&&C&&C(l[1].libs));m<k.length&&setTimeout(a,0)}function b(){0<f--?setTimeout(b,0):a()}var c=h.a(\"1\"),d=h.a(\"\"),f=3,k=w,m=0,n=window.gbarOnReady;if(n)try{n()}catch(l){r(l,\"ml\",\"or\")}d?p(\"ldb\",a):c?ca(window,\"load\",b):b()}p(\"rdl\",rc);}catch(e){window.gbar&&gbar.logger&&gbar.logger.ml(e,{\"_sn\":\"cfg.init\"});}})();\\n(function(){try{/*\\n\\n Copyright The Closure Library Authors.\\n SPDX-License-Identifier: Apache-2.0\\n*/\\nvar b=window.gbar.i.i;var c=window.gbar;var f=function(d){try{var a=document.getElementById(\"gbom\");a&&d.appendChild(a.cloneNode(!0'b'))}catch(e){b(e,\"omas\",\"aomc\")}};c.aomc=f;}catch(e){window.gbar&&gbar.logger&&gbar.logger.ml(e,{\"_sn\":\"cfg.init\"});}})();\\n(function(){try{/*\\n\\n Copyright The Closure Library Authors.\\n SPDX-License-Identifier: Apache-2.0\\n*/\\nvar a=window.gbar;a.mcf(\"pm\",{p:\"19027682,efF,7,,\"});}catch(e){window.gbar&&gbar.logger&&gbar.logger.ml(e,{\"_sn\":\"cfg.init\"});}})();\\n(function(){try{/*\\n\\n Copyright The Closure Library Authors.\\n SPDX-License-Identifier: Apache-2.0\\n*/\\nvar a=window.gbar;a.mcf(\"mm\",{s:\"1\"});}catch(e){window.gbar&&gbar.logger&&gbar.logger.ml(e,{\"_sn\":\"cfg.init\"});}})();\\n(function(){try{/*\\n\\n Copyright The Closure Library Authors.\\n SPDX-License-Identifier: Apache-2.0\\n*/\\nvar d=window.gbar.i.i;var e=window.gbar;var f=e.i;var g=f.c(\"1\",0),h=/\\\\bgbmt\\\\b/,k=function(a){try{var b=document.getElementById(\"gb_\"+g),c=document.getElementById(\"gb_\"+a);b&&f.l(b,h.test(b.className)?\"gbm0l\":\"gbz0l\");c&&f.k(c,h.test(c.className)?\"gbm0l\":\"gbz0l\")}catch(l){d(l,\"sj\",\"ssp\")}g=a},m=e.qs,n=function(a){var b=a.href;var c=window.location.h'b'ref.match(/.*?:\\\\/\\\\/[^\\\\/]*/)[0];c=new RegExp(\"^\"+c+\"/search\\\\\\\\?\");(b=c.test(b))&&!/(^|\\\\\\\\?|&)ei=/.test(a.href)&&(b=window.google)&&b.kEXPI&&(a.href+=\"&ei=\"+b.kEI)},p=function(a){m(a);\\nn(a)},q=function(){if(window.google&&window.google.sn){var a=/.*hp$/;return a.test(window.google.sn)?\"\":\"1\"}return\"-1\"};e.rp=q;e.slp=k;e.qs=p;e.qsi=n;}catch(e){window.gbar&&gbar.logger&&gbar.logger.ml(e,{\"_sn\":\"cfg.init\"});}})();\\n(function(){try{/*\\n\\n Copyright The Closure Library Authors.\\n SPDX-License-Identifier: Apache-2.0\\n*/\\nvar a=this||self;var b=window.gbar;var c=b.i;var d=c.a,e=c.c,f={cty:\"USA\",cv:\"450331791\",dbg:d(\"\"),ecv:\"0\",ei:e(\"tFuRYvyGLezCkvQP-JSE-AQ\"),ele:d(\"1\"),esr:e(\"0.1\"),evts:[\"mousedown\",\"touchstart\",\"touchmove\",\"wheel\",\"keydown\"],gbl:\"es_plusone_gc_20220502.0_p0\",hd:\"com\",hl:\"en\",irp:d(\"\"),pid:e(\"1\"),\\nsnid:e(\"28834\"),to:e(\"300000\"),u:e(\"\"),vf:\".66.\"},g=f,h=[\"bndcfg\"],k=a;h[0]in k||\"undefined\"==typeof k.execScript||k.execScript(\"var \"+h[0]);for(var l;h.length&&(l=h.shift());)h.length||void 0===g?k=k[l]&&k[l]!==Obj'b'ect.prototype[l]?k[l]:k[l]={}:k[l]=g;}catch(e){window.gbar&&gbar.logger&&gbar.logger.ml(e,{\"_sn\":\"cfg.init\"});}})();\\n(function(){try{/*\\n\\n Copyright The Closure Library Authors.\\n SPDX-License-Identifier: Apache-2.0\\n*/\\nwindow.gbar.rdl();}catch(e){window.gbar&&gbar.logger&&gbar.logger.ml(e,{\"_sn\":\"cfg.init\"});}})();\\n</script></head><body bgcolor=\"#fff\"><script nonce=\"rRQq_7j2NazlPZv_nfINbg\">(function(){var src=\\'/images/nav_logo229.png\\';var iesg=false;document.body.onload = function(){window.n && window.n();if (document.images){new Image().src=src;}\\nif (!iesg){document.f&&document.f.q.focus();document.gbqf&&document.gbqf.q.focus();}\\n}\\n})();</script><div id=\"mngb\"><div id=gb><script nonce=\\'rRQq_7j2NazlPZv_nfINbg\\'>window.gbar&&gbar.eli&&gbar.eli()</script><div id=gbw><div id=gbz><span class=gbtcb></span><ol id=gbzc class=gbtc><li class=gbt><a class=\"gbzt gbz0l gbp1\" id=gb_1 href=\"https://www.google.com/webhp?tab=ww\"><span class=gbtb2></span><span class=gbts>Search</span></a></li><li class=gbt><a class=gbzt id=gb_2 'b'href=\"http://www.google.com/imghp?hl=en&tab=wi\"><span class=gbtb2></span><span class=gbts>Images</span></a></li><li class=gbt><a class=gbzt id=gb_8 href=\"http://maps.google.com/maps?hl=en&tab=wl\"><span class=gbtb2></span><span class=gbts>Maps</span></a></li><li class=gbt><a class=gbzt id=gb_78 href=\"https://play.google.com/?hl=en&tab=w8\"><span class=gbtb2></span><span class=gbts>Play</span></a></li><li class=gbt><a class=gbzt id=gb_36 href=\"http://www.youtube.com/?gl=US&tab=w1\"><span class=gbtb2></span><span class=gbts>YouTube</span></a></li><li class=gbt><a class=gbzt id=gb_426 href=\"https://news.google.com/?tab=wn\"><span class=gbtb2></span><span class=gbts>News</span></a></li><li class=gbt><a class=gbzt id=gb_23 href=\"https://mail.google.com/mail/?tab=wm\"><span class=gbtb2></span><span class=gbts>Gmail</span></a></li><li class=gbt><a class=gbzt id=gb_49 href=\"https://drive.google.com/?tab=wo\"><span class=gbtb2></span><span class=gbts>Drive</span></a></li><li class=gbt><a class=gbgt id=gbztm href=\"https://ww'b'w.google.com/intl/en/about/products?tab=wh\"  aria-haspopup=true aria-owns=gbd><span class=gbtb2></span><span id=gbztms class=\"gbts gbtsa\"><span id=gbztms1>More</span><span class=gbma></span></span></a><script nonce=\\'rRQq_7j2NazlPZv_nfINbg\\'>document.getElementById(\\'gbztm\\').addEventListener(\\'click\\', function clickHandler() { gbar.tg(event,this); });</script><div class=gbm id=gbd aria-owner=gbztm><div id=gbmmb class=\"gbmc gbsb gbsbis\"><ol id=gbmm class=\"gbmcc gbsbic\"><li class=gbmtc><a class=gbmt id=gb_24 href=\"https://calendar.google.com/calendar?tab=wc\">Calendar</a></li><li class=gbmtc><a class=gbmt id=gb_51 href=\"https://translate.google.com/?hl=en&tab=wT\">Translate</a></li><li class=gbmtc><a class=gbmt id=gb_17 href=\"http://www.google.com/mobile/?hl=en&tab=wD\">Mobile</a></li><li class=gbmtc><a class=gbmt id=gb_10 href=\"https://books.google.com/?hl=en&tab=wp\">Books</a></li><li class=gbmtc><a class=gbmt id=gb_6 href=\"https://www.google.com/shopping?hl=en&source=og&tab=wf\">Shopping</a></li><li class=gbmtc><a cl'b'ass=gbmt id=gb_30 href=\"http://www.blogger.com/?tab=wj\">Blogger</a></li><li class=gbmtc><a class=gbmt id=gb_27 href=\"https://www.google.com/finance?tab=we\">Finance</a></li><li class=gbmtc><a class=gbmt id=gb_31 href=\"https://photos.google.com/?tab=wq&pageId=none\">Photos</a></li><li class=gbmtc><a class=gbmt id=gb_12 href=\"http://video.google.com/?hl=en&tab=wv\">Videos</a></li><li class=gbmtc><a class=gbmt id=gb_25 href=\"https://docs.google.com/document/?usp=docs_alc\">Docs</a></li><li class=gbmtc><div class=\"gbmt gbmh\"></div></li><li class=gbmtc><a  href=\"https://www.google.com/intl/en/about/products?tab=wh\" class=gbmt>Even more &raquo;</a><script nonce=\\'rRQq_7j2NazlPZv_nfINbg\\'>document.querySelector(\\'li > a.gbmt\\').addEventListener(\\'click\\', function clickHandler() { gbar.logger.il(1,{t:66});; });</script></li></ol><div class=gbsbt></div><div class=gbsbb></div></div></div></li></ol></div><div id=gbg><h2 class=gbxx>Account Options</h2><span class=gbtcb></span><ol class=gbtc><li class=gbt><a target=_top href=\"http'b's://accounts.google.com/ServiceLogin?hl=en&passive=true&continue=http://www.google.com/&ec=GAZAAQ\" onclick=\"gbar.logger.il(9,{l:\\'i\\'})\" id=gb_70 class=gbgt><span class=gbtb2></span><span id=gbgs4 class=gbts><span id=gbi4s1>Sign in</span></span></a></li><li class=\"gbt gbtb\"><span class=gbts></span></li><li class=gbt><a class=gbgt id=gbg5 href=\"http://www.google.com/preferences?hl=en\" title=\"Options\" aria-haspopup=true aria-owns=gbd5><span class=gbtb2></span><span id=gbgs5 class=gbts><span id=gbi5></span></span></a><script nonce=\\'rRQq_7j2NazlPZv_nfINbg\\'>document.getElementById(\\'gbg5\\').addEventListener(\\'click\\', function clickHandler() { gbar.tg(event,this); });</script><div class=gbm id=gbd5 aria-owner=gbg5><div class=gbmc><ol id=gbom class=gbmcc><li class=\"gbkc gbmtc\"><a  class=gbmt href=\"/preferences?hl=en\">Search settings</a></li><li class=gbmtc><div class=\"gbmt gbmh\"></div></li><li class=\"gbkp gbmtc\"><a class=gbmt href=\"http://www.google.com/history/optout?hl=en\">Web History</a></li></ol></div></div></li></ol'b'></div></div><div id=gbx3></div><div id=gbx4></div><script nonce=\\'rRQq_7j2NazlPZv_nfINbg\\'>window.gbar&&gbar.elp&&gbar.elp()</script></div></div><center><br clear=\"all\" id=\"lgpd\"><div id=\"lga\"><img alt=\"Google\" height=\"92\" src=\"/images/branding/googlelogo/1x/googlelogo_white_background_color_272x92dp.png\" style=\"padding:28px 0 14px\" width=\"272\" id=\"hplogo\"><br><br></div><form action=\"/search\" name=\"f\"><table cellpadding=\"0\" cellspacing=\"0\"><tr valign=\"top\"><td width=\"25%\">&nbsp;</td><td align=\"center\" nowrap=\"\"><input name=\"ie\" value=\"ISO-8859-1\" type=\"hidden\"><input value=\"en\" name=\"hl\" type=\"hidden\"><input name=\"source\" type=\"hidden\" value=\"hp\"><input name=\"biw\" type=\"hidden\"><input name=\"bih\" type=\"hidden\"><div class=\"ds\" style=\"height:32px;margin:4px 0\"><input class=\"lst\" style=\"margin:0;padding:5px 8px 0 6px;vertical-align:top;color:#000\" autocomplete=\"off\" value=\"\" title=\"Google Search\" maxlength=\"2048\" name=\"q\" size=\"57\"></div><br style=\"line-height:0\"><span class=\"ds\"><span class=\"lsbb\"><input class=\"l'b'sb\" value=\"Google Search\" name=\"btnG\" type=\"submit\"></span></span><span class=\"ds\"><span class=\"lsbb\"><input class=\"lsb\" id=\"tsuid1\" value=\"I\\'m Feeling Lucky\" name=\"btnI\" type=\"submit\"><script nonce=\"rRQq_7j2NazlPZv_nfINbg\">(function(){var id=\\'tsuid1\\';document.getElementById(id).onclick = function(){if (this.form.q.value){this.checked = 1;if (this.form.iflsig)this.form.iflsig.disabled = false;}\\nelse top.location=\\'/doodles/\\';};})();</script><input value=\"AJiK0e8AAAAAYpFpxI9DBd6YzpSEiOxcvnWytnN4c8-a\" name=\"iflsig\" type=\"hidden\"></span></span></td><td class=\"fl sblc\" align=\"left\" nowrap=\"\" width=\"25%\"><a href=\"/advanced_search?hl=en&amp;authuser=0\">Advanced search</a></td></tr></table><input id=\"gbv\" name=\"gbv\" type=\"hidden\" value=\"1\"><script nonce=\"rRQq_7j2NazlPZv_nfINbg\">(function(){\\nvar a,b=\"1\";if(document&&document.getElementById)if(\"undefined\"!=typeof XMLHttpRequest)b=\"2\";else if(\"undefined\"!=typeof ActiveXObject){var c,d,e=[\"MSXML2.XMLHTTP.6.0\",\"MSXML2.XMLHTTP.3.0\",\"MSXML2.XMLHTTP\",\"Microsoft.XMLHTTP\"];for'b'(c=0;d=e[c++];)try{new ActiveXObject(d),b=\"2\"}catch(h){}}a=b;if(\"2\"==a&&-1==location.search.indexOf(\"&gbv=2\")){var f=google.gbvu,g=document.getElementById(\"gbv\");g&&(g.value=a);f&&window.setTimeout(function(){location.href=f},0)};}).call(this);</script></form><div id=\"gac_scont\"></div><div style=\"font-size:83%;min-height:3.5em\"><br></div><span id=\"footer\"><div style=\"font-size:10pt\"><div style=\"margin:19px auto;text-align:center\" id=\"WqQANb\"><a href=\"/intl/en/ads/\">Advertising\\xa0Programs</a><a href=\"/services/\">Business Solutions</a><a href=\"/intl/en/about.html\">About Google</a></div></div><p style=\"font-size:8pt;color:#70757a\">&copy; 2022 - <a href=\"/intl/en/policies/privacy/\">Privacy</a> - <a href=\"/intl/en/policies/terms/\">Terms</a></p></span></center><script nonce=\"rRQq_7j2NazlPZv_nfINbg\">(function(){window.google.cdo={height:757,width:1440};(function(){\\nvar a=window.innerWidth,b=window.innerHeight;if(!a||!b){var c=window.document,d=\"CSS1Compat\"==c.compatMode?c.documentElement:c.body;a=d.clientWidth;b=d.cli'b'entHeight}a&&b&&(a!=google.cdo.width||b!=google.cdo.height)&&google.log(\"\",\"\",\"/client_204?&atyp=i&biw=\"+a+\"&bih=\"+b+\"&ei=\"+google.kEI);}).call(this);})();</script> <script nonce=\"rRQq_7j2NazlPZv_nfINbg\">(function(){google.xjs={ck:\\'\\',cs:\\'\\',excm:[]};})();</script>  <script nonce=\"rRQq_7j2NazlPZv_nfINbg\">(function(){var u=\\'/xjs/_/js/k\\\\x3dxjs.hp.en_US.VHMzYWElIYo.O/am\\\\x3dAOAJAEACkA/d\\\\x3d1/ed\\\\x3d1/rs\\\\x3dACT90oGNCJCNzWMecYjfdCbdOpiMsF5qzw/m\\\\x3dsb_he,d\\';\\nvar d=this||self,e=function(a){return a};var g;var l=function(a,b){this.g=b===h?a:\"\"};l.prototype.toString=function(){return this.g+\"\"};var h={};\\nfunction n(){var a=u;google.lx=function(){p(a);google.lx=function(){}};google.bx||google.lx()}\\nfunction p(a){google.timers&&google.timers.load&&google.tick&&google.tick(\"load\",\"xjsls\");var b=document;var c=\"SCRIPT\";\"application/xhtml+xml\"===b.contentType&&(c=c.toLowerCase());c=b.createElement(c);if(void 0===g){b=null;var k=d.trustedTypes;if(k&&k.createPolicy){try{b=k.createPolicy(\"goog#html\",{createHTML:e,createScript:e,c'b'reateScriptURL:e})}catch(q){d.console&&d.console.error(q.message)}g=b}else g=b}a=(b=g)?b.createScriptURL(a):a;a=new l(a,h);c.src=a instanceof l&&a.constructor===l?a.g:\"type_error:TrustedResourceUrl\";var f,m;(f=(a=null==(m=(f=(c.ownerDocument&&c.ownerDocument.defaultView||window).document).querySelector)?void 0:m.call(f,\"script[nonce]\"))?a.nonce||a.getAttribute(\"nonce\")||\"\":\"\")&&c.setAttribute(\"nonce\",f);document.body.appendChild(c);google.psa=!0};google.xjsu=u;setTimeout(function(){n()},0);})();function _DumpException(e){throw e;}\\nfunction _F_installCss(c){}\\n(function(){google.jl={attn:false,blt:\\'none\\',chnk:0,dw:false,dwu:true,emtn:0,end:0,ine:false,injs:\\'none\\',injt:0,lls:\\'default\\',pdt:0,rep:0,snet:true,strt:0,ubm:false,uwp:true};})();(function(){var pmc=\\'{\\\\x22d\\\\x22:{},\\\\x22sb_he\\\\x22:{\\\\x22agen\\\\x22:true,\\\\x22cgen\\\\x22:true,\\\\x22client\\\\x22:\\\\x22heirloom-hp\\\\x22,\\\\x22dh\\\\x22:true,\\\\x22dhqt\\\\x22:true,\\\\x22ds\\\\x22:\\\\x22\\\\x22,\\\\x22ffql\\\\x22:\\\\x22en\\\\x22,\\\\x22fl\\\\x22:true,\\\\x22host\\\\x22:\\\\x22google.com\\\\x22,\\\\x22isbh\\\\x22:28,\\\\x22jsonp\\\\x22:tr'b\"ue,\\\\x22msgs\\\\x22:{\\\\x22cibl\\\\x22:\\\\x22Clear Search\\\\x22,\\\\x22dym\\\\x22:\\\\x22Did you mean:\\\\x22,\\\\x22lcky\\\\x22:\\\\x22I\\\\\\\\u0026#39;m Feeling Lucky\\\\x22,\\\\x22lml\\\\x22:\\\\x22Learn more\\\\x22,\\\\x22oskt\\\\x22:\\\\x22Input tools\\\\x22,\\\\x22psrc\\\\x22:\\\\x22This search was removed from your \\\\\\\\u003Ca href\\\\x3d\\\\\\\\\\\\x22/history\\\\\\\\\\\\x22\\\\\\\\u003EWeb History\\\\\\\\u003C/a\\\\\\\\u003E\\\\x22,\\\\x22psrl\\\\x22:\\\\x22Remove\\\\x22,\\\\x22sbit\\\\x22:\\\\x22Search by image\\\\x22,\\\\x22srch\\\\x22:\\\\x22Google Search\\\\x22},\\\\x22ovr\\\\x22:{},\\\\x22pq\\\\x22:\\\\x22\\\\x22,\\\\x22refpd\\\\x22:true,\\\\x22rfs\\\\x22:[],\\\\x22sbas\\\\x22:\\\\x220 3px 8px 0 rgba(0,0,0,0.2),0 0 0 1px rgba(0,0,0,0.08)\\\\x22,\\\\x22sbpl\\\\x22:16,\\\\x22sbpr\\\\x22:16,\\\\x22scd\\\\x22:10,\\\\x22stok\\\\x22:\\\\x22tCniowmSbK4aBrztbu_BiVo1l1Q\\\\x22,\\\\x22uhde\\\\x22:false}}';google.pmc=JSON.parse(pmc);})();</script>        </body></html>\"\n"
          ]
        }
      ],
      "source": [
        "import socket\n",
        "\n",
        "HOST = 'www.google.com'  # Server hostname or IP address\n",
        "PORT = 80                # The standard port for HTTP is 80, for HTTPS it is 443\n",
        "\n",
        "client_socket = socket.socket(socket.AF_INET, socket.SOCK_STREAM)\n",
        "server_address = (HOST, PORT)\n",
        "client_socket.connect(server_address)\n",
        "\n",
        "request_header = b'GET / HTTP/1.0\\r\\nHost: www.google.com\\r\\n\\r\\n'\n",
        "client_socket.sendall(request_header)\n",
        "\n",
        "response = ''\n",
        "while True:\n",
        "    recv = client_socket.recv(1024)\n",
        "    if not recv:\n",
        "        break\n",
        "    response += str(recv)\n",
        "\n",
        "print(response)\n",
        "client_socket.close()"
      ]
    },
    {
      "cell_type": "code",
      "execution_count": null,
      "metadata": {
        "id": "4ntxXPstRn8G"
      },
      "outputs": [],
      "source": [
        "html = requests.get(\"https://www.uol.com.br/\").content\n",
        "\n",
        "bs = BeautifulSoup(html, 'html.parser')\n",
        "\n",
        "print(bs.prettify())"
      ]
    },
    {
      "cell_type": "code",
      "execution_count": null,
      "metadata": {
        "id": "oCRjiKbQRtQ1"
      },
      "outputs": [],
      "source": [
        "linhas = bs.find_all('p', {'class':'title__element'})\n",
        "linhas"
      ]
    },
    {
      "cell_type": "code",
      "execution_count": null,
      "metadata": {
        "id": "IFI5ca3JVggj"
      },
      "outputs": [],
      "source": [
        "## Imprime todo texto contido em cada linha ##\n",
        "import re\n",
        "for i in linhas:\n",
        "  if re.search('[a-zA-Z]', i.text):\n",
        "    print(i.text)"
      ]
    },
    {
      "cell_type": "code",
      "execution_count": null,
      "metadata": {
        "colab": {
          "base_uri": "https://localhost:8080/",
          "height": 426
        },
        "id": "XB7iP-RyZS_J",
        "outputId": "e5c133ca-5ecd-4bdf-8859-4f9939481291"
      },
      "outputs": [
        {
          "data": {
            "text/html": [
              "\n",
              "  <div id=\"df-eb5f3c30-4146-4654-a9c3-a6020c19f1aa\">\n",
              "    <div class=\"colab-df-container\">\n",
              "      <div>\n",
              "<style scoped>\n",
              "    .dataframe tbody tr th:only-of-type {\n",
              "        vertical-align: middle;\n",
              "    }\n",
              "\n",
              "    .dataframe tbody tr th {\n",
              "        vertical-align: top;\n",
              "    }\n",
              "\n",
              "    .dataframe thead th {\n",
              "        text-align: right;\n",
              "    }\n",
              "</style>\n",
              "<table border=\"1\" class=\"dataframe\">\n",
              "  <thead>\n",
              "    <tr style=\"text-align: right;\">\n",
              "      <th></th>\n",
              "      <th>id</th>\n",
              "      <th>text</th>\n",
              "    </tr>\n",
              "  </thead>\n",
              "  <tbody>\n",
              "    <tr>\n",
              "      <th>0</th>\n",
              "      <td>1</td>\n",
              "      <td>Bolsonaro tem maior rejeição entre o...</td>\n",
              "    </tr>\n",
              "    <tr>\n",
              "      <th>1</th>\n",
              "      <td>2</td>\n",
              "      <td>Datafolha mostra eleitores 'flutuant...</td>\n",
              "    </tr>\n",
              "    <tr>\n",
              "      <th>2</th>\n",
              "      <td>3</td>\n",
              "      <td>Após Datafolha, Lula diz que Bolsona...</td>\n",
              "    </tr>\n",
              "    <tr>\n",
              "      <th>3</th>\n",
              "      <td>4</td>\n",
              "      <td>Bolsonaro: Ou falo para o STF admini...</td>\n",
              "    </tr>\n",
              "    <tr>\n",
              "      <th>4</th>\n",
              "      <td>5</td>\n",
              "      <td>Agente da PRF ensina em aula método ...</td>\n",
              "    </tr>\n",
              "    <tr>\n",
              "      <th>5</th>\n",
              "      <td>6</td>\n",
              "      <td>Pai, aposentado e querido na cidade:...</td>\n",
              "    </tr>\n",
              "    <tr>\n",
              "      <th>6</th>\n",
              "      <td>7</td>\n",
              "      <td>Quem se deu bem e quem se deu mal no...</td>\n",
              "    </tr>\n",
              "    <tr>\n",
              "      <th>7</th>\n",
              "      <td>8</td>\n",
              "      <td>Oitavas da morte: como a Argentina v...</td>\n",
              "    </tr>\n",
              "    <tr>\n",
              "      <th>8</th>\n",
              "      <td>9</td>\n",
              "      <td>Qual clube brasileiro pegou o caminh...</td>\n",
              "    </tr>\n",
              "    <tr>\n",
              "      <th>9</th>\n",
              "      <td>10</td>\n",
              "      <td>Ciro ataca pré-candidato do PDT, e p...</td>\n",
              "    </tr>\n",
              "    <tr>\n",
              "      <th>10</th>\n",
              "      <td>11</td>\n",
              "      <td>Pedido de cachê de cantor inclui hos...</td>\n",
              "    </tr>\n",
              "    <tr>\n",
              "      <th>11</th>\n",
              "      <td>12</td>\n",
              "      <td>Por que caminhoneiros vivem crise pi...</td>\n",
              "    </tr>\n",
              "  </tbody>\n",
              "</table>\n",
              "</div>\n",
              "      <button class=\"colab-df-convert\" onclick=\"convertToInteractive('df-eb5f3c30-4146-4654-a9c3-a6020c19f1aa')\"\n",
              "              title=\"Convert this dataframe to an interactive table.\"\n",
              "              style=\"display:none;\">\n",
              "        \n",
              "  <svg xmlns=\"http://www.w3.org/2000/svg\" height=\"24px\"viewBox=\"0 0 24 24\"\n",
              "       width=\"24px\">\n",
              "    <path d=\"M0 0h24v24H0V0z\" fill=\"none\"/>\n",
              "    <path d=\"M18.56 5.44l.94 2.06.94-2.06 2.06-.94-2.06-.94-.94-2.06-.94 2.06-2.06.94zm-11 1L8.5 8.5l.94-2.06 2.06-.94-2.06-.94L8.5 2.5l-.94 2.06-2.06.94zm10 10l.94 2.06.94-2.06 2.06-.94-2.06-.94-.94-2.06-.94 2.06-2.06.94z\"/><path d=\"M17.41 7.96l-1.37-1.37c-.4-.4-.92-.59-1.43-.59-.52 0-1.04.2-1.43.59L10.3 9.45l-7.72 7.72c-.78.78-.78 2.05 0 2.83L4 21.41c.39.39.9.59 1.41.59.51 0 1.02-.2 1.41-.59l7.78-7.78 2.81-2.81c.8-.78.8-2.07 0-2.86zM5.41 20L4 18.59l7.72-7.72 1.47 1.35L5.41 20z\"/>\n",
              "  </svg>\n",
              "      </button>\n",
              "      \n",
              "  <style>\n",
              "    .colab-df-container {\n",
              "      display:flex;\n",
              "      flex-wrap:wrap;\n",
              "      gap: 12px;\n",
              "    }\n",
              "\n",
              "    .colab-df-convert {\n",
              "      background-color: #E8F0FE;\n",
              "      border: none;\n",
              "      border-radius: 50%;\n",
              "      cursor: pointer;\n",
              "      display: none;\n",
              "      fill: #1967D2;\n",
              "      height: 32px;\n",
              "      padding: 0 0 0 0;\n",
              "      width: 32px;\n",
              "    }\n",
              "\n",
              "    .colab-df-convert:hover {\n",
              "      background-color: #E2EBFA;\n",
              "      box-shadow: 0px 1px 2px rgba(60, 64, 67, 0.3), 0px 1px 3px 1px rgba(60, 64, 67, 0.15);\n",
              "      fill: #174EA6;\n",
              "    }\n",
              "\n",
              "    [theme=dark] .colab-df-convert {\n",
              "      background-color: #3B4455;\n",
              "      fill: #D2E3FC;\n",
              "    }\n",
              "\n",
              "    [theme=dark] .colab-df-convert:hover {\n",
              "      background-color: #434B5C;\n",
              "      box-shadow: 0px 1px 3px 1px rgba(0, 0, 0, 0.15);\n",
              "      filter: drop-shadow(0px 1px 2px rgba(0, 0, 0, 0.3));\n",
              "      fill: #FFFFFF;\n",
              "    }\n",
              "  </style>\n",
              "\n",
              "      <script>\n",
              "        const buttonEl =\n",
              "          document.querySelector('#df-eb5f3c30-4146-4654-a9c3-a6020c19f1aa button.colab-df-convert');\n",
              "        buttonEl.style.display =\n",
              "          google.colab.kernel.accessAllowed ? 'block' : 'none';\n",
              "\n",
              "        async function convertToInteractive(key) {\n",
              "          const element = document.querySelector('#df-eb5f3c30-4146-4654-a9c3-a6020c19f1aa');\n",
              "          const dataTable =\n",
              "            await google.colab.kernel.invokeFunction('convertToInteractive',\n",
              "                                                     [key], {});\n",
              "          if (!dataTable) return;\n",
              "\n",
              "          const docLinkHtml = 'Like what you see? Visit the ' +\n",
              "            '<a target=\"_blank\" href=https://colab.research.google.com/notebooks/data_table.ipynb>data table notebook</a>'\n",
              "            + ' to learn more about interactive tables.';\n",
              "          element.innerHTML = '';\n",
              "          dataTable['output_type'] = 'display_data';\n",
              "          await google.colab.output.renderOutput(dataTable, element);\n",
              "          const docLink = document.createElement('div');\n",
              "          docLink.innerHTML = docLinkHtml;\n",
              "          element.appendChild(docLink);\n",
              "        }\n",
              "      </script>\n",
              "    </div>\n",
              "  </div>\n",
              "  "
            ],
            "text/plain": [
              "    id                                               text\n",
              "0    1            Bolsonaro tem maior rejeição entre o...\n",
              "1    2            Datafolha mostra eleitores 'flutuant...\n",
              "2    3            Após Datafolha, Lula diz que Bolsona...\n",
              "3    4            Bolsonaro: Ou falo para o STF admini...\n",
              "4    5            Agente da PRF ensina em aula método ...\n",
              "5    6            Pai, aposentado e querido na cidade:...\n",
              "6    7            Quem se deu bem e quem se deu mal no...\n",
              "7    8            Oitavas da morte: como a Argentina v...\n",
              "8    9            Qual clube brasileiro pegou o caminh...\n",
              "9   10            Ciro ataca pré-candidato do PDT, e p...\n",
              "10  11            Pedido de cachê de cantor inclui hos...\n",
              "11  12            Por que caminhoneiros vivem crise pi..."
            ]
          },
          "execution_count": 33,
          "metadata": {},
          "output_type": "execute_result"
        }
      ],
      "source": [
        "## Add pandas\n",
        "import pandas as pd\n",
        "\n",
        "news = pd.DataFrame(columns=['id', 'text'])\n",
        "\n",
        "c = 0\n",
        "\n",
        "for i in linhas:\n",
        "  c = c + 1\n",
        "  row = {'id': c, 'text': i.text.strip('\\n')}\n",
        "  news = news.append(row, ignore_index = True)\n",
        "\n",
        "news"
      ]
    },
    {
      "cell_type": "code",
      "execution_count": null,
      "metadata": {
        "colab": {
          "base_uri": "https://localhost:8080/"
        },
        "id": "5FE1yhkPD9yR",
        "outputId": "73e747d0-8119-4573-9fd7-edbdf1dd2d86"
      },
      "outputs": [
        {
          "name": "stdout",
          "output_type": "stream",
          "text": [
            "[nltk_data] Downloading package vader_lexicon to /root/nltk_data...\n",
            "[nltk_data]   Package vader_lexicon is already up-to-date!\n"
          ]
        },
        {
          "data": {
            "text/plain": [
              "True"
            ]
          },
          "execution_count": 34,
          "metadata": {},
          "output_type": "execute_result"
        }
      ],
      "source": [
        "import nltk\n",
        "nltk.download('vader_lexicon')"
      ]
    },
    {
      "cell_type": "code",
      "execution_count": null,
      "metadata": {
        "id": "HZwFHFLJEA02"
      },
      "outputs": [],
      "source": [
        "# now, we import the relevant modules from the NLTK library\n",
        "from nltk.sentiment.vader import SentimentIntensityAnalyzer\n",
        " \n",
        "def classify_compound(text, threshold=0.33):\n",
        "     \n",
        "    # initialize VADER\n",
        "    sid = SentimentIntensityAnalyzer()\n",
        "     \n",
        "    # Calling the polarity_scores method on sid and passing in the text\n",
        "    # outputs a dictionary with negative, neutral, positive, and compound scores for the input text\n",
        "    scores = sid.polarity_scores(text)\n",
        "     \n",
        "    # get compound score\n",
        "    score = scores['compound']\n",
        "     \n",
        "    # translate the score into the correcponding input according to the threshold\n",
        "    if score <= -threshold: return 'Negative'\n",
        "    elif score >= threshold: return 'Positive'\n",
        "    else: return 'Neutral'"
      ]
    },
    {
      "cell_type": "code",
      "execution_count": null,
      "metadata": {
        "colab": {
          "base_uri": "https://localhost:8080/",
          "height": 426
        },
        "id": "T1PnEE6nEVdI",
        "outputId": "d137f30c-2eff-4161-d8f0-32fc3bd387dc"
      },
      "outputs": [
        {
          "data": {
            "text/html": [
              "\n",
              "  <div id=\"df-21115057-d937-4673-ac65-f4b38d7ebadd\">\n",
              "    <div class=\"colab-df-container\">\n",
              "      <div>\n",
              "<style scoped>\n",
              "    .dataframe tbody tr th:only-of-type {\n",
              "        vertical-align: middle;\n",
              "    }\n",
              "\n",
              "    .dataframe tbody tr th {\n",
              "        vertical-align: top;\n",
              "    }\n",
              "\n",
              "    .dataframe thead th {\n",
              "        text-align: right;\n",
              "    }\n",
              "</style>\n",
              "<table border=\"1\" class=\"dataframe\">\n",
              "  <thead>\n",
              "    <tr style=\"text-align: right;\">\n",
              "      <th></th>\n",
              "      <th>id</th>\n",
              "      <th>text</th>\n",
              "      <th>compound_sentiment</th>\n",
              "    </tr>\n",
              "  </thead>\n",
              "  <tbody>\n",
              "    <tr>\n",
              "      <th>0</th>\n",
              "      <td>1</td>\n",
              "      <td>Bolsonaro tem maior rejeição entre o...</td>\n",
              "      <td>Neutral</td>\n",
              "    </tr>\n",
              "    <tr>\n",
              "      <th>1</th>\n",
              "      <td>2</td>\n",
              "      <td>Datafolha mostra eleitores 'flutuant...</td>\n",
              "      <td>Neutral</td>\n",
              "    </tr>\n",
              "    <tr>\n",
              "      <th>2</th>\n",
              "      <td>3</td>\n",
              "      <td>Após Datafolha, Lula diz que Bolsona...</td>\n",
              "      <td>Neutral</td>\n",
              "    </tr>\n",
              "    <tr>\n",
              "      <th>3</th>\n",
              "      <td>4</td>\n",
              "      <td>Bolsonaro: Ou falo para o STF admini...</td>\n",
              "      <td>Neutral</td>\n",
              "    </tr>\n",
              "    <tr>\n",
              "      <th>4</th>\n",
              "      <td>5</td>\n",
              "      <td>Agente da PRF ensina em aula método ...</td>\n",
              "      <td>Neutral</td>\n",
              "    </tr>\n",
              "    <tr>\n",
              "      <th>5</th>\n",
              "      <td>6</td>\n",
              "      <td>Pai, aposentado e querido na cidade:...</td>\n",
              "      <td>Neutral</td>\n",
              "    </tr>\n",
              "    <tr>\n",
              "      <th>6</th>\n",
              "      <td>7</td>\n",
              "      <td>Quem se deu bem e quem se deu mal no...</td>\n",
              "      <td>Neutral</td>\n",
              "    </tr>\n",
              "    <tr>\n",
              "      <th>7</th>\n",
              "      <td>8</td>\n",
              "      <td>Oitavas da morte: como a Argentina v...</td>\n",
              "      <td>Neutral</td>\n",
              "    </tr>\n",
              "    <tr>\n",
              "      <th>8</th>\n",
              "      <td>9</td>\n",
              "      <td>Qual clube brasileiro pegou o caminh...</td>\n",
              "      <td>Neutral</td>\n",
              "    </tr>\n",
              "    <tr>\n",
              "      <th>9</th>\n",
              "      <td>10</td>\n",
              "      <td>Ciro ataca pré-candidato do PDT, e p...</td>\n",
              "      <td>Neutral</td>\n",
              "    </tr>\n",
              "    <tr>\n",
              "      <th>10</th>\n",
              "      <td>11</td>\n",
              "      <td>Pedido de cachê de cantor inclui hos...</td>\n",
              "      <td>Neutral</td>\n",
              "    </tr>\n",
              "    <tr>\n",
              "      <th>11</th>\n",
              "      <td>12</td>\n",
              "      <td>Por que caminhoneiros vivem crise pi...</td>\n",
              "      <td>Neutral</td>\n",
              "    </tr>\n",
              "  </tbody>\n",
              "</table>\n",
              "</div>\n",
              "      <button class=\"colab-df-convert\" onclick=\"convertToInteractive('df-21115057-d937-4673-ac65-f4b38d7ebadd')\"\n",
              "              title=\"Convert this dataframe to an interactive table.\"\n",
              "              style=\"display:none;\">\n",
              "        \n",
              "  <svg xmlns=\"http://www.w3.org/2000/svg\" height=\"24px\"viewBox=\"0 0 24 24\"\n",
              "       width=\"24px\">\n",
              "    <path d=\"M0 0h24v24H0V0z\" fill=\"none\"/>\n",
              "    <path d=\"M18.56 5.44l.94 2.06.94-2.06 2.06-.94-2.06-.94-.94-2.06-.94 2.06-2.06.94zm-11 1L8.5 8.5l.94-2.06 2.06-.94-2.06-.94L8.5 2.5l-.94 2.06-2.06.94zm10 10l.94 2.06.94-2.06 2.06-.94-2.06-.94-.94-2.06-.94 2.06-2.06.94z\"/><path d=\"M17.41 7.96l-1.37-1.37c-.4-.4-.92-.59-1.43-.59-.52 0-1.04.2-1.43.59L10.3 9.45l-7.72 7.72c-.78.78-.78 2.05 0 2.83L4 21.41c.39.39.9.59 1.41.59.51 0 1.02-.2 1.41-.59l7.78-7.78 2.81-2.81c.8-.78.8-2.07 0-2.86zM5.41 20L4 18.59l7.72-7.72 1.47 1.35L5.41 20z\"/>\n",
              "  </svg>\n",
              "      </button>\n",
              "      \n",
              "  <style>\n",
              "    .colab-df-container {\n",
              "      display:flex;\n",
              "      flex-wrap:wrap;\n",
              "      gap: 12px;\n",
              "    }\n",
              "\n",
              "    .colab-df-convert {\n",
              "      background-color: #E8F0FE;\n",
              "      border: none;\n",
              "      border-radius: 50%;\n",
              "      cursor: pointer;\n",
              "      display: none;\n",
              "      fill: #1967D2;\n",
              "      height: 32px;\n",
              "      padding: 0 0 0 0;\n",
              "      width: 32px;\n",
              "    }\n",
              "\n",
              "    .colab-df-convert:hover {\n",
              "      background-color: #E2EBFA;\n",
              "      box-shadow: 0px 1px 2px rgba(60, 64, 67, 0.3), 0px 1px 3px 1px rgba(60, 64, 67, 0.15);\n",
              "      fill: #174EA6;\n",
              "    }\n",
              "\n",
              "    [theme=dark] .colab-df-convert {\n",
              "      background-color: #3B4455;\n",
              "      fill: #D2E3FC;\n",
              "    }\n",
              "\n",
              "    [theme=dark] .colab-df-convert:hover {\n",
              "      background-color: #434B5C;\n",
              "      box-shadow: 0px 1px 3px 1px rgba(0, 0, 0, 0.15);\n",
              "      filter: drop-shadow(0px 1px 2px rgba(0, 0, 0, 0.3));\n",
              "      fill: #FFFFFF;\n",
              "    }\n",
              "  </style>\n",
              "\n",
              "      <script>\n",
              "        const buttonEl =\n",
              "          document.querySelector('#df-21115057-d937-4673-ac65-f4b38d7ebadd button.colab-df-convert');\n",
              "        buttonEl.style.display =\n",
              "          google.colab.kernel.accessAllowed ? 'block' : 'none';\n",
              "\n",
              "        async function convertToInteractive(key) {\n",
              "          const element = document.querySelector('#df-21115057-d937-4673-ac65-f4b38d7ebadd');\n",
              "          const dataTable =\n",
              "            await google.colab.kernel.invokeFunction('convertToInteractive',\n",
              "                                                     [key], {});\n",
              "          if (!dataTable) return;\n",
              "\n",
              "          const docLinkHtml = 'Like what you see? Visit the ' +\n",
              "            '<a target=\"_blank\" href=https://colab.research.google.com/notebooks/data_table.ipynb>data table notebook</a>'\n",
              "            + ' to learn more about interactive tables.';\n",
              "          element.innerHTML = '';\n",
              "          dataTable['output_type'] = 'display_data';\n",
              "          await google.colab.output.renderOutput(dataTable, element);\n",
              "          const docLink = document.createElement('div');\n",
              "          docLink.innerHTML = docLinkHtml;\n",
              "          element.appendChild(docLink);\n",
              "        }\n",
              "      </script>\n",
              "    </div>\n",
              "  </div>\n",
              "  "
            ],
            "text/plain": [
              "    id                                               text compound_sentiment\n",
              "0    1            Bolsonaro tem maior rejeição entre o...            Neutral\n",
              "1    2            Datafolha mostra eleitores 'flutuant...            Neutral\n",
              "2    3            Após Datafolha, Lula diz que Bolsona...            Neutral\n",
              "3    4            Bolsonaro: Ou falo para o STF admini...            Neutral\n",
              "4    5            Agente da PRF ensina em aula método ...            Neutral\n",
              "5    6            Pai, aposentado e querido na cidade:...            Neutral\n",
              "6    7            Quem se deu bem e quem se deu mal no...            Neutral\n",
              "7    8            Oitavas da morte: como a Argentina v...            Neutral\n",
              "8    9            Qual clube brasileiro pegou o caminh...            Neutral\n",
              "9   10            Ciro ataca pré-candidato do PDT, e p...            Neutral\n",
              "10  11            Pedido de cachê de cantor inclui hos...            Neutral\n",
              "11  12            Por que caminhoneiros vivem crise pi...            Neutral"
            ]
          },
          "execution_count": 36,
          "metadata": {},
          "output_type": "execute_result"
        }
      ],
      "source": [
        "# create a new feature based on compound score from VADER using our function \"classify_compound\"\n",
        "news['compound_sentiment'] = news.text.apply(lambda text: classify_compound(text))\n",
        "news"
      ]
    },
    {
      "cell_type": "code",
      "execution_count": null,
      "metadata": {
        "colab": {
          "base_uri": "https://localhost:8080/",
          "height": 81
        },
        "id": "5IKYdAY-Em8V",
        "outputId": "3942d7de-e802-4f28-c113-d28614bd6979"
      },
      "outputs": [
        {
          "data": {
            "text/html": [
              "\n",
              "  <div id=\"df-72ce6e24-f9c2-4151-99d8-610810a8a5b7\">\n",
              "    <div class=\"colab-df-container\">\n",
              "      <div>\n",
              "<style scoped>\n",
              "    .dataframe tbody tr th:only-of-type {\n",
              "        vertical-align: middle;\n",
              "    }\n",
              "\n",
              "    .dataframe tbody tr th {\n",
              "        vertical-align: top;\n",
              "    }\n",
              "\n",
              "    .dataframe thead th {\n",
              "        text-align: right;\n",
              "    }\n",
              "</style>\n",
              "<table border=\"1\" class=\"dataframe\">\n",
              "  <thead>\n",
              "    <tr style=\"text-align: right;\">\n",
              "      <th></th>\n",
              "      <th>compound_sentiment</th>\n",
              "    </tr>\n",
              "  </thead>\n",
              "  <tbody>\n",
              "    <tr>\n",
              "      <th>Neutral</th>\n",
              "      <td>12</td>\n",
              "    </tr>\n",
              "  </tbody>\n",
              "</table>\n",
              "</div>\n",
              "      <button class=\"colab-df-convert\" onclick=\"convertToInteractive('df-72ce6e24-f9c2-4151-99d8-610810a8a5b7')\"\n",
              "              title=\"Convert this dataframe to an interactive table.\"\n",
              "              style=\"display:none;\">\n",
              "        \n",
              "  <svg xmlns=\"http://www.w3.org/2000/svg\" height=\"24px\"viewBox=\"0 0 24 24\"\n",
              "       width=\"24px\">\n",
              "    <path d=\"M0 0h24v24H0V0z\" fill=\"none\"/>\n",
              "    <path d=\"M18.56 5.44l.94 2.06.94-2.06 2.06-.94-2.06-.94-.94-2.06-.94 2.06-2.06.94zm-11 1L8.5 8.5l.94-2.06 2.06-.94-2.06-.94L8.5 2.5l-.94 2.06-2.06.94zm10 10l.94 2.06.94-2.06 2.06-.94-2.06-.94-.94-2.06-.94 2.06-2.06.94z\"/><path d=\"M17.41 7.96l-1.37-1.37c-.4-.4-.92-.59-1.43-.59-.52 0-1.04.2-1.43.59L10.3 9.45l-7.72 7.72c-.78.78-.78 2.05 0 2.83L4 21.41c.39.39.9.59 1.41.59.51 0 1.02-.2 1.41-.59l7.78-7.78 2.81-2.81c.8-.78.8-2.07 0-2.86zM5.41 20L4 18.59l7.72-7.72 1.47 1.35L5.41 20z\"/>\n",
              "  </svg>\n",
              "      </button>\n",
              "      \n",
              "  <style>\n",
              "    .colab-df-container {\n",
              "      display:flex;\n",
              "      flex-wrap:wrap;\n",
              "      gap: 12px;\n",
              "    }\n",
              "\n",
              "    .colab-df-convert {\n",
              "      background-color: #E8F0FE;\n",
              "      border: none;\n",
              "      border-radius: 50%;\n",
              "      cursor: pointer;\n",
              "      display: none;\n",
              "      fill: #1967D2;\n",
              "      height: 32px;\n",
              "      padding: 0 0 0 0;\n",
              "      width: 32px;\n",
              "    }\n",
              "\n",
              "    .colab-df-convert:hover {\n",
              "      background-color: #E2EBFA;\n",
              "      box-shadow: 0px 1px 2px rgba(60, 64, 67, 0.3), 0px 1px 3px 1px rgba(60, 64, 67, 0.15);\n",
              "      fill: #174EA6;\n",
              "    }\n",
              "\n",
              "    [theme=dark] .colab-df-convert {\n",
              "      background-color: #3B4455;\n",
              "      fill: #D2E3FC;\n",
              "    }\n",
              "\n",
              "    [theme=dark] .colab-df-convert:hover {\n",
              "      background-color: #434B5C;\n",
              "      box-shadow: 0px 1px 3px 1px rgba(0, 0, 0, 0.15);\n",
              "      filter: drop-shadow(0px 1px 2px rgba(0, 0, 0, 0.3));\n",
              "      fill: #FFFFFF;\n",
              "    }\n",
              "  </style>\n",
              "\n",
              "      <script>\n",
              "        const buttonEl =\n",
              "          document.querySelector('#df-72ce6e24-f9c2-4151-99d8-610810a8a5b7 button.colab-df-convert');\n",
              "        buttonEl.style.display =\n",
              "          google.colab.kernel.accessAllowed ? 'block' : 'none';\n",
              "\n",
              "        async function convertToInteractive(key) {\n",
              "          const element = document.querySelector('#df-72ce6e24-f9c2-4151-99d8-610810a8a5b7');\n",
              "          const dataTable =\n",
              "            await google.colab.kernel.invokeFunction('convertToInteractive',\n",
              "                                                     [key], {});\n",
              "          if (!dataTable) return;\n",
              "\n",
              "          const docLinkHtml = 'Like what you see? Visit the ' +\n",
              "            '<a target=\"_blank\" href=https://colab.research.google.com/notebooks/data_table.ipynb>data table notebook</a>'\n",
              "            + ' to learn more about interactive tables.';\n",
              "          element.innerHTML = '';\n",
              "          dataTable['output_type'] = 'display_data';\n",
              "          await google.colab.output.renderOutput(dataTable, element);\n",
              "          const docLink = document.createElement('div');\n",
              "          docLink.innerHTML = docLinkHtml;\n",
              "          element.appendChild(docLink);\n",
              "        }\n",
              "      </script>\n",
              "    </div>\n",
              "  </div>\n",
              "  "
            ],
            "text/plain": [
              "         compound_sentiment\n",
              "Neutral                  12"
            ]
          },
          "execution_count": 37,
          "metadata": {},
          "output_type": "execute_result"
        }
      ],
      "source": [
        "pd.concat([news.compound_sentiment.value_counts()], axis=1, sort='True')"
      ]
    },
    {
      "cell_type": "code",
      "execution_count": null,
      "metadata": {
        "colab": {
          "base_uri": "https://localhost:8080/",
          "height": 465
        },
        "id": "MU75DszlE6jI",
        "outputId": "7d3ccbb4-87e9-41bf-d995-df004044ba35"
      },
      "outputs": [
        {
          "data": {
            "image/png": "[encoded data removed]",
            "text/plain": [
              "<Figure size 1080x576 with 1 Axes>"
            ]
          },
          "metadata": {
            "needs_background": "light"
          },
          "output_type": "display_data"
        }
      ],
      "source": [
        "# Import all necesary libraries\n",
        "from wordcloud import  WordCloud, STOPWORDS, ImageColorGenerator\n",
        "import matplotlib.pyplot as plt\n",
        "\n",
        "# Get stopwords from wordcloud library\n",
        "stopwords = set(STOPWORDS)\n",
        " \n",
        "# Add some extra words ad hoc for our purpose\n",
        "app_words = ['na', 'que', 'de', 'não', 'em', 'quem', 'no', 'se', 'da']\n",
        "stopwords.update(app_words)\n",
        " \n",
        "# join all reviews\n",
        "text = \" \".join(review for review in news.text)\n",
        " \n",
        "# Generate the image\n",
        "wordcloud = WordCloud(stopwords=stopwords, background_color=\"white\", max_words=100).generate(text)\n",
        " \n",
        "# visualize the image\n",
        "fig=plt.figure(figsize=(15, 8))\n",
        "plt.imshow(wordcloud, interpolation='bilinear')\n",
        "plt.axis(\"off\")\n",
        "plt.title('Total Reviews Word Clowd')\n",
        "plt.show()"
      ]
    },
    {
      "cell_type": "markdown",
      "metadata": {
        "id": "Io0GihPk3qj6"
      },
      "source": [
        "## Trabalhando com bancos de dados"
      ]
    },
    {
      "cell_type": "markdown",
      "metadata": {
        "id": "8u9Oz-gDY5Iz"
      },
      "source": [
        "https://www.scrapingbee.com/blog/web-scraping-101-with-python/"
      ]
    },
    {
      "cell_type": "code",
      "execution_count": null,
      "metadata": {
        "colab": {
          "base_uri": "https://localhost:8080/",
          "height": 122
        },
        "id": "AdGiEPCseaK3",
        "outputId": "087568f5-7d28-4175-db2c-f2aab2f565e2"
      },
      "outputs": [
        {
          "name": "stdout",
          "output_type": "stream",
          "text": [
            " * Starting PostgreSQL 10 database server\n",
            "   ...done.\n",
            "ERROR:  role \"root\" already exists\n",
            "The sql extension is already loaded. To reload it, use:\n",
            "  %reload_ext sql\n"
          ]
        },
        {
          "data": {
            "application/vnd.google.colaboratory.intrinsic+json": {
              "type": "string"
            },
            "text/plain": [
              "'Connected: @postgres'"
            ]
          },
          "execution_count": 25,
          "metadata": {},
          "output_type": "execute_result"
        }
      ],
      "source": [
        "# install\n",
        "!apt install postgresql postgresql-contrib &>log\n",
        "!service postgresql start\n",
        "!sudo -u postgres psql -c \"CREATE USER root WITH SUPERUSER PASSWORD '123456'\"\n",
        "# set connection\n",
        "%load_ext sql\n",
        "%config SqlMagic.feedback=False \n",
        "%config SqlMagic.autopandas=True\n",
        "%sql postgresql+psycopg2://@/postgres"
      ]
    },
    {
      "cell_type": "code",
      "execution_count": null,
      "metadata": {
        "colab": {
          "base_uri": "https://localhost:8080/",
          "height": 485
        },
        "id": "a-jANXn5efi_",
        "outputId": "470164f0-ee16-4e22-f435-bf6281f17032"
      },
      "outputs": [
        {
          "name": "stdout",
          "output_type": "stream",
          "text": [
            " * postgresql+psycopg2://@/postgres\n"
          ]
        },
        {
          "data": {
            "text/html": [
              "\n",
              "  <div id=\"df-fba8e1e5-3e6c-4c5a-9b39-afe6f1eb6f40\">\n",
              "    <div class=\"colab-df-container\">\n",
              "      <div>\n",
              "<style scoped>\n",
              "    .dataframe tbody tr th:only-of-type {\n",
              "        vertical-align: middle;\n",
              "    }\n",
              "\n",
              "    .dataframe tbody tr th {\n",
              "        vertical-align: top;\n",
              "    }\n",
              "\n",
              "    .dataframe thead th {\n",
              "        text-align: right;\n",
              "    }\n",
              "</style>\n",
              "<table border=\"1\" class=\"dataframe\">\n",
              "  <thead>\n",
              "    <tr style=\"text-align: right;\">\n",
              "      <th></th>\n",
              "      <th>schemaname</th>\n",
              "      <th>tablename</th>\n",
              "      <th>tableowner</th>\n",
              "      <th>tablespace</th>\n",
              "      <th>hasindexes</th>\n",
              "      <th>hasrules</th>\n",
              "      <th>hastriggers</th>\n",
              "      <th>rowsecurity</th>\n",
              "    </tr>\n",
              "  </thead>\n",
              "  <tbody>\n",
              "    <tr>\n",
              "      <th>0</th>\n",
              "      <td>pg_catalog</td>\n",
              "      <td>pg_statistic</td>\n",
              "      <td>postgres</td>\n",
              "      <td>None</td>\n",
              "      <td>True</td>\n",
              "      <td>False</td>\n",
              "      <td>False</td>\n",
              "      <td>False</td>\n",
              "    </tr>\n",
              "    <tr>\n",
              "      <th>1</th>\n",
              "      <td>pg_catalog</td>\n",
              "      <td>pg_type</td>\n",
              "      <td>postgres</td>\n",
              "      <td>None</td>\n",
              "      <td>True</td>\n",
              "      <td>False</td>\n",
              "      <td>False</td>\n",
              "      <td>False</td>\n",
              "    </tr>\n",
              "    <tr>\n",
              "      <th>2</th>\n",
              "      <td>pg_catalog</td>\n",
              "      <td>pg_policy</td>\n",
              "      <td>postgres</td>\n",
              "      <td>None</td>\n",
              "      <td>True</td>\n",
              "      <td>False</td>\n",
              "      <td>False</td>\n",
              "      <td>False</td>\n",
              "    </tr>\n",
              "    <tr>\n",
              "      <th>3</th>\n",
              "      <td>public</td>\n",
              "      <td>NEWS</td>\n",
              "      <td>root</td>\n",
              "      <td>None</td>\n",
              "      <td>True</td>\n",
              "      <td>False</td>\n",
              "      <td>False</td>\n",
              "      <td>False</td>\n",
              "    </tr>\n",
              "    <tr>\n",
              "      <th>4</th>\n",
              "      <td>pg_catalog</td>\n",
              "      <td>pg_authid</td>\n",
              "      <td>postgres</td>\n",
              "      <td>pg_global</td>\n",
              "      <td>True</td>\n",
              "      <td>False</td>\n",
              "      <td>False</td>\n",
              "      <td>False</td>\n",
              "    </tr>\n",
              "    <tr>\n",
              "      <th>...</th>\n",
              "      <td>...</td>\n",
              "      <td>...</td>\n",
              "      <td>...</td>\n",
              "      <td>...</td>\n",
              "      <td>...</td>\n",
              "      <td>...</td>\n",
              "      <td>...</td>\n",
              "      <td>...</td>\n",
              "    </tr>\n",
              "    <tr>\n",
              "      <th>65</th>\n",
              "      <td>information_schema</td>\n",
              "      <td>sql_features</td>\n",
              "      <td>postgres</td>\n",
              "      <td>None</td>\n",
              "      <td>False</td>\n",
              "      <td>False</td>\n",
              "      <td>False</td>\n",
              "      <td>False</td>\n",
              "    </tr>\n",
              "    <tr>\n",
              "      <th>66</th>\n",
              "      <td>information_schema</td>\n",
              "      <td>sql_implementation_info</td>\n",
              "      <td>postgres</td>\n",
              "      <td>None</td>\n",
              "      <td>False</td>\n",
              "      <td>False</td>\n",
              "      <td>False</td>\n",
              "      <td>False</td>\n",
              "    </tr>\n",
              "    <tr>\n",
              "      <th>67</th>\n",
              "      <td>information_schema</td>\n",
              "      <td>sql_packages</td>\n",
              "      <td>postgres</td>\n",
              "      <td>None</td>\n",
              "      <td>False</td>\n",
              "      <td>False</td>\n",
              "      <td>False</td>\n",
              "      <td>False</td>\n",
              "    </tr>\n",
              "    <tr>\n",
              "      <th>68</th>\n",
              "      <td>information_schema</td>\n",
              "      <td>sql_sizing</td>\n",
              "      <td>postgres</td>\n",
              "      <td>None</td>\n",
              "      <td>False</td>\n",
              "      <td>False</td>\n",
              "      <td>False</td>\n",
              "      <td>False</td>\n",
              "    </tr>\n",
              "    <tr>\n",
              "      <th>69</th>\n",
              "      <td>information_schema</td>\n",
              "      <td>sql_sizing_profiles</td>\n",
              "      <td>postgres</td>\n",
              "      <td>None</td>\n",
              "      <td>False</td>\n",
              "      <td>False</td>\n",
              "      <td>False</td>\n",
              "      <td>False</td>\n",
              "    </tr>\n",
              "  </tbody>\n",
              "</table>\n",
              "<p>70 rows × 8 columns</p>\n",
              "</div>\n",
              "      <button class=\"colab-df-convert\" onclick=\"convertToInteractive('df-fba8e1e5-3e6c-4c5a-9b39-afe6f1eb6f40')\"\n",
              "              title=\"Convert this dataframe to an interactive table.\"\n",
              "              style=\"display:none;\">\n",
              "        \n",
              "  <svg xmlns=\"http://www.w3.org/2000/svg\" height=\"24px\"viewBox=\"0 0 24 24\"\n",
              "       width=\"24px\">\n",
              "    <path d=\"M0 0h24v24H0V0z\" fill=\"none\"/>\n",
              "    <path d=\"M18.56 5.44l.94 2.06.94-2.06 2.06-.94-2.06-.94-.94-2.06-.94 2.06-2.06.94zm-11 1L8.5 8.5l.94-2.06 2.06-.94-2.06-.94L8.5 2.5l-.94 2.06-2.06.94zm10 10l.94 2.06.94-2.06 2.06-.94-2.06-.94-.94-2.06-.94 2.06-2.06.94z\"/><path d=\"M17.41 7.96l-1.37-1.37c-.4-.4-.92-.59-1.43-.59-.52 0-1.04.2-1.43.59L10.3 9.45l-7.72 7.72c-.78.78-.78 2.05 0 2.83L4 21.41c.39.39.9.59 1.41.59.51 0 1.02-.2 1.41-.59l7.78-7.78 2.81-2.81c.8-.78.8-2.07 0-2.86zM5.41 20L4 18.59l7.72-7.72 1.47 1.35L5.41 20z\"/>\n",
              "  </svg>\n",
              "      </button>\n",
              "      \n",
              "  <style>\n",
              "    .colab-df-container {\n",
              "      display:flex;\n",
              "      flex-wrap:wrap;\n",
              "      gap: 12px;\n",
              "    }\n",
              "\n",
              "    .colab-df-convert {\n",
              "      background-color: #E8F0FE;\n",
              "      border: none;\n",
              "      border-radius: 50%;\n",
              "      cursor: pointer;\n",
              "      display: none;\n",
              "      fill: #1967D2;\n",
              "      height: 32px;\n",
              "      padding: 0 0 0 0;\n",
              "      width: 32px;\n",
              "    }\n",
              "\n",
              "    .colab-df-convert:hover {\n",
              "      background-color: #E2EBFA;\n",
              "      box-shadow: 0px 1px 2px rgba(60, 64, 67, 0.3), 0px 1px 3px 1px rgba(60, 64, 67, 0.15);\n",
              "      fill: #174EA6;\n",
              "    }\n",
              "\n",
              "    [theme=dark] .colab-df-convert {\n",
              "      background-color: #3B4455;\n",
              "      fill: #D2E3FC;\n",
              "    }\n",
              "\n",
              "    [theme=dark] .colab-df-convert:hover {\n",
              "      background-color: #434B5C;\n",
              "      box-shadow: 0px 1px 3px 1px rgba(0, 0, 0, 0.15);\n",
              "      filter: drop-shadow(0px 1px 2px rgba(0, 0, 0, 0.3));\n",
              "      fill: #FFFFFF;\n",
              "    }\n",
              "  </style>\n",
              "\n",
              "      <script>\n",
              "        const buttonEl =\n",
              "          document.querySelector('#df-fba8e1e5-3e6c-4c5a-9b39-afe6f1eb6f40 button.colab-df-convert');\n",
              "        buttonEl.style.display =\n",
              "          google.colab.kernel.accessAllowed ? 'block' : 'none';\n",
              "\n",
              "        async function convertToInteractive(key) {\n",
              "          const element = document.querySelector('#df-fba8e1e5-3e6c-4c5a-9b39-afe6f1eb6f40');\n",
              "          const dataTable =\n",
              "            await google.colab.kernel.invokeFunction('convertToInteractive',\n",
              "                                                     [key], {});\n",
              "          if (!dataTable) return;\n",
              "\n",
              "          const docLinkHtml = 'Like what you see? Visit the ' +\n",
              "            '<a target=\"_blank\" href=https://colab.research.google.com/notebooks/data_table.ipynb>data table notebook</a>'\n",
              "            + ' to learn more about interactive tables.';\n",
              "          element.innerHTML = '';\n",
              "          dataTable['output_type'] = 'display_data';\n",
              "          await google.colab.output.renderOutput(dataTable, element);\n",
              "          const docLink = document.createElement('div');\n",
              "          docLink.innerHTML = docLinkHtml;\n",
              "          element.appendChild(docLink);\n",
              "        }\n",
              "      </script>\n",
              "    </div>\n",
              "  </div>\n",
              "  "
            ],
            "text/plain": [
              "            schemaname                tablename tableowner tablespace  \\\n",
              "0           pg_catalog             pg_statistic   postgres       None   \n",
              "1           pg_catalog                  pg_type   postgres       None   \n",
              "2           pg_catalog                pg_policy   postgres       None   \n",
              "3               public                     NEWS       root       None   \n",
              "4           pg_catalog                pg_authid   postgres  pg_global   \n",
              "..                 ...                      ...        ...        ...   \n",
              "65  information_schema             sql_features   postgres       None   \n",
              "66  information_schema  sql_implementation_info   postgres       None   \n",
              "67  information_schema             sql_packages   postgres       None   \n",
              "68  information_schema               sql_sizing   postgres       None   \n",
              "69  information_schema      sql_sizing_profiles   postgres       None   \n",
              "\n",
              "    hasindexes  hasrules  hastriggers  rowsecurity  \n",
              "0         True     False        False        False  \n",
              "1         True     False        False        False  \n",
              "2         True     False        False        False  \n",
              "3         True     False        False        False  \n",
              "4         True     False        False        False  \n",
              "..         ...       ...          ...          ...  \n",
              "65       False     False        False        False  \n",
              "66       False     False        False        False  \n",
              "67       False     False        False        False  \n",
              "68       False     False        False        False  \n",
              "69       False     False        False        False  \n",
              "\n",
              "[70 rows x 8 columns]"
            ]
          },
          "execution_count": 28,
          "metadata": {},
          "output_type": "execute_result"
        }
      ],
      "source": [
        "df = %sql SELECT * FROM pg_catalog.pg_tables\n",
        "df"
      ]
    },
    {
      "cell_type": "code",
      "execution_count": null,
      "metadata": {
        "id": "fURO10jIes7C"
      },
      "outputs": [],
      "source": [
        "%sql CREATE TABLE NEWS (ID int, TEXT VARCHAR(500))"
      ]
    },
    {
      "cell_type": "code",
      "execution_count": null,
      "metadata": {
        "id": "f6RYL2PPfdnj"
      },
      "outputs": [],
      "source": [
        "%sql SELECT * FROM NEWS"
      ]
    },
    {
      "cell_type": "markdown",
      "metadata": {
        "id": "kZstOnii3OvG"
      },
      "source": [
        "## Entrada e saída de arquivo"
      ]
    },
    {
      "cell_type": "code",
      "execution_count": null,
      "metadata": {
        "id": "y_3zk7XIzRwA"
      },
      "outputs": [],
      "source": [
        "with open(\"script\", \"w\") as f:\n",
        "  for index, row in news.iterrows():\n",
        "    line = \"INSERT INTO NEWS (ID, TEXT) VALUES (\" + str(row[\"id\"]) + \",'\" + row[\"text\"].strip().replace(\"'\", \"\") + \"');\"\n",
        "    f.write(line)\n",
        "    f.write(\"\\n\")"
      ]
    },
    {
      "cell_type": "code",
      "execution_count": null,
      "metadata": {
        "colab": {
          "base_uri": "https://localhost:8080/"
        },
        "id": "_4N96NOZ2fjB",
        "outputId": "5eeca3b0-a247-459f-b44f-7ce0cf5544b7"
      },
      "outputs": [
        {
          "name": "stdout",
          "output_type": "stream",
          "text": [
            "line 1: INSERT INTO NEWS (ID, TEXT) VALUES (1,'Bolsonaro tem maior rejeição entre os presidentes que já tentaram reeleição');\n",
            "\n",
            "line 2: INSERT INTO NEWS (ID, TEXT) VALUES (2,'Datafolha mostra eleitores flutuantes que se conectam a Lula e Bolsonaro');\n",
            "\n",
            "line 3: INSERT INTO NEWS (ID, TEXT) VALUES (3,'Após Datafolha, Lula diz que Bolsonaro não dormiu, mas não é fraco');\n",
            "\n",
            "line 4: INSERT INTO NEWS (ID, TEXT) VALUES (4,'Datafolha: Lula sobe no Sul, e Bolsonaro cola no Norte e Centro-Oeste; veja evolução');\n",
            "\n",
            "line 5: INSERT INTO NEWS (ID, TEXT) VALUES (5,'Bolsonaro: Ou falo para o STF administrar o Brasil, ou não cumpro decisão');\n",
            "\n",
            "line 6: INSERT INTO NEWS (ID, TEXT) VALUES (6,'Tenório: Sem filmagens, teríamos guerra de narrativas no caso Genivaldo');\n",
            "\n",
            "line 7: INSERT INTO NEWS (ID, TEXT) VALUES (7,'Pai, aposentado e querido na cidade: quem era Genivaldo');\n",
            "\n",
            "line 8: INSERT INTO NEWS (ID, TEXT) VALUES (8,'Ciro ataca pré-candidato do PDT, e presidente do partido em MG renuncia');\n",
            "\n",
            "line 9: INSERT INTO NEWS (ID, TEXT) VALUES (9,'Quem se deu bem e quem se deu mal no sorteio? Colunistas analisam');\n",
            "\n",
            "line 10: INSERT INTO NEWS (ID, TEXT) VALUES (10,'Oitavas da morte: como a Argentina vê Corinthians x Boca na Libertadores');\n",
            "\n",
            "line 11: INSERT INTO NEWS (ID, TEXT) VALUES (11,'André Rocha: Palmeiras x Galo nas quartas, Fla incógnita e Corinthians pode pagar caro');\n",
            "\n",
            "line 12: INSERT INTO NEWS (ID, TEXT) VALUES (12,'Qual clube brasileiro pegou o caminho mais difícil na Libertadores? Vote');\n",
            "\n",
            "line 13: INSERT INTO NEWS (ID, TEXT) VALUES (13,'Zelensky diz que Ucrânia deve enfrentar a realidade e negociar com Putin');\n",
            "\n",
            "line 14: INSERT INTO NEWS (ID, TEXT) VALUES (14,'Por que caminhoneiros vivem crise pior, mas descartam repetir greve de 2018');\n",
            "\n",
            "line 15: INSERT INTO NEWS (ID, TEXT) VALUES (15,'Aline Ramos: Record perdeu o controle sobre os participantes do Power Couple');\n",
            "\n"
          ]
        }
      ],
      "source": [
        "with open(\"script\") as f:\n",
        "    lines = f.readlines()\n",
        "\n",
        "count = 0\n",
        "for line in lines:\n",
        "    count += 1\n",
        "    print(f'line {count}: {line}') "
      ]
    },
    {
      "cell_type": "code",
      "execution_count": null,
      "metadata": {
        "id": "rLW47Ds0fneZ"
      },
      "outputs": [],
      "source": [
        "!psql postgres < script"
      ]
    },
    {
      "cell_type": "code",
      "execution_count": null,
      "metadata": {
        "colab": {
          "base_uri": "https://localhost:8080/",
          "height": 66
        },
        "id": "VFNTjIlMfwzt",
        "outputId": "b84ac281-7f6e-4d22-8187-44b10877572c"
      },
      "outputs": [
        {
          "name": "stdout",
          "output_type": "stream",
          "text": [
            " * postgresql+psycopg2://@/postgres\n"
          ]
        },
        {
          "data": {
            "text/html": [
              "\n",
              "  <div id=\"df-211d6b81-623a-4cf9-972b-42b1c6cdd7a6\">\n",
              "    <div class=\"colab-df-container\">\n",
              "      <div>\n",
              "<style scoped>\n",
              "    .dataframe tbody tr th:only-of-type {\n",
              "        vertical-align: middle;\n",
              "    }\n",
              "\n",
              "    .dataframe tbody tr th {\n",
              "        vertical-align: top;\n",
              "    }\n",
              "\n",
              "    .dataframe thead th {\n",
              "        text-align: right;\n",
              "    }\n",
              "</style>\n",
              "<table border=\"1\" class=\"dataframe\">\n",
              "  <thead>\n",
              "    <tr style=\"text-align: right;\">\n",
              "      <th></th>\n",
              "    </tr>\n",
              "  </thead>\n",
              "  <tbody>\n",
              "  </tbody>\n",
              "</table>\n",
              "</div>\n",
              "      <button class=\"colab-df-convert\" onclick=\"convertToInteractive('df-211d6b81-623a-4cf9-972b-42b1c6cdd7a6')\"\n",
              "              title=\"Convert this dataframe to an interactive table.\"\n",
              "              style=\"display:none;\">\n",
              "        \n",
              "  <svg xmlns=\"http://www.w3.org/2000/svg\" height=\"24px\"viewBox=\"0 0 24 24\"\n",
              "       width=\"24px\">\n",
              "    <path d=\"M0 0h24v24H0V0z\" fill=\"none\"/>\n",
              "    <path d=\"M18.56 5.44l.94 2.06.94-2.06 2.06-.94-2.06-.94-.94-2.06-.94 2.06-2.06.94zm-11 1L8.5 8.5l.94-2.06 2.06-.94-2.06-.94L8.5 2.5l-.94 2.06-2.06.94zm10 10l.94 2.06.94-2.06 2.06-.94-2.06-.94-.94-2.06-.94 2.06-2.06.94z\"/><path d=\"M17.41 7.96l-1.37-1.37c-.4-.4-.92-.59-1.43-.59-.52 0-1.04.2-1.43.59L10.3 9.45l-7.72 7.72c-.78.78-.78 2.05 0 2.83L4 21.41c.39.39.9.59 1.41.59.51 0 1.02-.2 1.41-.59l7.78-7.78 2.81-2.81c.8-.78.8-2.07 0-2.86zM5.41 20L4 18.59l7.72-7.72 1.47 1.35L5.41 20z\"/>\n",
              "  </svg>\n",
              "      </button>\n",
              "      \n",
              "  <style>\n",
              "    .colab-df-container {\n",
              "      display:flex;\n",
              "      flex-wrap:wrap;\n",
              "      gap: 12px;\n",
              "    }\n",
              "\n",
              "    .colab-df-convert {\n",
              "      background-color: #E8F0FE;\n",
              "      border: none;\n",
              "      border-radius: 50%;\n",
              "      cursor: pointer;\n",
              "      display: none;\n",
              "      fill: #1967D2;\n",
              "      height: 32px;\n",
              "      padding: 0 0 0 0;\n",
              "      width: 32px;\n",
              "    }\n",
              "\n",
              "    .colab-df-convert:hover {\n",
              "      background-color: #E2EBFA;\n",
              "      box-shadow: 0px 1px 2px rgba(60, 64, 67, 0.3), 0px 1px 3px 1px rgba(60, 64, 67, 0.15);\n",
              "      fill: #174EA6;\n",
              "    }\n",
              "\n",
              "    [theme=dark] .colab-df-convert {\n",
              "      background-color: #3B4455;\n",
              "      fill: #D2E3FC;\n",
              "    }\n",
              "\n",
              "    [theme=dark] .colab-df-convert:hover {\n",
              "      background-color: #434B5C;\n",
              "      box-shadow: 0px 1px 3px 1px rgba(0, 0, 0, 0.15);\n",
              "      filter: drop-shadow(0px 1px 2px rgba(0, 0, 0, 0.3));\n",
              "      fill: #FFFFFF;\n",
              "    }\n",
              "  </style>\n",
              "\n",
              "      <script>\n",
              "        const buttonEl =\n",
              "          document.querySelector('#df-211d6b81-623a-4cf9-972b-42b1c6cdd7a6 button.colab-df-convert');\n",
              "        buttonEl.style.display =\n",
              "          google.colab.kernel.accessAllowed ? 'block' : 'none';\n",
              "\n",
              "        async function convertToInteractive(key) {\n",
              "          const element = document.querySelector('#df-211d6b81-623a-4cf9-972b-42b1c6cdd7a6');\n",
              "          const dataTable =\n",
              "            await google.colab.kernel.invokeFunction('convertToInteractive',\n",
              "                                                     [key], {});\n",
              "          if (!dataTable) return;\n",
              "\n",
              "          const docLinkHtml = 'Like what you see? Visit the ' +\n",
              "            '<a target=\"_blank\" href=https://colab.research.google.com/notebooks/data_table.ipynb>data table notebook</a>'\n",
              "            + ' to learn more about interactive tables.';\n",
              "          element.innerHTML = '';\n",
              "          dataTable['output_type'] = 'display_data';\n",
              "          await google.colab.output.renderOutput(dataTable, element);\n",
              "          const docLink = document.createElement('div');\n",
              "          docLink.innerHTML = docLinkHtml;\n",
              "          element.appendChild(docLink);\n",
              "        }\n",
              "      </script>\n",
              "    </div>\n",
              "  </div>\n",
              "  "
            ],
            "text/plain": [
              "Empty DataFrame\n",
              "Columns: []\n",
              "Index: []"
            ]
          },
          "execution_count": 77,
          "metadata": {},
          "output_type": "execute_result"
        }
      ],
      "source": [
        "%sql SELECT * FROM NEWS"
      ]
    },
    {
      "cell_type": "code",
      "execution_count": null,
      "metadata": {
        "colab": {
          "base_uri": "https://localhost:8080/",
          "height": 66
        },
        "id": "1ybmt0imgsev",
        "outputId": "83f93356-0b54-4805-ca20-5250e80e1dd6"
      },
      "outputs": [
        {
          "name": "stdout",
          "output_type": "stream",
          "text": [
            " * postgresql+psycopg2://@/postgres\n"
          ]
        },
        {
          "data": {
            "text/html": [
              "\n",
              "  <div id=\"df-e52982f2-7dda-454e-929b-1d35b923bbb0\">\n",
              "    <div class=\"colab-df-container\">\n",
              "      <div>\n",
              "<style scoped>\n",
              "    .dataframe tbody tr th:only-of-type {\n",
              "        vertical-align: middle;\n",
              "    }\n",
              "\n",
              "    .dataframe tbody tr th {\n",
              "        vertical-align: top;\n",
              "    }\n",
              "\n",
              "    .dataframe thead th {\n",
              "        text-align: right;\n",
              "    }\n",
              "</style>\n",
              "<table border=\"1\" class=\"dataframe\">\n",
              "  <thead>\n",
              "    <tr style=\"text-align: right;\">\n",
              "      <th></th>\n",
              "    </tr>\n",
              "  </thead>\n",
              "  <tbody>\n",
              "  </tbody>\n",
              "</table>\n",
              "</div>\n",
              "      <button class=\"colab-df-convert\" onclick=\"convertToInteractive('df-e52982f2-7dda-454e-929b-1d35b923bbb0')\"\n",
              "              title=\"Convert this dataframe to an interactive table.\"\n",
              "              style=\"display:none;\">\n",
              "        \n",
              "  <svg xmlns=\"http://www.w3.org/2000/svg\" height=\"24px\"viewBox=\"0 0 24 24\"\n",
              "       width=\"24px\">\n",
              "    <path d=\"M0 0h24v24H0V0z\" fill=\"none\"/>\n",
              "    <path d=\"M18.56 5.44l.94 2.06.94-2.06 2.06-.94-2.06-.94-.94-2.06-.94 2.06-2.06.94zm-11 1L8.5 8.5l.94-2.06 2.06-.94-2.06-.94L8.5 2.5l-.94 2.06-2.06.94zm10 10l.94 2.06.94-2.06 2.06-.94-2.06-.94-.94-2.06-.94 2.06-2.06.94z\"/><path d=\"M17.41 7.96l-1.37-1.37c-.4-.4-.92-.59-1.43-.59-.52 0-1.04.2-1.43.59L10.3 9.45l-7.72 7.72c-.78.78-.78 2.05 0 2.83L4 21.41c.39.39.9.59 1.41.59.51 0 1.02-.2 1.41-.59l7.78-7.78 2.81-2.81c.8-.78.8-2.07 0-2.86zM5.41 20L4 18.59l7.72-7.72 1.47 1.35L5.41 20z\"/>\n",
              "  </svg>\n",
              "      </button>\n",
              "      \n",
              "  <style>\n",
              "    .colab-df-container {\n",
              "      display:flex;\n",
              "      flex-wrap:wrap;\n",
              "      gap: 12px;\n",
              "    }\n",
              "\n",
              "    .colab-df-convert {\n",
              "      background-color: #E8F0FE;\n",
              "      border: none;\n",
              "      border-radius: 50%;\n",
              "      cursor: pointer;\n",
              "      display: none;\n",
              "      fill: #1967D2;\n",
              "      height: 32px;\n",
              "      padding: 0 0 0 0;\n",
              "      width: 32px;\n",
              "    }\n",
              "\n",
              "    .colab-df-convert:hover {\n",
              "      background-color: #E2EBFA;\n",
              "      box-shadow: 0px 1px 2px rgba(60, 64, 67, 0.3), 0px 1px 3px 1px rgba(60, 64, 67, 0.15);\n",
              "      fill: #174EA6;\n",
              "    }\n",
              "\n",
              "    [theme=dark] .colab-df-convert {\n",
              "      background-color: #3B4455;\n",
              "      fill: #D2E3FC;\n",
              "    }\n",
              "\n",
              "    [theme=dark] .colab-df-convert:hover {\n",
              "      background-color: #434B5C;\n",
              "      box-shadow: 0px 1px 3px 1px rgba(0, 0, 0, 0.15);\n",
              "      filter: drop-shadow(0px 1px 2px rgba(0, 0, 0, 0.3));\n",
              "      fill: #FFFFFF;\n",
              "    }\n",
              "  </style>\n",
              "\n",
              "      <script>\n",
              "        const buttonEl =\n",
              "          document.querySelector('#df-e52982f2-7dda-454e-929b-1d35b923bbb0 button.colab-df-convert');\n",
              "        buttonEl.style.display =\n",
              "          google.colab.kernel.accessAllowed ? 'block' : 'none';\n",
              "\n",
              "        async function convertToInteractive(key) {\n",
              "          const element = document.querySelector('#df-e52982f2-7dda-454e-929b-1d35b923bbb0');\n",
              "          const dataTable =\n",
              "            await google.colab.kernel.invokeFunction('convertToInteractive',\n",
              "                                                     [key], {});\n",
              "          if (!dataTable) return;\n",
              "\n",
              "          const docLinkHtml = 'Like what you see? Visit the ' +\n",
              "            '<a target=\"_blank\" href=https://colab.research.google.com/notebooks/data_table.ipynb>data table notebook</a>'\n",
              "            + ' to learn more about interactive tables.';\n",
              "          element.innerHTML = '';\n",
              "          dataTable['output_type'] = 'display_data';\n",
              "          await google.colab.output.renderOutput(dataTable, element);\n",
              "          const docLink = document.createElement('div');\n",
              "          docLink.innerHTML = docLinkHtml;\n",
              "          element.appendChild(docLink);\n",
              "        }\n",
              "      </script>\n",
              "    </div>\n",
              "  </div>\n",
              "  "
            ],
            "text/plain": [
              "Empty DataFrame\n",
              "Columns: []\n",
              "Index: []"
            ]
          },
          "execution_count": 76,
          "metadata": {},
          "output_type": "execute_result"
        }
      ],
      "source": [
        "%sql DELETE FROM NEWS"
      ]
    },
    {
      "cell_type": "markdown",
      "metadata": {
        "id": "NwLTy2pu30NP"
      },
      "source": [
        "# Estudo de Caso"
      ]
    },
    {
      "cell_type": "markdown",
      "metadata": {
        "id": "RoYRmsoq33hS"
      },
      "source": [
        "Selecione uma página de notícias de sua escolha. Leia uma lista de elementos que se repetem e os armazene em um dataframe. Depois disso, faça a limpeza dos dados. Com isso, inicie uma instância do PostgreSQL, crie uma tabela e armazene os dados dentro desta tabela."
      ]
    },
    {
      "cell_type": "code",
      "execution_count": 27,
      "metadata": {},
      "outputs": [
        {
          "name": "stderr",
          "output_type": "stream",
          "text": [
            "C:\\Users\\LucasBaccan\\AppData\\Local\\Temp\\ipykernel_21888\\354403302.py:17: FutureWarning: The frame.append method is deprecated and will be removed from pandas in a future version. Use pandas.concat instead.\n",
            "  data_frame = data_frame.append(data_insert, ignore_index=True)\n",
            "C:\\Users\\LucasBaccan\\AppData\\Local\\Temp\\ipykernel_21888\\354403302.py:17: FutureWarning: The frame.append method is deprecated and will be removed from pandas in a future version. Use pandas.concat instead.\n",
            "  data_frame = data_frame.append(data_insert, ignore_index=True)\n",
            "C:\\Users\\LucasBaccan\\AppData\\Local\\Temp\\ipykernel_21888\\354403302.py:17: FutureWarning: The frame.append method is deprecated and will be removed from pandas in a future version. Use pandas.concat instead.\n",
            "  data_frame = data_frame.append(data_insert, ignore_index=True)\n",
            "C:\\Users\\LucasBaccan\\AppData\\Local\\Temp\\ipykernel_21888\\354403302.py:17: FutureWarning: The frame.append method is deprecated and will be removed from pandas in a future version. Use pandas.concat instead.\n",
            "  data_frame = data_frame.append(data_insert, ignore_index=True)\n",
            "C:\\Users\\LucasBaccan\\AppData\\Local\\Temp\\ipykernel_21888\\354403302.py:17: FutureWarning: The frame.append method is deprecated and will be removed from pandas in a future version. Use pandas.concat instead.\n",
            "  data_frame = data_frame.append(data_insert, ignore_index=True)\n",
            "C:\\Users\\LucasBaccan\\AppData\\Local\\Temp\\ipykernel_21888\\354403302.py:17: FutureWarning: The frame.append method is deprecated and will be removed from pandas in a future version. Use pandas.concat instead.\n",
            "  data_frame = data_frame.append(data_insert, ignore_index=True)\n",
            "C:\\Users\\LucasBaccan\\AppData\\Local\\Temp\\ipykernel_21888\\354403302.py:17: FutureWarning: The frame.append method is deprecated and will be removed from pandas in a future version. Use pandas.concat instead.\n",
            "  data_frame = data_frame.append(data_insert, ignore_index=True)\n"
          ]
        },
        {
          "data": {
            "text/html": [
              "<div>\n",
              "<style scoped>\n",
              "    .dataframe tbody tr th:only-of-type {\n",
              "        vertical-align: middle;\n",
              "    }\n",
              "\n",
              "    .dataframe tbody tr th {\n",
              "        vertical-align: top;\n",
              "    }\n",
              "\n",
              "    .dataframe thead th {\n",
              "        text-align: right;\n",
              "    }\n",
              "</style>\n",
              "<table border=\"1\" class=\"dataframe\">\n",
              "  <thead>\n",
              "    <tr style=\"text-align: right;\">\n",
              "      <th></th>\n",
              "      <th>id</th>\n",
              "      <th>text</th>\n",
              "    </tr>\n",
              "  </thead>\n",
              "  <tbody>\n",
              "    <tr>\n",
              "      <th>0</th>\n",
              "      <td>1</td>\n",
              "      <td>Vítor Pereira completa três meses de Corinthia...</td>\n",
              "    </tr>\n",
              "    <tr>\n",
              "      <th>1</th>\n",
              "      <td>2</td>\n",
              "      <td>André x João Gomes: duelo entre Fla e Flu colo...</td>\n",
              "    </tr>\n",
              "    <tr>\n",
              "      <th>2</th>\n",
              "      <td>3</td>\n",
              "      <td>São Paulo encara o Ceará e pode igualar record...</td>\n",
              "    </tr>\n",
              "    <tr>\n",
              "      <th>3</th>\n",
              "      <td>4</td>\n",
              "      <td>Bustos encerra preparação para o clássico dest...</td>\n",
              "    </tr>\n",
              "    <tr>\n",
              "      <th>4</th>\n",
              "      <td>5</td>\n",
              "      <td>Mano mantém dúvida no ataque em penúltimo trei...</td>\n",
              "    </tr>\n",
              "    <tr>\n",
              "      <th>5</th>\n",
              "      <td>6</td>\n",
              "      <td>Chuva faz pista de acesso do CT do Náutico des...</td>\n",
              "    </tr>\n",
              "    <tr>\n",
              "      <th>6</th>\n",
              "      <td>7</td>\n",
              "      <td>Chelsea oficializa venda do clube, e Roman Abr...</td>\n",
              "    </tr>\n",
              "  </tbody>\n",
              "</table>\n",
              "</div>"
            ],
            "text/plain": [
              "  id                                               text\n",
              "0  1  Vítor Pereira completa três meses de Corinthia...\n",
              "1  2  André x João Gomes: duelo entre Fla e Flu colo...\n",
              "2  3  São Paulo encara o Ceará e pode igualar record...\n",
              "3  4  Bustos encerra preparação para o clássico dest...\n",
              "4  5  Mano mantém dúvida no ataque em penúltimo trei...\n",
              "5  6  Chuva faz pista de acesso do CT do Náutico des...\n",
              "6  7  Chelsea oficializa venda do clube, e Roman Abr..."
            ]
          },
          "execution_count": 27,
          "metadata": {},
          "output_type": "execute_result"
        }
      ],
      "source": [
        "import requests\n",
        "import re\n",
        "import pandas as pd\n",
        "from bs4 import BeautifulSoup\n",
        "\n",
        "# Buscar noticias do site do Google News\n",
        "data_frame = pd.DataFrame(columns=['id', 'text'])\n",
        "\n",
        "html = requests.get(\"https://ge.globo.com/\").content\n",
        "\n",
        "bs = BeautifulSoup(html, 'html.parser')\n",
        "noticias = bs.find_all('a', {'class':'feed-post-link gui-color-primary gui-color-hover'})\n",
        "\n",
        "for noticia in noticias:\n",
        "  # print(noticia.text)\n",
        "  data_insert = {'id': noticias.index(noticia) + 1, 'text': noticia.text.strip('\\n')}\n",
        "  data_frame = data_frame.append(data_insert, ignore_index=True)\n",
        "\n",
        "data_frame\n",
        "\n"
      ]
    },
    {
      "cell_type": "code",
      "execution_count": 28,
      "metadata": {},
      "outputs": [
        {
          "name": "stderr",
          "output_type": "stream",
          "text": [
            "A sintaxe do comando est� incorreta.\n",
            "'service' n�o � reconhecido como um comando interno\n",
            "ou externo, um programa oper�vel ou um arquivo em lotes.\n",
            "'sudo' n�o � reconhecido como um comando interno\n",
            "ou externo, um programa oper�vel ou um arquivo em lotes.\n"
          ]
        },
        {
          "ename": "ModuleNotFoundError",
          "evalue": "No module named 'sql'",
          "output_type": "error",
          "traceback": [
            "\u001b[1;31m---------------------------------------------------------------------------\u001b[0m",
            "\u001b[1;31mModuleNotFoundError\u001b[0m                       Traceback (most recent call last)",
            "\u001b[1;32mc:\\Users\\LucasBaccan\\git\\lucas-elias-baccan\\07-Python-Everton\\Aula-03\\atividades\\PythonIntroduction-lucas-elias-baccan.ipynb Cell 617'\u001b[0m in \u001b[0;36m<cell line: 7>\u001b[1;34m()\u001b[0m\n\u001b[0;32m      <a href='vscode-notebook-cell:/c%3A/Users/LucasBaccan/git/lucas-elias-baccan/07-Python-Everton/Aula-03/atividades/PythonIntroduction-lucas-elias-baccan.ipynb#ch0000616?line=4'>5</a>\u001b[0m get_ipython()\u001b[39m.\u001b[39msystem(\u001b[39m'\u001b[39m\u001b[39msudo -u postgres psql -c \u001b[39m\u001b[39m\"\u001b[39m\u001b[39mCREATE USER root WITH SUPERUSER PASSWORD \u001b[39m\u001b[39m\\'\u001b[39;00m\u001b[39m123456\u001b[39m\u001b[39m\\'\u001b[39;00m\u001b[39m\"\u001b[39m\u001b[39m'\u001b[39m)\n\u001b[0;32m      <a href='vscode-notebook-cell:/c%3A/Users/LucasBaccan/git/lucas-elias-baccan/07-Python-Everton/Aula-03/atividades/PythonIntroduction-lucas-elias-baccan.ipynb#ch0000616?line=5'>6</a>\u001b[0m \u001b[39m# set connection\u001b[39;00m\n\u001b[1;32m----> <a href='vscode-notebook-cell:/c%3A/Users/LucasBaccan/git/lucas-elias-baccan/07-Python-Everton/Aula-03/atividades/PythonIntroduction-lucas-elias-baccan.ipynb#ch0000616?line=6'>7</a>\u001b[0m get_ipython()\u001b[39m.\u001b[39;49mrun_line_magic(\u001b[39m'\u001b[39;49m\u001b[39mload_ext\u001b[39;49m\u001b[39m'\u001b[39;49m, \u001b[39m'\u001b[39;49m\u001b[39msql\u001b[39;49m\u001b[39m'\u001b[39;49m)\n\u001b[0;32m      <a href='vscode-notebook-cell:/c%3A/Users/LucasBaccan/git/lucas-elias-baccan/07-Python-Everton/Aula-03/atividades/PythonIntroduction-lucas-elias-baccan.ipynb#ch0000616?line=7'>8</a>\u001b[0m get_ipython()\u001b[39m.\u001b[39mrun_line_magic(\u001b[39m'\u001b[39m\u001b[39mconfig\u001b[39m\u001b[39m'\u001b[39m, \u001b[39m'\u001b[39m\u001b[39mSqlMagic.feedback=False\u001b[39m\u001b[39m'\u001b[39m)\n\u001b[0;32m      <a href='vscode-notebook-cell:/c%3A/Users/LucasBaccan/git/lucas-elias-baccan/07-Python-Everton/Aula-03/atividades/PythonIntroduction-lucas-elias-baccan.ipynb#ch0000616?line=8'>9</a>\u001b[0m get_ipython()\u001b[39m.\u001b[39mrun_line_magic(\u001b[39m'\u001b[39m\u001b[39mconfig\u001b[39m\u001b[39m'\u001b[39m, \u001b[39m'\u001b[39m\u001b[39mSqlMagic.autopandas=True\u001b[39m\u001b[39m'\u001b[39m)\n",
            "File \u001b[1;32mc:\\Users\\LucasBaccan\\AppData\\Local\\Programs\\Python\\Python310\\lib\\site-packages\\IPython\\core\\interactiveshell.py:2304\u001b[0m, in \u001b[0;36mInteractiveShell.run_line_magic\u001b[1;34m(self, magic_name, line, _stack_depth)\u001b[0m\n\u001b[0;32m   <a href='file:///c%3A/Users/LucasBaccan/AppData/Local/Programs/Python/Python310/lib/site-packages/IPython/core/interactiveshell.py?line=2301'>2302</a>\u001b[0m     kwargs[\u001b[39m'\u001b[39m\u001b[39mlocal_ns\u001b[39m\u001b[39m'\u001b[39m] \u001b[39m=\u001b[39m \u001b[39mself\u001b[39m\u001b[39m.\u001b[39mget_local_scope(stack_depth)\n\u001b[0;32m   <a href='file:///c%3A/Users/LucasBaccan/AppData/Local/Programs/Python/Python310/lib/site-packages/IPython/core/interactiveshell.py?line=2302'>2303</a>\u001b[0m \u001b[39mwith\u001b[39;00m \u001b[39mself\u001b[39m\u001b[39m.\u001b[39mbuiltin_trap:\n\u001b[1;32m-> <a href='file:///c%3A/Users/LucasBaccan/AppData/Local/Programs/Python/Python310/lib/site-packages/IPython/core/interactiveshell.py?line=2303'>2304</a>\u001b[0m     result \u001b[39m=\u001b[39m fn(\u001b[39m*\u001b[39margs, \u001b[39m*\u001b[39m\u001b[39m*\u001b[39mkwargs)\n\u001b[0;32m   <a href='file:///c%3A/Users/LucasBaccan/AppData/Local/Programs/Python/Python310/lib/site-packages/IPython/core/interactiveshell.py?line=2304'>2305</a>\u001b[0m \u001b[39mreturn\u001b[39;00m result\n",
            "File \u001b[1;32mc:\\Users\\LucasBaccan\\AppData\\Local\\Programs\\Python\\Python310\\lib\\site-packages\\IPython\\core\\magics\\extension.py:33\u001b[0m, in \u001b[0;36mExtensionMagics.load_ext\u001b[1;34m(self, module_str)\u001b[0m\n\u001b[0;32m     <a href='file:///c%3A/Users/LucasBaccan/AppData/Local/Programs/Python/Python310/lib/site-packages/IPython/core/magics/extension.py?line=30'>31</a>\u001b[0m \u001b[39mif\u001b[39;00m \u001b[39mnot\u001b[39;00m module_str:\n\u001b[0;32m     <a href='file:///c%3A/Users/LucasBaccan/AppData/Local/Programs/Python/Python310/lib/site-packages/IPython/core/magics/extension.py?line=31'>32</a>\u001b[0m     \u001b[39mraise\u001b[39;00m UsageError(\u001b[39m'\u001b[39m\u001b[39mMissing module name.\u001b[39m\u001b[39m'\u001b[39m)\n\u001b[1;32m---> <a href='file:///c%3A/Users/LucasBaccan/AppData/Local/Programs/Python/Python310/lib/site-packages/IPython/core/magics/extension.py?line=32'>33</a>\u001b[0m res \u001b[39m=\u001b[39m \u001b[39mself\u001b[39;49m\u001b[39m.\u001b[39;49mshell\u001b[39m.\u001b[39;49mextension_manager\u001b[39m.\u001b[39;49mload_extension(module_str)\n\u001b[0;32m     <a href='file:///c%3A/Users/LucasBaccan/AppData/Local/Programs/Python/Python310/lib/site-packages/IPython/core/magics/extension.py?line=34'>35</a>\u001b[0m \u001b[39mif\u001b[39;00m res \u001b[39m==\u001b[39m \u001b[39m'\u001b[39m\u001b[39malready loaded\u001b[39m\u001b[39m'\u001b[39m:\n\u001b[0;32m     <a href='file:///c%3A/Users/LucasBaccan/AppData/Local/Programs/Python/Python310/lib/site-packages/IPython/core/magics/extension.py?line=35'>36</a>\u001b[0m     \u001b[39mprint\u001b[39m(\u001b[39m\"\u001b[39m\u001b[39mThe \u001b[39m\u001b[39m%s\u001b[39;00m\u001b[39m extension is already loaded. To reload it, use:\u001b[39m\u001b[39m\"\u001b[39m \u001b[39m%\u001b[39m module_str)\n",
            "File \u001b[1;32mc:\\Users\\LucasBaccan\\AppData\\Local\\Programs\\Python\\Python310\\lib\\site-packages\\IPython\\core\\extensions.py:76\u001b[0m, in \u001b[0;36mExtensionManager.load_extension\u001b[1;34m(self, module_str)\u001b[0m\n\u001b[0;32m     <a href='file:///c%3A/Users/LucasBaccan/AppData/Local/Programs/Python/Python310/lib/site-packages/IPython/core/extensions.py?line=68'>69</a>\u001b[0m \u001b[39m\"\"\"Load an IPython extension by its module name.\u001b[39;00m\n\u001b[0;32m     <a href='file:///c%3A/Users/LucasBaccan/AppData/Local/Programs/Python/Python310/lib/site-packages/IPython/core/extensions.py?line=69'>70</a>\u001b[0m \n\u001b[0;32m     <a href='file:///c%3A/Users/LucasBaccan/AppData/Local/Programs/Python/Python310/lib/site-packages/IPython/core/extensions.py?line=70'>71</a>\u001b[0m \u001b[39mReturns the string \"already loaded\" if the extension is already loaded,\u001b[39;00m\n\u001b[0;32m     <a href='file:///c%3A/Users/LucasBaccan/AppData/Local/Programs/Python/Python310/lib/site-packages/IPython/core/extensions.py?line=71'>72</a>\u001b[0m \u001b[39m\"no load function\" if the module doesn't have a load_ipython_extension\u001b[39;00m\n\u001b[0;32m     <a href='file:///c%3A/Users/LucasBaccan/AppData/Local/Programs/Python/Python310/lib/site-packages/IPython/core/extensions.py?line=72'>73</a>\u001b[0m \u001b[39mfunction, or None if it succeeded.\u001b[39;00m\n\u001b[0;32m     <a href='file:///c%3A/Users/LucasBaccan/AppData/Local/Programs/Python/Python310/lib/site-packages/IPython/core/extensions.py?line=73'>74</a>\u001b[0m \u001b[39m\"\"\"\u001b[39;00m\n\u001b[0;32m     <a href='file:///c%3A/Users/LucasBaccan/AppData/Local/Programs/Python/Python310/lib/site-packages/IPython/core/extensions.py?line=74'>75</a>\u001b[0m \u001b[39mtry\u001b[39;00m:\n\u001b[1;32m---> <a href='file:///c%3A/Users/LucasBaccan/AppData/Local/Programs/Python/Python310/lib/site-packages/IPython/core/extensions.py?line=75'>76</a>\u001b[0m     \u001b[39mreturn\u001b[39;00m \u001b[39mself\u001b[39;49m\u001b[39m.\u001b[39;49m_load_extension(module_str)\n\u001b[0;32m     <a href='file:///c%3A/Users/LucasBaccan/AppData/Local/Programs/Python/Python310/lib/site-packages/IPython/core/extensions.py?line=76'>77</a>\u001b[0m \u001b[39mexcept\u001b[39;00m \u001b[39mModuleNotFoundError\u001b[39;00m:\n\u001b[0;32m     <a href='file:///c%3A/Users/LucasBaccan/AppData/Local/Programs/Python/Python310/lib/site-packages/IPython/core/extensions.py?line=77'>78</a>\u001b[0m     \u001b[39mif\u001b[39;00m module_str \u001b[39min\u001b[39;00m BUILTINS_EXTS:\n",
            "File \u001b[1;32mc:\\Users\\LucasBaccan\\AppData\\Local\\Programs\\Python\\Python310\\lib\\site-packages\\IPython\\core\\extensions.py:92\u001b[0m, in \u001b[0;36mExtensionManager._load_extension\u001b[1;34m(self, module_str)\u001b[0m\n\u001b[0;32m     <a href='file:///c%3A/Users/LucasBaccan/AppData/Local/Programs/Python/Python310/lib/site-packages/IPython/core/extensions.py?line=89'>90</a>\u001b[0m \u001b[39mif\u001b[39;00m module_str \u001b[39mnot\u001b[39;00m \u001b[39min\u001b[39;00m sys\u001b[39m.\u001b[39mmodules:\n\u001b[0;32m     <a href='file:///c%3A/Users/LucasBaccan/AppData/Local/Programs/Python/Python310/lib/site-packages/IPython/core/extensions.py?line=90'>91</a>\u001b[0m     \u001b[39mwith\u001b[39;00m prepended_to_syspath(\u001b[39mself\u001b[39m\u001b[39m.\u001b[39mipython_extension_dir):\n\u001b[1;32m---> <a href='file:///c%3A/Users/LucasBaccan/AppData/Local/Programs/Python/Python310/lib/site-packages/IPython/core/extensions.py?line=91'>92</a>\u001b[0m         mod \u001b[39m=\u001b[39m import_module(module_str)\n\u001b[0;32m     <a href='file:///c%3A/Users/LucasBaccan/AppData/Local/Programs/Python/Python310/lib/site-packages/IPython/core/extensions.py?line=92'>93</a>\u001b[0m         \u001b[39mif\u001b[39;00m mod\u001b[39m.\u001b[39m\u001b[39m__file__\u001b[39m\u001b[39m.\u001b[39mstartswith(\u001b[39mself\u001b[39m\u001b[39m.\u001b[39mipython_extension_dir):\n\u001b[0;32m     <a href='file:///c%3A/Users/LucasBaccan/AppData/Local/Programs/Python/Python310/lib/site-packages/IPython/core/extensions.py?line=93'>94</a>\u001b[0m             \u001b[39mprint\u001b[39m((\u001b[39m\"\u001b[39m\u001b[39mLoading extensions from \u001b[39m\u001b[39m{dir}\u001b[39;00m\u001b[39m is deprecated. \u001b[39m\u001b[39m\"\u001b[39m\n\u001b[0;32m     <a href='file:///c%3A/Users/LucasBaccan/AppData/Local/Programs/Python/Python310/lib/site-packages/IPython/core/extensions.py?line=94'>95</a>\u001b[0m                    \u001b[39m\"\u001b[39m\u001b[39mWe recommend managing extensions like any \u001b[39m\u001b[39m\"\u001b[39m\n\u001b[0;32m     <a href='file:///c%3A/Users/LucasBaccan/AppData/Local/Programs/Python/Python310/lib/site-packages/IPython/core/extensions.py?line=95'>96</a>\u001b[0m                    \u001b[39m\"\u001b[39m\u001b[39mother Python packages, in site-packages.\u001b[39m\u001b[39m\"\u001b[39m)\u001b[39m.\u001b[39mformat(\n\u001b[0;32m     <a href='file:///c%3A/Users/LucasBaccan/AppData/Local/Programs/Python/Python310/lib/site-packages/IPython/core/extensions.py?line=96'>97</a>\u001b[0m                   \u001b[39mdir\u001b[39m\u001b[39m=\u001b[39mcompress_user(\u001b[39mself\u001b[39m\u001b[39m.\u001b[39mipython_extension_dir)))\n",
            "File \u001b[1;32mc:\\Users\\LucasBaccan\\AppData\\Local\\Programs\\Python\\Python310\\lib\\importlib\\__init__.py:126\u001b[0m, in \u001b[0;36mimport_module\u001b[1;34m(name, package)\u001b[0m\n\u001b[0;32m    <a href='file:///c%3A/Users/LucasBaccan/AppData/Local/Programs/Python/Python310/lib/importlib/__init__.py?line=123'>124</a>\u001b[0m             \u001b[39mbreak\u001b[39;00m\n\u001b[0;32m    <a href='file:///c%3A/Users/LucasBaccan/AppData/Local/Programs/Python/Python310/lib/importlib/__init__.py?line=124'>125</a>\u001b[0m         level \u001b[39m+\u001b[39m\u001b[39m=\u001b[39m \u001b[39m1\u001b[39m\n\u001b[1;32m--> <a href='file:///c%3A/Users/LucasBaccan/AppData/Local/Programs/Python/Python310/lib/importlib/__init__.py?line=125'>126</a>\u001b[0m \u001b[39mreturn\u001b[39;00m _bootstrap\u001b[39m.\u001b[39;49m_gcd_import(name[level:], package, level)\n",
            "File \u001b[1;32m<frozen importlib._bootstrap>:1050\u001b[0m, in \u001b[0;36m_gcd_import\u001b[1;34m(name, package, level)\u001b[0m\n",
            "File \u001b[1;32m<frozen importlib._bootstrap>:1027\u001b[0m, in \u001b[0;36m_find_and_load\u001b[1;34m(name, import_)\u001b[0m\n",
            "File \u001b[1;32m<frozen importlib._bootstrap>:1004\u001b[0m, in \u001b[0;36m_find_and_load_unlocked\u001b[1;34m(name, import_)\u001b[0m\n",
            "\u001b[1;31mModuleNotFoundError\u001b[0m: No module named 'sql'"
          ]
        }
      ],
      "source": [
        "# Utilizar o banco de dados\n",
        "# install\n",
        "!apt install postgresql postgresql-contrib &>log\n",
        "!service postgresql start\n",
        "!sudo -u postgres psql -c \"CREATE USER root WITH SUPERUSER PASSWORD '123456'\"\n",
        "# set connection\n",
        "%load_ext sql\n",
        "%config SqlMagic.feedback=False \n",
        "%config SqlMagic.autopandas=True\n",
        "%sql postgresql+psycopg2://@/postgres\n",
        "\n",
        "%sql CREATE TABLE noticias (id int, descricao VARCHAR(250))\n",
        "\n",
        "for index, row in data_frame.iterrows():\n",
        "  line = \"INSERT INTO noticias (id, descricao) VALUES (\" + str(row[\"id\"]) + \",'\" + row[\"text\"].strip().replace(\"'\", \"\") + \"');\"\n",
        "  print(line)\n",
        "  %sql $line\n",
        "\n",
        "%sql SELECT * FROM noticias"
      ]
    }
  ],
  "metadata": {
    "colab": {
      "collapsed_sections": [],
      "name": "PythonIntroduction-lucas-elias-baccan.ipynb",
      "provenance": [],
      "toc_visible": true
    },
    "interpreter": {
      "hash": "679c4a504a83b5c77398a0eeb031c51059415d339d64a9c64fff9b14840d20b6"
    },
    "kernelspec": {
      "display_name": "Python 3.10.0 64-bit",
      "language": "python",
      "name": "python3"
    },
    "language_info": {
      "codemirror_mode": {
        "name": "ipython",
        "version": 3
      },
      "file_extension": ".py",
      "mimetype": "text/x-python",
      "name": "python",
      "nbconvert_exporter": "python",
      "pygments_lexer": "ipython3",
      "version": "3.10.0"
    }
  },
  "nbformat": 4,
  "nbformat_minor": 0
}
