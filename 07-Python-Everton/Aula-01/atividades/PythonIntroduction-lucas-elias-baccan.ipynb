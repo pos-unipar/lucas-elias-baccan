{
  "cells": [
    {
      "cell_type": "markdown",
      "metadata": {
        "id": "7q25VYBYLR8n"
      },
      "source": [
        "# Introdução a Linguagem Python"
      ]
    },
    {
      "cell_type": "markdown",
      "metadata": {
        "id": "42HiMg2XLGk4"
      },
      "source": [
        "1. Seu primeiro programa python\n",
        "2. Strings e métodos de string\n",
        "3. Números e matemática\n",
        "4. Funções e laços\n",
        "5. Encontrando e corrigindo erros de código\n",
        "6. Lógica condicional e fluxo de controle\n",
        "7. Tuplas, listas e dicionários\n",
        "8. Programação orientada a objetos (oop)\n",
        "9. Módulos e pacotes\n",
        "10. Entrada e saída de arquivo\n",
        "11. Instalando pacotes com pip\n",
        "12. Trabalhando com bancos de dados\n",
        "13. Interagindo com a web\n",
        "\n",
        "JARMUL, K.; LAWSON. **Python Web Scraping. Hands-on data scraping and crawling using PyQT, Selnium, HTML and Python.** Segunda Edição, Packt Publishing, Nova Iorque, 2020.\n",
        "\n",
        "VIAFORE, P. **Robust Python. Write Clean and Maintainable Code**. Kudzera, California, 2021.\n",
        "\n",
        "HEISLER, F.; AMOS, D.; BADER, D.; JABLONSKI, J. **Python Basics: A Practical Introduction to Python 3**. Real Python, Toronto, 2020.\n",
        "\n",
        "https://realpython.com/python-basics/resources/"
      ]
    },
    {
      "cell_type": "markdown",
      "metadata": {
        "id": "ixCZDsK9J2Sl"
      },
      "source": [
        "## Seu primeiro programa python"
      ]
    },
    {
      "cell_type": "code",
      "execution_count": null,
      "metadata": {
        "colab": {
          "base_uri": "https://localhost:8080/"
        },
        "id": "50rQIeqEH6UC",
        "outputId": "48dbf7e9-78b4-4cf3-dc99-b4e77ddf94cc"
      },
      "outputs": [],
      "source": [
        "print(\"Welcome to Python!\")"
      ]
    },
    {
      "cell_type": "markdown",
      "metadata": {
        "id": "MFs8WIAfw1xt"
      },
      "source": [
        "**> Quase tudo em python é uma função.**"
      ]
    },
    {
      "cell_type": "code",
      "execution_count": null,
      "metadata": {
        "colab": {
          "base_uri": "https://localhost:8080/"
        },
        "id": "db_7cSiaI9b4",
        "outputId": "67fa2577-57f7-47de-e47c-f63b84249ab3"
      },
      "outputs": [],
      "source": [
        "print(\"Welcome\")\n",
        "print(\"to Python!\")"
      ]
    },
    {
      "cell_type": "markdown",
      "metadata": {
        "id": "xioN0Os2xFKS"
      },
      "source": [
        "**> Você pode ter varias funções sendo chamadas em sequencia**"
      ]
    },
    {
      "cell_type": "code",
      "execution_count": null,
      "metadata": {
        "colab": {
          "base_uri": "https://localhost:8080/"
        },
        "id": "xcR3IgVBJE62",
        "outputId": "5ca69984-e214-4b0a-92a3-bb2b4bc7cf72"
      },
      "outputs": [],
      "source": [
        "print(\"Welcome \\n to Python!\")"
      ]
    },
    {
      "cell_type": "markdown",
      "metadata": {
        "id": "zbkiCdjhxWm5"
      },
      "source": [
        "**> Você pode utilizar o \"\\n\" para poder quebrar a linha**"
      ]
    },
    {
      "cell_type": "markdown",
      "metadata": {
        "id": "9oUlXe4BxTgh"
      },
      "source": []
    },
    {
      "cell_type": "code",
      "execution_count": null,
      "metadata": {
        "colab": {
          "base_uri": "https://localhost:8080/"
        },
        "id": "hly2h_klJuwH",
        "outputId": "2826534d-aab6-41e9-fa5c-9686abe4aa9b"
      },
      "outputs": [],
      "source": [
        "1 + 1"
      ]
    },
    {
      "cell_type": "markdown",
      "metadata": {
        "id": "TLzUTPEnxsKn"
      },
      "source": [
        "**> O terminal sempre vai fazer o stdout da execução, mas quando rodarmos o script, temos que utilizar a função \"print()\"**"
      ]
    },
    {
      "cell_type": "code",
      "execution_count": null,
      "metadata": {
        "colab": {
          "base_uri": "https://localhost:8080/"
        },
        "id": "ErvKzpWdJ7x6",
        "outputId": "d032432a-5e05-4f43-ebcb-00098e0be19f"
      },
      "outputs": [],
      "source": [
        "phrase = \"Hello, world\"\n",
        "print(phrase)"
      ]
    },
    {
      "cell_type": "markdown",
      "metadata": {
        "id": "oSm3MRmkyKce"
      },
      "source": [
        "**> Python é fracamente tipado, então não precisamos falar qual o tipo da variavel.**"
      ]
    },
    {
      "cell_type": "code",
      "execution_count": null,
      "metadata": {
        "id": "776epQS4KKNR"
      },
      "outputs": [],
      "source": [
        "s = 3600"
      ]
    },
    {
      "cell_type": "code",
      "execution_count": null,
      "metadata": {
        "id": "fFIN9HVLKLny"
      },
      "outputs": [],
      "source": [
        "seconds = 3600"
      ]
    },
    {
      "cell_type": "code",
      "execution_count": null,
      "metadata": {
        "id": "kjpjC5tpKNLT"
      },
      "outputs": [],
      "source": [
        "seconds_per_hour = 3600"
      ]
    },
    {
      "cell_type": "markdown",
      "metadata": {
        "id": "vUBtYPnZyXCh"
      },
      "source": [
        "**> Não tem um padrão para escrever as variaveis, mas algo que a comunidade segue é utilizar o padrão \"snake_case\"**"
      ]
    },
    {
      "cell_type": "code",
      "execution_count": null,
      "metadata": {
        "colab": {
          "base_uri": "https://localhost:8080/"
        },
        "id": "jE7iQ22YKWwk",
        "outputId": "d11e0a5f-2983-4c4d-f93e-58178834c9d0"
      },
      "outputs": [],
      "source": [
        "phrase = \"Hello, world\" # This comment is PEP 8 compliant.\n",
        "print(phrase)# This comment isn't."
      ]
    },
    {
      "cell_type": "markdown",
      "metadata": {
        "id": "k9UXKZwAylE7"
      },
      "source": [
        "**> Para fazermos comentarios, utilizamos o \"#\", e após ele, tudo sera um comentario.**"
      ]
    },
    {
      "cell_type": "markdown",
      "metadata": {
        "id": "MlU0hY-OKhMV"
      },
      "source": [
        "## Strings e métodos de string"
      ]
    },
    {
      "cell_type": "markdown",
      "metadata": {
        "id": "oiiY4mV9z7lI"
      },
      "source": [
        "**> Por que utilizar string??**\n",
        "**Temos que pensar quando vamos trabalhar com os tipos, pois cada tipo utiliza uma quantidade de recursos. Uma String é uma lista de caracteres**\n"
      ]
    },
    {
      "cell_type": "markdown",
      "metadata": {
        "id": "8EktZa87V0-L"
      },
      "source": [
        "### The String Data Type"
      ]
    },
    {
      "cell_type": "code",
      "execution_count": null,
      "metadata": {
        "colab": {
          "base_uri": "https://localhost:8080/"
        },
        "id": "vVhulUjKKcku",
        "outputId": "72db565f-2530-493b-b8c4-5a7a7db0691b"
      },
      "outputs": [],
      "source": [
        "print(type(\"Hello, world\"))\n",
        "print(type(\"1.0\"))\n",
        "print(type(1.0))"
      ]
    },
    {
      "cell_type": "markdown",
      "metadata": {
        "id": "uVfWRzg-0xIS"
      },
      "source": [
        "**> Utilizar o \"type\" para poder saber o tipo de um valor, utilizado pra validar os itens em uma função**"
      ]
    },
    {
      "cell_type": "code",
      "execution_count": null,
      "metadata": {
        "colab": {
          "base_uri": "https://localhost:8080/"
        },
        "id": "XLdMepOxKfk8",
        "outputId": "3f2fd945-ff6d-432c-da81-df8b8b288170"
      },
      "outputs": [],
      "source": [
        "phrase = \"Hello, world\"\n",
        "type(phrase)"
      ]
    },
    {
      "cell_type": "markdown",
      "metadata": {
        "id": "_Vi9e2GQ1Xrs"
      },
      "source": [
        "**> Podemos pegar qual é o tipo de uma variavel tambem**"
      ]
    },
    {
      "cell_type": "markdown",
      "metadata": {
        "id": "s5a7II0uV5K1"
      },
      "source": [
        "### String Literals"
      ]
    },
    {
      "cell_type": "code",
      "execution_count": null,
      "metadata": {
        "id": "xISt72_aKlsH"
      },
      "outputs": [],
      "source": [
        "string1 = 'Hello, world'\n",
        "string2 = \"1234\""
      ]
    },
    {
      "cell_type": "markdown",
      "metadata": {
        "id": "B9CBipx21qlT"
      },
      "source": [
        "**> Python não tem diferença entra aspas duplas(\") e simples(') em strings**"
      ]
    },
    {
      "cell_type": "markdown",
      "metadata": {
        "id": "2yQq_m8uV9N3"
      },
      "source": [
        "### Determine the Length of a String"
      ]
    },
    {
      "cell_type": "code",
      "execution_count": null,
      "metadata": {
        "colab": {
          "base_uri": "https://localhost:8080/"
        },
        "id": "BxdftRfxKrx8",
        "outputId": "45fd09e3-5e22-4b7f-bfcd-46e54579e99d"
      },
      "outputs": [],
      "source": [
        "len(string1)"
      ]
    },
    {
      "cell_type": "markdown",
      "metadata": {
        "id": "MvRyzdYf1hws"
      },
      "source": [
        "**> Utilizamos a função \"len()\" para saber o tamanho de uma lista**"
      ]
    },
    {
      "cell_type": "code",
      "execution_count": null,
      "metadata": {
        "colab": {
          "base_uri": "https://localhost:8080/"
        },
        "id": "teCk2gNwKvov",
        "outputId": "6ffce87d-32f0-42a7-a563-901a8081c205"
      },
      "outputs": [],
      "source": [
        "len(string2)"
      ]
    },
    {
      "cell_type": "markdown",
      "metadata": {
        "id": "yrlejbHuWCDl"
      },
      "source": [
        "### Multiline Strings"
      ]
    },
    {
      "cell_type": "code",
      "execution_count": null,
      "metadata": {
        "id": "EwyVk07YK2uk"
      },
      "outputs": [],
      "source": [
        "paragraph = \"This planet has - or rather had - a problem, which was \\\n",
        "this: most of the people living on it were unhappy for pretty much \\\n",
        "of the time. Many solutions were suggested for this problem, but \\\n",
        "most of these were largely concerned with the movements of small \\\n",
        "green pieces of paper, which is odd because on the whole it wasn't \\\n",
        "the small green pieces of paper that were unhappy.\""
      ]
    },
    {
      "cell_type": "code",
      "execution_count": null,
      "metadata": {
        "id": "pHBWvZEDK9oM"
      },
      "outputs": [],
      "source": [
        "print(paragraph)"
      ]
    },
    {
      "cell_type": "markdown",
      "metadata": {
        "id": "_Mr2NqjL12ze"
      },
      "source": [
        "**> Podemos utilizar barra invertida (\\) para fazer uma string de varias linhas, mas sua saida vai ser em uma linha continua**"
      ]
    },
    {
      "cell_type": "markdown",
      "metadata": {
        "id": "i-aMeoCYWJ-6"
      },
      "source": [
        "### Concatenation, Indexing, and Slicing"
      ]
    },
    {
      "cell_type": "code",
      "execution_count": null,
      "metadata": {
        "colab": {
          "base_uri": "https://localhost:8080/",
          "height": 35
        },
        "id": "D-2t-Bl0LAbw",
        "outputId": "2c88e810-6af0-41bf-d1d6-c76be5ea1859"
      },
      "outputs": [],
      "source": [
        "string1 = \"abra\"\n",
        "string2 = \"cadabra\"\n",
        "magic_string = string1 + string2\n",
        "magic_string"
      ]
    },
    {
      "cell_type": "markdown",
      "metadata": {
        "id": "MAILtpWj3ETE"
      },
      "source": [
        "**> Podemos simplemente fazer a \"soma\" de strings para concatenar**"
      ]
    },
    {
      "cell_type": "code",
      "execution_count": null,
      "metadata": {
        "colab": {
          "base_uri": "https://localhost:8080/"
        },
        "id": "GNCWdDD-3bdj",
        "outputId": "d519c51b-e047-4e88-8dae-0dd0c4cb0354"
      },
      "outputs": [],
      "source": [
        "string1 = \"abra\"\n",
        "string2 = \"cadabra\"\n",
        "magic_string = string1 + string2\n",
        "print(magic_string)"
      ]
    },
    {
      "cell_type": "markdown",
      "metadata": {
        "id": "NqL5_i2X3f3V"
      },
      "source": [
        "**> A função print imprime o valor da variavel, ela pode trazer mais informações do que só a variavel**"
      ]
    },
    {
      "cell_type": "code",
      "execution_count": null,
      "metadata": {
        "colab": {
          "base_uri": "https://localhost:8080/",
          "height": 35
        },
        "id": "gxQ5rPzbMLBY",
        "outputId": "8cceb7ab-5c0c-4255-e4cd-095204017297"
      },
      "outputs": [],
      "source": [
        "first_name = \"Arthur\"\n",
        "last_name = \"Dent\"\n",
        "full_name = first_name + \" \" + last_name\n",
        "full_name"
      ]
    },
    {
      "cell_type": "markdown",
      "metadata": {
        "id": "eNmhk1kSWNlE"
      },
      "source": [
        "### String Indexing"
      ]
    },
    {
      "cell_type": "code",
      "execution_count": null,
      "metadata": {
        "colab": {
          "base_uri": "https://localhost:8080/",
          "height": 35
        },
        "id": "qxzkXrOTMPcS",
        "outputId": "4ef4fd46-1bf1-4b94-d0af-664ddd2f87fb"
      },
      "outputs": [],
      "source": [
        "flavor = \"apple pie\"\n",
        "flavor[1]"
      ]
    },
    {
      "cell_type": "markdown",
      "metadata": {
        "id": "ULkfs_0w3_H7"
      },
      "source": [
        "**> Como string é uma lista, podemos percorer por cada posição**"
      ]
    },
    {
      "cell_type": "markdown",
      "metadata": {
        "id": "y37XNTBSMWWl"
      },
      "source": [
        "![image.png](data:image/png;base64,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)"
      ]
    },
    {
      "cell_type": "markdown",
      "metadata": {
        "id": "VLXPdNpu4hTH"
      },
      "source": [
        "**> Grande parte das linguagens começam com 0 as listas**"
      ]
    },
    {
      "cell_type": "code",
      "execution_count": null,
      "metadata": {
        "colab": {
          "base_uri": "https://localhost:8080/",
          "height": 35
        },
        "id": "roo3Z_XxMXbL",
        "outputId": "c5ecf614-69a1-4e18-a1e2-34b2e3b21d42"
      },
      "outputs": [],
      "source": [
        "flavor[-1]"
      ]
    },
    {
      "cell_type": "markdown",
      "metadata": {
        "id": "p-lkVRmy4H2n"
      },
      "source": [
        "**> Se utilizar valor negativo, vamos percorrer de forma inversa**"
      ]
    },
    {
      "cell_type": "code",
      "execution_count": null,
      "metadata": {
        "colab": {
          "base_uri": "https://localhost:8080/",
          "height": 35
        },
        "id": "HEJi20k14OHj",
        "outputId": "06d70589-8562-486b-b801-6ecf2830d426"
      },
      "outputs": [],
      "source": [
        "flavor[-3]\n"
      ]
    },
    {
      "cell_type": "markdown",
      "metadata": {
        "id": "HYbbVpY04SGW"
      },
      "source": [
        "**> Se utilizar valor negativo, vamos percorrer de forma inversa**"
      ]
    },
    {
      "cell_type": "markdown",
      "metadata": {
        "id": "zw591myRWSRd"
      },
      "source": [
        "### String Slicing"
      ]
    },
    {
      "cell_type": "code",
      "execution_count": null,
      "metadata": {
        "colab": {
          "base_uri": "https://localhost:8080/",
          "height": 35
        },
        "id": "p4qAWGw0MijZ",
        "outputId": "a850c1c8-dfe5-4f54-e8aa-d3f1d121c35c"
      },
      "outputs": [],
      "source": [
        "first_three_letters = flavor[0] + flavor[1] + flavor[2]\n",
        "first_three_letters"
      ]
    },
    {
      "cell_type": "code",
      "execution_count": null,
      "metadata": {
        "colab": {
          "base_uri": "https://localhost:8080/",
          "height": 35
        },
        "id": "vh5FRfJiMmrQ",
        "outputId": "353a6e05-426b-4ba6-d027-94f0f65debfa"
      },
      "outputs": [],
      "source": [
        "flavor = \"apple pie\"\n",
        "flavor[0:3]"
      ]
    },
    {
      "cell_type": "markdown",
      "metadata": {
        "id": "MxlJ1uNj4pTu"
      },
      "source": [
        "**> Podemos pegar partes da lista utilizando \":\", se for passado valores maiores que a string, ele não vai dar erro, vai pegar até onde der**"
      ]
    },
    {
      "cell_type": "code",
      "execution_count": null,
      "metadata": {
        "colab": {
          "base_uri": "https://localhost:8080/",
          "height": 35
        },
        "id": "HE6hULQ5Mqc5",
        "outputId": "69863a28-da86-4018-f4fb-fe8ba2c496f6"
      },
      "outputs": [],
      "source": [
        "flavor[:5]"
      ]
    },
    {
      "cell_type": "markdown",
      "metadata": {
        "id": "n207Mrfz5GiB"
      },
      "source": [
        "**> Se não for passado um valor inicial, ele asume que é zero. **"
      ]
    },
    {
      "cell_type": "code",
      "execution_count": null,
      "metadata": {
        "colab": {
          "base_uri": "https://localhost:8080/",
          "height": 35
        },
        "id": "kelRdZreMtsE",
        "outputId": "bf3a8e34-668d-4cd8-864d-0f50d08b1df7"
      },
      "outputs": [],
      "source": [
        "flavor[5:]"
      ]
    },
    {
      "cell_type": "markdown",
      "metadata": {
        "id": "U9_PL-84454l"
      },
      "source": [
        "**> ... o mesmo ocorre se não for passado valor final ,ele asume o final da frase**"
      ]
    },
    {
      "cell_type": "code",
      "execution_count": null,
      "metadata": {
        "colab": {
          "base_uri": "https://localhost:8080/",
          "height": 35
        },
        "id": "1rrxv8-AMv67",
        "outputId": "212368f1-24b0-464d-e76c-b9a96e9fb5c7"
      },
      "outputs": [],
      "source": [
        "flavor[:]"
      ]
    },
    {
      "cell_type": "markdown",
      "metadata": {
        "id": "XPClz7Nx4985"
      },
      "source": [
        "**> ... e se não passar nada, ele pega toda a lista, que é o mesmo que não se informar \"[:]\"**"
      ]
    },
    {
      "cell_type": "markdown",
      "metadata": {
        "id": "fo-poa3MWaKq"
      },
      "source": [
        "### Converting String Case"
      ]
    },
    {
      "cell_type": "code",
      "execution_count": null,
      "metadata": {
        "colab": {
          "base_uri": "https://localhost:8080/",
          "height": 35
        },
        "id": "Cr1g4yVdM7Ma",
        "outputId": "a52d205b-9ef3-42a2-91e0-b1ee66154ab1"
      },
      "outputs": [],
      "source": [
        "\"Jean-luc Picard\".lower()"
      ]
    },
    {
      "cell_type": "markdown",
      "metadata": {
        "id": "KMlrsF2Y6A75"
      },
      "source": [
        "**> Os tipos de dados já trazem algumas funções, como deixar os dados para minusculo**"
      ]
    },
    {
      "cell_type": "code",
      "execution_count": null,
      "metadata": {
        "colab": {
          "base_uri": "https://localhost:8080/",
          "height": 35
        },
        "id": "i4wOr1rFM-ad",
        "outputId": "69db6d8a-05a7-48a9-ee5b-b7dfa351f0a5"
      },
      "outputs": [],
      "source": [
        "name = \"Jean-luc Picard\"\n",
        "name.lower()"
      ]
    },
    {
      "cell_type": "markdown",
      "metadata": {
        "id": "Be08S5HZ6IDS"
      },
      "source": [
        "**> ... e você pode chamar a função diretamente do tipo, sem ter que criar uma variavel**"
      ]
    },
    {
      "cell_type": "code",
      "execution_count": null,
      "metadata": {
        "colab": {
          "base_uri": "https://localhost:8080/",
          "height": 35
        },
        "id": "diVttvO9NBkm",
        "outputId": "54ce5282-7ca7-4306-d392-1aaf4424958d"
      },
      "outputs": [],
      "source": [
        "loud_voice = \"Can you hear me yet?\"\n",
        "loud_voice.upper()"
      ]
    },
    {
      "cell_type": "markdown",
      "metadata": {
        "id": "EweCxXfIWq0p"
      },
      "source": [
        "### Removing Whitespace From a String"
      ]
    },
    {
      "cell_type": "code",
      "execution_count": null,
      "metadata": {
        "colab": {
          "base_uri": "https://localhost:8080/",
          "height": 35
        },
        "id": "ma0GZojMNQOs",
        "outputId": "31571d7b-cb65-4302-f374-2477146166b3"
      },
      "outputs": [],
      "source": [
        "name = \"Jean-luc Picard        \"\n",
        "name.rstrip()"
      ]
    },
    {
      "cell_type": "markdown",
      "metadata": {
        "id": "kSvWm8gd6eEz"
      },
      "source": [
        "**> Existe função para tirar os espaços no final da string**"
      ]
    },
    {
      "cell_type": "code",
      "execution_count": null,
      "metadata": {
        "colab": {
          "base_uri": "https://localhost:8080/",
          "height": 35
        },
        "id": "GaTtdJaHNT-A",
        "outputId": "bad8c383-c63d-42af-a069-d1dafc5615ba"
      },
      "outputs": [],
      "source": [
        "name = \"           Jean-luc Picard\"\n",
        "name.lstrip()"
      ]
    },
    {
      "cell_type": "markdown",
      "metadata": {
        "id": "vOOVbqI86i_2"
      },
      "source": [
        "**> ... para remover função antes da string**"
      ]
    },
    {
      "cell_type": "code",
      "execution_count": null,
      "metadata": {
        "colab": {
          "base_uri": "https://localhost:8080/",
          "height": 35
        },
        "id": "Y8ghhDFnNXPT",
        "outputId": "f2a6cc85-11a0-424b-f8c2-bfa85906a1d5"
      },
      "outputs": [],
      "source": [
        "name = \"       Jean-luc Picard          \"\n",
        "name.strip()"
      ]
    },
    {
      "cell_type": "markdown",
      "metadata": {
        "id": "O0cmwpZ16nk-"
      },
      "source": [
        "**> ... e função para remover antes e depois da string**"
      ]
    },
    {
      "cell_type": "markdown",
      "metadata": {
        "id": "E1ko8HRiXCYr"
      },
      "source": [
        "### Determine if a String Starts or Ends With a Particular String"
      ]
    },
    {
      "cell_type": "code",
      "execution_count": null,
      "metadata": {
        "colab": {
          "base_uri": "https://localhost:8080/"
        },
        "id": "hrKZpQnsNa6G",
        "outputId": "c44861c2-88b8-44e1-abd4-f860229c707d"
      },
      "outputs": [],
      "source": [
        "starship = \"Enterprise\"\n",
        "starship.startswith(\"en\")"
      ]
    },
    {
      "cell_type": "markdown",
      "metadata": {
        "id": "_8iFFxqn99hr"
      },
      "source": [
        "**> As funções são case sensitive, e existem varias para cada tipo de dado**"
      ]
    },
    {
      "cell_type": "code",
      "execution_count": null,
      "metadata": {
        "colab": {
          "base_uri": "https://localhost:8080/"
        },
        "id": "RSWeb9KGNiaH",
        "outputId": "cbf3bb8d-ed98-4144-c23f-4022bbb59858"
      },
      "outputs": [],
      "source": [
        "starship.endswith(\"rise\")"
      ]
    },
    {
      "cell_type": "markdown",
      "metadata": {
        "id": "Yw7vg6iwXJsE"
      },
      "source": [
        "### Interact With User Input"
      ]
    },
    {
      "cell_type": "code",
      "execution_count": null,
      "metadata": {
        "colab": {
          "base_uri": "https://localhost:8080/"
        },
        "id": "1piX5P91Nr3i",
        "outputId": "47c87244-f444-4807-c256-75ed67ddfafe"
      },
      "outputs": [],
      "source": [
        "prompt = \"Hey, what's up? \"\n",
        "user_input = input(prompt)\n",
        "print(\"You said:\", user_input)"
      ]
    },
    {
      "cell_type": "markdown",
      "metadata": {
        "id": "1N2JxJCf-ui5"
      },
      "source": [
        "**> Podemos fazer campos para pedir para o usuario informar dados**"
      ]
    },
    {
      "cell_type": "code",
      "execution_count": null,
      "metadata": {
        "colab": {
          "base_uri": "https://localhost:8080/"
        },
        "id": "sqdqiUkgNxVM",
        "outputId": "8021649d-6f24-4a83-a4cc-40756cf349e0"
      },
      "outputs": [],
      "source": [
        "response = input(\"What should I shout? \")\n",
        "shouted_response = response.upper()\n",
        "print(\"Well, if you insist...\", shouted_response)"
      ]
    },
    {
      "cell_type": "markdown",
      "metadata": {
        "id": "urfU1OUj-2LT"
      },
      "source": [
        "**> ... e podemos trabalhar com esse dado depois como quisermos**"
      ]
    },
    {
      "cell_type": "markdown",
      "metadata": {
        "id": "tnD_z1LcXNic"
      },
      "source": [
        "### Working With Strings and Numbers"
      ]
    },
    {
      "cell_type": "code",
      "execution_count": null,
      "metadata": {
        "colab": {
          "base_uri": "https://localhost:8080/",
          "height": 35
        },
        "id": "hts3M7ctOVLS",
        "outputId": "d39cf6cc-1dbf-4461-f98f-dc99c6ccb6fa"
      },
      "outputs": [],
      "source": [
        "num = \"2\"\n",
        "num + num"
      ]
    },
    {
      "cell_type": "markdown",
      "metadata": {
        "id": "lO7ngTNq_CKV"
      },
      "source": [
        "**> Somando strings**"
      ]
    },
    {
      "cell_type": "code",
      "execution_count": null,
      "metadata": {
        "colab": {
          "base_uri": "https://localhost:8080/",
          "height": 35
        },
        "id": "rGjw4qafRWWT",
        "outputId": "69e049dd-115a-406e-b461-718184c3e32c"
      },
      "outputs": [],
      "source": [
        "num = \"12\"\n",
        "num * 3"
      ]
    },
    {
      "cell_type": "markdown",
      "metadata": {
        "id": "nPlodyht_EZS"
      },
      "source": [
        "**> multiplicando a string**"
      ]
    },
    {
      "cell_type": "code",
      "execution_count": null,
      "metadata": {
        "colab": {
          "base_uri": "https://localhost:8080/",
          "height": 165
        },
        "id": "upDrUc4sRbEY",
        "outputId": "0c34c67b-03e3-4cef-97bf-f122f0e26678"
      },
      "outputs": [],
      "source": [
        "\"12\" * \"3\""
      ]
    },
    {
      "cell_type": "markdown",
      "metadata": {
        "id": "tAsg1L8R_Rrf"
      },
      "source": [
        "**> Mas a função de multiplicar é uma função matematica, e não de texto.**"
      ]
    },
    {
      "cell_type": "markdown",
      "metadata": {
        "id": "Xi-Gcr6rXZeg"
      },
      "source": [
        "### Converting Strings to Numbers"
      ]
    },
    {
      "cell_type": "code",
      "execution_count": null,
      "metadata": {
        "colab": {
          "base_uri": "https://localhost:8080/"
        },
        "id": "n6YLJBgaRhC2",
        "outputId": "7c04b5ea-7417-4575-c7b9-0339f635fb29"
      },
      "outputs": [],
      "source": [
        "num = input(\"Enter a number to be doubled: \")\n",
        "doubled_num = num * 2\n",
        "print(doubled_num)"
      ]
    },
    {
      "cell_type": "markdown",
      "metadata": {
        "id": "VyK548fs_eyP"
      },
      "source": [
        "**> A entrada de uma campo vai ser sempre um retorno do tipo texto**"
      ]
    },
    {
      "cell_type": "code",
      "execution_count": null,
      "metadata": {
        "colab": {
          "base_uri": "https://localhost:8080/"
        },
        "id": "4lIqDu3BRoNq",
        "outputId": "87fc3dd1-4e37-44df-8799-394de6ca4566"
      },
      "outputs": [],
      "source": [
        "num = input(\"Enter a number to be doubled: \")\n",
        "doubled_num = float(num) * 2\n",
        "print(doubled_num)"
      ]
    },
    {
      "cell_type": "markdown",
      "metadata": {
        "id": "trnNz5rC_kpN"
      },
      "source": [
        "**> ... mas podemos converter essa entrada para um tipo diferente.**\n"
      ]
    },
    {
      "cell_type": "markdown",
      "metadata": {
        "id": "__S15y_8Xdz5"
      },
      "source": [
        "### Converting Numbers to Strings"
      ]
    },
    {
      "cell_type": "code",
      "execution_count": null,
      "metadata": {
        "colab": {
          "base_uri": "https://localhost:8080/",
          "height": 35
        },
        "id": "hCueEbQbRwwZ",
        "outputId": "7bf78a7b-4bf4-4c8f-cbbf-4a3445437cc4"
      },
      "outputs": [],
      "source": [
        "num_pancakes = 10\n",
        "\"I am going to eat \" + str(num_pancakes) + \" pancakes.\""
      ]
    },
    {
      "cell_type": "markdown",
      "metadata": {
        "id": "DS35C4AGBQgX"
      },
      "source": [
        "**> ...e converter para outros tipos**"
      ]
    },
    {
      "cell_type": "code",
      "execution_count": null,
      "metadata": {
        "colab": {
          "base_uri": "https://localhost:8080/",
          "height": 35
        },
        "id": "5O9Uw2b2R0wD",
        "outputId": "7cd61dc4-c666-4bcd-e029-2b505d4d35aa"
      },
      "outputs": [],
      "source": [
        "total_pancakes = 10\n",
        "pancakes_eaten = 5\n",
        "\"Only \" + str(total_pancakes - pancakes_eaten) + \" pancakes left.\"\n",
        "'Only 5 pancakes left.'"
      ]
    },
    {
      "cell_type": "markdown",
      "metadata": {
        "id": "QYcPVxnRBc5N"
      },
      "source": [
        "**> ... e ate mesmo executar código dentro do cast**"
      ]
    },
    {
      "cell_type": "markdown",
      "metadata": {
        "id": "qeLRYPmLXhZL"
      },
      "source": [
        "### Streamline Your Print Statements"
      ]
    },
    {
      "cell_type": "code",
      "execution_count": null,
      "metadata": {
        "colab": {
          "base_uri": "https://localhost:8080/",
          "height": 35
        },
        "id": "QThfNVxeR9aa",
        "outputId": "1644d9be-9d74-4c98-ba5d-afdeefb51e9c"
      },
      "outputs": [],
      "source": [
        "n = 3\n",
        "m = 4\n",
        "f\"{n} times {m} is {n*m}\""
      ]
    },
    {
      "cell_type": "markdown",
      "metadata": {
        "id": "1Tdr5DjNBjNc"
      },
      "source": [
        "**> Podemos fazer a concatenação de texto utilizando um \"f\" na frente do texto, e executar função de código ou ler variaveis dentro de chaves \"{}\"**"
      ]
    },
    {
      "cell_type": "code",
      "execution_count": null,
      "metadata": {
        "colab": {
          "base_uri": "https://localhost:8080/",
          "height": 35
        },
        "id": "U6M_1S7pSDrz",
        "outputId": "e3f7b659-2df3-469c-b7e8-ececcc5c1afa"
      },
      "outputs": [],
      "source": [
        "name = \"John\"\n",
        "heads = \"1\"\n",
        "arms = \"2\"\n",
        "\"{} has {} heads and {} arms\".format(name, heads, arms)"
      ]
    },
    {
      "cell_type": "markdown",
      "metadata": {
        "id": "B4w5DGFKB472"
      },
      "source": [
        "**> ... ou podemos utilizar o \".format()\" e passar qual é a sequencia a ser seguida, mas se precisar, podemos passar dentro da chave o index da posição que queremos utilizar**"
      ]
    },
    {
      "cell_type": "markdown",
      "metadata": {
        "id": "-YPhrZ3kXs5Q"
      },
      "source": [
        "### Find a String in a String"
      ]
    },
    {
      "cell_type": "code",
      "execution_count": null,
      "metadata": {
        "colab": {
          "base_uri": "https://localhost:8080/"
        },
        "id": "XdLg1YZcSNO1",
        "outputId": "44d8e2c5-337f-4673-e8bd-5c4d5194df53"
      },
      "outputs": [],
      "source": [
        "phrase = \"the surprise is in here somewhere\"\n",
        "phrase.find(\"surprise\")"
      ]
    },
    {
      "cell_type": "markdown",
      "metadata": {
        "id": "94UBguiPYF2o"
      },
      "source": [
        "**> A função find mostra o index em que se encontra o termo buscado, somente sua primeira ocorrencia**"
      ]
    },
    {
      "cell_type": "code",
      "execution_count": null,
      "metadata": {
        "colab": {
          "base_uri": "https://localhost:8080/",
          "height": 35
        },
        "id": "FYd8OXIySlEB",
        "outputId": "e4b046bc-c396-40f4-a3fe-d0f0ae50bf5a"
      },
      "outputs": [],
      "source": [
        "my_story = \"I'm telling you the truth; nothing but the truth!\"\n",
        "my_story.replace(\"the truth\", \"lies\")"
      ]
    },
    {
      "cell_type": "markdown",
      "metadata": {
        "id": "Ehtwfid_YRUl"
      },
      "source": [
        "**> Faz a troca de termos, se for encontrado algum**"
      ]
    },
    {
      "cell_type": "code",
      "execution_count": null,
      "metadata": {
        "colab": {
          "base_uri": "https://localhost:8080/",
          "height": 35
        },
        "id": "OMIokt3dSsTU",
        "outputId": "2f588e30-ee1d-4027-e9bf-c31877884a7d"
      },
      "outputs": [],
      "source": [
        "my_story"
      ]
    },
    {
      "cell_type": "code",
      "execution_count": null,
      "metadata": {
        "colab": {
          "base_uri": "https://localhost:8080/",
          "height": 35
        },
        "id": "3eGi4ssJSv--",
        "outputId": "4026b959-2d6d-442a-ea6d-fdbb833d354e"
      },
      "outputs": [],
      "source": [
        "text = \"some of the stuff\"\n",
        "new_text = text.replace(\"some of\", \"all\")\n",
        "new_text = new_text.replace(\"stuff\", \"things\")\n",
        "new_text"
      ]
    },
    {
      "cell_type": "markdown",
      "metadata": {
        "id": "PBS9rjvPYuct"
      },
      "source": [
        "**> Voce pode atribuir o retorno da subistituição para uma função, e trabalhar com variaveis.**"
      ]
    },
    {
      "cell_type": "markdown",
      "metadata": {
        "id": "qtOheDp-TQWD"
      },
      "source": [
        "## Números e matemática"
      ]
    },
    {
      "cell_type": "markdown",
      "metadata": {
        "id": "F8MCFJCWTdX6"
      },
      "source": [
        "### Integers"
      ]
    },
    {
      "cell_type": "code",
      "execution_count": null,
      "metadata": {
        "colab": {
          "base_uri": "https://localhost:8080/"
        },
        "id": "rVPKRWq9Teha",
        "outputId": "615b9f07-0b60-4025-f8dd-9802a6e1261d"
      },
      "outputs": [],
      "source": [
        "type(1)"
      ]
    },
    {
      "cell_type": "markdown",
      "metadata": {
        "id": "eP3U2niOZM2j"
      },
      "source": [
        "**> Números que não tem ponto flutuante**\n"
      ]
    },
    {
      "cell_type": "code",
      "execution_count": null,
      "metadata": {
        "colab": {
          "base_uri": "https://localhost:8080/"
        },
        "id": "p1d0u70UTgB5",
        "outputId": "2b834d53-a930-40bd-8f0d-b2cdc25c52a9"
      },
      "outputs": [],
      "source": [
        "int(\"25\")"
      ]
    },
    {
      "cell_type": "code",
      "execution_count": null,
      "metadata": {
        "colab": {
          "base_uri": "https://localhost:8080/"
        },
        "id": "9yM86fUBTin8",
        "outputId": "7953ede9-0fd5-448e-ee64-e35cc9e5ad81"
      },
      "outputs": [],
      "source": [
        "1000000"
      ]
    },
    {
      "cell_type": "markdown",
      "metadata": {
        "id": "try1rPtIZhNO"
      },
      "source": [
        "**> Dependendo da execução, o retorno de dois inteiros pode ser um float, como na divisão, o retorno de 2 int divididos vai ser um float**\n"
      ]
    },
    {
      "cell_type": "markdown",
      "metadata": {
        "id": "PW8P9erJTlq9"
      },
      "source": [
        "### Floating-Point"
      ]
    },
    {
      "cell_type": "code",
      "execution_count": null,
      "metadata": {
        "colab": {
          "base_uri": "https://localhost:8080/"
        },
        "id": "A7ZfZjZQTmY8",
        "outputId": "ca254c85-eafe-427d-9425-4b28f5511e8b"
      },
      "outputs": [],
      "source": [
        "type(1.0)"
      ]
    },
    {
      "cell_type": "markdown",
      "metadata": {
        "id": "K-MEO2KxZRA6"
      },
      "source": [
        "**> Números com ponto flutuante**\n"
      ]
    },
    {
      "cell_type": "code",
      "execution_count": null,
      "metadata": {
        "colab": {
          "base_uri": "https://localhost:8080/"
        },
        "id": "LzvRWGX-ToyW",
        "outputId": "ec8d6c59-638b-40f5-bbf2-6bb90fa27f47"
      },
      "outputs": [],
      "source": [
        "float(\"1.25\")"
      ]
    },
    {
      "cell_type": "code",
      "execution_count": null,
      "metadata": {
        "colab": {
          "base_uri": "https://localhost:8080/"
        },
        "id": "BPwSoLNUTrHH",
        "outputId": "d0878bfd-ec73-40d3-bb32-3a6c75f0adce"
      },
      "outputs": [],
      "source": [
        "1000000.0"
      ]
    },
    {
      "cell_type": "code",
      "execution_count": null,
      "metadata": {
        "colab": {
          "base_uri": "https://localhost:8080/"
        },
        "id": "Y7RFVPEATu9I",
        "outputId": "bb093038-6099-4fa5-a521-0e30d3bf362f"
      },
      "outputs": [],
      "source": [
        "200000000000000000.0"
      ]
    },
    {
      "cell_type": "markdown",
      "metadata": {
        "id": "TlsOUsYVcACV"
      },
      "source": [
        "**> Anotação cientifica, uma forma de escrever numeros muito grandes ou muito pequenos**"
      ]
    },
    {
      "cell_type": "code",
      "execution_count": null,
      "metadata": {
        "colab": {
          "base_uri": "https://localhost:8080/"
        },
        "id": "vInW5AZRT1Kn",
        "outputId": "122280b6-b920-47cf-bf07-60235e3a8ead"
      },
      "outputs": [],
      "source": [
        "1e-4"
      ]
    },
    {
      "cell_type": "markdown",
      "metadata": {
        "id": "K5Gu5e5BT5Tn"
      },
      "source": [
        "### Arithmetic Operators and Expressions"
      ]
    },
    {
      "cell_type": "code",
      "execution_count": null,
      "metadata": {
        "colab": {
          "base_uri": "https://localhost:8080/"
        },
        "id": "MmcS9hvcT8bf",
        "outputId": "a46eb246-38cf-4f2e-f2bc-c930d0e9fac4"
      },
      "outputs": [],
      "source": [
        "1 + 2"
      ]
    },
    {
      "cell_type": "markdown",
      "metadata": {
        "id": "kJhV5OuOdUlE"
      },
      "source": [
        "**> Soma de inteiros**"
      ]
    },
    {
      "cell_type": "code",
      "execution_count": null,
      "metadata": {
        "colab": {
          "base_uri": "https://localhost:8080/"
        },
        "id": "0MVHArcnT-ip",
        "outputId": "349a3818-7e5d-49b7-800d-75e51d5b4ed2"
      },
      "outputs": [],
      "source": [
        "1.0 + 2"
      ]
    },
    {
      "cell_type": "markdown",
      "metadata": {
        "id": "FcxBN6-AdYQN"
      },
      "source": [
        "**> Soma de inteiro e float**"
      ]
    },
    {
      "cell_type": "code",
      "execution_count": null,
      "metadata": {
        "colab": {
          "base_uri": "https://localhost:8080/"
        },
        "id": "sBWuikGYUBF7",
        "outputId": "9debd934-de47-4c28-8f71-9245bd279944"
      },
      "outputs": [],
      "source": [
        "1 - 1"
      ]
    },
    {
      "cell_type": "markdown",
      "metadata": {
        "id": "iMddg95jdbB6"
      },
      "source": [
        "**> Subtração de inteiros, retorno inteiro**"
      ]
    },
    {
      "cell_type": "code",
      "execution_count": null,
      "metadata": {
        "colab": {
          "base_uri": "https://localhost:8080/"
        },
        "id": "0j7W5oudUCUH",
        "outputId": "5dbafd1d-3307-47eb-8ea0-c15a8cf6307a"
      },
      "outputs": [],
      "source": [
        "5.0 - 3"
      ]
    },
    {
      "cell_type": "markdown",
      "metadata": {
        "id": "1a5a90zVdct0"
      },
      "source": [
        "**> Subitração de flot e inteiro, retorno float**"
      ]
    },
    {
      "cell_type": "code",
      "execution_count": null,
      "metadata": {
        "colab": {
          "base_uri": "https://localhost:8080/"
        },
        "id": "zDujQakAUFwV",
        "outputId": "9e691bb0-aeee-4a9d-8e35-a1416901b518"
      },
      "outputs": [],
      "source": [
        "1 - (-3)"
      ]
    },
    {
      "cell_type": "markdown",
      "metadata": {
        "id": "XYvYOEjadhe5"
      },
      "source": [
        "**> Trabalhando com numeros negativos (precedente de operação)**"
      ]
    },
    {
      "cell_type": "code",
      "execution_count": null,
      "metadata": {
        "colab": {
          "base_uri": "https://localhost:8080/"
        },
        "id": "1iSEUrrCUIGW",
        "outputId": "68126536-0c94-4bd2-9aff-133225562d45"
      },
      "outputs": [],
      "source": [
        "3 * 3"
      ]
    },
    {
      "cell_type": "markdown",
      "metadata": {
        "id": "SCe2tjwbdwl3"
      },
      "source": [
        "**> Multiplicação de inteiros, retorno inteiro**"
      ]
    },
    {
      "cell_type": "code",
      "execution_count": null,
      "metadata": {
        "colab": {
          "base_uri": "https://localhost:8080/"
        },
        "id": "m4SpbWUNUJ-q",
        "outputId": "437fac46-bc0e-4a85-ac55-8ef49ff35e61"
      },
      "outputs": [],
      "source": [
        "2 * 8.0"
      ]
    },
    {
      "cell_type": "markdown",
      "metadata": {
        "id": "oz67z_DJd3iL"
      },
      "source": [
        "**> Multiplicação de inteiro e float, retorna float**"
      ]
    },
    {
      "cell_type": "code",
      "execution_count": null,
      "metadata": {
        "colab": {
          "base_uri": "https://localhost:8080/"
        },
        "id": "2_stveKCULmC",
        "outputId": "61f5ea80-52b7-4e7d-983d-7aa540850e6a"
      },
      "outputs": [],
      "source": [
        "9 / 3"
      ]
    },
    {
      "cell_type": "markdown",
      "metadata": {
        "id": "RUzIHXM6eCTT"
      },
      "source": [
        "**> Divisão sempre vai trabalhar com precisão, então retorna float**"
      ]
    },
    {
      "cell_type": "code",
      "execution_count": null,
      "metadata": {
        "colab": {
          "base_uri": "https://localhost:8080/"
        },
        "id": "jTngWAYEUPD5",
        "outputId": "b501bb43-8dc1-4d40-a503-5d21aebd38df"
      },
      "outputs": [],
      "source": [
        "int(9 / 3)"
      ]
    },
    {
      "cell_type": "markdown",
      "metadata": {
        "id": "ixIRxUrWeJwW"
      },
      "source": [
        "**> Um numero float, se for feito o cast para inteiro, vai perder informação, não é feito o arredondamento, ele só iguinora as casas decimais**"
      ]
    },
    {
      "cell_type": "code",
      "execution_count": null,
      "metadata": {
        "colab": {
          "base_uri": "https://localhost:8080/"
        },
        "id": "ycx31gSnUR0x",
        "outputId": "5769dc79-324f-47e8-8f18-e3cadd8ca3dd"
      },
      "outputs": [],
      "source": [
        "9 // 3"
      ]
    },
    {
      "cell_type": "markdown",
      "metadata": {
        "id": "J3WKplnoeWmh"
      },
      "source": [
        "**> Raiz quadrada**"
      ]
    },
    {
      "cell_type": "code",
      "execution_count": null,
      "metadata": {
        "colab": {
          "base_uri": "https://localhost:8080/"
        },
        "id": "oXGAKf82UXeL",
        "outputId": "e87f8c7b-a6e2-4abc-aebd-2f82074b7511"
      },
      "outputs": [],
      "source": [
        "2 ** 2"
      ]
    },
    {
      "cell_type": "markdown",
      "metadata": {
        "id": "Rp_Om9VOef_I"
      },
      "source": [
        "**> Exponenciação**"
      ]
    },
    {
      "cell_type": "code",
      "execution_count": null,
      "metadata": {
        "colab": {
          "base_uri": "https://localhost:8080/"
        },
        "id": "lyXA0F1SUabd",
        "outputId": "ee1ede35-70bf-4c0d-9ac7-74a0263c60fe"
      },
      "outputs": [],
      "source": [
        "3 ** 1.5"
      ]
    },
    {
      "cell_type": "code",
      "execution_count": null,
      "metadata": {
        "colab": {
          "base_uri": "https://localhost:8080/"
        },
        "id": "edXkcwLiUcm-",
        "outputId": "d2ea674c-2283-4693-c3b3-817b8b24b746"
      },
      "outputs": [],
      "source": [
        "9 ** 0.5"
      ]
    },
    {
      "cell_type": "markdown",
      "metadata": {
        "id": "OAr6TVgcfX96"
      },
      "source": [
        "**> Uma outra forma de fazer raiz quadrada**"
      ]
    },
    {
      "cell_type": "code",
      "execution_count": null,
      "metadata": {
        "colab": {
          "base_uri": "https://localhost:8080/"
        },
        "id": "bD78lZuJUfd_",
        "outputId": "9da0cc1a-1911-45c4-b491-0c87b2d14f67"
      },
      "outputs": [],
      "source": [
        "5 % 3"
      ]
    },
    {
      "cell_type": "markdown",
      "metadata": {
        "id": "RG_gvjcNelIa"
      },
      "source": [
        "**> Resto da divisão**"
      ]
    },
    {
      "cell_type": "code",
      "execution_count": null,
      "metadata": {
        "colab": {
          "base_uri": "https://localhost:8080/"
        },
        "id": "DKp98hyuUkDq",
        "outputId": "0c7c20ce-cc57-4106-c223-dc7f379b3c0d"
      },
      "outputs": [],
      "source": [
        "4/2 + 2**3"
      ]
    },
    {
      "cell_type": "markdown",
      "metadata": {
        "id": "MHr6sw3rfmMw"
      },
      "source": [
        "**> Novamente, precedencia de operações**"
      ]
    },
    {
      "cell_type": "code",
      "execution_count": null,
      "metadata": {
        "colab": {
          "base_uri": "https://localhost:8080/"
        },
        "id": "AFmARSBIUk5l",
        "outputId": "f4f35f13-38fc-4cc9-8e8f-76482251fa79"
      },
      "outputs": [],
      "source": [
        "-1 + (-3*2 + 4)"
      ]
    },
    {
      "cell_type": "code",
      "execution_count": null,
      "metadata": {
        "colab": {
          "base_uri": "https://localhost:8080/"
        },
        "id": "-zAv2iNCUshi",
        "outputId": "9688bd58-8531-4557-aa72-eb66a3bb9e5a"
      },
      "outputs": [],
      "source": [
        "round(2.3)"
      ]
    },
    {
      "cell_type": "markdown",
      "metadata": {
        "id": "VAvbvXKrgeXk"
      },
      "source": [
        "**> Arredondamento para o numero inteiro mais perto**"
      ]
    },
    {
      "cell_type": "code",
      "execution_count": null,
      "metadata": {
        "colab": {
          "base_uri": "https://localhost:8080/"
        },
        "id": "fiEgxTDUUu92",
        "outputId": "5842c40f-ebe9-4857-9f78-4b610c529f70"
      },
      "outputs": [],
      "source": [
        "round(2.7)"
      ]
    },
    {
      "cell_type": "markdown",
      "metadata": {
        "id": "A7dgA77fgivU"
      },
      "source": [
        "**> Tudo que for 0.6 ou maior vai ser arredondado para cima**"
      ]
    },
    {
      "cell_type": "code",
      "execution_count": null,
      "metadata": {
        "colab": {
          "base_uri": "https://localhost:8080/"
        },
        "id": "DCpHS2-YUx5o",
        "outputId": "b781bdf1-3065-4470-a57f-9886217b29d9"
      },
      "outputs": [],
      "source": [
        "round(3.14159, 3)"
      ]
    },
    {
      "cell_type": "markdown",
      "metadata": {
        "id": "b9Y79RLZgnlv"
      },
      "source": [
        "**> Eu posso passar a precisão que eu quero que seja retornado o arredondamento**"
      ]
    },
    {
      "cell_type": "code",
      "execution_count": null,
      "metadata": {
        "colab": {
          "base_uri": "https://localhost:8080/"
        },
        "id": "-E91ahbRU7AC",
        "outputId": "2b744b23-f8ee-453a-ff33-5bfe4f009faf"
      },
      "outputs": [],
      "source": [
        "abs(3)"
      ]
    },
    {
      "cell_type": "markdown",
      "metadata": {
        "id": "jS6M3BuLiGdt"
      },
      "source": [
        "**> Retorna o valor sem sinal**"
      ]
    },
    {
      "cell_type": "code",
      "execution_count": null,
      "metadata": {
        "colab": {
          "base_uri": "https://localhost:8080/"
        },
        "id": "278imie_U8qM",
        "outputId": "6a9d31aa-f3f4-4f58-a342-96bd1676e47f"
      },
      "outputs": [],
      "source": [
        "abs(-5.0)"
      ]
    },
    {
      "cell_type": "markdown",
      "metadata": {
        "id": "ntxrMOZ6iIn2"
      },
      "source": [
        "**> Valor sem sinal**"
      ]
    },
    {
      "cell_type": "code",
      "execution_count": null,
      "metadata": {
        "colab": {
          "base_uri": "https://localhost:8080/"
        },
        "id": "3_sLg8YoU-le",
        "outputId": "73f6b764-493f-4a26-8980-bf5702430077"
      },
      "outputs": [],
      "source": [
        "pow(2, 3)"
      ]
    },
    {
      "cell_type": "markdown",
      "metadata": {
        "id": "AXRyBr9xiLu9"
      },
      "source": [
        "**> Função de exponenciação, no código pode ser que seja mais legivel**"
      ]
    },
    {
      "cell_type": "code",
      "execution_count": null,
      "metadata": {
        "colab": {
          "base_uri": "https://localhost:8080/"
        },
        "id": "RL0F1NN4VAAd",
        "outputId": "844cff6d-0c42-4780-dcb3-7037728dc21d"
      },
      "outputs": [],
      "source": [
        "pow(2, -2)"
      ]
    },
    {
      "cell_type": "markdown",
      "metadata": {
        "id": "TX0OiPiRVGZo"
      },
      "source": [
        "### Print Numbers in Style"
      ]
    },
    {
      "cell_type": "code",
      "execution_count": null,
      "metadata": {
        "colab": {
          "base_uri": "https://localhost:8080/",
          "height": 35
        },
        "id": "1Qy4_bLCVHy5",
        "outputId": "77e20bb0-bf9e-48e2-c423-182ff6f88954"
      },
      "outputs": [],
      "source": [
        "n = 7.125\n",
        "f\"The value of n is {n}\""
      ]
    },
    {
      "cell_type": "code",
      "execution_count": null,
      "metadata": {
        "colab": {
          "base_uri": "https://localhost:8080/",
          "height": 35
        },
        "id": "KIEu-hvwVL8z",
        "outputId": "79389c46-0916-498f-ce69-8b73b620951b"
      },
      "outputs": [],
      "source": [
        "n = 7.125\n",
        "f\"The value of n is {n:.5f}\""
      ]
    },
    {
      "cell_type": "markdown",
      "metadata": {
        "id": "s705R2DjjkVR"
      },
      "source": [
        "**> Podemos utilizar \":.Nf\" para preencher um numero aonde N é o numero de casa**"
      ]
    },
    {
      "cell_type": "code",
      "execution_count": null,
      "metadata": {
        "colab": {
          "base_uri": "https://localhost:8080/",
          "height": 35
        },
        "id": "yY2H1MgiVTOF",
        "outputId": "968a5315-c83c-4081-ac53-e574788ef323"
      },
      "outputs": [],
      "source": [
        "balance = 2000.0\n",
        "spent = 256.35\n",
        "remaining = balance - spent\n",
        "f\"After spending ${spent:.2f}, I was left with ${remaining:,.2f}\""
      ]
    },
    {
      "cell_type": "code",
      "execution_count": null,
      "metadata": {
        "colab": {
          "base_uri": "https://localhost:8080/",
          "height": 35
        },
        "id": "nWTYzIU_VTT1",
        "outputId": "a6b2c238-eaa6-4788-8135-7bbe6cdb3d17"
      },
      "outputs": [],
      "source": [
        "ratio = 0.9\n",
        "f\"Over {ratio:.1%} of Pythonistas say 'Real Python rocks!'\""
      ]
    },
    {
      "cell_type": "markdown",
      "metadata": {
        "id": "rciQWAwykzYQ"
      },
      "source": [
        "**> E para formatar em percentual, basta colocar \":.1%\"**"
      ]
    },
    {
      "cell_type": "markdown",
      "metadata": {
        "id": "aFy9b9HoX4-r"
      },
      "source": [
        "## Funções e laços"
      ]
    },
    {
      "cell_type": "markdown",
      "metadata": {
        "id": "PP-ytngzYDwS"
      },
      "source": [
        "### Functions Are Values"
      ]
    },
    {
      "cell_type": "code",
      "execution_count": null,
      "metadata": {
        "colab": {
          "base_uri": "https://localhost:8080/"
        },
        "id": "Ls1ssffNYFiI",
        "outputId": "5a56ee82-0364-4599-f3ed-e3e9f8a9ab60"
      },
      "outputs": [],
      "source": [
        "len"
      ]
    },
    {
      "cell_type": "markdown",
      "metadata": {
        "id": "t__7ernrlvjK"
      },
      "source": [
        "**> Função para mostrar o tamanho de uma lista ou array**"
      ]
    },
    {
      "cell_type": "code",
      "execution_count": null,
      "metadata": {
        "colab": {
          "base_uri": "https://localhost:8080/"
        },
        "id": "cq4Q-QlVYH4J",
        "outputId": "3926e0d3-4a51-4376-da40-11ca0b5a35ec"
      },
      "outputs": [],
      "source": [
        "type(len)"
      ]
    },
    {
      "cell_type": "markdown",
      "metadata": {
        "id": "jPihorWPl6-f"
      },
      "source": [
        "**> O tipo dela é uma função interna**"
      ]
    },
    {
      "cell_type": "code",
      "execution_count": null,
      "metadata": {
        "colab": {
          "base_uri": "https://localhost:8080/",
          "height": 35
        },
        "id": "7-UgD2uIYKCi",
        "outputId": "269243ab-9559-4626-f742-3ff74b65723c"
      },
      "outputs": [],
      "source": [
        "len = \"I'm not the len you're looking for.\"\n",
        "len"
      ]
    },
    {
      "cell_type": "markdown",
      "metadata": {
        "id": "Cdcc9gyJl_VQ"
      },
      "source": [
        "**> No Python você pode sobrescrever funções padrões**"
      ]
    },
    {
      "cell_type": "code",
      "execution_count": null,
      "metadata": {
        "colab": {
          "base_uri": "https://localhost:8080/"
        },
        "id": "2g8NVJbMYMTK",
        "outputId": "41b3051d-6b98-4577-e0ef-b0f0ff08a1a7"
      },
      "outputs": [],
      "source": [
        "type(len)"
      ]
    },
    {
      "cell_type": "code",
      "execution_count": null,
      "metadata": {
        "id": "yDHgTWO9YO6D"
      },
      "outputs": [],
      "source": [
        "del len"
      ]
    },
    {
      "cell_type": "markdown",
      "metadata": {
        "id": "9jl_yftVmxb7"
      },
      "source": [
        "**> Mas pode utilizar \"del\" para poder retornar o valor original de funçoes builtin**"
      ]
    },
    {
      "cell_type": "code",
      "execution_count": null,
      "metadata": {
        "id": "dwfJvKZgYWDn"
      },
      "outputs": [],
      "source": [
        "num_letters = len(\"four\")"
      ]
    },
    {
      "cell_type": "code",
      "execution_count": null,
      "metadata": {
        "id": "pYJ0zHwBYYZg"
      },
      "outputs": [],
      "source": [
        "num_letters = 4"
      ]
    },
    {
      "cell_type": "code",
      "execution_count": null,
      "metadata": {
        "colab": {
          "base_uri": "https://localhost:8080/"
        },
        "id": "LMcv5HIVYbSy",
        "outputId": "f456ea21-4677-42df-d051-dd37cb66b57e"
      },
      "outputs": [],
      "source": [
        "return_value = print(\"What do I return?\")"
      ]
    },
    {
      "cell_type": "markdown",
      "metadata": {
        "id": "qvVeolNbnZGh"
      },
      "source": [
        "**> print é um metodo void, não retorna nada, então não é salvo nada na variavel**"
      ]
    },
    {
      "cell_type": "code",
      "execution_count": null,
      "metadata": {
        "id": "7At9tLVoYdNy"
      },
      "outputs": [],
      "source": [
        "return_value"
      ]
    },
    {
      "cell_type": "markdown",
      "metadata": {
        "id": "rmZPAbrIYkIf"
      },
      "source": [
        "### The Anatomy of a Function"
      ]
    },
    {
      "cell_type": "code",
      "execution_count": null,
      "metadata": {
        "id": "yLYUBEvoYjjM"
      },
      "outputs": [],
      "source": [
        "def multiply(x, y:int) -> int: # Function signature\n",
        "  # Function body\n",
        "  product = x * y\n",
        "  return product"
      ]
    },
    {
      "cell_type": "markdown",
      "metadata": {
        "id": "ib2AqwosnlYu"
      },
      "source": [
        "**> A identação no python é importante, utilize def para criar uma função, e : para definir quando vai ser criado o body. Além disso, posso tipar a entrada de dados e a saida**"
      ]
    },
    {
      "cell_type": "code",
      "execution_count": null,
      "metadata": {
        "colab": {
          "base_uri": "https://localhost:8080/"
        },
        "id": "cxmYScwbYu0B",
        "outputId": "f41d7c55-66e4-48b4-e353-cb329a245173"
      },
      "outputs": [],
      "source": [
        "multiply(2, 4)"
      ]
    },
    {
      "cell_type": "code",
      "execution_count": null,
      "metadata": {
        "id": "q1gCtpGjYzmT"
      },
      "outputs": [],
      "source": [
        "def greet(name):\n",
        "  print(f\"Hello, {name}!\")"
      ]
    },
    {
      "cell_type": "code",
      "execution_count": null,
      "metadata": {
        "colab": {
          "base_uri": "https://localhost:8080/"
        },
        "id": "t2bAq4pBY1vU",
        "outputId": "db5a0537-3e1f-4865-8032-e8e27674e682"
      },
      "outputs": [],
      "source": [
        "greet(\"Dave\")"
      ]
    },
    {
      "cell_type": "markdown",
      "metadata": {
        "id": "8DJ1RTjVyydf"
      },
      "source": [
        "**> Podemos fazer uma função chamar outra função**"
      ]
    },
    {
      "cell_type": "markdown",
      "metadata": {
        "id": "ajtG0zD2ZGzK"
      },
      "source": [
        "### The while Loop"
      ]
    },
    {
      "cell_type": "code",
      "execution_count": null,
      "metadata": {
        "colab": {
          "base_uri": "https://localhost:8080/"
        },
        "id": "mQ75bnP7ZKTO",
        "outputId": "43aa2aa5-a26d-4bdb-8d29-cbfffccafe8e"
      },
      "outputs": [],
      "source": [
        "n = 1\n",
        "while n < 5:\n",
        "  print(n)\n",
        "  n = n + 1"
      ]
    },
    {
      "cell_type": "markdown",
      "metadata": {
        "id": "Ny8STyY10Cyu"
      },
      "source": [
        "**> Repetir até a condição ser atendida**"
      ]
    },
    {
      "cell_type": "code",
      "execution_count": null,
      "metadata": {
        "colab": {
          "base_uri": "https://localhost:8080/"
        },
        "id": "x2KV9GZLZV2Q",
        "outputId": "f4c15ebf-4881-4b9c-f0de-7cf8f2a84a5a"
      },
      "outputs": [],
      "source": [
        "num = float(input(\"Enter a positive number: \"))\n",
        "while num <= 0:\n",
        "  print(\"That's not a positive number!\")\n",
        "  num = float(input(\"Enter a positive number: \"))"
      ]
    },
    {
      "cell_type": "markdown",
      "metadata": {
        "id": "OkfCpSsSz5--"
      },
      "source": [
        "**> E podemos passar função como parametro**"
      ]
    },
    {
      "cell_type": "markdown",
      "metadata": {
        "id": "_bJOyNwpZbxR"
      },
      "source": [
        "### The for Loop"
      ]
    },
    {
      "cell_type": "code",
      "execution_count": null,
      "metadata": {
        "colab": {
          "base_uri": "https://localhost:8080/"
        },
        "id": "MFQQU5AVZcZp",
        "outputId": "64b20993-c73e-434e-f618-c1fe0f533cb9"
      },
      "outputs": [],
      "source": [
        "for letter in \"Python\":\n",
        "  print(letter)"
      ]
    },
    {
      "cell_type": "code",
      "execution_count": null,
      "metadata": {
        "colab": {
          "base_uri": "https://localhost:8080/"
        },
        "id": "DOi29vZcZg6H",
        "outputId": "33275274-7664-4400-e5a0-63aefac5b00f"
      },
      "outputs": [],
      "source": [
        "word = \"Python\"\n",
        "index = 0\n",
        "while index < len(word):\n",
        "  print(word[index])\n",
        "  index = index + 1"
      ]
    },
    {
      "cell_type": "markdown",
      "metadata": {
        "id": "X0X-RZgX1zdj"
      },
      "source": [
        "**> Essa é uma outra maneira de fazer a função de cima, mas ambas tem o mesmo retorno**"
      ]
    },
    {
      "cell_type": "code",
      "execution_count": null,
      "metadata": {
        "colab": {
          "base_uri": "https://localhost:8080/"
        },
        "id": "azNXESeIZlQx",
        "outputId": "a5906231-486b-4e40-dbd6-016784ce66f0"
      },
      "outputs": [],
      "source": [
        "for n in range(3):\n",
        "  print(\"Python\")"
      ]
    },
    {
      "cell_type": "code",
      "execution_count": null,
      "metadata": {
        "colab": {
          "base_uri": "https://localhost:8080/"
        },
        "id": "tG99K1BDZoJ-",
        "outputId": "04c9034a-bd00-48c6-bcda-476ecb426e55"
      },
      "outputs": [],
      "source": [
        "for n in range(10, 20):\n",
        "  print(n * n)"
      ]
    },
    {
      "cell_type": "markdown",
      "metadata": {
        "id": "FIzEH7zo5FXj"
      },
      "source": [
        "**> A função range nos gera uma lista entre os elementos informados ou do tamanho informado**"
      ]
    },
    {
      "cell_type": "code",
      "execution_count": null,
      "metadata": {
        "colab": {
          "base_uri": "https://localhost:8080/"
        },
        "id": "kOILFN5eZrrz",
        "outputId": "7d0305d7-e7ff-4279-ee26-c049e6379849"
      },
      "outputs": [],
      "source": [
        "amount = float(input(\"Enter an amount: \"))\n",
        "for num_people in range(2, 6):\n",
        "  print(f\"{num_people} people: ${amount / num_people:,.2f} each\")"
      ]
    },
    {
      "cell_type": "markdown",
      "metadata": {
        "id": "KwWW14xu5EdD"
      },
      "source": [
        "**> E podemos juntar tudo que vemos para fazer calculos mais complexos**"
      ]
    },
    {
      "cell_type": "markdown",
      "metadata": {
        "id": "pNE5iXPeZxk2"
      },
      "source": [
        "### Nested Loops"
      ]
    },
    {
      "cell_type": "code",
      "execution_count": null,
      "metadata": {
        "colab": {
          "base_uri": "https://localhost:8080/"
        },
        "id": "y7PfN5O3Zydf",
        "outputId": "b7d9fffa-8ff9-4b1d-fc9f-8adb2c1b09ac"
      },
      "outputs": [],
      "source": [
        "for n in range(1, 4):\n",
        "  for j in range(4, 7):\n",
        "    print(f\"n = {n} and j = {j}\")"
      ]
    },
    {
      "cell_type": "markdown",
      "metadata": {
        "id": "bJRemJGV4-3B"
      },
      "source": [
        "**> Podemos colocar varios loops dentro de outros loops, mas isso não é uma boa pratica**"
      ]
    },
    {
      "cell_type": "markdown",
      "metadata": {
        "id": "HJShmaJwxmme"
      },
      "source": [
        "## Fibonacci"
      ]
    },
    {
      "cell_type": "code",
      "execution_count": null,
      "metadata": {
        "colab": {
          "base_uri": "https://localhost:8080/"
        },
        "id": "PVsA5pBWxiUx",
        "outputId": "27904467-4781-4049-86fe-005cce14b2ae"
      },
      "outputs": [],
      "source": [
        "# Program to display the Fibonacci sequence up to n-th term\n",
        "\n",
        "nterms = int(input(\"How many terms? \"))\n",
        "#> Leitura de quantos itens vai ser executado\n",
        "\n",
        "# first two terms\n",
        "n1, n2 = 0, 1 #> Declarando os primeiros itens da lista, fazendo declaraçãos ao mesmo tempo\n",
        "count = 0 #> Contador\n",
        "\n",
        "# check if the number of terms is valid\n",
        "if nterms <= 0: #> Verificar se é um numero positivo ou zero\n",
        "   print(\"Please enter a positive integer\") #> Mensagem de retorno para o usuario que o numero é invalido\n",
        "# if there is only one term, return n1\n",
        "elif nterms == 1: #> Se for informado 1 na quantidade, retorna 0\n",
        "   print(\"Fibonacci sequence upto\",nterms,\":\")\n",
        "   print(n1)\n",
        "# generate fibonacci sequence\n",
        "else: #> Se for informado um numero maior que 1, gera a sequencia\n",
        "   print(\"Fibonacci sequence:\")\n",
        "   while count < nterms: #> enquanto a contagem for menor que a quantidade de itens informado\n",
        "       print(n1) #> Imprime o numero atual de n1\n",
        "       nth = n1 + n2 #> Faz a soma dos dois primeiros elementos para achar o valor do 3 elemento\n",
        "       # update values\n",
        "       n1 = n2 #> Numero 2 vira numero 1\n",
        "       n2 = nth #> Numero 3 calculado vira o numero 2\n",
        "       count += 1 #> incrementa a contagem e repete tudo até dar a condição do while"
      ]
    },
    {
      "cell_type": "code",
      "execution_count": null,
      "metadata": {
        "colab": {
          "base_uri": "https://localhost:8080/"
        },
        "id": "h3Bve2ROyHCZ",
        "outputId": "e5872f0f-c8db-4db2-df95-96cbd5856ec7"
      },
      "outputs": [],
      "source": [
        "# Python program to display the Fibonacci sequence\n",
        "\n",
        "def fibonacci(n): #> corpo da função\n",
        "   if n <= 1: #> Validar se informou um numero superior a 1, \n",
        "       return n #> caso contrario, retorna o valor informado em N\n",
        "   else:\n",
        "       return(fibonacci(n-1) + fibonacci(n-2)) #> chama de forma recursiva a função, com os numeros calculados da posição atual-2 + atual-1\n",
        "\n",
        "nterms = int(input(\"How many terms? \")) #> perguntar quantos numeros vai gerar\n",
        "\n",
        "# check if the number of terms is valid\n",
        "if nterms <= 0: #: Validar se foi informado um numero maior que 0\n",
        "   print(\"Plese enter a positive integer\") #> Mensagem de erro\n",
        "else: #> Valor maior que zero\n",
        "   print(\"Fibonacci sequence:\")\n",
        "   for i in range(nterms): #> Monta uma lista com a quantidade de itens informada, e passa por cada um\n",
        "       print(fibonacci(i)) #> pega o valor da em \"i\" e passa para a função de calculo"
      ]
    },
    {
      "cell_type": "markdown",
      "metadata": {
        "id": "cEdHiI4mDiYd"
      },
      "source": [
        "#### Entendimento sobre Fibonacci\n",
        "\n",
        "No meu entendimento, funções recursivas são complicadas de se entender no primeiro momento, só a experiencia vai fazer você lidar com elas bem, até la, vai ser uma confusão e você vai achar que é magica.\n",
        "\n",
        "Ambos os metodos cumprem o que prometem, e nos ultimos anos, passei mais tempo tentando tornar meu código mais legivel, pois passamos mais tempo lendo código do que escrevendo, e quanto mais facil ler, melhor vai ser pra programar.\n",
        "\n",
        "Eu prefiro a primeira implementação, pois ta tudo ali, ao \"seu alcance\"."
      ]
    }
  ],
  "metadata": {
    "colab": {
      "collapsed_sections": [
        "ixCZDsK9J2Sl"
      ],
      "name": "PythonIntroduction.ipynb",
      "provenance": [],
      "toc_visible": true
    },
    "kernelspec": {
      "display_name": "Python 3",
      "name": "python3"
    },
    "language_info": {
      "name": "python"
    }
  },
  "nbformat": 4,
  "nbformat_minor": 0
}
